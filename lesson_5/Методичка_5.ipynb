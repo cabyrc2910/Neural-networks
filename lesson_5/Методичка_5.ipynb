{
  "cells": [
    {
      "cell_type": "markdown",
      "source": [
        "Урок 5. Рекуррентные нейронные сети"
      ],
      "metadata": {
        "id": "eVOjWX8Ro9rt"
      }
    },
    {
      "cell_type": "markdown",
      "source": [
        "Рекуррентная нейроная сеть обученная складывать числа."
      ],
      "metadata": {
        "id": "je59XdugKYiV"
      }
    },
    {
      "cell_type": "code",
      "source": [
        "import copy, numpy as np\n",
        "np.random.seed(5)\n",
        "\n",
        "# Сигмоида\n",
        "def sigmoid(x):\n",
        "\toutput = 1/(1 + np.exp(-x))\n",
        "\treturn output\n",
        "# Конвертируем значение функции сигмоиды в ее производную\n",
        "def sigmoid_to_derivative(output):\n",
        "\treturn output*(1 - output)"
      ],
      "metadata": {
        "id": "-xnHnUzZKUm0"
      },
      "execution_count": null,
      "outputs": []
    },
    {
      "cell_type": "code",
      "source": [
        "binary_dim = 8\n",
        "\n",
        "# Генерация тренировочного датасета\n",
        "largest_number = pow(2, binary_dim)\n",
        "binary = np.unpackbits(np.array([list(range(largest_number))], dtype=np.uint8).T, axis=1)\n",
        "\n",
        "binary[2]"
      ],
      "metadata": {
        "colab": {
          "base_uri": "https://localhost:8080/"
        },
        "id": "CdbCIvZFq_7_",
        "outputId": "f2150138-eb9b-4b25-d262-b0286a3eac0a"
      },
      "execution_count": null,
      "outputs": [
        {
          "output_type": "execute_result",
          "data": {
            "text/plain": [
              "array([0, 0, 0, 0, 0, 0, 1, 0], dtype=uint8)"
            ]
          },
          "metadata": {},
          "execution_count": 4
        }
      ]
    },
    {
      "cell_type": "code",
      "source": [],
      "metadata": {
        "id": "T1GCPWHNJOdW"
      },
      "execution_count": null,
      "outputs": []
    },
    {
      "cell_type": "code",
      "source": [
        "binary_dim = 8\n",
        "int2binary = np.array()\n",
        "\n",
        "# Генерация тренировочного датасета\n",
        "largest_number = pow(2, binary_dim)\n",
        "binary = np.unpackbits(np.array([list(range(largest_number))], dtype=np.uint8).T, axis=1)\n",
        "for i in range(largest_number):\n",
        "\tint2binary[i] = binary[i]\n",
        "\n",
        "# Входные переменные\n",
        "alpha = 0.1\n",
        "input_dim = 2\n",
        "hidden_dim = 16\n",
        "output_dim = 1\n",
        "\n",
        "# Инициализация весов нейронной сети\n",
        "synapse_0 = 2*np.random.random((input_dim, hidden_dim)) - 1\n",
        "synapse_1 = 2*np.random.random((hidden_dim, output_dim)) - 1\n",
        "synapse_h = 2*np.random.random((hidden_dim, hidden_dim)) - 1\n",
        "\n",
        "synapse_0_update = np.zeros_like(synapse_0)\n",
        "synapse_1_update = np.zeros_like(synapse_1)\n",
        "synapse_h_update = np.zeros_like(synapse_h)"
      ],
      "metadata": {
        "id": "ZmQsYxj4KUxZ",
        "colab": {
          "base_uri": "https://localhost:8080/",
          "height": 245
        },
        "outputId": "479c4ff1-3a3f-4d0a-9ff9-b3966232178b"
      },
      "execution_count": null,
      "outputs": [
        {
          "output_type": "error",
          "ename": "TypeError",
          "evalue": "array() missing required argument 'object' (pos 0)",
          "traceback": [
            "\u001b[0;31m---------------------------------------------------------------------------\u001b[0m",
            "\u001b[0;31mTypeError\u001b[0m                                 Traceback (most recent call last)",
            "\u001b[0;32m<ipython-input-8-ad3ebd4312cd>\u001b[0m in \u001b[0;36m<cell line: 2>\u001b[0;34m()\u001b[0m\n\u001b[1;32m      1\u001b[0m \u001b[0mbinary_dim\u001b[0m \u001b[0;34m=\u001b[0m \u001b[0;36m8\u001b[0m\u001b[0;34m\u001b[0m\u001b[0;34m\u001b[0m\u001b[0m\n\u001b[0;32m----> 2\u001b[0;31m \u001b[0mint2binary\u001b[0m \u001b[0;34m=\u001b[0m \u001b[0mnp\u001b[0m\u001b[0;34m.\u001b[0m\u001b[0marray\u001b[0m\u001b[0;34m(\u001b[0m\u001b[0;34m)\u001b[0m\u001b[0;34m\u001b[0m\u001b[0;34m\u001b[0m\u001b[0m\n\u001b[0m\u001b[1;32m      3\u001b[0m \u001b[0;34m\u001b[0m\u001b[0m\n\u001b[1;32m      4\u001b[0m \u001b[0;31m# Генерация тренировочного датасета\u001b[0m\u001b[0;34m\u001b[0m\u001b[0;34m\u001b[0m\u001b[0m\n\u001b[1;32m      5\u001b[0m \u001b[0mlargest_number\u001b[0m \u001b[0;34m=\u001b[0m \u001b[0mpow\u001b[0m\u001b[0;34m(\u001b[0m\u001b[0;36m2\u001b[0m\u001b[0;34m,\u001b[0m \u001b[0mbinary_dim\u001b[0m\u001b[0;34m)\u001b[0m\u001b[0;34m\u001b[0m\u001b[0;34m\u001b[0m\u001b[0m\n",
            "\u001b[0;31mTypeError\u001b[0m: array() missing required argument 'object' (pos 0)"
          ]
        }
      ]
    },
    {
      "cell_type": "code",
      "source": [
        "# Генерация тренировочного датасета\n",
        "largest_number = pow(2, binary_dim)\n",
        "binary = np.unpackbits(np.array([list(range(largest_number))], dtype=np.uint8).T, axis=1)\n",
        "for i in range(largest_number):\n",
        "\tint2binary[i] = binary[i]\n",
        "\n",
        "# Входные переменные\n",
        "alpha = 0.1\n",
        "input_dim = 2\n",
        "hidden_dim = 16\n",
        "output_dim = 1\n",
        "\n",
        "# Инициализация весов нейронной сети\n",
        "synapse_0 = 2*np.random.random((input_dim, hidden_dim)) - 1\n",
        "synapse_1 = 2*np.random.random((hidden_dim, output_dim)) - 1\n",
        "synapse_h = 2*np.random.random((hidden_dim, hidden_dim)) - 1\n",
        "\n",
        "synapse_0_update = np.zeros_like(synapse_0)\n",
        "synapse_1_update = np.zeros_like(synapse_1)\n",
        "synapse_h_update = np.zeros_like(synapse_h)"
      ],
      "metadata": {
        "colab": {
          "base_uri": "https://localhost:8080/",
          "height": 245
        },
        "id": "z0-N3Ive444j",
        "outputId": "ca5954a0-2b26-4d98-a1e4-ccfb8d8b0302"
      },
      "execution_count": null,
      "outputs": [
        {
          "output_type": "error",
          "ename": "NameError",
          "evalue": "name 'int2binary' is not defined",
          "traceback": [
            "\u001b[0;31m---------------------------------------------------------------------------\u001b[0m",
            "\u001b[0;31mNameError\u001b[0m                                 Traceback (most recent call last)",
            "\u001b[0;32m<ipython-input-7-397c875b341d>\u001b[0m in \u001b[0;36m<cell line: 4>\u001b[0;34m()\u001b[0m\n\u001b[1;32m      3\u001b[0m \u001b[0mbinary\u001b[0m \u001b[0;34m=\u001b[0m \u001b[0mnp\u001b[0m\u001b[0;34m.\u001b[0m\u001b[0munpackbits\u001b[0m\u001b[0;34m(\u001b[0m\u001b[0mnp\u001b[0m\u001b[0;34m.\u001b[0m\u001b[0marray\u001b[0m\u001b[0;34m(\u001b[0m\u001b[0;34m[\u001b[0m\u001b[0mlist\u001b[0m\u001b[0;34m(\u001b[0m\u001b[0mrange\u001b[0m\u001b[0;34m(\u001b[0m\u001b[0mlargest_number\u001b[0m\u001b[0;34m)\u001b[0m\u001b[0;34m)\u001b[0m\u001b[0;34m]\u001b[0m\u001b[0;34m,\u001b[0m \u001b[0mdtype\u001b[0m\u001b[0;34m=\u001b[0m\u001b[0mnp\u001b[0m\u001b[0;34m.\u001b[0m\u001b[0muint8\u001b[0m\u001b[0;34m)\u001b[0m\u001b[0;34m.\u001b[0m\u001b[0mT\u001b[0m\u001b[0;34m,\u001b[0m \u001b[0maxis\u001b[0m\u001b[0;34m=\u001b[0m\u001b[0;36m1\u001b[0m\u001b[0;34m)\u001b[0m\u001b[0;34m\u001b[0m\u001b[0;34m\u001b[0m\u001b[0m\n\u001b[1;32m      4\u001b[0m \u001b[0;32mfor\u001b[0m \u001b[0mi\u001b[0m \u001b[0;32min\u001b[0m \u001b[0mrange\u001b[0m\u001b[0;34m(\u001b[0m\u001b[0mlargest_number\u001b[0m\u001b[0;34m)\u001b[0m\u001b[0;34m:\u001b[0m\u001b[0;34m\u001b[0m\u001b[0;34m\u001b[0m\u001b[0m\n\u001b[0;32m----> 5\u001b[0;31m         \u001b[0mint2binary\u001b[0m\u001b[0;34m[\u001b[0m\u001b[0mi\u001b[0m\u001b[0;34m]\u001b[0m \u001b[0;34m=\u001b[0m \u001b[0mbinary\u001b[0m\u001b[0;34m[\u001b[0m\u001b[0mi\u001b[0m\u001b[0;34m]\u001b[0m\u001b[0;34m\u001b[0m\u001b[0;34m\u001b[0m\u001b[0m\n\u001b[0m\u001b[1;32m      6\u001b[0m \u001b[0;34m\u001b[0m\u001b[0m\n\u001b[1;32m      7\u001b[0m \u001b[0;31m# Входные переменные\u001b[0m\u001b[0;34m\u001b[0m\u001b[0;34m\u001b[0m\u001b[0m\n",
            "\u001b[0;31mNameError\u001b[0m: name 'int2binary' is not defined"
          ]
        }
      ]
    },
    {
      "cell_type": "code",
      "source": [
        "# Тренировочная логика\n",
        "for j in range(10000):\n",
        "\t# Генерация простой проблемы сложения (a + b = c)\n",
        "  a_int = np.random.randint(largest_number / 2) # int version\n",
        "  a = int2binary[a_int] # Бинарное кодирование\n",
        "\n",
        "  b_int = np.random.randint(largest_number/2) # int version\n",
        "  b = int2binary[b_int] # Бинарное кодирование\n",
        "\n",
        "  # Правильный ответ\n",
        "  c_int = a_int + b_int\n",
        "  c = int2binary[c_int]\n",
        "\n",
        "  # Место где мы располагаем наши лучшие результаты (бинарно закодированные)\n",
        "  d = np.zeros_like(c)\n",
        "  overallError = 0\n",
        "  layer_2_deltas = list()\n",
        "  layer_1_values = list()\n",
        "  layer_1_values.append(np.zeros(hidden_dim))\n",
        "\n",
        "  # Движение вдоль позиции бинарной кодировки (идем вдоль последовательности)\n",
        "  for position in range(binary_dim):\n",
        "    # input and output generation\n",
        "    X = np.array([[a[binary_dim - position - 1], b[binary_dim - position - 1]]])\n",
        "    y = np.array([[c[binary_dim - position -1]]]).T\n",
        "\n",
        "    # Внутренний слой (input + предыдущий внутренний)\n",
        "    layer_1 = sigmoid(np.dot(X, synapse_0) + np.dot(layer_1_values[-1], synapse_h))\n",
        "\n",
        "    # Output layer (новое бинарное представление)\n",
        "    layer_2 = sigmoid(np.dot(layer_1, synapse_1))\n",
        "\n",
        "    # Проверка упустили ли мы что-то и если, да то как много\n",
        "    layer_2_error = y - layer_2\n",
        "    layer_2_deltas.append((layer_2_error) * sigmoid_to_derivative(layer_2))\n",
        "    overallError += np.abs(layer_2_error[0])\n",
        "\n",
        "    # Декодируем оценку чтобы мы могли ее вывести на экран\n",
        "    d[binary_dim - position - 1] = np.round(layer_2[0][0])\n",
        "\n",
        "    # Сохраняем внутренний слой, чтобы мы могли его использовать в след. timestep\n",
        "    layer_1_values.append(copy.deepcopy(layer_1))\n",
        "\n",
        "  future_layer_1_delta = np.zeros(hidden_dim)\n",
        "\n",
        "  for position in range(binary_dim):\n",
        "\t  X = np.array([[a[position], b[position]]])\n",
        "\t  layer_1 = layer_1_values[-position - 1]\n",
        "\t  prev_layer_1 = layer_1_values[-position - 2]\n",
        "\n",
        "\t  # Величина ошибки в output layer\n",
        "\t  layer_2_delta = layer_2_deltas[-position - 1]\n",
        "\t  # Величина ошибки в hidden layer\n",
        "\t  layer_1_delta = (future_layer_1_delta.dot(synapse_h.T) + layer_2_delta.dot(synapse_1.T)) * sigmoid_to_derivative(layer_1)\n",
        "\t  # Обновление всех весов и пробуем заново\n",
        "\t  synapse_1_update += np.atleast_2d(layer_1).T.dot(layer_2_delta)\n",
        "\t  synapse_h_update += np.atleast_2d(prev_layer_1).T.dot(layer_1_delta)\n",
        "\t  synapse_0_update += X.T.dot(layer_1_delta)\n",
        "\n",
        "\t  future_layer_1_delta = layer_1_delta\n",
        "\n",
        "  synapse_0 += synapse_0_update * alpha\n",
        "  synapse_1 += synapse_1_update * alpha\n",
        "  synapse_h += synapse_h_update * alpha\n",
        "\n",
        "  synapse_0_update *= 0\n",
        "  synapse_1_update *= 0\n",
        "  synapse_h_update *= 0\n",
        "\n",
        "  # Вывод на экран процесса обучения\n",
        "  if (j % 500 == 0):\n",
        "    print('Error:' + str(overallError) + ' step number - ' + str(j))\n",
        "    print('Pred:' + str(d))\n",
        "    print('True:' + str(c))\n",
        "    out = 0\n",
        "    for index, x in enumerate(reversed(d)):\n",
        "      out += x * pow(2, index)\n",
        "    print(str(a_int) + ' + ' + str(b_int) + ' = ' + str(out) + ' (' + str(c_int) + ')')\n",
        "    print('------------------')"
      ],
      "metadata": {
        "id": "AG3yVa3-KU63"
      },
      "execution_count": null,
      "outputs": []
    },
    {
      "cell_type": "code",
      "source": [
        "a_int = int(input('Первое число ?'))\n",
        "a = int2binary[a_int] # Бинарное кодирование\n",
        "b_int = int(input('Второе число ?'))\n",
        "b = int2binary[b_int] # Бинарное кодирование\n",
        "# c_int = a_int + b_int\n",
        "# c = int2binary[c_int]\n",
        "d = np.zeros_like(a)\n",
        "layer_2_deltas = list()\n",
        "layer_1_values = list()\n",
        "layer_1_values.append(np.zeros(hidden_dim))\n",
        "\n",
        "for position in range(binary_dim):\n",
        "\t# input and output generation\n",
        "\tX = np.array([[a[binary_dim - position - 1], b[binary_dim - position - 1]]])\n",
        "\n",
        "\t# Внутренний слой (input + предыдущий внутренний)\n",
        "\tlayer_1 = sigmoid(np.dot(X, synapse_0) + np.dot(layer_1_values[-1], synapse_h))\n",
        "\n",
        "\t# Output layer (новое бинарное представление)\n",
        "\tlayer_2 = sigmoid(np.dot(layer_1, synapse_1))\n",
        "\n",
        "\t# Декодируем оценку чтобы мы могли ее вывести на экран\n",
        "\td[binary_dim - position - 1] = np.round(layer_2[0][0])\n",
        "\tlayer_1_values.append(copy.deepcopy(layer_1))\n",
        "\n",
        "out = 0\n",
        "for index, x in enumerate(reversed(d)):\n",
        "\tout += x * pow(2, index)\n",
        "print(f'Ответ - {out}')"
      ],
      "metadata": {
        "id": "BuqKJ2rSeDAD"
      },
      "execution_count": null,
      "outputs": []
    },
    {
      "cell_type": "markdown",
      "source": [
        "Второй учебный пример реализации LSTM"
      ],
      "metadata": {
        "id": "P2E1IQ2ULZl3"
      }
    },
    {
      "cell_type": "code",
      "source": [
        "from tensorflow.keras.models import Model\n",
        "from tensorflow.keras.datasets import mnist\n",
        "from tensorflow.keras.layers import Input, GRU, SimpleRNN, LSTM, concatenate, Activation, MaxPooling2D, Conv2D, BatchNormalization, Dense\n",
        "from tensorflow.keras import backend as K\n",
        "from tensorflow.keras.optimizers import Adam\n",
        "from tensorflow.keras import utils\n",
        "from google.colab import files\n",
        "import matplotlib.pyplot as plt\n",
        "from tensorflow.keras.preprocessing import image\n",
        "import numpy as np\n",
        "from PIL import Image\n",
        "import tensorflow as tf"
      ],
      "metadata": {
        "id": "Bvjont4NLZMx"
      },
      "execution_count": null,
      "outputs": []
    },
    {
      "cell_type": "code",
      "source": [
        "xLen = 10 # длина истории\n",
        "n=5 # длина вектора данных\n",
        "\n",
        "x = Input(shape = (xLen, n,))\n",
        "y = LSTM(32, return_sequences = True)(x)\n",
        "y1 = LSTM(32, return_sequences = False)(y)"
      ],
      "metadata": {
        "id": "iGCloUBZLg3s"
      },
      "execution_count": null,
      "outputs": []
    },
    {
      "cell_type": "code",
      "source": [
        "y"
      ],
      "metadata": {
        "colab": {
          "base_uri": "https://localhost:8080/"
        },
        "id": "p64APEqWuhV8",
        "outputId": "7ea91c9f-6ba5-4a74-ef2e-4efb5a75600d"
      },
      "execution_count": null,
      "outputs": [
        {
          "output_type": "execute_result",
          "data": {
            "text/plain": [
              "<KerasTensor: shape=(None, 10, 32) dtype=float32 (created by layer 'lstm')>"
            ]
          },
          "metadata": {},
          "execution_count": 11
        }
      ]
    },
    {
      "cell_type": "code",
      "source": [
        "y1"
      ],
      "metadata": {
        "colab": {
          "base_uri": "https://localhost:8080/"
        },
        "id": "xM4Arkc8uXdz",
        "outputId": "0aabd28a-077d-4344-b056-7f13f5d74675"
      },
      "execution_count": null,
      "outputs": [
        {
          "output_type": "execute_result",
          "data": {
            "text/plain": [
              "<KerasTensor: shape=(None, 32) dtype=float32 (created by layer 'lstm_1')>"
            ]
          },
          "metadata": {},
          "execution_count": 12
        }
      ]
    },
    {
      "cell_type": "code",
      "source": [
        "model = Model(x, y1)\n",
        "model.compile(loss = 'mse', optimizer = 'Adam', metrics = ['mse'])"
      ],
      "metadata": {
        "id": "JOnYj4KrLl7o"
      },
      "execution_count": null,
      "outputs": []
    },
    {
      "cell_type": "code",
      "source": [
        "xx = np.random.randn(1, xLen, n)\n",
        "y.shape, xx.shape\n",
        "yy = model.predict(xx)"
      ],
      "metadata": {
        "colab": {
          "base_uri": "https://localhost:8080/"
        },
        "id": "n8rvXReHNiko",
        "outputId": "e2cbbeb5-33b9-4401-cc9e-c43c4fcc2036"
      },
      "execution_count": null,
      "outputs": [
        {
          "output_type": "stream",
          "name": "stdout",
          "text": [
            "1/1 [==============================] - 1s 922ms/step\n"
          ]
        }
      ]
    },
    {
      "cell_type": "code",
      "source": [
        "yy.shape"
      ],
      "metadata": {
        "colab": {
          "base_uri": "https://localhost:8080/"
        },
        "id": "6ZpLVn2RvEVL",
        "outputId": "952309d5-c1a6-4d40-dcb7-ce2ca25d564a"
      },
      "execution_count": null,
      "outputs": [
        {
          "output_type": "execute_result",
          "data": {
            "text/plain": [
              "(1, 32)"
            ]
          },
          "metadata": {},
          "execution_count": 15
        }
      ]
    },
    {
      "cell_type": "code",
      "source": [
        "xx.shape"
      ],
      "metadata": {
        "colab": {
          "base_uri": "https://localhost:8080/"
        },
        "id": "cEzW21CwXhdF",
        "outputId": "89898737-6bfa-4cf6-9e3b-b1a34fe8330e"
      },
      "execution_count": null,
      "outputs": [
        {
          "output_type": "execute_result",
          "data": {
            "text/plain": [
              "(1, 10, 5)"
            ]
          },
          "metadata": {},
          "execution_count": 16
        }
      ]
    },
    {
      "cell_type": "markdown",
      "source": [
        "более прагматичный вариант"
      ],
      "metadata": {
        "id": "5ySmFipcvMXS"
      }
    },
    {
      "cell_type": "code",
      "source": [
        "N = 300\n",
        "t = np.linspace(0, 30, N).reshape((N, 1))\n",
        "x = np.sin(t) + t*0.2\n",
        "n = 2\n",
        "xLen = 15\n",
        "\n",
        "plt.plot(t[0:xLen], x[0:xLen], '.-b')\n",
        "\n",
        "h = 1 #горизонт прогноза\n",
        "xx = []\n",
        "y = []\n",
        "for i in range(N-xLen - h):\n",
        "\txx.append(np.concatenate((t[i:xLen + i], x[i:xLen + i])).reshape((xLen, 2)))\n",
        "\ty.append(x[i + h + xLen - 1])\n",
        "xx = np.array(xx)\n",
        "y = np.array(y)\n",
        "\n",
        "plt.plot(t[xLen + h -1], y[0], '.r')\n",
        "plt.show()\n",
        "y.shape, xx.shape"
      ],
      "metadata": {
        "colab": {
          "base_uri": "https://localhost:8080/",
          "height": 447
        },
        "id": "MI7_ruDaN8tG",
        "outputId": "b5b7f416-7fd5-44c4-f043-2a9e85553f92"
      },
      "execution_count": null,
      "outputs": [
        {
          "output_type": "display_data",
          "data": {
            "text/plain": [
              "<Figure size 640x480 with 1 Axes>"
            ],
            "image/png": "[encoded data removed]"
          },
          "metadata": {}
        },
        {
          "output_type": "execute_result",
          "data": {
            "text/plain": [
              "((284, 1), (284, 15, 2))"
            ]
          },
          "metadata": {},
          "execution_count": 17
        }
      ]
    },
    {
      "cell_type": "code",
      "source": [
        "x_in = Input(shape = (xLen, n, ))\n",
        "y_out = LSTM(164, return_sequences = False)(x_in)\n",
        "y_out = Dense(1, activation = 'linear')(y_out)\n",
        "\n",
        "model = Model(x_in, y_out)\n",
        "model.compile(loss = 'mse', optimizer = 'Adam', metrics = ['mse'])"
      ],
      "metadata": {
        "id": "b_UAqfhPbJLA"
      },
      "execution_count": null,
      "outputs": []
    },
    {
      "cell_type": "code",
      "source": [
        "x_in"
      ],
      "metadata": {
        "colab": {
          "base_uri": "https://localhost:8080/"
        },
        "id": "QJ966d7xbNXz",
        "outputId": "3c425351-fa51-45c1-f5ab-7f20b5d34593"
      },
      "execution_count": null,
      "outputs": [
        {
          "output_type": "execute_result",
          "data": {
            "text/plain": [
              "<KerasTensor: shape=(None, 15, 2) dtype=float32 (created by layer 'input_2')>"
            ]
          },
          "metadata": {},
          "execution_count": 19
        }
      ]
    },
    {
      "cell_type": "code",
      "source": [
        "xx.shape"
      ],
      "metadata": {
        "colab": {
          "base_uri": "https://localhost:8080/"
        },
        "id": "B_oA_q-GgihK",
        "outputId": "aad5287e-536d-4c02-c397-37788013033e"
      },
      "execution_count": null,
      "outputs": [
        {
          "output_type": "execute_result",
          "data": {
            "text/plain": [
              "(284, 15, 2)"
            ]
          },
          "metadata": {},
          "execution_count": 20
        }
      ]
    },
    {
      "cell_type": "code",
      "source": [
        "test_n = 200\n",
        "model.fit(xx[:test_n, :, :], y[:test_n], epochs = 20)"
      ],
      "metadata": {
        "colab": {
          "base_uri": "https://localhost:8080/"
        },
        "id": "UqJGfNiibKXN",
        "outputId": "5b96ed8b-7049-414e-8a1b-304026d1d2ea"
      },
      "execution_count": null,
      "outputs": [
        {
          "output_type": "stream",
          "name": "stdout",
          "text": [
            "Epoch 1/20\n",
            "7/7 [==============================] - 3s 6ms/step - loss: 2.0203 - mse: 2.0203\n",
            "Epoch 2/20\n",
            "7/7 [==============================] - 0s 5ms/step - loss: 0.5921 - mse: 0.5921\n",
            "Epoch 3/20\n",
            "7/7 [==============================] - 0s 5ms/step - loss: 0.3366 - mse: 0.3366\n",
            "Epoch 4/20\n",
            "7/7 [==============================] - 0s 5ms/step - loss: 0.2157 - mse: 0.2157\n",
            "Epoch 5/20\n",
            "7/7 [==============================] - 0s 5ms/step - loss: 0.2067 - mse: 0.2067\n",
            "Epoch 6/20\n",
            "7/7 [==============================] - 0s 5ms/step - loss: 0.1521 - mse: 0.1521\n",
            "Epoch 7/20\n",
            "7/7 [==============================] - 0s 5ms/step - loss: 0.1289 - mse: 0.1289\n",
            "Epoch 8/20\n",
            "7/7 [==============================] - 0s 5ms/step - loss: 0.1194 - mse: 0.1194\n",
            "Epoch 9/20\n",
            "7/7 [==============================] - 0s 5ms/step - loss: 0.1077 - mse: 0.1077\n",
            "Epoch 10/20\n",
            "7/7 [==============================] - 0s 5ms/step - loss: 0.1014 - mse: 0.1014\n",
            "Epoch 11/20\n",
            "7/7 [==============================] - 0s 5ms/step - loss: 0.0901 - mse: 0.0901\n",
            "Epoch 12/20\n",
            "7/7 [==============================] - 0s 5ms/step - loss: 0.0835 - mse: 0.0835\n",
            "Epoch 13/20\n",
            "7/7 [==============================] - 0s 5ms/step - loss: 0.0777 - mse: 0.0777\n",
            "Epoch 14/20\n",
            "7/7 [==============================] - 0s 5ms/step - loss: 0.0731 - mse: 0.0731\n",
            "Epoch 15/20\n",
            "7/7 [==============================] - 0s 5ms/step - loss: 0.0661 - mse: 0.0661\n",
            "Epoch 16/20\n",
            "7/7 [==============================] - 0s 5ms/step - loss: 0.0634 - mse: 0.0634\n",
            "Epoch 17/20\n",
            "7/7 [==============================] - 0s 5ms/step - loss: 0.0509 - mse: 0.0509\n",
            "Epoch 18/20\n",
            "7/7 [==============================] - 0s 5ms/step - loss: 0.0448 - mse: 0.0448\n",
            "Epoch 19/20\n",
            "7/7 [==============================] - 0s 5ms/step - loss: 0.0358 - mse: 0.0358\n",
            "Epoch 20/20\n",
            "7/7 [==============================] - 0s 5ms/step - loss: 0.0279 - mse: 0.0279\n"
          ]
        },
        {
          "output_type": "execute_result",
          "data": {
            "text/plain": [
              "<keras.src.callbacks.History at 0x7ed2ec2a11e0>"
            ]
          },
          "metadata": {},
          "execution_count": 21
        }
      ]
    },
    {
      "cell_type": "code",
      "source": [
        "ypred = model.predict(xx[test_n:, :, :])"
      ],
      "metadata": {
        "colab": {
          "base_uri": "https://localhost:8080/"
        },
        "id": "r05QEhCrcNoY",
        "outputId": "f20535a5-f004-4b1c-e237-2ded9dc4b67e"
      },
      "execution_count": null,
      "outputs": [
        {
          "output_type": "stream",
          "name": "stdout",
          "text": [
            "3/3 [==============================] - 0s 4ms/step\n"
          ]
        }
      ]
    },
    {
      "cell_type": "code",
      "source": [
        "plt.plot(ypred, '.r', label = 'predict')\n",
        "plt.plot(y[test_n:], 'g', label = 'true')\n",
        "plt.xlabel('t')\n",
        "plt.ylabel('y')\n",
        "plt.legend()\n",
        "plt.grid()\n",
        "plt.show()"
      ],
      "metadata": {
        "colab": {
          "base_uri": "https://localhost:8080/",
          "height": 449
        },
        "id": "wD_Pidx5bdiK",
        "outputId": "540776a9-f947-4829-f80c-c337536331a3"
      },
      "execution_count": null,
      "outputs": [
        {
          "output_type": "display_data",
          "data": {
            "text/plain": [
              "<Figure size 640x480 with 1 Axes>"
            ],
            "image/png": "[encoded data removed]"
          },
          "metadata": {}
        }
      ]
    },
    {
      "cell_type": "markdown",
      "source": [
        "более прикладное - генерация текста"
      ],
      "metadata": {
        "id": "s2Fgb99Qv1pK"
      }
    },
    {
      "cell_type": "code",
      "source": [
        "from tensorflow.keras.preprocessing.sequence import pad_sequences\n",
        "from tensorflow.keras.layers import Embedding, LSTM, Dense, Dropout, Bidirectional\n",
        "from tensorflow.keras.preprocessing.text import Tokenizer\n",
        "from tensorflow.keras.models import Sequential\n",
        "from tensorflow.keras.optimizers import Adam\n",
        "from tensorflow.keras import regularizers\n",
        "import tensorflow.keras.utils as ku\n",
        "import numpy as np\n",
        "from tensorflow.keras.callbacks import EarlyStopping\n",
        "import matplotlib.pyplot as plt\n"
      ],
      "metadata": {
        "id": "O1zXT1Izo_6c"
      },
      "execution_count": null,
      "outputs": []
    },
    {
      "cell_type": "markdown",
      "source": [
        "Разбор текста токенизация"
      ],
      "metadata": {
        "id": "Dnf_g7AIp_58"
      }
    },
    {
      "cell_type": "code",
      "source": [
        "\n",
        "!wget https://gbcdn.mrgcdn.ru/uploads/asset/3196055/attachment/e4a02940fc8d378330731ae4f7eb7dd4.txt -O alice.txt"
      ],
      "metadata": {
        "colab": {
          "base_uri": "https://localhost:8080/"
        },
        "id": "9Mdpvb8KqDom",
        "outputId": "3d96e60f-3e01-47f7-c7e0-064ee599f4c0"
      },
      "execution_count": null,
      "outputs": [
        {
          "output_type": "stream",
          "name": "stdout",
          "text": [
            "--2024-01-05 14:42:28--  https://gbcdn.mrgcdn.ru/uploads/asset/3196055/attachment/e4a02940fc8d378330731ae4f7eb7dd4.txt\n",
            "Resolving gbcdn.mrgcdn.ru (gbcdn.mrgcdn.ru)... 5.181.61.0\n",
            "Connecting to gbcdn.mrgcdn.ru (gbcdn.mrgcdn.ru)|5.181.61.0|:443... connected.\n",
            "HTTP request sent, awaiting response... 200 OK\n",
            "Length: 169855 (166K) [text/plain]\n",
            "Saving to: ‘alice.txt’\n",
            "\n",
            "alice.txt           100%[===================>] 165.87K  --.-KB/s    in 0.08s   \n",
            "\n",
            "2024-01-05 14:42:29 (2.04 MB/s) - ‘alice.txt’ saved [169855/169855]\n",
            "\n"
          ]
        }
      ]
    },
    {
      "cell_type": "code",
      "source": [
        "tokenizer = Tokenizer(num_words=10000)\n",
        "data = open('alice.txt').read()\n",
        "corpus = data[711:].lower().split('\\n')"
      ],
      "metadata": {
        "id": "ha3WqI9Z0IrR"
      },
      "execution_count": null,
      "outputs": []
    },
    {
      "cell_type": "code",
      "source": [
        "tokenizer.fit_on_texts(corpus)\n",
        "total_words = len(tokenizer.word_index) + 1\n",
        "\n",
        "# create input sequences using list of tokens\n",
        "input_sequences = []\n",
        "for line in corpus:\n",
        "\ttoken_list = tokenizer.texts_to_sequences([line])[0]\n",
        "\tfor i in range(1, len(token_list)):\n",
        "\t\tn_gram_sequence = token_list[:i + 1]\n",
        "\t\tinput_sequences.append(n_gram_sequence)\n",
        "\n",
        "# pad sequences\n",
        "max_sequence_len = max([len(x) for x in input_sequences])\n",
        "input_sequences = np.array(pad_sequences(input_sequences, maxlen=max_sequence_len, padding='pre'))\n",
        "\n",
        "# create predictors and label\n",
        "predictors, label = input_sequences[:, :-1], input_sequences[:, -1]\n",
        "label = ku.to_categorical(label, num_classes=total_words)\n"
      ],
      "metadata": {
        "id": "ZDTOVxHR1TwY"
      },
      "execution_count": null,
      "outputs": []
    },
    {
      "cell_type": "code",
      "source": [
        "token_list"
      ],
      "metadata": {
        "colab": {
          "base_uri": "https://localhost:8080/"
        },
        "id": "uutFhdBZ4yg6",
        "outputId": "17469c15-8279-46e6-c209-8985a900e05f"
      },
      "execution_count": null,
      "outputs": [
        {
          "output_type": "execute_result",
          "data": {
            "text/plain": [
              "[3382, 4, 364, 1299, 3383, 4, 276, 38, 493, 619]"
            ]
          },
          "metadata": {},
          "execution_count": 30
        }
      ]
    },
    {
      "cell_type": "code",
      "source": [
        "tokenizer.index_word[12]"
      ],
      "metadata": {
        "colab": {
          "base_uri": "https://localhost:8080/",
          "height": 35
        },
        "id": "v-35g9Dl43S_",
        "outputId": "ae154ad8-19bb-4993-cd74-590e9e27b6e0"
      },
      "execution_count": null,
      "outputs": [
        {
          "output_type": "execute_result",
          "data": {
            "text/plain": [
              "'alice'"
            ],
            "application/vnd.google.colaboratory.intrinsic+json": {
              "type": "string"
            }
          },
          "metadata": {},
          "execution_count": 31
        }
      ]
    },
    {
      "cell_type": "code",
      "source": [
        "tokenizer.word_index['love']"
      ],
      "metadata": {
        "colab": {
          "base_uri": "https://localhost:8080/"
        },
        "id": "mOOmy0C143ce",
        "outputId": "03b92bbf-0fc5-40e9-98f8-af1f05ff1d3b"
      },
      "execution_count": null,
      "outputs": [
        {
          "output_type": "execute_result",
          "data": {
            "text/plain": [
              "1054"
            ]
          },
          "metadata": {},
          "execution_count": 32
        }
      ]
    },
    {
      "cell_type": "code",
      "source": [
        "input_sequences[5:15,:]"
      ],
      "metadata": {
        "colab": {
          "base_uri": "https://localhost:8080/"
        },
        "id": "y9dAh0Ro43mt",
        "outputId": "4a0ddf58-b2e8-4e28-cb5c-55759344d81f"
      },
      "execution_count": null,
      "outputs": [
        {
          "output_type": "execute_result",
          "data": {
            "text/plain": [
              "array([[  0,   0,   0,   0,   0,   0,   0,   0,   0,   0,   0,   0,   0,\n",
              "          0,   0,   0,  12,  13],\n",
              "       [  0,   0,   0,   0,   0,   0,   0,   0,   0,   0,   0,   0,   0,\n",
              "          0,   0,  12,  13, 275],\n",
              "       [  0,   0,   0,   0,   0,   0,   0,   0,   0,   0,   0,   0,   0,\n",
              "          0,  12,  13, 275,   4],\n",
              "       [  0,   0,   0,   0,   0,   0,   0,   0,   0,   0,   0,   0,   0,\n",
              "         12,  13, 275,   4, 116],\n",
              "       [  0,   0,   0,   0,   0,   0,   0,   0,   0,   0,   0,   0,  12,\n",
              "         13, 275,   4, 116,  29],\n",
              "       [  0,   0,   0,   0,   0,   0,   0,   0,   0,   0,   0,  12,  13,\n",
              "        275,   4, 116,  29, 550],\n",
              "       [  0,   0,   0,   0,   0,   0,   0,   0,   0,   0,  12,  13, 275,\n",
              "          4, 116,  29, 550,   6],\n",
              "       [  0,   0,   0,   0,   0,   0,   0,   0,   0,  12,  13, 275,   4,\n",
              "        116,  29, 550,   6, 405],\n",
              "       [  0,   0,   0,   0,   0,   0,   0,   0,  12,  13, 275,   4, 116,\n",
              "         29, 550,   6, 405,  59],\n",
              "       [  0,   0,   0,   0,   0,   0,   0,  12,  13, 275,   4, 116,  29,\n",
              "        550,   6, 405,  59,  17]], dtype=int32)"
            ]
          },
          "metadata": {},
          "execution_count": 33
        }
      ]
    },
    {
      "cell_type": "code",
      "source": [
        "label.shape"
      ],
      "metadata": {
        "colab": {
          "base_uri": "https://localhost:8080/"
        },
        "id": "ut-_i8u-yQuz",
        "outputId": "664b518d-1356-4940-ceb3-4bf0f72ed8ef"
      },
      "execution_count": null,
      "outputs": [
        {
          "output_type": "execute_result",
          "data": {
            "text/plain": [
              "(28138, 3384)"
            ]
          },
          "metadata": {},
          "execution_count": 35
        }
      ]
    },
    {
      "cell_type": "code",
      "source": [
        "# label.shape\n",
        "total_words"
      ],
      "metadata": {
        "colab": {
          "base_uri": "https://localhost:8080/"
        },
        "id": "ByQ411mi4832",
        "outputId": "5c687321-92c2-4b12-c7f7-bbcef00c575d"
      },
      "execution_count": null,
      "outputs": [
        {
          "output_type": "execute_result",
          "data": {
            "text/plain": [
              "3384"
            ]
          },
          "metadata": {},
          "execution_count": 36
        }
      ]
    },
    {
      "cell_type": "code",
      "source": [
        "callback = EarlyStopping(monitor = 'val_accuracy', patience = 15)"
      ],
      "metadata": {
        "id": "QY47yNnB_hVr"
      },
      "execution_count": null,
      "outputs": []
    },
    {
      "cell_type": "code",
      "source": [
        "\n",
        "model = Sequential()\n",
        "model.add(Embedding(total_words, 256, input_length = max_sequence_len-1)) # вложение тренируемое для перехода от слова к его векторному коды\n",
        "# на вход вложения (эмбединга) передаем вектор словарь (длина равна словарю, вектор разреженный)), на выход строим вектор из n (тут 256) координат - он плотный\n",
        "\n",
        "model.add(Bidirectional(LSTM(50, return_sequences = True)))\n",
        "\n",
        "model.add(LSTM(128))\n",
        "# model.add(Dropout(0.2))\n",
        "model.add(Dense(total_words/2, activation = 'relu', kernel_regularizer = regularizers.l2(0.01)))\n",
        "model.add(Dense(total_words, activation = 'softmax'))\n",
        "model.compile(loss = 'categorical_crossentropy', optimizer = 'adam', metrics = ['accuracy'])\n",
        "print(model.summary())"
      ],
      "metadata": {
        "id": "jlLty6qF_gA2"
      },
      "execution_count": null,
      "outputs": []
    },
    {
      "cell_type": "code",
      "source": [
        "history = model.fit(predictors, label, epochs = 5, validation_split=0.2, callbacks=[callback], verbose=1)"
      ],
      "metadata": {
        "colab": {
          "base_uri": "https://localhost:8080/"
        },
        "id": "rfA8lp60AxwS",
        "outputId": "cb890cfd-12d4-432f-d3cf-74cb9b77dc1c"
      },
      "execution_count": null,
      "outputs": [
        {
          "output_type": "stream",
          "name": "stdout",
          "text": [
            "Epoch 1/5\n",
            "704/704 [==============================] - 26s 22ms/step - loss: 6.2675 - accuracy: 0.0534 - val_loss: 7.1886 - val_accuracy: 0.0371\n",
            "Epoch 2/5\n",
            "704/704 [==============================] - 9s 13ms/step - loss: 5.8131 - accuracy: 0.0645 - val_loss: 7.3802 - val_accuracy: 0.0625\n",
            "Epoch 3/5\n",
            "704/704 [==============================] - 8s 11ms/step - loss: 5.5849 - accuracy: 0.0844 - val_loss: 7.6217 - val_accuracy: 0.0792\n",
            "Epoch 4/5\n",
            "704/704 [==============================] - 9s 13ms/step - loss: 5.3577 - accuracy: 0.1020 - val_loss: 7.9872 - val_accuracy: 0.0833\n",
            "Epoch 5/5\n",
            "704/704 [==============================] - 8s 12ms/step - loss: 5.1851 - accuracy: 0.1117 - val_loss: 7.7067 - val_accuracy: 0.1013\n"
          ]
        }
      ]
    },
    {
      "cell_type": "code",
      "source": [
        "acc = history.history['accuracy']\n",
        "acc_v = history.history['val_accuracy']\n",
        "loss = history.history['loss']\n",
        "loss_v = history.history['val_loss']\n",
        "\n",
        "epochs = range(len(acc))\n",
        "\n",
        "plt.plot(epochs, acc, 'b', label = 'Train')\n",
        "plt.plot(epochs, acc_v, 'r', label = 'Test')\n",
        "plt.legend()\n",
        "plt.title('accuracy')\n",
        "plt.xlabel('eppch')\n",
        "plt.ylabel('acc')\n",
        "plt.grid()\n",
        "plt.figure()\n",
        "\n",
        "plt.plot(epochs, loss, 'b', label = 'Train')\n",
        "plt.plot(epochs, loss_v, 'r', label = 'Test')\n",
        "plt.title('loss')\n",
        "plt.xlabel('eppch')\n",
        "plt.ylabel('loss')\n",
        "plt.legend()\n",
        "plt.grid()\n",
        "plt.show()"
      ],
      "metadata": {
        "colab": {
          "base_uri": "https://localhost:8080/",
          "height": 927
        },
        "id": "XEaRJGr8A0by",
        "outputId": "abe92610-cbf2-4745-88c6-532f248f03bf"
      },
      "execution_count": null,
      "outputs": [
        {
          "output_type": "display_data",
          "data": {
            "text/plain": [
              "<Figure size 640x480 with 1 Axes>"
            ],
            "image/png": "[encoded data removed]"
          },
          "metadata": {}
        },
        {
          "output_type": "display_data",
          "data": {
            "text/plain": [
              "<Figure size 640x480 with 1 Axes>"
            ],
            "image/png": "[encoded data removed]"
          },
          "metadata": {}
        }
      ]
    },
    {
      "cell_type": "markdown",
      "source": [
        "Строим тест генератора\n"
      ],
      "metadata": {
        "id": "lD4YMlKACKzj"
      }
    },
    {
      "cell_type": "code",
      "source": [
        "# Начальная строка\n",
        "seed_text = 'He set down every evil thought he had and renounced it'\n",
        "next_words = 10\n",
        "# строим последовательность и новое предсказание\n",
        "for _ in range(next_words):\n",
        "\t# Текущая последовательность (токенизация и дополнение)\n",
        "\ttoken_list = tokenizer.texts_to_sequences([seed_text])[0]\n",
        "\tprint(token_list)\n",
        "\ttoken_list = pad_sequences([token_list], maxlen = max_sequence_len -1, padding = 'pre')\n",
        "\t# Делаем предсказание (сразу как индекс класса - у нас 1 из 3384....)\n",
        "\tpredicted = model.predict(token_list, verbose=0)\n",
        "\tpredict_ = np.argmax(predicted)\n",
        "\toutput_word = ''\n",
        "\tprint(predict_)\n",
        "\t# Добавим новое слово в последовательность\n",
        "\tfor word, index in tokenizer.word_index.items():\n",
        "\t\tif index == predict_:\n",
        "\t\t\toutput_word = word\n",
        "\t\t\tbreak\n",
        "\tseed_text += ' ' + output_word\n",
        "\tprint(seed_text)"
      ],
      "metadata": {
        "colab": {
          "base_uri": "https://localhost:8080/"
        },
        "id": "od5yem3dCOD8",
        "outputId": "e659ca1d-fe12-48ba-f9e6-662d2b99d350"
      },
      "execution_count": null,
      "outputs": [
        {
          "output_type": "stream",
          "name": "stdout",
          "text": [
            "[36, 206, 37, 347, 62, 36, 22, 3, 8]\n",
            "13\n",
            "He set down every evil thought he had and renounced it was\n",
            "[36, 206, 37, 347, 62, 36, 22, 3, 8, 13]\n",
            "1\n",
            "He set down every evil thought he had and renounced it was the\n",
            "[36, 206, 37, 347, 62, 36, 22, 3, 8, 13, 1]\n",
            "32\n",
            "He set down every evil thought he had and renounced it was the little\n",
            "[36, 206, 37, 347, 62, 36, 22, 3, 8, 13, 1, 32]\n",
            "32\n",
            "He set down every evil thought he had and renounced it was the little little\n",
            "[36, 206, 37, 347, 62, 36, 22, 3, 8, 13, 1, 32, 32]\n",
            "32\n",
            "He set down every evil thought he had and renounced it was the little little little\n",
            "[36, 206, 37, 347, 62, 36, 22, 3, 8, 13, 1, 32, 32, 32]\n",
            "32\n",
            "He set down every evil thought he had and renounced it was the little little little little\n",
            "[36, 206, 37, 347, 62, 36, 22, 3, 8, 13, 1, 32, 32, 32, 32]\n",
            "32\n",
            "He set down every evil thought he had and renounced it was the little little little little little\n",
            "[36, 206, 37, 347, 62, 36, 22, 3, 8, 13, 1, 32, 32, 32, 32, 32]\n",
            "32\n",
            "He set down every evil thought he had and renounced it was the little little little little little little\n",
            "[36, 206, 37, 347, 62, 36, 22, 3, 8, 13, 1, 32, 32, 32, 32, 32, 32]\n",
            "32\n",
            "He set down every evil thought he had and renounced it was the little little little little little little little\n",
            "[36, 206, 37, 347, 62, 36, 22, 3, 8, 13, 1, 32, 32, 32, 32, 32, 32, 32]\n",
            "32\n",
            "He set down every evil thought he had and renounced it was the little little little little little little little little\n"
          ]
        }
      ]
    },
    {
      "cell_type": "code",
      "source": [
        "y_p = model.predict(token_list)"
      ],
      "metadata": {
        "id": "aRo3hrgwh5pp",
        "colab": {
          "base_uri": "https://localhost:8080/"
        },
        "outputId": "8be8f92d-2f9a-43ae-951f-e53ada794235"
      },
      "execution_count": null,
      "outputs": [
        {
          "output_type": "stream",
          "name": "stdout",
          "text": [
            "1/1 [==============================] - 0s 19ms/step\n"
          ]
        }
      ]
    },
    {
      "cell_type": "code",
      "source": [
        "plt.figure(figsize=(16,4))\n",
        "plt.plot(y_p[0,:])\n",
        "plt.xlabel('Номер слова')\n",
        "plt.ylabel('Вероятность слова')\n",
        "plt.title('Вероятность по словам')\n",
        "plt.grid('on')\n",
        "plt.show()"
      ],
      "metadata": {
        "id": "wUm1uqtJh5-C",
        "colab": {
          "base_uri": "https://localhost:8080/",
          "height": 410
        },
        "outputId": "fc9ca05e-0e47-455a-e292-356576ecf004"
      },
      "execution_count": null,
      "outputs": [
        {
          "output_type": "display_data",
          "data": {
            "text/plain": [
              "<Figure size 1600x400 with 1 Axes>"
            ],
            "image/png": "[encoded data removed]"
          },
          "metadata": {}
        }
      ]
    },
    {
      "cell_type": "markdown",
      "source": [
        "## Временные ряды"
      ],
      "metadata": {
        "id": "AIaqUCQZj8uC"
      }
    },
    {
      "cell_type": "code",
      "source": [
        "%matplotlib inline\n",
        "import pandas as pd\n",
        "import matplotlib.pyplot as plt\n",
        "from tensorflow.keras import utils\n",
        "import numpy as np\n",
        "import tensorflow.keras as keras\n",
        "from tensorflow.keras.optimizers import Adam\n",
        "from tensorflow.keras.models import Sequential, Model\n",
        "from tensorflow.keras.layers import concatenate, Input, Dense, Dropout, BatchNormalization, Flatten, Conv1D, Conv2D, LSTM\n",
        "from google.colab import files\n",
        "from sklearn.preprocessing import StandardScaler, MinMaxScaler\n",
        "from tensorflow.keras.callbacks import EarlyStopping\n",
        "import os\n",
        "import datetime"
      ],
      "metadata": {
        "id": "P5Il0_JLh6PZ"
      },
      "execution_count": null,
      "outputs": []
    },
    {
      "cell_type": "code",
      "source": [
        "!wget https://gbcdn.mrgcdn.ru/uploads/asset/3196056/attachment/49718b914b30dae0983f1be37c32ec9d.csv -O airplane.csv\n",
        "# data = open('airplane.csv').r"
      ],
      "metadata": {
        "colab": {
          "base_uri": "https://localhost:8080/"
        },
        "id": "djwvZygsh6kH",
        "outputId": "1424c89c-1291-4fc2-908c-38a936474e6e"
      },
      "execution_count": null,
      "outputs": [
        {
          "output_type": "stream",
          "name": "stdout",
          "text": [
            "--2024-01-05 14:44:01--  https://gbcdn.mrgcdn.ru/uploads/asset/3196056/attachment/49718b914b30dae0983f1be37c32ec9d.csv\n",
            "Resolving gbcdn.mrgcdn.ru (gbcdn.mrgcdn.ru)... 5.181.61.0\n",
            "Connecting to gbcdn.mrgcdn.ru (gbcdn.mrgcdn.ru)|5.181.61.0|:443... connected.\n",
            "HTTP request sent, awaiting response... 200 OK\n",
            "Length: 2037 (2.0K) [text/csv]\n",
            "Saving to: ‘airplane.csv’\n",
            "\n",
            "airplane.csv        100%[===================>]   1.99K  --.-KB/s    in 0s      \n",
            "\n",
            "2024-01-05 14:44:01 (1.17 GB/s) - ‘airplane.csv’ saved [2037/2037]\n",
            "\n"
          ]
        }
      ]
    },
    {
      "cell_type": "code",
      "source": [
        "data = pd.read_csv('airplane.csv')\n",
        "data.index = data.Month\n",
        "data.drop(['Month'], axis=1, inplace=True)\n",
        "data.head(7)"
      ],
      "metadata": {
        "colab": {
          "base_uri": "https://localhost:8080/",
          "height": 300
        },
        "id": "Kgjj5yQ9k5B9",
        "outputId": "d9a0c5af-eb4c-45ac-b7ea-c1bb62629a01"
      },
      "execution_count": null,
      "outputs": [
        {
          "output_type": "execute_result",
          "data": {
            "text/plain": [
              "         Passengers\n",
              "Month              \n",
              "1949-01         112\n",
              "1949-02         118\n",
              "1949-03         132\n",
              "1949-04         129\n",
              "1949-05         121\n",
              "1949-06         135\n",
              "1949-07         148"
            ],
            "text/html": [
              "\n",
              "  <div id=\"df-b0257d86-316d-46e8-92ad-e8fc7f2ba78b\" class=\"colab-df-container\">\n",
              "    <div>\n",
              "<style scoped>\n",
              "    .dataframe tbody tr th:only-of-type {\n",
              "        vertical-align: middle;\n",
              "    }\n",
              "\n",
              "    .dataframe tbody tr th {\n",
              "        vertical-align: top;\n",
              "    }\n",
              "\n",
              "    .dataframe thead th {\n",
              "        text-align: right;\n",
              "    }\n",
              "</style>\n",
              "<table border=\"1\" class=\"dataframe\">\n",
              "  <thead>\n",
              "    <tr style=\"text-align: right;\">\n",
              "      <th></th>\n",
              "      <th>Passengers</th>\n",
              "    </tr>\n",
              "    <tr>\n",
              "      <th>Month</th>\n",
              "      <th></th>\n",
              "    </tr>\n",
              "  </thead>\n",
              "  <tbody>\n",
              "    <tr>\n",
              "      <th>1949-01</th>\n",
              "      <td>112</td>\n",
              "    </tr>\n",
              "    <tr>\n",
              "      <th>1949-02</th>\n",
              "      <td>118</td>\n",
              "    </tr>\n",
              "    <tr>\n",
              "      <th>1949-03</th>\n",
              "      <td>132</td>\n",
              "    </tr>\n",
              "    <tr>\n",
              "      <th>1949-04</th>\n",
              "      <td>129</td>\n",
              "    </tr>\n",
              "    <tr>\n",
              "      <th>1949-05</th>\n",
              "      <td>121</td>\n",
              "    </tr>\n",
              "    <tr>\n",
              "      <th>1949-06</th>\n",
              "      <td>135</td>\n",
              "    </tr>\n",
              "    <tr>\n",
              "      <th>1949-07</th>\n",
              "      <td>148</td>\n",
              "    </tr>\n",
              "  </tbody>\n",
              "</table>\n",
              "</div>\n",
              "    <div class=\"colab-df-buttons\">\n",
              "\n",
              "  <div class=\"colab-df-container\">\n",
              "    <button class=\"colab-df-convert\" onclick=\"convertToInteractive('df-b0257d86-316d-46e8-92ad-e8fc7f2ba78b')\"\n",
              "            title=\"Convert this dataframe to an interactive table.\"\n",
              "            style=\"display:none;\">\n",
              "\n",
              "  <svg xmlns=\"http://www.w3.org/2000/svg\" height=\"24px\" viewBox=\"0 -960 960 960\">\n",
              "    <path d=\"M120-120v-720h720v720H120Zm60-500h600v-160H180v160Zm220 220h160v-160H400v160Zm0 220h160v-160H400v160ZM180-400h160v-160H180v160Zm440 0h160v-160H620v160ZM180-180h160v-160H180v160Zm440 0h160v-160H620v160Z\"/>\n",
              "  </svg>\n",
              "    </button>\n",
              "\n",
              "  <style>\n",
              "    .colab-df-container {\n",
              "      display:flex;\n",
              "      gap: 12px;\n",
              "    }\n",
              "\n",
              "    .colab-df-convert {\n",
              "      background-color: #E8F0FE;\n",
              "      border: none;\n",
              "      border-radius: 50%;\n",
              "      cursor: pointer;\n",
              "      display: none;\n",
              "      fill: #1967D2;\n",
              "      height: 32px;\n",
              "      padding: 0 0 0 0;\n",
              "      width: 32px;\n",
              "    }\n",
              "\n",
              "    .colab-df-convert:hover {\n",
              "      background-color: #E2EBFA;\n",
              "      box-shadow: 0px 1px 2px rgba(60, 64, 67, 0.3), 0px 1px 3px 1px rgba(60, 64, 67, 0.15);\n",
              "      fill: #174EA6;\n",
              "    }\n",
              "\n",
              "    .colab-df-buttons div {\n",
              "      margin-bottom: 4px;\n",
              "    }\n",
              "\n",
              "    [theme=dark] .colab-df-convert {\n",
              "      background-color: #3B4455;\n",
              "      fill: #D2E3FC;\n",
              "    }\n",
              "\n",
              "    [theme=dark] .colab-df-convert:hover {\n",
              "      background-color: #434B5C;\n",
              "      box-shadow: 0px 1px 3px 1px rgba(0, 0, 0, 0.15);\n",
              "      filter: drop-shadow(0px 1px 2px rgba(0, 0, 0, 0.3));\n",
              "      fill: #FFFFFF;\n",
              "    }\n",
              "  </style>\n",
              "\n",
              "    <script>\n",
              "      const buttonEl =\n",
              "        document.querySelector('#df-b0257d86-316d-46e8-92ad-e8fc7f2ba78b button.colab-df-convert');\n",
              "      buttonEl.style.display =\n",
              "        google.colab.kernel.accessAllowed ? 'block' : 'none';\n",
              "\n",
              "      async function convertToInteractive(key) {\n",
              "        const element = document.querySelector('#df-b0257d86-316d-46e8-92ad-e8fc7f2ba78b');\n",
              "        const dataTable =\n",
              "          await google.colab.kernel.invokeFunction('convertToInteractive',\n",
              "                                                    [key], {});\n",
              "        if (!dataTable) return;\n",
              "\n",
              "        const docLinkHtml = 'Like what you see? Visit the ' +\n",
              "          '<a target=\"_blank\" href=https://colab.research.google.com/notebooks/data_table.ipynb>data table notebook</a>'\n",
              "          + ' to learn more about interactive tables.';\n",
              "        element.innerHTML = '';\n",
              "        dataTable['output_type'] = 'display_data';\n",
              "        await google.colab.output.renderOutput(dataTable, element);\n",
              "        const docLink = document.createElement('div');\n",
              "        docLink.innerHTML = docLinkHtml;\n",
              "        element.appendChild(docLink);\n",
              "      }\n",
              "    </script>\n",
              "  </div>\n",
              "\n",
              "\n",
              "<div id=\"df-2da91b38-f992-426a-915b-b515570ec0b8\">\n",
              "  <button class=\"colab-df-quickchart\" onclick=\"quickchart('df-2da91b38-f992-426a-915b-b515570ec0b8')\"\n",
              "            title=\"Suggest charts\"\n",
              "            style=\"display:none;\">\n",
              "\n",
              "<svg xmlns=\"http://www.w3.org/2000/svg\" height=\"24px\"viewBox=\"0 0 24 24\"\n",
              "     width=\"24px\">\n",
              "    <g>\n",
              "        <path d=\"M19 3H5c-1.1 0-2 .9-2 2v14c0 1.1.9 2 2 2h14c1.1 0 2-.9 2-2V5c0-1.1-.9-2-2-2zM9 17H7v-7h2v7zm4 0h-2V7h2v10zm4 0h-2v-4h2v4z\"/>\n",
              "    </g>\n",
              "</svg>\n",
              "  </button>\n",
              "\n",
              "<style>\n",
              "  .colab-df-quickchart {\n",
              "      --bg-color: #E8F0FE;\n",
              "      --fill-color: #1967D2;\n",
              "      --hover-bg-color: #E2EBFA;\n",
              "      --hover-fill-color: #174EA6;\n",
              "      --disabled-fill-color: #AAA;\n",
              "      --disabled-bg-color: #DDD;\n",
              "  }\n",
              "\n",
              "  [theme=dark] .colab-df-quickchart {\n",
              "      --bg-color: #3B4455;\n",
              "      --fill-color: #D2E3FC;\n",
              "      --hover-bg-color: #434B5C;\n",
              "      --hover-fill-color: #FFFFFF;\n",
              "      --disabled-bg-color: #3B4455;\n",
              "      --disabled-fill-color: #666;\n",
              "  }\n",
              "\n",
              "  .colab-df-quickchart {\n",
              "    background-color: var(--bg-color);\n",
              "    border: none;\n",
              "    border-radius: 50%;\n",
              "    cursor: pointer;\n",
              "    display: none;\n",
              "    fill: var(--fill-color);\n",
              "    height: 32px;\n",
              "    padding: 0;\n",
              "    width: 32px;\n",
              "  }\n",
              "\n",
              "  .colab-df-quickchart:hover {\n",
              "    background-color: var(--hover-bg-color);\n",
              "    box-shadow: 0 1px 2px rgba(60, 64, 67, 0.3), 0 1px 3px 1px rgba(60, 64, 67, 0.15);\n",
              "    fill: var(--button-hover-fill-color);\n",
              "  }\n",
              "\n",
              "  .colab-df-quickchart-complete:disabled,\n",
              "  .colab-df-quickchart-complete:disabled:hover {\n",
              "    background-color: var(--disabled-bg-color);\n",
              "    fill: var(--disabled-fill-color);\n",
              "    box-shadow: none;\n",
              "  }\n",
              "\n",
              "  .colab-df-spinner {\n",
              "    border: 2px solid var(--fill-color);\n",
              "    border-color: transparent;\n",
              "    border-bottom-color: var(--fill-color);\n",
              "    animation:\n",
              "      spin 1s steps(1) infinite;\n",
              "  }\n",
              "\n",
              "  @keyframes spin {\n",
              "    0% {\n",
              "      border-color: transparent;\n",
              "      border-bottom-color: var(--fill-color);\n",
              "      border-left-color: var(--fill-color);\n",
              "    }\n",
              "    20% {\n",
              "      border-color: transparent;\n",
              "      border-left-color: var(--fill-color);\n",
              "      border-top-color: var(--fill-color);\n",
              "    }\n",
              "    30% {\n",
              "      border-color: transparent;\n",
              "      border-left-color: var(--fill-color);\n",
              "      border-top-color: var(--fill-color);\n",
              "      border-right-color: var(--fill-color);\n",
              "    }\n",
              "    40% {\n",
              "      border-color: transparent;\n",
              "      border-right-color: var(--fill-color);\n",
              "      border-top-color: var(--fill-color);\n",
              "    }\n",
              "    60% {\n",
              "      border-color: transparent;\n",
              "      border-right-color: var(--fill-color);\n",
              "    }\n",
              "    80% {\n",
              "      border-color: transparent;\n",
              "      border-right-color: var(--fill-color);\n",
              "      border-bottom-color: var(--fill-color);\n",
              "    }\n",
              "    90% {\n",
              "      border-color: transparent;\n",
              "      border-bottom-color: var(--fill-color);\n",
              "    }\n",
              "  }\n",
              "</style>\n",
              "\n",
              "  <script>\n",
              "    async function quickchart(key) {\n",
              "      const quickchartButtonEl =\n",
              "        document.querySelector('#' + key + ' button');\n",
              "      quickchartButtonEl.disabled = true;  // To prevent multiple clicks.\n",
              "      quickchartButtonEl.classList.add('colab-df-spinner');\n",
              "      try {\n",
              "        const charts = await google.colab.kernel.invokeFunction(\n",
              "            'suggestCharts', [key], {});\n",
              "      } catch (error) {\n",
              "        console.error('Error during call to suggestCharts:', error);\n",
              "      }\n",
              "      quickchartButtonEl.classList.remove('colab-df-spinner');\n",
              "      quickchartButtonEl.classList.add('colab-df-quickchart-complete');\n",
              "    }\n",
              "    (() => {\n",
              "      let quickchartButtonEl =\n",
              "        document.querySelector('#df-2da91b38-f992-426a-915b-b515570ec0b8 button');\n",
              "      quickchartButtonEl.style.display =\n",
              "        google.colab.kernel.accessAllowed ? 'block' : 'none';\n",
              "    })();\n",
              "  </script>\n",
              "</div>\n",
              "    </div>\n",
              "  </div>\n"
            ]
          },
          "metadata": {},
          "execution_count": 46
        }
      ]
    },
    {
      "cell_type": "code",
      "source": [
        "data.plot(figsize = (16, 5))\n",
        "plt.grid('On')"
      ],
      "metadata": {
        "colab": {
          "base_uri": "https://localhost:8080/",
          "height": 465
        },
        "id": "BR4YbSwZk5GA",
        "outputId": "56d1590a-917b-43a4-eb68-cb266de33a12"
      },
      "execution_count": null,
      "outputs": [
        {
          "output_type": "display_data",
          "data": {
            "text/plain": [
              "<Figure size 1600x500 with 1 Axes>"
            ],
            "image/png": "[encoded data removed]"
          },
          "metadata": {}
        }
      ]
    },
    {
      "cell_type": "code",
      "source": [
        "data.describe()"
      ],
      "metadata": {
        "colab": {
          "base_uri": "https://localhost:8080/",
          "height": 300
        },
        "id": "QcZmhiLgn4Zn",
        "outputId": "2fa67bc8-75be-466d-e671-ba69fee260bd"
      },
      "execution_count": null,
      "outputs": [
        {
          "output_type": "execute_result",
          "data": {
            "text/plain": [
              "       Passengers\n",
              "count  144.000000\n",
              "mean   280.298611\n",
              "std    119.966317\n",
              "min    104.000000\n",
              "25%    180.000000\n",
              "50%    265.500000\n",
              "75%    360.500000\n",
              "max    622.000000"
            ],
            "text/html": [
              "\n",
              "  <div id=\"df-dc9db3e7-da31-4d9a-aa4f-e5c2aa4083ad\" class=\"colab-df-container\">\n",
              "    <div>\n",
              "<style scoped>\n",
              "    .dataframe tbody tr th:only-of-type {\n",
              "        vertical-align: middle;\n",
              "    }\n",
              "\n",
              "    .dataframe tbody tr th {\n",
              "        vertical-align: top;\n",
              "    }\n",
              "\n",
              "    .dataframe thead th {\n",
              "        text-align: right;\n",
              "    }\n",
              "</style>\n",
              "<table border=\"1\" class=\"dataframe\">\n",
              "  <thead>\n",
              "    <tr style=\"text-align: right;\">\n",
              "      <th></th>\n",
              "      <th>Passengers</th>\n",
              "    </tr>\n",
              "  </thead>\n",
              "  <tbody>\n",
              "    <tr>\n",
              "      <th>count</th>\n",
              "      <td>144.000000</td>\n",
              "    </tr>\n",
              "    <tr>\n",
              "      <th>mean</th>\n",
              "      <td>280.298611</td>\n",
              "    </tr>\n",
              "    <tr>\n",
              "      <th>std</th>\n",
              "      <td>119.966317</td>\n",
              "    </tr>\n",
              "    <tr>\n",
              "      <th>min</th>\n",
              "      <td>104.000000</td>\n",
              "    </tr>\n",
              "    <tr>\n",
              "      <th>25%</th>\n",
              "      <td>180.000000</td>\n",
              "    </tr>\n",
              "    <tr>\n",
              "      <th>50%</th>\n",
              "      <td>265.500000</td>\n",
              "    </tr>\n",
              "    <tr>\n",
              "      <th>75%</th>\n",
              "      <td>360.500000</td>\n",
              "    </tr>\n",
              "    <tr>\n",
              "      <th>max</th>\n",
              "      <td>622.000000</td>\n",
              "    </tr>\n",
              "  </tbody>\n",
              "</table>\n",
              "</div>\n",
              "    <div class=\"colab-df-buttons\">\n",
              "\n",
              "  <div class=\"colab-df-container\">\n",
              "    <button class=\"colab-df-convert\" onclick=\"convertToInteractive('df-dc9db3e7-da31-4d9a-aa4f-e5c2aa4083ad')\"\n",
              "            title=\"Convert this dataframe to an interactive table.\"\n",
              "            style=\"display:none;\">\n",
              "\n",
              "  <svg xmlns=\"http://www.w3.org/2000/svg\" height=\"24px\" viewBox=\"0 -960 960 960\">\n",
              "    <path d=\"M120-120v-720h720v720H120Zm60-500h600v-160H180v160Zm220 220h160v-160H400v160Zm0 220h160v-160H400v160ZM180-400h160v-160H180v160Zm440 0h160v-160H620v160ZM180-180h160v-160H180v160Zm440 0h160v-160H620v160Z\"/>\n",
              "  </svg>\n",
              "    </button>\n",
              "\n",
              "  <style>\n",
              "    .colab-df-container {\n",
              "      display:flex;\n",
              "      gap: 12px;\n",
              "    }\n",
              "\n",
              "    .colab-df-convert {\n",
              "      background-color: #E8F0FE;\n",
              "      border: none;\n",
              "      border-radius: 50%;\n",
              "      cursor: pointer;\n",
              "      display: none;\n",
              "      fill: #1967D2;\n",
              "      height: 32px;\n",
              "      padding: 0 0 0 0;\n",
              "      width: 32px;\n",
              "    }\n",
              "\n",
              "    .colab-df-convert:hover {\n",
              "      background-color: #E2EBFA;\n",
              "      box-shadow: 0px 1px 2px rgba(60, 64, 67, 0.3), 0px 1px 3px 1px rgba(60, 64, 67, 0.15);\n",
              "      fill: #174EA6;\n",
              "    }\n",
              "\n",
              "    .colab-df-buttons div {\n",
              "      margin-bottom: 4px;\n",
              "    }\n",
              "\n",
              "    [theme=dark] .colab-df-convert {\n",
              "      background-color: #3B4455;\n",
              "      fill: #D2E3FC;\n",
              "    }\n",
              "\n",
              "    [theme=dark] .colab-df-convert:hover {\n",
              "      background-color: #434B5C;\n",
              "      box-shadow: 0px 1px 3px 1px rgba(0, 0, 0, 0.15);\n",
              "      filter: drop-shadow(0px 1px 2px rgba(0, 0, 0, 0.3));\n",
              "      fill: #FFFFFF;\n",
              "    }\n",
              "  </style>\n",
              "\n",
              "    <script>\n",
              "      const buttonEl =\n",
              "        document.querySelector('#df-dc9db3e7-da31-4d9a-aa4f-e5c2aa4083ad button.colab-df-convert');\n",
              "      buttonEl.style.display =\n",
              "        google.colab.kernel.accessAllowed ? 'block' : 'none';\n",
              "\n",
              "      async function convertToInteractive(key) {\n",
              "        const element = document.querySelector('#df-dc9db3e7-da31-4d9a-aa4f-e5c2aa4083ad');\n",
              "        const dataTable =\n",
              "          await google.colab.kernel.invokeFunction('convertToInteractive',\n",
              "                                                    [key], {});\n",
              "        if (!dataTable) return;\n",
              "\n",
              "        const docLinkHtml = 'Like what you see? Visit the ' +\n",
              "          '<a target=\"_blank\" href=https://colab.research.google.com/notebooks/data_table.ipynb>data table notebook</a>'\n",
              "          + ' to learn more about interactive tables.';\n",
              "        element.innerHTML = '';\n",
              "        dataTable['output_type'] = 'display_data';\n",
              "        await google.colab.output.renderOutput(dataTable, element);\n",
              "        const docLink = document.createElement('div');\n",
              "        docLink.innerHTML = docLinkHtml;\n",
              "        element.appendChild(docLink);\n",
              "      }\n",
              "    </script>\n",
              "  </div>\n",
              "\n",
              "\n",
              "<div id=\"df-1ec86401-a96e-49d6-a0e5-66591028f0cb\">\n",
              "  <button class=\"colab-df-quickchart\" onclick=\"quickchart('df-1ec86401-a96e-49d6-a0e5-66591028f0cb')\"\n",
              "            title=\"Suggest charts\"\n",
              "            style=\"display:none;\">\n",
              "\n",
              "<svg xmlns=\"http://www.w3.org/2000/svg\" height=\"24px\"viewBox=\"0 0 24 24\"\n",
              "     width=\"24px\">\n",
              "    <g>\n",
              "        <path d=\"M19 3H5c-1.1 0-2 .9-2 2v14c0 1.1.9 2 2 2h14c1.1 0 2-.9 2-2V5c0-1.1-.9-2-2-2zM9 17H7v-7h2v7zm4 0h-2V7h2v10zm4 0h-2v-4h2v4z\"/>\n",
              "    </g>\n",
              "</svg>\n",
              "  </button>\n",
              "\n",
              "<style>\n",
              "  .colab-df-quickchart {\n",
              "      --bg-color: #E8F0FE;\n",
              "      --fill-color: #1967D2;\n",
              "      --hover-bg-color: #E2EBFA;\n",
              "      --hover-fill-color: #174EA6;\n",
              "      --disabled-fill-color: #AAA;\n",
              "      --disabled-bg-color: #DDD;\n",
              "  }\n",
              "\n",
              "  [theme=dark] .colab-df-quickchart {\n",
              "      --bg-color: #3B4455;\n",
              "      --fill-color: #D2E3FC;\n",
              "      --hover-bg-color: #434B5C;\n",
              "      --hover-fill-color: #FFFFFF;\n",
              "      --disabled-bg-color: #3B4455;\n",
              "      --disabled-fill-color: #666;\n",
              "  }\n",
              "\n",
              "  .colab-df-quickchart {\n",
              "    background-color: var(--bg-color);\n",
              "    border: none;\n",
              "    border-radius: 50%;\n",
              "    cursor: pointer;\n",
              "    display: none;\n",
              "    fill: var(--fill-color);\n",
              "    height: 32px;\n",
              "    padding: 0;\n",
              "    width: 32px;\n",
              "  }\n",
              "\n",
              "  .colab-df-quickchart:hover {\n",
              "    background-color: var(--hover-bg-color);\n",
              "    box-shadow: 0 1px 2px rgba(60, 64, 67, 0.3), 0 1px 3px 1px rgba(60, 64, 67, 0.15);\n",
              "    fill: var(--button-hover-fill-color);\n",
              "  }\n",
              "\n",
              "  .colab-df-quickchart-complete:disabled,\n",
              "  .colab-df-quickchart-complete:disabled:hover {\n",
              "    background-color: var(--disabled-bg-color);\n",
              "    fill: var(--disabled-fill-color);\n",
              "    box-shadow: none;\n",
              "  }\n",
              "\n",
              "  .colab-df-spinner {\n",
              "    border: 2px solid var(--fill-color);\n",
              "    border-color: transparent;\n",
              "    border-bottom-color: var(--fill-color);\n",
              "    animation:\n",
              "      spin 1s steps(1) infinite;\n",
              "  }\n",
              "\n",
              "  @keyframes spin {\n",
              "    0% {\n",
              "      border-color: transparent;\n",
              "      border-bottom-color: var(--fill-color);\n",
              "      border-left-color: var(--fill-color);\n",
              "    }\n",
              "    20% {\n",
              "      border-color: transparent;\n",
              "      border-left-color: var(--fill-color);\n",
              "      border-top-color: var(--fill-color);\n",
              "    }\n",
              "    30% {\n",
              "      border-color: transparent;\n",
              "      border-left-color: var(--fill-color);\n",
              "      border-top-color: var(--fill-color);\n",
              "      border-right-color: var(--fill-color);\n",
              "    }\n",
              "    40% {\n",
              "      border-color: transparent;\n",
              "      border-right-color: var(--fill-color);\n",
              "      border-top-color: var(--fill-color);\n",
              "    }\n",
              "    60% {\n",
              "      border-color: transparent;\n",
              "      border-right-color: var(--fill-color);\n",
              "    }\n",
              "    80% {\n",
              "      border-color: transparent;\n",
              "      border-right-color: var(--fill-color);\n",
              "      border-bottom-color: var(--fill-color);\n",
              "    }\n",
              "    90% {\n",
              "      border-color: transparent;\n",
              "      border-bottom-color: var(--fill-color);\n",
              "    }\n",
              "  }\n",
              "</style>\n",
              "\n",
              "  <script>\n",
              "    async function quickchart(key) {\n",
              "      const quickchartButtonEl =\n",
              "        document.querySelector('#' + key + ' button');\n",
              "      quickchartButtonEl.disabled = true;  // To prevent multiple clicks.\n",
              "      quickchartButtonEl.classList.add('colab-df-spinner');\n",
              "      try {\n",
              "        const charts = await google.colab.kernel.invokeFunction(\n",
              "            'suggestCharts', [key], {});\n",
              "      } catch (error) {\n",
              "        console.error('Error during call to suggestCharts:', error);\n",
              "      }\n",
              "      quickchartButtonEl.classList.remove('colab-df-spinner');\n",
              "      quickchartButtonEl.classList.add('colab-df-quickchart-complete');\n",
              "    }\n",
              "    (() => {\n",
              "      let quickchartButtonEl =\n",
              "        document.querySelector('#df-1ec86401-a96e-49d6-a0e5-66591028f0cb button');\n",
              "      quickchartButtonEl.style.display =\n",
              "        google.colab.kernel.accessAllowed ? 'block' : 'none';\n",
              "    })();\n",
              "  </script>\n",
              "</div>\n",
              "    </div>\n",
              "  </div>\n"
            ]
          },
          "metadata": {},
          "execution_count": 48
        }
      ]
    },
    {
      "cell_type": "code",
      "source": [
        "# Добавим дату как признаки как месяц года /12  и год - 1949\n",
        "data['month'] = pd.to_datetime(data.index).month / 12\n",
        "data['year'] = (pd.to_datetime(data.index).year - 1949) / 11\n",
        "data.head()"
      ],
      "metadata": {
        "colab": {
          "base_uri": "https://localhost:8080/",
          "height": 237
        },
        "id": "juSD_Rv9n4lg",
        "outputId": "0b88b4fc-900a-4c56-a390-9584c4fc3fbb"
      },
      "execution_count": null,
      "outputs": [
        {
          "output_type": "execute_result",
          "data": {
            "text/plain": [
              "         Passengers     month  year\n",
              "Month                              \n",
              "1949-01         112  0.083333   0.0\n",
              "1949-02         118  0.166667   0.0\n",
              "1949-03         132  0.250000   0.0\n",
              "1949-04         129  0.333333   0.0\n",
              "1949-05         121  0.416667   0.0"
            ],
            "text/html": [
              "\n",
              "  <div id=\"df-a9cceff5-68fa-40a6-9990-013a8271c238\" class=\"colab-df-container\">\n",
              "    <div>\n",
              "<style scoped>\n",
              "    .dataframe tbody tr th:only-of-type {\n",
              "        vertical-align: middle;\n",
              "    }\n",
              "\n",
              "    .dataframe tbody tr th {\n",
              "        vertical-align: top;\n",
              "    }\n",
              "\n",
              "    .dataframe thead th {\n",
              "        text-align: right;\n",
              "    }\n",
              "</style>\n",
              "<table border=\"1\" class=\"dataframe\">\n",
              "  <thead>\n",
              "    <tr style=\"text-align: right;\">\n",
              "      <th></th>\n",
              "      <th>Passengers</th>\n",
              "      <th>month</th>\n",
              "      <th>year</th>\n",
              "    </tr>\n",
              "    <tr>\n",
              "      <th>Month</th>\n",
              "      <th></th>\n",
              "      <th></th>\n",
              "      <th></th>\n",
              "    </tr>\n",
              "  </thead>\n",
              "  <tbody>\n",
              "    <tr>\n",
              "      <th>1949-01</th>\n",
              "      <td>112</td>\n",
              "      <td>0.083333</td>\n",
              "      <td>0.0</td>\n",
              "    </tr>\n",
              "    <tr>\n",
              "      <th>1949-02</th>\n",
              "      <td>118</td>\n",
              "      <td>0.166667</td>\n",
              "      <td>0.0</td>\n",
              "    </tr>\n",
              "    <tr>\n",
              "      <th>1949-03</th>\n",
              "      <td>132</td>\n",
              "      <td>0.250000</td>\n",
              "      <td>0.0</td>\n",
              "    </tr>\n",
              "    <tr>\n",
              "      <th>1949-04</th>\n",
              "      <td>129</td>\n",
              "      <td>0.333333</td>\n",
              "      <td>0.0</td>\n",
              "    </tr>\n",
              "    <tr>\n",
              "      <th>1949-05</th>\n",
              "      <td>121</td>\n",
              "      <td>0.416667</td>\n",
              "      <td>0.0</td>\n",
              "    </tr>\n",
              "  </tbody>\n",
              "</table>\n",
              "</div>\n",
              "    <div class=\"colab-df-buttons\">\n",
              "\n",
              "  <div class=\"colab-df-container\">\n",
              "    <button class=\"colab-df-convert\" onclick=\"convertToInteractive('df-a9cceff5-68fa-40a6-9990-013a8271c238')\"\n",
              "            title=\"Convert this dataframe to an interactive table.\"\n",
              "            style=\"display:none;\">\n",
              "\n",
              "  <svg xmlns=\"http://www.w3.org/2000/svg\" height=\"24px\" viewBox=\"0 -960 960 960\">\n",
              "    <path d=\"M120-120v-720h720v720H120Zm60-500h600v-160H180v160Zm220 220h160v-160H400v160Zm0 220h160v-160H400v160ZM180-400h160v-160H180v160Zm440 0h160v-160H620v160ZM180-180h160v-160H180v160Zm440 0h160v-160H620v160Z\"/>\n",
              "  </svg>\n",
              "    </button>\n",
              "\n",
              "  <style>\n",
              "    .colab-df-container {\n",
              "      display:flex;\n",
              "      gap: 12px;\n",
              "    }\n",
              "\n",
              "    .colab-df-convert {\n",
              "      background-color: #E8F0FE;\n",
              "      border: none;\n",
              "      border-radius: 50%;\n",
              "      cursor: pointer;\n",
              "      display: none;\n",
              "      fill: #1967D2;\n",
              "      height: 32px;\n",
              "      padding: 0 0 0 0;\n",
              "      width: 32px;\n",
              "    }\n",
              "\n",
              "    .colab-df-convert:hover {\n",
              "      background-color: #E2EBFA;\n",
              "      box-shadow: 0px 1px 2px rgba(60, 64, 67, 0.3), 0px 1px 3px 1px rgba(60, 64, 67, 0.15);\n",
              "      fill: #174EA6;\n",
              "    }\n",
              "\n",
              "    .colab-df-buttons div {\n",
              "      margin-bottom: 4px;\n",
              "    }\n",
              "\n",
              "    [theme=dark] .colab-df-convert {\n",
              "      background-color: #3B4455;\n",
              "      fill: #D2E3FC;\n",
              "    }\n",
              "\n",
              "    [theme=dark] .colab-df-convert:hover {\n",
              "      background-color: #434B5C;\n",
              "      box-shadow: 0px 1px 3px 1px rgba(0, 0, 0, 0.15);\n",
              "      filter: drop-shadow(0px 1px 2px rgba(0, 0, 0, 0.3));\n",
              "      fill: #FFFFFF;\n",
              "    }\n",
              "  </style>\n",
              "\n",
              "    <script>\n",
              "      const buttonEl =\n",
              "        document.querySelector('#df-a9cceff5-68fa-40a6-9990-013a8271c238 button.colab-df-convert');\n",
              "      buttonEl.style.display =\n",
              "        google.colab.kernel.accessAllowed ? 'block' : 'none';\n",
              "\n",
              "      async function convertToInteractive(key) {\n",
              "        const element = document.querySelector('#df-a9cceff5-68fa-40a6-9990-013a8271c238');\n",
              "        const dataTable =\n",
              "          await google.colab.kernel.invokeFunction('convertToInteractive',\n",
              "                                                    [key], {});\n",
              "        if (!dataTable) return;\n",
              "\n",
              "        const docLinkHtml = 'Like what you see? Visit the ' +\n",
              "          '<a target=\"_blank\" href=https://colab.research.google.com/notebooks/data_table.ipynb>data table notebook</a>'\n",
              "          + ' to learn more about interactive tables.';\n",
              "        element.innerHTML = '';\n",
              "        dataTable['output_type'] = 'display_data';\n",
              "        await google.colab.output.renderOutput(dataTable, element);\n",
              "        const docLink = document.createElement('div');\n",
              "        docLink.innerHTML = docLinkHtml;\n",
              "        element.appendChild(docLink);\n",
              "      }\n",
              "    </script>\n",
              "  </div>\n",
              "\n",
              "\n",
              "<div id=\"df-a1d14d7d-9511-4af6-b6a1-57ad336f7e8a\">\n",
              "  <button class=\"colab-df-quickchart\" onclick=\"quickchart('df-a1d14d7d-9511-4af6-b6a1-57ad336f7e8a')\"\n",
              "            title=\"Suggest charts\"\n",
              "            style=\"display:none;\">\n",
              "\n",
              "<svg xmlns=\"http://www.w3.org/2000/svg\" height=\"24px\"viewBox=\"0 0 24 24\"\n",
              "     width=\"24px\">\n",
              "    <g>\n",
              "        <path d=\"M19 3H5c-1.1 0-2 .9-2 2v14c0 1.1.9 2 2 2h14c1.1 0 2-.9 2-2V5c0-1.1-.9-2-2-2zM9 17H7v-7h2v7zm4 0h-2V7h2v10zm4 0h-2v-4h2v4z\"/>\n",
              "    </g>\n",
              "</svg>\n",
              "  </button>\n",
              "\n",
              "<style>\n",
              "  .colab-df-quickchart {\n",
              "      --bg-color: #E8F0FE;\n",
              "      --fill-color: #1967D2;\n",
              "      --hover-bg-color: #E2EBFA;\n",
              "      --hover-fill-color: #174EA6;\n",
              "      --disabled-fill-color: #AAA;\n",
              "      --disabled-bg-color: #DDD;\n",
              "  }\n",
              "\n",
              "  [theme=dark] .colab-df-quickchart {\n",
              "      --bg-color: #3B4455;\n",
              "      --fill-color: #D2E3FC;\n",
              "      --hover-bg-color: #434B5C;\n",
              "      --hover-fill-color: #FFFFFF;\n",
              "      --disabled-bg-color: #3B4455;\n",
              "      --disabled-fill-color: #666;\n",
              "  }\n",
              "\n",
              "  .colab-df-quickchart {\n",
              "    background-color: var(--bg-color);\n",
              "    border: none;\n",
              "    border-radius: 50%;\n",
              "    cursor: pointer;\n",
              "    display: none;\n",
              "    fill: var(--fill-color);\n",
              "    height: 32px;\n",
              "    padding: 0;\n",
              "    width: 32px;\n",
              "  }\n",
              "\n",
              "  .colab-df-quickchart:hover {\n",
              "    background-color: var(--hover-bg-color);\n",
              "    box-shadow: 0 1px 2px rgba(60, 64, 67, 0.3), 0 1px 3px 1px rgba(60, 64, 67, 0.15);\n",
              "    fill: var(--button-hover-fill-color);\n",
              "  }\n",
              "\n",
              "  .colab-df-quickchart-complete:disabled,\n",
              "  .colab-df-quickchart-complete:disabled:hover {\n",
              "    background-color: var(--disabled-bg-color);\n",
              "    fill: var(--disabled-fill-color);\n",
              "    box-shadow: none;\n",
              "  }\n",
              "\n",
              "  .colab-df-spinner {\n",
              "    border: 2px solid var(--fill-color);\n",
              "    border-color: transparent;\n",
              "    border-bottom-color: var(--fill-color);\n",
              "    animation:\n",
              "      spin 1s steps(1) infinite;\n",
              "  }\n",
              "\n",
              "  @keyframes spin {\n",
              "    0% {\n",
              "      border-color: transparent;\n",
              "      border-bottom-color: var(--fill-color);\n",
              "      border-left-color: var(--fill-color);\n",
              "    }\n",
              "    20% {\n",
              "      border-color: transparent;\n",
              "      border-left-color: var(--fill-color);\n",
              "      border-top-color: var(--fill-color);\n",
              "    }\n",
              "    30% {\n",
              "      border-color: transparent;\n",
              "      border-left-color: var(--fill-color);\n",
              "      border-top-color: var(--fill-color);\n",
              "      border-right-color: var(--fill-color);\n",
              "    }\n",
              "    40% {\n",
              "      border-color: transparent;\n",
              "      border-right-color: var(--fill-color);\n",
              "      border-top-color: var(--fill-color);\n",
              "    }\n",
              "    60% {\n",
              "      border-color: transparent;\n",
              "      border-right-color: var(--fill-color);\n",
              "    }\n",
              "    80% {\n",
              "      border-color: transparent;\n",
              "      border-right-color: var(--fill-color);\n",
              "      border-bottom-color: var(--fill-color);\n",
              "    }\n",
              "    90% {\n",
              "      border-color: transparent;\n",
              "      border-bottom-color: var(--fill-color);\n",
              "    }\n",
              "  }\n",
              "</style>\n",
              "\n",
              "  <script>\n",
              "    async function quickchart(key) {\n",
              "      const quickchartButtonEl =\n",
              "        document.querySelector('#' + key + ' button');\n",
              "      quickchartButtonEl.disabled = true;  // To prevent multiple clicks.\n",
              "      quickchartButtonEl.classList.add('colab-df-spinner');\n",
              "      try {\n",
              "        const charts = await google.colab.kernel.invokeFunction(\n",
              "            'suggestCharts', [key], {});\n",
              "      } catch (error) {\n",
              "        console.error('Error during call to suggestCharts:', error);\n",
              "      }\n",
              "      quickchartButtonEl.classList.remove('colab-df-spinner');\n",
              "      quickchartButtonEl.classList.add('colab-df-quickchart-complete');\n",
              "    }\n",
              "    (() => {\n",
              "      let quickchartButtonEl =\n",
              "        document.querySelector('#df-a1d14d7d-9511-4af6-b6a1-57ad336f7e8a button');\n",
              "      quickchartButtonEl.style.display =\n",
              "        google.colab.kernel.accessAllowed ? 'block' : 'none';\n",
              "    })();\n",
              "  </script>\n",
              "</div>\n",
              "    </div>\n",
              "  </div>\n"
            ]
          },
          "metadata": {},
          "execution_count": 49
        }
      ]
    },
    {
      "cell_type": "code",
      "source": [
        "# Делаем нормализацию\n",
        "df = data.copy()\n",
        "scaler = StandardScaler()\n",
        "df['Passengers'] = scaler.fit_transform(df.Passengers.array.reshape((-1, 1)))\n",
        "df"
      ],
      "metadata": {
        "colab": {
          "base_uri": "https://localhost:8080/",
          "height": 455
        },
        "id": "H0nrp0_cn4pv",
        "outputId": "9ac72975-cfc2-4775-b02d-868752eafd15"
      },
      "execution_count": null,
      "outputs": [
        {
          "output_type": "execute_result",
          "data": {
            "text/plain": [
              "         Passengers     month  year\n",
              "Month                              \n",
              "1949-01   -1.407779  0.083333   0.0\n",
              "1949-02   -1.357590  0.166667   0.0\n",
              "1949-03   -1.240483  0.250000   0.0\n",
              "1949-04   -1.265578  0.333333   0.0\n",
              "1949-05   -1.332496  0.416667   0.0\n",
              "...             ...       ...   ...\n",
              "1960-08    2.724417  0.666667   1.0\n",
              "1960-09    1.904669  0.750000   1.0\n",
              "1960-10    1.511525  0.833333   1.0\n",
              "1960-11    0.917627  0.916667   1.0\n",
              "1960-12    1.268947  1.000000   1.0\n",
              "\n",
              "[144 rows x 3 columns]"
            ],
            "text/html": [
              "\n",
              "  <div id=\"df-12469db0-612f-4d2a-b158-beb834347b97\" class=\"colab-df-container\">\n",
              "    <div>\n",
              "<style scoped>\n",
              "    .dataframe tbody tr th:only-of-type {\n",
              "        vertical-align: middle;\n",
              "    }\n",
              "\n",
              "    .dataframe tbody tr th {\n",
              "        vertical-align: top;\n",
              "    }\n",
              "\n",
              "    .dataframe thead th {\n",
              "        text-align: right;\n",
              "    }\n",
              "</style>\n",
              "<table border=\"1\" class=\"dataframe\">\n",
              "  <thead>\n",
              "    <tr style=\"text-align: right;\">\n",
              "      <th></th>\n",
              "      <th>Passengers</th>\n",
              "      <th>month</th>\n",
              "      <th>year</th>\n",
              "    </tr>\n",
              "    <tr>\n",
              "      <th>Month</th>\n",
              "      <th></th>\n",
              "      <th></th>\n",
              "      <th></th>\n",
              "    </tr>\n",
              "  </thead>\n",
              "  <tbody>\n",
              "    <tr>\n",
              "      <th>1949-01</th>\n",
              "      <td>-1.407779</td>\n",
              "      <td>0.083333</td>\n",
              "      <td>0.0</td>\n",
              "    </tr>\n",
              "    <tr>\n",
              "      <th>1949-02</th>\n",
              "      <td>-1.357590</td>\n",
              "      <td>0.166667</td>\n",
              "      <td>0.0</td>\n",
              "    </tr>\n",
              "    <tr>\n",
              "      <th>1949-03</th>\n",
              "      <td>-1.240483</td>\n",
              "      <td>0.250000</td>\n",
              "      <td>0.0</td>\n",
              "    </tr>\n",
              "    <tr>\n",
              "      <th>1949-04</th>\n",
              "      <td>-1.265578</td>\n",
              "      <td>0.333333</td>\n",
              "      <td>0.0</td>\n",
              "    </tr>\n",
              "    <tr>\n",
              "      <th>1949-05</th>\n",
              "      <td>-1.332496</td>\n",
              "      <td>0.416667</td>\n",
              "      <td>0.0</td>\n",
              "    </tr>\n",
              "    <tr>\n",
              "      <th>...</th>\n",
              "      <td>...</td>\n",
              "      <td>...</td>\n",
              "      <td>...</td>\n",
              "    </tr>\n",
              "    <tr>\n",
              "      <th>1960-08</th>\n",
              "      <td>2.724417</td>\n",
              "      <td>0.666667</td>\n",
              "      <td>1.0</td>\n",
              "    </tr>\n",
              "    <tr>\n",
              "      <th>1960-09</th>\n",
              "      <td>1.904669</td>\n",
              "      <td>0.750000</td>\n",
              "      <td>1.0</td>\n",
              "    </tr>\n",
              "    <tr>\n",
              "      <th>1960-10</th>\n",
              "      <td>1.511525</td>\n",
              "      <td>0.833333</td>\n",
              "      <td>1.0</td>\n",
              "    </tr>\n",
              "    <tr>\n",
              "      <th>1960-11</th>\n",
              "      <td>0.917627</td>\n",
              "      <td>0.916667</td>\n",
              "      <td>1.0</td>\n",
              "    </tr>\n",
              "    <tr>\n",
              "      <th>1960-12</th>\n",
              "      <td>1.268947</td>\n",
              "      <td>1.000000</td>\n",
              "      <td>1.0</td>\n",
              "    </tr>\n",
              "  </tbody>\n",
              "</table>\n",
              "<p>144 rows × 3 columns</p>\n",
              "</div>\n",
              "    <div class=\"colab-df-buttons\">\n",
              "\n",
              "  <div class=\"colab-df-container\">\n",
              "    <button class=\"colab-df-convert\" onclick=\"convertToInteractive('df-12469db0-612f-4d2a-b158-beb834347b97')\"\n",
              "            title=\"Convert this dataframe to an interactive table.\"\n",
              "            style=\"display:none;\">\n",
              "\n",
              "  <svg xmlns=\"http://www.w3.org/2000/svg\" height=\"24px\" viewBox=\"0 -960 960 960\">\n",
              "    <path d=\"M120-120v-720h720v720H120Zm60-500h600v-160H180v160Zm220 220h160v-160H400v160Zm0 220h160v-160H400v160ZM180-400h160v-160H180v160Zm440 0h160v-160H620v160ZM180-180h160v-160H180v160Zm440 0h160v-160H620v160Z\"/>\n",
              "  </svg>\n",
              "    </button>\n",
              "\n",
              "  <style>\n",
              "    .colab-df-container {\n",
              "      display:flex;\n",
              "      gap: 12px;\n",
              "    }\n",
              "\n",
              "    .colab-df-convert {\n",
              "      background-color: #E8F0FE;\n",
              "      border: none;\n",
              "      border-radius: 50%;\n",
              "      cursor: pointer;\n",
              "      display: none;\n",
              "      fill: #1967D2;\n",
              "      height: 32px;\n",
              "      padding: 0 0 0 0;\n",
              "      width: 32px;\n",
              "    }\n",
              "\n",
              "    .colab-df-convert:hover {\n",
              "      background-color: #E2EBFA;\n",
              "      box-shadow: 0px 1px 2px rgba(60, 64, 67, 0.3), 0px 1px 3px 1px rgba(60, 64, 67, 0.15);\n",
              "      fill: #174EA6;\n",
              "    }\n",
              "\n",
              "    .colab-df-buttons div {\n",
              "      margin-bottom: 4px;\n",
              "    }\n",
              "\n",
              "    [theme=dark] .colab-df-convert {\n",
              "      background-color: #3B4455;\n",
              "      fill: #D2E3FC;\n",
              "    }\n",
              "\n",
              "    [theme=dark] .colab-df-convert:hover {\n",
              "      background-color: #434B5C;\n",
              "      box-shadow: 0px 1px 3px 1px rgba(0, 0, 0, 0.15);\n",
              "      filter: drop-shadow(0px 1px 2px rgba(0, 0, 0, 0.3));\n",
              "      fill: #FFFFFF;\n",
              "    }\n",
              "  </style>\n",
              "\n",
              "    <script>\n",
              "      const buttonEl =\n",
              "        document.querySelector('#df-12469db0-612f-4d2a-b158-beb834347b97 button.colab-df-convert');\n",
              "      buttonEl.style.display =\n",
              "        google.colab.kernel.accessAllowed ? 'block' : 'none';\n",
              "\n",
              "      async function convertToInteractive(key) {\n",
              "        const element = document.querySelector('#df-12469db0-612f-4d2a-b158-beb834347b97');\n",
              "        const dataTable =\n",
              "          await google.colab.kernel.invokeFunction('convertToInteractive',\n",
              "                                                    [key], {});\n",
              "        if (!dataTable) return;\n",
              "\n",
              "        const docLinkHtml = 'Like what you see? Visit the ' +\n",
              "          '<a target=\"_blank\" href=https://colab.research.google.com/notebooks/data_table.ipynb>data table notebook</a>'\n",
              "          + ' to learn more about interactive tables.';\n",
              "        element.innerHTML = '';\n",
              "        dataTable['output_type'] = 'display_data';\n",
              "        await google.colab.output.renderOutput(dataTable, element);\n",
              "        const docLink = document.createElement('div');\n",
              "        docLink.innerHTML = docLinkHtml;\n",
              "        element.appendChild(docLink);\n",
              "      }\n",
              "    </script>\n",
              "  </div>\n",
              "\n",
              "\n",
              "<div id=\"df-b536fead-1b13-488f-bae6-41967f16f51b\">\n",
              "  <button class=\"colab-df-quickchart\" onclick=\"quickchart('df-b536fead-1b13-488f-bae6-41967f16f51b')\"\n",
              "            title=\"Suggest charts\"\n",
              "            style=\"display:none;\">\n",
              "\n",
              "<svg xmlns=\"http://www.w3.org/2000/svg\" height=\"24px\"viewBox=\"0 0 24 24\"\n",
              "     width=\"24px\">\n",
              "    <g>\n",
              "        <path d=\"M19 3H5c-1.1 0-2 .9-2 2v14c0 1.1.9 2 2 2h14c1.1 0 2-.9 2-2V5c0-1.1-.9-2-2-2zM9 17H7v-7h2v7zm4 0h-2V7h2v10zm4 0h-2v-4h2v4z\"/>\n",
              "    </g>\n",
              "</svg>\n",
              "  </button>\n",
              "\n",
              "<style>\n",
              "  .colab-df-quickchart {\n",
              "      --bg-color: #E8F0FE;\n",
              "      --fill-color: #1967D2;\n",
              "      --hover-bg-color: #E2EBFA;\n",
              "      --hover-fill-color: #174EA6;\n",
              "      --disabled-fill-color: #AAA;\n",
              "      --disabled-bg-color: #DDD;\n",
              "  }\n",
              "\n",
              "  [theme=dark] .colab-df-quickchart {\n",
              "      --bg-color: #3B4455;\n",
              "      --fill-color: #D2E3FC;\n",
              "      --hover-bg-color: #434B5C;\n",
              "      --hover-fill-color: #FFFFFF;\n",
              "      --disabled-bg-color: #3B4455;\n",
              "      --disabled-fill-color: #666;\n",
              "  }\n",
              "\n",
              "  .colab-df-quickchart {\n",
              "    background-color: var(--bg-color);\n",
              "    border: none;\n",
              "    border-radius: 50%;\n",
              "    cursor: pointer;\n",
              "    display: none;\n",
              "    fill: var(--fill-color);\n",
              "    height: 32px;\n",
              "    padding: 0;\n",
              "    width: 32px;\n",
              "  }\n",
              "\n",
              "  .colab-df-quickchart:hover {\n",
              "    background-color: var(--hover-bg-color);\n",
              "    box-shadow: 0 1px 2px rgba(60, 64, 67, 0.3), 0 1px 3px 1px rgba(60, 64, 67, 0.15);\n",
              "    fill: var(--button-hover-fill-color);\n",
              "  }\n",
              "\n",
              "  .colab-df-quickchart-complete:disabled,\n",
              "  .colab-df-quickchart-complete:disabled:hover {\n",
              "    background-color: var(--disabled-bg-color);\n",
              "    fill: var(--disabled-fill-color);\n",
              "    box-shadow: none;\n",
              "  }\n",
              "\n",
              "  .colab-df-spinner {\n",
              "    border: 2px solid var(--fill-color);\n",
              "    border-color: transparent;\n",
              "    border-bottom-color: var(--fill-color);\n",
              "    animation:\n",
              "      spin 1s steps(1) infinite;\n",
              "  }\n",
              "\n",
              "  @keyframes spin {\n",
              "    0% {\n",
              "      border-color: transparent;\n",
              "      border-bottom-color: var(--fill-color);\n",
              "      border-left-color: var(--fill-color);\n",
              "    }\n",
              "    20% {\n",
              "      border-color: transparent;\n",
              "      border-left-color: var(--fill-color);\n",
              "      border-top-color: var(--fill-color);\n",
              "    }\n",
              "    30% {\n",
              "      border-color: transparent;\n",
              "      border-left-color: var(--fill-color);\n",
              "      border-top-color: var(--fill-color);\n",
              "      border-right-color: var(--fill-color);\n",
              "    }\n",
              "    40% {\n",
              "      border-color: transparent;\n",
              "      border-right-color: var(--fill-color);\n",
              "      border-top-color: var(--fill-color);\n",
              "    }\n",
              "    60% {\n",
              "      border-color: transparent;\n",
              "      border-right-color: var(--fill-color);\n",
              "    }\n",
              "    80% {\n",
              "      border-color: transparent;\n",
              "      border-right-color: var(--fill-color);\n",
              "      border-bottom-color: var(--fill-color);\n",
              "    }\n",
              "    90% {\n",
              "      border-color: transparent;\n",
              "      border-bottom-color: var(--fill-color);\n",
              "    }\n",
              "  }\n",
              "</style>\n",
              "\n",
              "  <script>\n",
              "    async function quickchart(key) {\n",
              "      const quickchartButtonEl =\n",
              "        document.querySelector('#' + key + ' button');\n",
              "      quickchartButtonEl.disabled = true;  // To prevent multiple clicks.\n",
              "      quickchartButtonEl.classList.add('colab-df-spinner');\n",
              "      try {\n",
              "        const charts = await google.colab.kernel.invokeFunction(\n",
              "            'suggestCharts', [key], {});\n",
              "      } catch (error) {\n",
              "        console.error('Error during call to suggestCharts:', error);\n",
              "      }\n",
              "      quickchartButtonEl.classList.remove('colab-df-spinner');\n",
              "      quickchartButtonEl.classList.add('colab-df-quickchart-complete');\n",
              "    }\n",
              "    (() => {\n",
              "      let quickchartButtonEl =\n",
              "        document.querySelector('#df-b536fead-1b13-488f-bae6-41967f16f51b button');\n",
              "      quickchartButtonEl.style.display =\n",
              "        google.colab.kernel.accessAllowed ? 'block' : 'none';\n",
              "    })();\n",
              "  </script>\n",
              "</div>\n",
              "    </div>\n",
              "  </div>\n"
            ]
          },
          "metadata": {},
          "execution_count": 50
        }
      ]
    },
    {
      "cell_type": "code",
      "source": [
        "df = df.reset_index()\n",
        "df.drop(['Month'], axis=1, inplace=True)"
      ],
      "metadata": {
        "id": "K0Qd-r6KFOiZ"
      },
      "execution_count": null,
      "outputs": []
    },
    {
      "cell_type": "code",
      "source": [
        "df.head()"
      ],
      "metadata": {
        "colab": {
          "base_uri": "https://localhost:8080/",
          "height": 206
        },
        "id": "t_UfdEKdFbXh",
        "outputId": "84017b61-19fe-4c5c-820a-74e24e111f1a"
      },
      "execution_count": null,
      "outputs": [
        {
          "output_type": "execute_result",
          "data": {
            "text/plain": [
              "   Passengers     month  year\n",
              "0   -1.407779  0.083333   0.0\n",
              "1   -1.357590  0.166667   0.0\n",
              "2   -1.240483  0.250000   0.0\n",
              "3   -1.265578  0.333333   0.0\n",
              "4   -1.332496  0.416667   0.0"
            ],
            "text/html": [
              "\n",
              "  <div id=\"df-a03bc39e-50d1-48fb-861d-f18cf48f5c41\" class=\"colab-df-container\">\n",
              "    <div>\n",
              "<style scoped>\n",
              "    .dataframe tbody tr th:only-of-type {\n",
              "        vertical-align: middle;\n",
              "    }\n",
              "\n",
              "    .dataframe tbody tr th {\n",
              "        vertical-align: top;\n",
              "    }\n",
              "\n",
              "    .dataframe thead th {\n",
              "        text-align: right;\n",
              "    }\n",
              "</style>\n",
              "<table border=\"1\" class=\"dataframe\">\n",
              "  <thead>\n",
              "    <tr style=\"text-align: right;\">\n",
              "      <th></th>\n",
              "      <th>Passengers</th>\n",
              "      <th>month</th>\n",
              "      <th>year</th>\n",
              "    </tr>\n",
              "  </thead>\n",
              "  <tbody>\n",
              "    <tr>\n",
              "      <th>0</th>\n",
              "      <td>-1.407779</td>\n",
              "      <td>0.083333</td>\n",
              "      <td>0.0</td>\n",
              "    </tr>\n",
              "    <tr>\n",
              "      <th>1</th>\n",
              "      <td>-1.357590</td>\n",
              "      <td>0.166667</td>\n",
              "      <td>0.0</td>\n",
              "    </tr>\n",
              "    <tr>\n",
              "      <th>2</th>\n",
              "      <td>-1.240483</td>\n",
              "      <td>0.250000</td>\n",
              "      <td>0.0</td>\n",
              "    </tr>\n",
              "    <tr>\n",
              "      <th>3</th>\n",
              "      <td>-1.265578</td>\n",
              "      <td>0.333333</td>\n",
              "      <td>0.0</td>\n",
              "    </tr>\n",
              "    <tr>\n",
              "      <th>4</th>\n",
              "      <td>-1.332496</td>\n",
              "      <td>0.416667</td>\n",
              "      <td>0.0</td>\n",
              "    </tr>\n",
              "  </tbody>\n",
              "</table>\n",
              "</div>\n",
              "    <div class=\"colab-df-buttons\">\n",
              "\n",
              "  <div class=\"colab-df-container\">\n",
              "    <button class=\"colab-df-convert\" onclick=\"convertToInteractive('df-a03bc39e-50d1-48fb-861d-f18cf48f5c41')\"\n",
              "            title=\"Convert this dataframe to an interactive table.\"\n",
              "            style=\"display:none;\">\n",
              "\n",
              "  <svg xmlns=\"http://www.w3.org/2000/svg\" height=\"24px\" viewBox=\"0 -960 960 960\">\n",
              "    <path d=\"M120-120v-720h720v720H120Zm60-500h600v-160H180v160Zm220 220h160v-160H400v160Zm0 220h160v-160H400v160ZM180-400h160v-160H180v160Zm440 0h160v-160H620v160ZM180-180h160v-160H180v160Zm440 0h160v-160H620v160Z\"/>\n",
              "  </svg>\n",
              "    </button>\n",
              "\n",
              "  <style>\n",
              "    .colab-df-container {\n",
              "      display:flex;\n",
              "      gap: 12px;\n",
              "    }\n",
              "\n",
              "    .colab-df-convert {\n",
              "      background-color: #E8F0FE;\n",
              "      border: none;\n",
              "      border-radius: 50%;\n",
              "      cursor: pointer;\n",
              "      display: none;\n",
              "      fill: #1967D2;\n",
              "      height: 32px;\n",
              "      padding: 0 0 0 0;\n",
              "      width: 32px;\n",
              "    }\n",
              "\n",
              "    .colab-df-convert:hover {\n",
              "      background-color: #E2EBFA;\n",
              "      box-shadow: 0px 1px 2px rgba(60, 64, 67, 0.3), 0px 1px 3px 1px rgba(60, 64, 67, 0.15);\n",
              "      fill: #174EA6;\n",
              "    }\n",
              "\n",
              "    .colab-df-buttons div {\n",
              "      margin-bottom: 4px;\n",
              "    }\n",
              "\n",
              "    [theme=dark] .colab-df-convert {\n",
              "      background-color: #3B4455;\n",
              "      fill: #D2E3FC;\n",
              "    }\n",
              "\n",
              "    [theme=dark] .colab-df-convert:hover {\n",
              "      background-color: #434B5C;\n",
              "      box-shadow: 0px 1px 3px 1px rgba(0, 0, 0, 0.15);\n",
              "      filter: drop-shadow(0px 1px 2px rgba(0, 0, 0, 0.3));\n",
              "      fill: #FFFFFF;\n",
              "    }\n",
              "  </style>\n",
              "\n",
              "    <script>\n",
              "      const buttonEl =\n",
              "        document.querySelector('#df-a03bc39e-50d1-48fb-861d-f18cf48f5c41 button.colab-df-convert');\n",
              "      buttonEl.style.display =\n",
              "        google.colab.kernel.accessAllowed ? 'block' : 'none';\n",
              "\n",
              "      async function convertToInteractive(key) {\n",
              "        const element = document.querySelector('#df-a03bc39e-50d1-48fb-861d-f18cf48f5c41');\n",
              "        const dataTable =\n",
              "          await google.colab.kernel.invokeFunction('convertToInteractive',\n",
              "                                                    [key], {});\n",
              "        if (!dataTable) return;\n",
              "\n",
              "        const docLinkHtml = 'Like what you see? Visit the ' +\n",
              "          '<a target=\"_blank\" href=https://colab.research.google.com/notebooks/data_table.ipynb>data table notebook</a>'\n",
              "          + ' to learn more about interactive tables.';\n",
              "        element.innerHTML = '';\n",
              "        dataTable['output_type'] = 'display_data';\n",
              "        await google.colab.output.renderOutput(dataTable, element);\n",
              "        const docLink = document.createElement('div');\n",
              "        docLink.innerHTML = docLinkHtml;\n",
              "        element.appendChild(docLink);\n",
              "      }\n",
              "    </script>\n",
              "  </div>\n",
              "\n",
              "\n",
              "<div id=\"df-3ec49a42-2062-4d6a-87be-c4cb89b502cf\">\n",
              "  <button class=\"colab-df-quickchart\" onclick=\"quickchart('df-3ec49a42-2062-4d6a-87be-c4cb89b502cf')\"\n",
              "            title=\"Suggest charts\"\n",
              "            style=\"display:none;\">\n",
              "\n",
              "<svg xmlns=\"http://www.w3.org/2000/svg\" height=\"24px\"viewBox=\"0 0 24 24\"\n",
              "     width=\"24px\">\n",
              "    <g>\n",
              "        <path d=\"M19 3H5c-1.1 0-2 .9-2 2v14c0 1.1.9 2 2 2h14c1.1 0 2-.9 2-2V5c0-1.1-.9-2-2-2zM9 17H7v-7h2v7zm4 0h-2V7h2v10zm4 0h-2v-4h2v4z\"/>\n",
              "    </g>\n",
              "</svg>\n",
              "  </button>\n",
              "\n",
              "<style>\n",
              "  .colab-df-quickchart {\n",
              "      --bg-color: #E8F0FE;\n",
              "      --fill-color: #1967D2;\n",
              "      --hover-bg-color: #E2EBFA;\n",
              "      --hover-fill-color: #174EA6;\n",
              "      --disabled-fill-color: #AAA;\n",
              "      --disabled-bg-color: #DDD;\n",
              "  }\n",
              "\n",
              "  [theme=dark] .colab-df-quickchart {\n",
              "      --bg-color: #3B4455;\n",
              "      --fill-color: #D2E3FC;\n",
              "      --hover-bg-color: #434B5C;\n",
              "      --hover-fill-color: #FFFFFF;\n",
              "      --disabled-bg-color: #3B4455;\n",
              "      --disabled-fill-color: #666;\n",
              "  }\n",
              "\n",
              "  .colab-df-quickchart {\n",
              "    background-color: var(--bg-color);\n",
              "    border: none;\n",
              "    border-radius: 50%;\n",
              "    cursor: pointer;\n",
              "    display: none;\n",
              "    fill: var(--fill-color);\n",
              "    height: 32px;\n",
              "    padding: 0;\n",
              "    width: 32px;\n",
              "  }\n",
              "\n",
              "  .colab-df-quickchart:hover {\n",
              "    background-color: var(--hover-bg-color);\n",
              "    box-shadow: 0 1px 2px rgba(60, 64, 67, 0.3), 0 1px 3px 1px rgba(60, 64, 67, 0.15);\n",
              "    fill: var(--button-hover-fill-color);\n",
              "  }\n",
              "\n",
              "  .colab-df-quickchart-complete:disabled,\n",
              "  .colab-df-quickchart-complete:disabled:hover {\n",
              "    background-color: var(--disabled-bg-color);\n",
              "    fill: var(--disabled-fill-color);\n",
              "    box-shadow: none;\n",
              "  }\n",
              "\n",
              "  .colab-df-spinner {\n",
              "    border: 2px solid var(--fill-color);\n",
              "    border-color: transparent;\n",
              "    border-bottom-color: var(--fill-color);\n",
              "    animation:\n",
              "      spin 1s steps(1) infinite;\n",
              "  }\n",
              "\n",
              "  @keyframes spin {\n",
              "    0% {\n",
              "      border-color: transparent;\n",
              "      border-bottom-color: var(--fill-color);\n",
              "      border-left-color: var(--fill-color);\n",
              "    }\n",
              "    20% {\n",
              "      border-color: transparent;\n",
              "      border-left-color: var(--fill-color);\n",
              "      border-top-color: var(--fill-color);\n",
              "    }\n",
              "    30% {\n",
              "      border-color: transparent;\n",
              "      border-left-color: var(--fill-color);\n",
              "      border-top-color: var(--fill-color);\n",
              "      border-right-color: var(--fill-color);\n",
              "    }\n",
              "    40% {\n",
              "      border-color: transparent;\n",
              "      border-right-color: var(--fill-color);\n",
              "      border-top-color: var(--fill-color);\n",
              "    }\n",
              "    60% {\n",
              "      border-color: transparent;\n",
              "      border-right-color: var(--fill-color);\n",
              "    }\n",
              "    80% {\n",
              "      border-color: transparent;\n",
              "      border-right-color: var(--fill-color);\n",
              "      border-bottom-color: var(--fill-color);\n",
              "    }\n",
              "    90% {\n",
              "      border-color: transparent;\n",
              "      border-bottom-color: var(--fill-color);\n",
              "    }\n",
              "  }\n",
              "</style>\n",
              "\n",
              "  <script>\n",
              "    async function quickchart(key) {\n",
              "      const quickchartButtonEl =\n",
              "        document.querySelector('#' + key + ' button');\n",
              "      quickchartButtonEl.disabled = true;  // To prevent multiple clicks.\n",
              "      quickchartButtonEl.classList.add('colab-df-spinner');\n",
              "      try {\n",
              "        const charts = await google.colab.kernel.invokeFunction(\n",
              "            'suggestCharts', [key], {});\n",
              "      } catch (error) {\n",
              "        console.error('Error during call to suggestCharts:', error);\n",
              "      }\n",
              "      quickchartButtonEl.classList.remove('colab-df-spinner');\n",
              "      quickchartButtonEl.classList.add('colab-df-quickchart-complete');\n",
              "    }\n",
              "    (() => {\n",
              "      let quickchartButtonEl =\n",
              "        document.querySelector('#df-3ec49a42-2062-4d6a-87be-c4cb89b502cf button');\n",
              "      quickchartButtonEl.style.display =\n",
              "        google.colab.kernel.accessAllowed ? 'block' : 'none';\n",
              "    })();\n",
              "  </script>\n",
              "</div>\n",
              "    </div>\n",
              "  </div>\n"
            ]
          },
          "metadata": {},
          "execution_count": 52
        }
      ]
    },
    {
      "cell_type": "code",
      "source": [
        "# Список признаков\n",
        "channelIndexes = [0, 1, 2]\n",
        "# Длина трейна\n",
        "trainLen = 116\n",
        "# Длина истории для работы\n",
        "xLen = 6\n",
        "# Отступ тестов от тренировок\n",
        "bias = 10\n",
        "\n",
        "# Делим\n",
        "train_data = df.iloc[0:trainLen, channelIndexes]\n",
        "# train_data = df.iloc[0:trainLen - bias, channelIndexes]\n",
        "val_data = df.iloc[trainLen:, channelIndexes]"
      ],
      "metadata": {
        "id": "KkviYBubtKff"
      },
      "execution_count": null,
      "outputs": []
    },
    {
      "cell_type": "code",
      "source": [
        "# Формируем параметры для генерации выборки\n",
        "\n",
        "# Шаг по данным для построения обучающих примеров\n",
        "step = 1\n",
        "\n",
        "# Длина прошлого\n",
        "past = xLen\n",
        "p = past\n",
        "\n",
        "# горизонт предсказания\n",
        "future = 1\n",
        "h = future\n",
        "\n",
        "# параметры модели для обучения\n",
        "learning_rate = 0.001\n",
        "batch_size = 32\n",
        "epochs = 10"
      ],
      "metadata": {
        "id": "EWB1TNIwDJG5"
      },
      "execution_count": null,
      "outputs": []
    },
    {
      "cell_type": "markdown",
      "source": [
        "Выделяем части на обучение и проверку"
      ],
      "metadata": {
        "id": "Y0D6PniFC2ad"
      }
    },
    {
      "cell_type": "code",
      "source": [
        "Chanel_numb = len(channelIndexes) # 3\n",
        "start = xLen + future # 14+1=15\n",
        "end = start + trainLen - 1 # 15 + 116 -1 = 131\n",
        "xTrain_df = train_data.iloc[:- future - xLen + 1, :] # сдвиг по времени для предсказания (закончить чуть раньше)\n",
        "xTrain = xTrain_df[[train_data.columns[i] for i in range(Chanel_numb)]].values\n",
        "yTrain = train_data.iloc[future + xLen -1:, 0].values # Сдвиг по времени для предсказания (начать чуть позднее)\n",
        "xVal_df = val_data.iloc[: - future - xLen +1, :] # сдвиг по времени для предсказания (закончить чуть раньше)\n",
        "xVal = xVal_df[[val_data.columns[i] for i in range(Chanel_numb)]].values\n",
        "yVal = val_data.iloc[future + xLen -1:, 0].values # Сдвиг по времени для предсказания (начать чуть позднее)\n",
        "\n",
        "xTrain.shape, yTrain.shape"
      ],
      "metadata": {
        "colab": {
          "base_uri": "https://localhost:8080/"
        },
        "id": "wZX1X1unn4tz",
        "outputId": "66fe0056-5c1b-4ed6-9a2a-2c493b45266c"
      },
      "execution_count": null,
      "outputs": [
        {
          "output_type": "execute_result",
          "data": {
            "text/plain": [
              "((110, 3), (110,))"
            ]
          },
          "metadata": {},
          "execution_count": 55
        }
      ]
    },
    {
      "cell_type": "code",
      "source": [
        "xVal.shape, yVal.shape"
      ],
      "metadata": {
        "colab": {
          "base_uri": "https://localhost:8080/"
        },
        "id": "fr_jFg3RCz25",
        "outputId": "9015b05a-7d93-457f-ab39-38fcb2aa630e"
      },
      "execution_count": null,
      "outputs": [
        {
          "output_type": "execute_result",
          "data": {
            "text/plain": [
              "((22, 3), (22,))"
            ]
          },
          "metadata": {},
          "execution_count": 56
        }
      ]
    },
    {
      "cell_type": "code",
      "source": [
        "plt.figure(figsize = (20,5))\n",
        "plt.plot(df.index[xLen:yTrain.shape[0] + xLen], yTrain[:])\n",
        "# plt.plot(df.index[yTrain.shape[0] + bias + future + 2*xLen -1:], yVal[:])\n",
        "plt.plot(df.index[yTrain.shape[0] + future + 2*xLen -1:], yVal[:])\n",
        "plt.grid()\n",
        "plt.xlabel('t, месяцы')\n",
        "plt.ylabel('Пассажиры')\n",
        "plt.title('Airpassengers')"
      ],
      "metadata": {
        "colab": {
          "base_uri": "https://localhost:8080/",
          "height": 443
        },
        "id": "O8J5OjBkC0Va",
        "outputId": "2959bd8f-7d0a-49b8-dc77-64816e3219ab"
      },
      "execution_count": null,
      "outputs": [
        {
          "output_type": "execute_result",
          "data": {
            "text/plain": [
              "Text(0.5, 1.0, 'Airpassengers')"
            ]
          },
          "metadata": {},
          "execution_count": 57
        },
        {
          "output_type": "display_data",
          "data": {
            "text/plain": [
              "<Figure size 2000x500 with 1 Axes>"
            ],
            "image/png": "[encoded data removed]"
          },
          "metadata": {}
        }
      ]
    },
    {
      "cell_type": "code",
      "source": [
        "dataset_train = keras.preprocessing.timeseries_dataset_from_array(\n",
        "    xTrain,\n",
        "    yTrain,\n",
        "    sequence_length = xLen,\n",
        "    sampling_rate = 1,\n",
        "    batch_size = batch_size,\n",
        ")\n",
        "dataset_val = keras.preprocessing.timeseries_dataset_from_array(\n",
        "    xVal,\n",
        "    yVal,\n",
        "    sequence_length = xLen,\n",
        "    sampling_rate = 1,\n",
        "    batch_size = batch_size,\n",
        ")"
      ],
      "metadata": {
        "id": "km1cJpj7I_MA"
      },
      "execution_count": null,
      "outputs": []
    },
    {
      "cell_type": "code",
      "source": [
        "# Проверим, что все верно (для X[i, xLen, :] y[i] - необходимо контролировать, что X[i, xLen, 0] не входи y[i]\n",
        "for batch in dataset_val.take(2):\n",
        "\tinputs, targets = batch\n",
        "print('Input shape:', inputs.numpy().shape)\n",
        "print('Target shape:', targets.numpy().shape)"
      ],
      "metadata": {
        "colab": {
          "base_uri": "https://localhost:8080/"
        },
        "id": "nUKmNN-zC0nX",
        "outputId": "c1f86401-cec8-4bd0-9da7-865d309b7c9a"
      },
      "execution_count": null,
      "outputs": [
        {
          "output_type": "stream",
          "name": "stdout",
          "text": [
            "Input shape: (17, 6, 3)\n",
            "Target shape: (17,)\n"
          ]
        }
      ]
    },
    {
      "cell_type": "code",
      "source": [
        "callback = EarlyStopping(monitor='val_mae', patience=0)\n",
        "model = Sequential()\n",
        "model.add(LSTM(64, input_shape = (inputs.shape[1], inputs.shape[2]), return_sequences='True'))\n",
        "model.add(LSTM(64, return_sequences = 'True'))\n",
        "model.add(Conv1D(64, 3, activation = 'linear'))\n",
        "model.add(Flatten())\n",
        "model.add(Dense(3, activation = 'linear'))\n",
        "model.add(Dense(1, activation = 'linear'))\n",
        "model.compile(loss = 'mse', optimizer = 'adam', metrics = ['mae'])\n",
        "\n",
        "history = model.fit(dataset_train, epochs = epochs, validation_data = dataset_val, callbacks = [callback])"
      ],
      "metadata": {
        "colab": {
          "base_uri": "https://localhost:8080/"
        },
        "id": "67Bn4a65LO-Z",
        "outputId": "91622cf7-9f1e-4d76-c8c6-30ee359f82ce"
      },
      "execution_count": null,
      "outputs": [
        {
          "output_type": "stream",
          "name": "stdout",
          "text": [
            "Epoch 1/10\n",
            "4/4 [==============================] - 7s 443ms/step - loss: 0.5673 - mae: 0.6376 - val_loss: 2.3428 - val_mae: 1.4158\n",
            "Epoch 2/10\n",
            "4/4 [==============================] - 0s 47ms/step - loss: 0.3482 - mae: 0.4837 - val_loss: 1.6801 - val_mae: 1.1417\n",
            "Epoch 3/10\n",
            "4/4 [==============================] - 0s 27ms/step - loss: 0.2150 - mae: 0.3765 - val_loss: 0.9741 - val_mae: 0.7969\n",
            "Epoch 4/10\n",
            "4/4 [==============================] - 0s 26ms/step - loss: 0.1545 - mae: 0.3213 - val_loss: 0.6000 - val_mae: 0.6649\n",
            "Epoch 5/10\n",
            "4/4 [==============================] - 0s 26ms/step - loss: 0.1500 - mae: 0.3238 - val_loss: 0.5436 - val_mae: 0.6234\n",
            "Epoch 6/10\n",
            "4/4 [==============================] - 0s 25ms/step - loss: 0.1202 - mae: 0.2815 - val_loss: 0.6434 - val_mae: 0.6444\n"
          ]
        }
      ]
    },
    {
      "cell_type": "code",
      "source": [
        "plt.plot(history.history['mae'][1:], label = 'Средняя абсолютная ошибка на обучающем наборе')\n",
        "plt.plot(history.history['val_mae'][1:], label = 'Средняя абсолютная ошибка на проверочном наборе')\n",
        "plt.ylabel('Средняя ошибка')\n",
        "plt.legend()\n",
        "plt.show()"
      ],
      "metadata": {
        "colab": {
          "base_uri": "https://localhost:8080/",
          "height": 430
        },
        "id": "IRvUCT3iA-sp",
        "outputId": "03be61f5-2ff1-45cd-cfb2-3af8fe48011d"
      },
      "execution_count": null,
      "outputs": [
        {
          "output_type": "display_data",
          "data": {
            "text/plain": [
              "<Figure size 640x480 with 1 Axes>"
            ],
            "image/png": "[encoded data removed]"
          },
          "metadata": {}
        }
      ]
    },
    {
      "cell_type": "code",
      "source": [
        "callback = EarlyStopping(monitor = 'val_mae', patience = 5)\n",
        "\n",
        "model = Sequential()\n",
        "model.add(LSTM(64, input_shape = (inputs.shape[1], inputs.shape[2]), return_sequences = 'True'))\n",
        "model.add(Flatten())\n",
        "model.add(Dense(8, activation='linear'))\n",
        "model.add(Dense(1, activation='linear'))\n",
        "model.compile(loss = 'mse', optimizer = Adam(learning_rate=0.000175), metrics = ['mae'])\n",
        "\n",
        "history = model.fit(dataset_train, epochs=250, validation_data=dataset_val, callbacks=[callback])"
      ],
      "metadata": {
        "colab": {
          "base_uri": "https://localhost:8080/"
        },
        "id": "mAL204DiBAR9",
        "outputId": "724f9b07-5796-4e9e-d3a8-7eec7b0331d3"
      },
      "execution_count": null,
      "outputs": [
        {
          "output_type": "stream",
          "name": "stdout",
          "text": [
            "Epoch 1/250\n",
            "4/4 [==============================] - 3s 155ms/step - loss: 0.6266 - mae: 0.6800 - val_loss: 2.6239 - val_mae: 1.5182\n",
            "Epoch 2/250\n",
            "4/4 [==============================] - 0s 24ms/step - loss: 0.5737 - mae: 0.6493 - val_loss: 2.5039 - val_mae: 1.4783\n",
            "Epoch 3/250\n",
            "4/4 [==============================] - 0s 25ms/step - loss: 0.5324 - mae: 0.6241 - val_loss: 2.3819 - val_mae: 1.4364\n",
            "Epoch 4/250\n",
            "4/4 [==============================] - 0s 24ms/step - loss: 0.4946 - mae: 0.5999 - val_loss: 2.2622 - val_mae: 1.3939\n",
            "Epoch 5/250\n",
            "4/4 [==============================] - 0s 24ms/step - loss: 0.4594 - mae: 0.5763 - val_loss: 2.1459 - val_mae: 1.3513\n",
            "Epoch 6/250\n",
            "4/4 [==============================] - 0s 26ms/step - loss: 0.4264 - mae: 0.5533 - val_loss: 2.0337 - val_mae: 1.3087\n",
            "Epoch 7/250\n",
            "4/4 [==============================] - 0s 24ms/step - loss: 0.3953 - mae: 0.5306 - val_loss: 1.9257 - val_mae: 1.2662\n",
            "Epoch 8/250\n",
            "4/4 [==============================] - 0s 23ms/step - loss: 0.3661 - mae: 0.5085 - val_loss: 1.8221 - val_mae: 1.2240\n",
            "Epoch 9/250\n",
            "4/4 [==============================] - 0s 23ms/step - loss: 0.3387 - mae: 0.4871 - val_loss: 1.7227 - val_mae: 1.1819\n",
            "Epoch 10/250\n",
            "4/4 [==============================] - 0s 26ms/step - loss: 0.3130 - mae: 0.4671 - val_loss: 1.6277 - val_mae: 1.1401\n",
            "Epoch 11/250\n",
            "4/4 [==============================] - 0s 23ms/step - loss: 0.2890 - mae: 0.4475 - val_loss: 1.5369 - val_mae: 1.0985\n",
            "Epoch 12/250\n",
            "4/4 [==============================] - 0s 24ms/step - loss: 0.2666 - mae: 0.4279 - val_loss: 1.4505 - val_mae: 1.0573\n",
            "Epoch 13/250\n",
            "4/4 [==============================] - 0s 23ms/step - loss: 0.2459 - mae: 0.4085 - val_loss: 1.3683 - val_mae: 1.0164\n",
            "Epoch 14/250\n",
            "4/4 [==============================] - 0s 24ms/step - loss: 0.2267 - mae: 0.3900 - val_loss: 1.2905 - val_mae: 0.9760\n",
            "Epoch 15/250\n",
            "4/4 [==============================] - 0s 26ms/step - loss: 0.2092 - mae: 0.3727 - val_loss: 1.2172 - val_mae: 0.9368\n",
            "Epoch 16/250\n",
            "4/4 [==============================] - 0s 24ms/step - loss: 0.1932 - mae: 0.3565 - val_loss: 1.1483 - val_mae: 0.9038\n",
            "Epoch 17/250\n",
            "4/4 [==============================] - 0s 24ms/step - loss: 0.1788 - mae: 0.3418 - val_loss: 1.0840 - val_mae: 0.8715\n",
            "Epoch 18/250\n",
            "4/4 [==============================] - 0s 24ms/step - loss: 0.1660 - mae: 0.3280 - val_loss: 1.0243 - val_mae: 0.8400\n",
            "Epoch 19/250\n",
            "4/4 [==============================] - 0s 23ms/step - loss: 0.1546 - mae: 0.3155 - val_loss: 0.9693 - val_mae: 0.8095\n",
            "Epoch 20/250\n",
            "4/4 [==============================] - 0s 27ms/step - loss: 0.1448 - mae: 0.3046 - val_loss: 0.9188 - val_mae: 0.7803\n",
            "Epoch 21/250\n",
            "4/4 [==============================] - 0s 25ms/step - loss: 0.1362 - mae: 0.2947 - val_loss: 0.8730 - val_mae: 0.7524\n",
            "Epoch 22/250\n",
            "4/4 [==============================] - 0s 23ms/step - loss: 0.1290 - mae: 0.2859 - val_loss: 0.8316 - val_mae: 0.7261\n",
            "Epoch 23/250\n",
            "4/4 [==============================] - 0s 26ms/step - loss: 0.1229 - mae: 0.2783 - val_loss: 0.7946 - val_mae: 0.7032\n",
            "Epoch 24/250\n",
            "4/4 [==============================] - 0s 26ms/step - loss: 0.1179 - mae: 0.2716 - val_loss: 0.7617 - val_mae: 0.6857\n",
            "Epoch 25/250\n",
            "4/4 [==============================] - 0s 24ms/step - loss: 0.1138 - mae: 0.2658 - val_loss: 0.7327 - val_mae: 0.6731\n",
            "Epoch 26/250\n",
            "4/4 [==============================] - 0s 26ms/step - loss: 0.1104 - mae: 0.2608 - val_loss: 0.7074 - val_mae: 0.6631\n",
            "Epoch 27/250\n",
            "4/4 [==============================] - 0s 24ms/step - loss: 0.1077 - mae: 0.2565 - val_loss: 0.6854 - val_mae: 0.6540\n",
            "Epoch 28/250\n",
            "4/4 [==============================] - 0s 24ms/step - loss: 0.1055 - mae: 0.2528 - val_loss: 0.6665 - val_mae: 0.6458\n",
            "Epoch 29/250\n",
            "4/4 [==============================] - 0s 24ms/step - loss: 0.1036 - mae: 0.2497 - val_loss: 0.6502 - val_mae: 0.6388\n",
            "Epoch 30/250\n",
            "4/4 [==============================] - 0s 24ms/step - loss: 0.1021 - mae: 0.2474 - val_loss: 0.6363 - val_mae: 0.6336\n",
            "Epoch 31/250\n",
            "4/4 [==============================] - 0s 24ms/step - loss: 0.1007 - mae: 0.2455 - val_loss: 0.6245 - val_mae: 0.6288\n",
            "Epoch 32/250\n",
            "4/4 [==============================] - 0s 26ms/step - loss: 0.0995 - mae: 0.2438 - val_loss: 0.6144 - val_mae: 0.6244\n",
            "Epoch 33/250\n",
            "4/4 [==============================] - 0s 23ms/step - loss: 0.0984 - mae: 0.2421 - val_loss: 0.6059 - val_mae: 0.6203\n",
            "Epoch 34/250\n",
            "4/4 [==============================] - 0s 27ms/step - loss: 0.0974 - mae: 0.2406 - val_loss: 0.5986 - val_mae: 0.6165\n",
            "Epoch 35/250\n",
            "4/4 [==============================] - 0s 25ms/step - loss: 0.0964 - mae: 0.2391 - val_loss: 0.5923 - val_mae: 0.6130\n",
            "Epoch 36/250\n",
            "4/4 [==============================] - 0s 25ms/step - loss: 0.0955 - mae: 0.2377 - val_loss: 0.5869 - val_mae: 0.6098\n",
            "Epoch 37/250\n",
            "4/4 [==============================] - 0s 24ms/step - loss: 0.0946 - mae: 0.2364 - val_loss: 0.5821 - val_mae: 0.6067\n",
            "Epoch 38/250\n",
            "4/4 [==============================] - 0s 23ms/step - loss: 0.0937 - mae: 0.2351 - val_loss: 0.5778 - val_mae: 0.6037\n",
            "Epoch 39/250\n",
            "4/4 [==============================] - 0s 26ms/step - loss: 0.0928 - mae: 0.2338 - val_loss: 0.5738 - val_mae: 0.6009\n",
            "Epoch 40/250\n",
            "4/4 [==============================] - 0s 25ms/step - loss: 0.0920 - mae: 0.2326 - val_loss: 0.5701 - val_mae: 0.5981\n",
            "Epoch 41/250\n",
            "4/4 [==============================] - 0s 23ms/step - loss: 0.0911 - mae: 0.2313 - val_loss: 0.5666 - val_mae: 0.5954\n",
            "Epoch 42/250\n",
            "4/4 [==============================] - 0s 24ms/step - loss: 0.0903 - mae: 0.2301 - val_loss: 0.5632 - val_mae: 0.5930\n",
            "Epoch 43/250\n",
            "4/4 [==============================] - 0s 28ms/step - loss: 0.0894 - mae: 0.2288 - val_loss: 0.5598 - val_mae: 0.5909\n",
            "Epoch 44/250\n",
            "4/4 [==============================] - 0s 24ms/step - loss: 0.0886 - mae: 0.2275 - val_loss: 0.5565 - val_mae: 0.5889\n",
            "Epoch 45/250\n",
            "4/4 [==============================] - 0s 26ms/step - loss: 0.0878 - mae: 0.2262 - val_loss: 0.5531 - val_mae: 0.5869\n",
            "Epoch 46/250\n",
            "4/4 [==============================] - 0s 23ms/step - loss: 0.0870 - mae: 0.2249 - val_loss: 0.5497 - val_mae: 0.5848\n",
            "Epoch 47/250\n",
            "4/4 [==============================] - 0s 24ms/step - loss: 0.0862 - mae: 0.2236 - val_loss: 0.5462 - val_mae: 0.5827\n",
            "Epoch 48/250\n",
            "4/4 [==============================] - 0s 24ms/step - loss: 0.0853 - mae: 0.2223 - val_loss: 0.5428 - val_mae: 0.5806\n",
            "Epoch 49/250\n",
            "4/4 [==============================] - 0s 24ms/step - loss: 0.0845 - mae: 0.2209 - val_loss: 0.5392 - val_mae: 0.5784\n",
            "Epoch 50/250\n",
            "4/4 [==============================] - 0s 37ms/step - loss: 0.0837 - mae: 0.2197 - val_loss: 0.5357 - val_mae: 0.5762\n",
            "Epoch 51/250\n",
            "4/4 [==============================] - 0s 40ms/step - loss: 0.0830 - mae: 0.2184 - val_loss: 0.5321 - val_mae: 0.5740\n",
            "Epoch 52/250\n",
            "4/4 [==============================] - 0s 37ms/step - loss: 0.0822 - mae: 0.2172 - val_loss: 0.5285 - val_mae: 0.5718\n",
            "Epoch 53/250\n",
            "4/4 [==============================] - 0s 38ms/step - loss: 0.0814 - mae: 0.2159 - val_loss: 0.5248 - val_mae: 0.5695\n",
            "Epoch 54/250\n",
            "4/4 [==============================] - 0s 36ms/step - loss: 0.0806 - mae: 0.2147 - val_loss: 0.5212 - val_mae: 0.5672\n",
            "Epoch 55/250\n",
            "4/4 [==============================] - 0s 41ms/step - loss: 0.0799 - mae: 0.2134 - val_loss: 0.5175 - val_mae: 0.5650\n",
            "Epoch 56/250\n",
            "4/4 [==============================] - 0s 36ms/step - loss: 0.0791 - mae: 0.2121 - val_loss: 0.5139 - val_mae: 0.5626\n",
            "Epoch 57/250\n",
            "4/4 [==============================] - 0s 38ms/step - loss: 0.0784 - mae: 0.2108 - val_loss: 0.5102 - val_mae: 0.5603\n",
            "Epoch 58/250\n",
            "4/4 [==============================] - 0s 39ms/step - loss: 0.0776 - mae: 0.2095 - val_loss: 0.5065 - val_mae: 0.5580\n",
            "Epoch 59/250\n",
            "4/4 [==============================] - 0s 46ms/step - loss: 0.0769 - mae: 0.2083 - val_loss: 0.5028 - val_mae: 0.5556\n",
            "Epoch 60/250\n",
            "4/4 [==============================] - 0s 32ms/step - loss: 0.0762 - mae: 0.2070 - val_loss: 0.4992 - val_mae: 0.5533\n",
            "Epoch 61/250\n",
            "4/4 [==============================] - 0s 25ms/step - loss: 0.0754 - mae: 0.2058 - val_loss: 0.4955 - val_mae: 0.5509\n",
            "Epoch 62/250\n",
            "4/4 [==============================] - 0s 26ms/step - loss: 0.0747 - mae: 0.2046 - val_loss: 0.4918 - val_mae: 0.5485\n",
            "Epoch 63/250\n",
            "4/4 [==============================] - 0s 24ms/step - loss: 0.0740 - mae: 0.2034 - val_loss: 0.4881 - val_mae: 0.5461\n",
            "Epoch 64/250\n",
            "4/4 [==============================] - 0s 23ms/step - loss: 0.0733 - mae: 0.2023 - val_loss: 0.4845 - val_mae: 0.5437\n",
            "Epoch 65/250\n",
            "4/4 [==============================] - 0s 25ms/step - loss: 0.0726 - mae: 0.2012 - val_loss: 0.4808 - val_mae: 0.5412\n",
            "Epoch 66/250\n",
            "4/4 [==============================] - 0s 24ms/step - loss: 0.0719 - mae: 0.2000 - val_loss: 0.4771 - val_mae: 0.5388\n",
            "Epoch 67/250\n",
            "4/4 [==============================] - 0s 28ms/step - loss: 0.0713 - mae: 0.1989 - val_loss: 0.4734 - val_mae: 0.5363\n",
            "Epoch 68/250\n",
            "4/4 [==============================] - 0s 25ms/step - loss: 0.0706 - mae: 0.1977 - val_loss: 0.4696 - val_mae: 0.5338\n",
            "Epoch 69/250\n",
            "4/4 [==============================] - 0s 23ms/step - loss: 0.0699 - mae: 0.1966 - val_loss: 0.4659 - val_mae: 0.5313\n",
            "Epoch 70/250\n",
            "4/4 [==============================] - 0s 24ms/step - loss: 0.0693 - mae: 0.1954 - val_loss: 0.4622 - val_mae: 0.5287\n",
            "Epoch 71/250\n",
            "4/4 [==============================] - 0s 24ms/step - loss: 0.0686 - mae: 0.1943 - val_loss: 0.4584 - val_mae: 0.5262\n",
            "Epoch 72/250\n",
            "4/4 [==============================] - 0s 24ms/step - loss: 0.0680 - mae: 0.1932 - val_loss: 0.4547 - val_mae: 0.5236\n",
            "Epoch 73/250\n",
            "4/4 [==============================] - 0s 25ms/step - loss: 0.0673 - mae: 0.1920 - val_loss: 0.4509 - val_mae: 0.5210\n",
            "Epoch 74/250\n",
            "4/4 [==============================] - 0s 25ms/step - loss: 0.0667 - mae: 0.1909 - val_loss: 0.4471 - val_mae: 0.5183\n",
            "Epoch 75/250\n",
            "4/4 [==============================] - 0s 24ms/step - loss: 0.0661 - mae: 0.1898 - val_loss: 0.4433 - val_mae: 0.5157\n",
            "Epoch 76/250\n",
            "4/4 [==============================] - 0s 24ms/step - loss: 0.0655 - mae: 0.1887 - val_loss: 0.4395 - val_mae: 0.5133\n",
            "Epoch 77/250\n",
            "4/4 [==============================] - 0s 23ms/step - loss: 0.0649 - mae: 0.1877 - val_loss: 0.4357 - val_mae: 0.5112\n",
            "Epoch 78/250\n",
            "4/4 [==============================] - 0s 26ms/step - loss: 0.0643 - mae: 0.1867 - val_loss: 0.4318 - val_mae: 0.5091\n",
            "Epoch 79/250\n",
            "4/4 [==============================] - 0s 25ms/step - loss: 0.0637 - mae: 0.1858 - val_loss: 0.4280 - val_mae: 0.5070\n",
            "Epoch 80/250\n",
            "4/4 [==============================] - 0s 24ms/step - loss: 0.0632 - mae: 0.1848 - val_loss: 0.4241 - val_mae: 0.5052\n",
            "Epoch 81/250\n",
            "4/4 [==============================] - 0s 25ms/step - loss: 0.0626 - mae: 0.1838 - val_loss: 0.4203 - val_mae: 0.5035\n",
            "Epoch 82/250\n",
            "4/4 [==============================] - 0s 25ms/step - loss: 0.0620 - mae: 0.1830 - val_loss: 0.4164 - val_mae: 0.5017\n",
            "Epoch 83/250\n",
            "4/4 [==============================] - 0s 23ms/step - loss: 0.0615 - mae: 0.1821 - val_loss: 0.4125 - val_mae: 0.4998\n",
            "Epoch 84/250\n",
            "4/4 [==============================] - 0s 27ms/step - loss: 0.0610 - mae: 0.1813 - val_loss: 0.4085 - val_mae: 0.4980\n",
            "Epoch 85/250\n",
            "4/4 [==============================] - 0s 23ms/step - loss: 0.0604 - mae: 0.1805 - val_loss: 0.4046 - val_mae: 0.4961\n",
            "Epoch 86/250\n",
            "4/4 [==============================] - 0s 26ms/step - loss: 0.0599 - mae: 0.1797 - val_loss: 0.4007 - val_mae: 0.4942\n",
            "Epoch 87/250\n",
            "4/4 [==============================] - 0s 26ms/step - loss: 0.0594 - mae: 0.1790 - val_loss: 0.3967 - val_mae: 0.4923\n",
            "Epoch 88/250\n",
            "4/4 [==============================] - 0s 24ms/step - loss: 0.0589 - mae: 0.1782 - val_loss: 0.3928 - val_mae: 0.4903\n",
            "Epoch 89/250\n",
            "4/4 [==============================] - 0s 28ms/step - loss: 0.0584 - mae: 0.1775 - val_loss: 0.3888 - val_mae: 0.4884\n",
            "Epoch 90/250\n",
            "4/4 [==============================] - 0s 24ms/step - loss: 0.0579 - mae: 0.1767 - val_loss: 0.3849 - val_mae: 0.4864\n",
            "Epoch 91/250\n",
            "4/4 [==============================] - 0s 25ms/step - loss: 0.0575 - mae: 0.1761 - val_loss: 0.3809 - val_mae: 0.4843\n",
            "Epoch 92/250\n",
            "4/4 [==============================] - 0s 28ms/step - loss: 0.0570 - mae: 0.1755 - val_loss: 0.3769 - val_mae: 0.4823\n",
            "Epoch 93/250\n",
            "4/4 [==============================] - 0s 25ms/step - loss: 0.0566 - mae: 0.1749 - val_loss: 0.3729 - val_mae: 0.4802\n",
            "Epoch 94/250\n",
            "4/4 [==============================] - 0s 82ms/step - loss: 0.0561 - mae: 0.1744 - val_loss: 0.3689 - val_mae: 0.4781\n",
            "Epoch 95/250\n",
            "4/4 [==============================] - 0s 26ms/step - loss: 0.0557 - mae: 0.1739 - val_loss: 0.3650 - val_mae: 0.4760\n",
            "Epoch 96/250\n",
            "4/4 [==============================] - 0s 27ms/step - loss: 0.0553 - mae: 0.1735 - val_loss: 0.3610 - val_mae: 0.4738\n",
            "Epoch 97/250\n",
            "4/4 [==============================] - 0s 23ms/step - loss: 0.0549 - mae: 0.1730 - val_loss: 0.3570 - val_mae: 0.4717\n",
            "Epoch 98/250\n",
            "4/4 [==============================] - 0s 31ms/step - loss: 0.0545 - mae: 0.1727 - val_loss: 0.3530 - val_mae: 0.4695\n",
            "Epoch 99/250\n",
            "4/4 [==============================] - 0s 85ms/step - loss: 0.0541 - mae: 0.1724 - val_loss: 0.3491 - val_mae: 0.4672\n",
            "Epoch 100/250\n",
            "4/4 [==============================] - 0s 30ms/step - loss: 0.0537 - mae: 0.1722 - val_loss: 0.3451 - val_mae: 0.4650\n",
            "Epoch 101/250\n",
            "4/4 [==============================] - 0s 24ms/step - loss: 0.0533 - mae: 0.1719 - val_loss: 0.3411 - val_mae: 0.4627\n",
            "Epoch 102/250\n",
            "4/4 [==============================] - 0s 25ms/step - loss: 0.0529 - mae: 0.1717 - val_loss: 0.3372 - val_mae: 0.4604\n",
            "Epoch 103/250\n",
            "4/4 [==============================] - 0s 29ms/step - loss: 0.0526 - mae: 0.1714 - val_loss: 0.3333 - val_mae: 0.4581\n",
            "Epoch 104/250\n",
            "4/4 [==============================] - 0s 30ms/step - loss: 0.0522 - mae: 0.1711 - val_loss: 0.3293 - val_mae: 0.4557\n",
            "Epoch 105/250\n",
            "4/4 [==============================] - 0s 24ms/step - loss: 0.0519 - mae: 0.1708 - val_loss: 0.3254 - val_mae: 0.4533\n",
            "Epoch 106/250\n",
            "4/4 [==============================] - 0s 23ms/step - loss: 0.0515 - mae: 0.1705 - val_loss: 0.3215 - val_mae: 0.4509\n",
            "Epoch 107/250\n",
            "4/4 [==============================] - 0s 23ms/step - loss: 0.0512 - mae: 0.1702 - val_loss: 0.3177 - val_mae: 0.4485\n",
            "Epoch 108/250\n",
            "4/4 [==============================] - 0s 25ms/step - loss: 0.0509 - mae: 0.1699 - val_loss: 0.3138 - val_mae: 0.4461\n",
            "Epoch 109/250\n",
            "4/4 [==============================] - 0s 24ms/step - loss: 0.0506 - mae: 0.1695 - val_loss: 0.3100 - val_mae: 0.4436\n",
            "Epoch 110/250\n",
            "4/4 [==============================] - 0s 27ms/step - loss: 0.0503 - mae: 0.1692 - val_loss: 0.3062 - val_mae: 0.4411\n",
            "Epoch 111/250\n",
            "4/4 [==============================] - 0s 24ms/step - loss: 0.0500 - mae: 0.1689 - val_loss: 0.3024 - val_mae: 0.4386\n",
            "Epoch 112/250\n",
            "4/4 [==============================] - 0s 24ms/step - loss: 0.0497 - mae: 0.1686 - val_loss: 0.2987 - val_mae: 0.4361\n",
            "Epoch 113/250\n",
            "4/4 [==============================] - 0s 25ms/step - loss: 0.0494 - mae: 0.1682 - val_loss: 0.2950 - val_mae: 0.4336\n",
            "Epoch 114/250\n",
            "4/4 [==============================] - 0s 24ms/step - loss: 0.0491 - mae: 0.1679 - val_loss: 0.2913 - val_mae: 0.4310\n",
            "Epoch 115/250\n",
            "4/4 [==============================] - 0s 25ms/step - loss: 0.0488 - mae: 0.1676 - val_loss: 0.2876 - val_mae: 0.4284\n",
            "Epoch 116/250\n",
            "4/4 [==============================] - 0s 24ms/step - loss: 0.0485 - mae: 0.1673 - val_loss: 0.2840 - val_mae: 0.4258\n",
            "Epoch 117/250\n",
            "4/4 [==============================] - 0s 23ms/step - loss: 0.0482 - mae: 0.1669 - val_loss: 0.2804 - val_mae: 0.4232\n",
            "Epoch 118/250\n",
            "4/4 [==============================] - 0s 28ms/step - loss: 0.0479 - mae: 0.1666 - val_loss: 0.2768 - val_mae: 0.4206\n",
            "Epoch 119/250\n",
            "4/4 [==============================] - 0s 24ms/step - loss: 0.0477 - mae: 0.1663 - val_loss: 0.2733 - val_mae: 0.4180\n",
            "Epoch 120/250\n",
            "4/4 [==============================] - 0s 25ms/step - loss: 0.0474 - mae: 0.1659 - val_loss: 0.2698 - val_mae: 0.4153\n",
            "Epoch 121/250\n",
            "4/4 [==============================] - 0s 24ms/step - loss: 0.0471 - mae: 0.1655 - val_loss: 0.2663 - val_mae: 0.4127\n",
            "Epoch 122/250\n",
            "4/4 [==============================] - 0s 23ms/step - loss: 0.0468 - mae: 0.1652 - val_loss: 0.2629 - val_mae: 0.4100\n",
            "Epoch 123/250\n",
            "4/4 [==============================] - 0s 25ms/step - loss: 0.0466 - mae: 0.1648 - val_loss: 0.2595 - val_mae: 0.4073\n",
            "Epoch 124/250\n",
            "4/4 [==============================] - 0s 25ms/step - loss: 0.0463 - mae: 0.1644 - val_loss: 0.2561 - val_mae: 0.4046\n",
            "Epoch 125/250\n",
            "4/4 [==============================] - 0s 29ms/step - loss: 0.0460 - mae: 0.1640 - val_loss: 0.2528 - val_mae: 0.4019\n",
            "Epoch 126/250\n",
            "4/4 [==============================] - 0s 24ms/step - loss: 0.0458 - mae: 0.1636 - val_loss: 0.2495 - val_mae: 0.3992\n",
            "Epoch 127/250\n",
            "4/4 [==============================] - 0s 27ms/step - loss: 0.0455 - mae: 0.1632 - val_loss: 0.2463 - val_mae: 0.3964\n",
            "Epoch 128/250\n",
            "4/4 [==============================] - 0s 25ms/step - loss: 0.0452 - mae: 0.1627 - val_loss: 0.2431 - val_mae: 0.3937\n",
            "Epoch 129/250\n",
            "4/4 [==============================] - 0s 24ms/step - loss: 0.0450 - mae: 0.1623 - val_loss: 0.2399 - val_mae: 0.3909\n",
            "Epoch 130/250\n",
            "4/4 [==============================] - 0s 24ms/step - loss: 0.0447 - mae: 0.1620 - val_loss: 0.2367 - val_mae: 0.3882\n",
            "Epoch 131/250\n",
            "4/4 [==============================] - 0s 25ms/step - loss: 0.0444 - mae: 0.1616 - val_loss: 0.2336 - val_mae: 0.3854\n",
            "Epoch 132/250\n",
            "4/4 [==============================] - 0s 24ms/step - loss: 0.0441 - mae: 0.1613 - val_loss: 0.2306 - val_mae: 0.3827\n",
            "Epoch 133/250\n",
            "4/4 [==============================] - 0s 25ms/step - loss: 0.0439 - mae: 0.1609 - val_loss: 0.2275 - val_mae: 0.3799\n",
            "Epoch 134/250\n",
            "4/4 [==============================] - 0s 24ms/step - loss: 0.0436 - mae: 0.1605 - val_loss: 0.2246 - val_mae: 0.3771\n",
            "Epoch 135/250\n",
            "4/4 [==============================] - 0s 24ms/step - loss: 0.0433 - mae: 0.1601 - val_loss: 0.2216 - val_mae: 0.3743\n",
            "Epoch 136/250\n",
            "4/4 [==============================] - 0s 38ms/step - loss: 0.0431 - mae: 0.1596 - val_loss: 0.2187 - val_mae: 0.3715\n",
            "Epoch 137/250\n",
            "4/4 [==============================] - 0s 40ms/step - loss: 0.0428 - mae: 0.1592 - val_loss: 0.2158 - val_mae: 0.3687\n",
            "Epoch 138/250\n",
            "4/4 [==============================] - 0s 44ms/step - loss: 0.0425 - mae: 0.1587 - val_loss: 0.2129 - val_mae: 0.3659\n",
            "Epoch 139/250\n",
            "4/4 [==============================] - 0s 33ms/step - loss: 0.0422 - mae: 0.1583 - val_loss: 0.2101 - val_mae: 0.3631\n",
            "Epoch 140/250\n",
            "4/4 [==============================] - 0s 45ms/step - loss: 0.0420 - mae: 0.1578 - val_loss: 0.2073 - val_mae: 0.3603\n",
            "Epoch 141/250\n",
            "4/4 [==============================] - 0s 43ms/step - loss: 0.0417 - mae: 0.1574 - val_loss: 0.2045 - val_mae: 0.3575\n",
            "Epoch 142/250\n",
            "4/4 [==============================] - 0s 34ms/step - loss: 0.0414 - mae: 0.1569 - val_loss: 0.2018 - val_mae: 0.3547\n",
            "Epoch 143/250\n",
            "4/4 [==============================] - 0s 39ms/step - loss: 0.0411 - mae: 0.1564 - val_loss: 0.1991 - val_mae: 0.3518\n",
            "Epoch 144/250\n",
            "4/4 [==============================] - 0s 42ms/step - loss: 0.0408 - mae: 0.1560 - val_loss: 0.1964 - val_mae: 0.3490\n",
            "Epoch 145/250\n",
            "4/4 [==============================] - 0s 37ms/step - loss: 0.0406 - mae: 0.1555 - val_loss: 0.1938 - val_mae: 0.3462\n",
            "Epoch 146/250\n",
            "4/4 [==============================] - 0s 24ms/step - loss: 0.0403 - mae: 0.1550 - val_loss: 0.1912 - val_mae: 0.3433\n",
            "Epoch 147/250\n",
            "4/4 [==============================] - 0s 25ms/step - loss: 0.0400 - mae: 0.1545 - val_loss: 0.1886 - val_mae: 0.3405\n",
            "Epoch 148/250\n",
            "4/4 [==============================] - 0s 24ms/step - loss: 0.0397 - mae: 0.1540 - val_loss: 0.1860 - val_mae: 0.3379\n",
            "Epoch 149/250\n",
            "4/4 [==============================] - 0s 24ms/step - loss: 0.0394 - mae: 0.1535 - val_loss: 0.1835 - val_mae: 0.3354\n",
            "Epoch 150/250\n",
            "4/4 [==============================] - 0s 24ms/step - loss: 0.0392 - mae: 0.1530 - val_loss: 0.1810 - val_mae: 0.3330\n",
            "Epoch 151/250\n",
            "4/4 [==============================] - 0s 25ms/step - loss: 0.0389 - mae: 0.1525 - val_loss: 0.1785 - val_mae: 0.3306\n",
            "Epoch 152/250\n",
            "4/4 [==============================] - 0s 25ms/step - loss: 0.0386 - mae: 0.1520 - val_loss: 0.1761 - val_mae: 0.3281\n",
            "Epoch 153/250\n",
            "4/4 [==============================] - 0s 25ms/step - loss: 0.0383 - mae: 0.1515 - val_loss: 0.1737 - val_mae: 0.3257\n",
            "Epoch 154/250\n",
            "4/4 [==============================] - 0s 25ms/step - loss: 0.0380 - mae: 0.1510 - val_loss: 0.1713 - val_mae: 0.3232\n",
            "Epoch 155/250\n",
            "4/4 [==============================] - 0s 24ms/step - loss: 0.0377 - mae: 0.1504 - val_loss: 0.1689 - val_mae: 0.3208\n",
            "Epoch 156/250\n",
            "4/4 [==============================] - 0s 26ms/step - loss: 0.0375 - mae: 0.1499 - val_loss: 0.1666 - val_mae: 0.3183\n",
            "Epoch 157/250\n",
            "4/4 [==============================] - 0s 23ms/step - loss: 0.0372 - mae: 0.1494 - val_loss: 0.1642 - val_mae: 0.3158\n",
            "Epoch 158/250\n",
            "4/4 [==============================] - 0s 25ms/step - loss: 0.0369 - mae: 0.1489 - val_loss: 0.1620 - val_mae: 0.3133\n",
            "Epoch 159/250\n",
            "4/4 [==============================] - 0s 31ms/step - loss: 0.0366 - mae: 0.1484 - val_loss: 0.1597 - val_mae: 0.3111\n",
            "Epoch 160/250\n",
            "4/4 [==============================] - 0s 25ms/step - loss: 0.0363 - mae: 0.1479 - val_loss: 0.1574 - val_mae: 0.3089\n",
            "Epoch 161/250\n",
            "4/4 [==============================] - 0s 25ms/step - loss: 0.0360 - mae: 0.1473 - val_loss: 0.1552 - val_mae: 0.3067\n",
            "Epoch 162/250\n",
            "4/4 [==============================] - 0s 27ms/step - loss: 0.0358 - mae: 0.1468 - val_loss: 0.1530 - val_mae: 0.3045\n",
            "Epoch 163/250\n",
            "4/4 [==============================] - 0s 27ms/step - loss: 0.0355 - mae: 0.1463 - val_loss: 0.1508 - val_mae: 0.3023\n",
            "Epoch 164/250\n",
            "4/4 [==============================] - 0s 25ms/step - loss: 0.0352 - mae: 0.1458 - val_loss: 0.1487 - val_mae: 0.3001\n",
            "Epoch 165/250\n",
            "4/4 [==============================] - 0s 26ms/step - loss: 0.0349 - mae: 0.1453 - val_loss: 0.1465 - val_mae: 0.2979\n",
            "Epoch 166/250\n",
            "4/4 [==============================] - 0s 24ms/step - loss: 0.0346 - mae: 0.1448 - val_loss: 0.1444 - val_mae: 0.2956\n",
            "Epoch 167/250\n",
            "4/4 [==============================] - 0s 24ms/step - loss: 0.0344 - mae: 0.1443 - val_loss: 0.1423 - val_mae: 0.2934\n",
            "Epoch 168/250\n",
            "4/4 [==============================] - 0s 27ms/step - loss: 0.0341 - mae: 0.1438 - val_loss: 0.1403 - val_mae: 0.2911\n",
            "Epoch 169/250\n",
            "4/4 [==============================] - 0s 30ms/step - loss: 0.0338 - mae: 0.1433 - val_loss: 0.1382 - val_mae: 0.2889\n",
            "Epoch 170/250\n",
            "4/4 [==============================] - 0s 25ms/step - loss: 0.0335 - mae: 0.1428 - val_loss: 0.1362 - val_mae: 0.2866\n",
            "Epoch 171/250\n",
            "4/4 [==============================] - 0s 22ms/step - loss: 0.0333 - mae: 0.1423 - val_loss: 0.1342 - val_mae: 0.2843\n",
            "Epoch 172/250\n",
            "4/4 [==============================] - 0s 24ms/step - loss: 0.0330 - mae: 0.1418 - val_loss: 0.1322 - val_mae: 0.2820\n",
            "Epoch 173/250\n",
            "4/4 [==============================] - 0s 24ms/step - loss: 0.0327 - mae: 0.1413 - val_loss: 0.1303 - val_mae: 0.2797\n",
            "Epoch 174/250\n",
            "4/4 [==============================] - 0s 24ms/step - loss: 0.0325 - mae: 0.1408 - val_loss: 0.1283 - val_mae: 0.2774\n",
            "Epoch 175/250\n",
            "4/4 [==============================] - 0s 28ms/step - loss: 0.0322 - mae: 0.1403 - val_loss: 0.1264 - val_mae: 0.2750\n",
            "Epoch 176/250\n",
            "4/4 [==============================] - 0s 29ms/step - loss: 0.0319 - mae: 0.1398 - val_loss: 0.1245 - val_mae: 0.2727\n",
            "Epoch 177/250\n",
            "4/4 [==============================] - 0s 24ms/step - loss: 0.0317 - mae: 0.1393 - val_loss: 0.1227 - val_mae: 0.2703\n",
            "Epoch 178/250\n",
            "4/4 [==============================] - 0s 25ms/step - loss: 0.0314 - mae: 0.1388 - val_loss: 0.1208 - val_mae: 0.2680\n",
            "Epoch 179/250\n",
            "4/4 [==============================] - 0s 24ms/step - loss: 0.0311 - mae: 0.1383 - val_loss: 0.1190 - val_mae: 0.2656\n",
            "Epoch 180/250\n",
            "4/4 [==============================] - 0s 25ms/step - loss: 0.0309 - mae: 0.1378 - val_loss: 0.1172 - val_mae: 0.2632\n",
            "Epoch 181/250\n",
            "4/4 [==============================] - 0s 24ms/step - loss: 0.0306 - mae: 0.1372 - val_loss: 0.1154 - val_mae: 0.2608\n",
            "Epoch 182/250\n",
            "4/4 [==============================] - 0s 23ms/step - loss: 0.0303 - mae: 0.1367 - val_loss: 0.1136 - val_mae: 0.2584\n",
            "Epoch 183/250\n",
            "4/4 [==============================] - 0s 25ms/step - loss: 0.0301 - mae: 0.1362 - val_loss: 0.1119 - val_mae: 0.2560\n",
            "Epoch 184/250\n",
            "4/4 [==============================] - 0s 25ms/step - loss: 0.0298 - mae: 0.1357 - val_loss: 0.1102 - val_mae: 0.2538\n",
            "Epoch 185/250\n",
            "4/4 [==============================] - 0s 27ms/step - loss: 0.0296 - mae: 0.1352 - val_loss: 0.1085 - val_mae: 0.2517\n",
            "Epoch 186/250\n",
            "4/4 [==============================] - 0s 26ms/step - loss: 0.0293 - mae: 0.1347 - val_loss: 0.1068 - val_mae: 0.2495\n",
            "Epoch 187/250\n",
            "4/4 [==============================] - 0s 25ms/step - loss: 0.0291 - mae: 0.1342 - val_loss: 0.1052 - val_mae: 0.2473\n",
            "Epoch 188/250\n",
            "4/4 [==============================] - 0s 24ms/step - loss: 0.0288 - mae: 0.1337 - val_loss: 0.1035 - val_mae: 0.2451\n",
            "Epoch 189/250\n",
            "4/4 [==============================] - 0s 24ms/step - loss: 0.0286 - mae: 0.1332 - val_loss: 0.1019 - val_mae: 0.2429\n",
            "Epoch 190/250\n",
            "4/4 [==============================] - 0s 25ms/step - loss: 0.0283 - mae: 0.1327 - val_loss: 0.1003 - val_mae: 0.2407\n",
            "Epoch 191/250\n",
            "4/4 [==============================] - 0s 24ms/step - loss: 0.0281 - mae: 0.1322 - val_loss: 0.0988 - val_mae: 0.2385\n",
            "Epoch 192/250\n",
            "4/4 [==============================] - 0s 25ms/step - loss: 0.0278 - mae: 0.1316 - val_loss: 0.0972 - val_mae: 0.2363\n",
            "Epoch 193/250\n",
            "4/4 [==============================] - 0s 25ms/step - loss: 0.0276 - mae: 0.1311 - val_loss: 0.0957 - val_mae: 0.2343\n",
            "Epoch 194/250\n",
            "4/4 [==============================] - 0s 25ms/step - loss: 0.0273 - mae: 0.1306 - val_loss: 0.0942 - val_mae: 0.2326\n",
            "Epoch 195/250\n",
            "4/4 [==============================] - 0s 24ms/step - loss: 0.0271 - mae: 0.1301 - val_loss: 0.0927 - val_mae: 0.2308\n",
            "Epoch 196/250\n",
            "4/4 [==============================] - 0s 24ms/step - loss: 0.0268 - mae: 0.1296 - val_loss: 0.0913 - val_mae: 0.2291\n",
            "Epoch 197/250\n",
            "4/4 [==============================] - 0s 24ms/step - loss: 0.0266 - mae: 0.1291 - val_loss: 0.0898 - val_mae: 0.2273\n",
            "Epoch 198/250\n",
            "4/4 [==============================] - 0s 24ms/step - loss: 0.0264 - mae: 0.1285 - val_loss: 0.0884 - val_mae: 0.2255\n",
            "Epoch 199/250\n",
            "4/4 [==============================] - 0s 24ms/step - loss: 0.0261 - mae: 0.1280 - val_loss: 0.0870 - val_mae: 0.2238\n",
            "Epoch 200/250\n",
            "4/4 [==============================] - 0s 24ms/step - loss: 0.0259 - mae: 0.1275 - val_loss: 0.0857 - val_mae: 0.2220\n",
            "Epoch 201/250\n",
            "4/4 [==============================] - 0s 27ms/step - loss: 0.0257 - mae: 0.1270 - val_loss: 0.0843 - val_mae: 0.2202\n",
            "Epoch 202/250\n",
            "4/4 [==============================] - 0s 27ms/step - loss: 0.0254 - mae: 0.1264 - val_loss: 0.0830 - val_mae: 0.2184\n",
            "Epoch 203/250\n",
            "4/4 [==============================] - 0s 24ms/step - loss: 0.0252 - mae: 0.1259 - val_loss: 0.0817 - val_mae: 0.2170\n",
            "Epoch 204/250\n",
            "4/4 [==============================] - 0s 24ms/step - loss: 0.0250 - mae: 0.1254 - val_loss: 0.0805 - val_mae: 0.2156\n",
            "Epoch 205/250\n",
            "4/4 [==============================] - 0s 26ms/step - loss: 0.0248 - mae: 0.1249 - val_loss: 0.0792 - val_mae: 0.2142\n",
            "Epoch 206/250\n",
            "4/4 [==============================] - 0s 24ms/step - loss: 0.0245 - mae: 0.1244 - val_loss: 0.0780 - val_mae: 0.2127\n",
            "Epoch 207/250\n",
            "4/4 [==============================] - 0s 23ms/step - loss: 0.0243 - mae: 0.1239 - val_loss: 0.0768 - val_mae: 0.2113\n",
            "Epoch 208/250\n",
            "4/4 [==============================] - 0s 26ms/step - loss: 0.0241 - mae: 0.1234 - val_loss: 0.0756 - val_mae: 0.2098\n",
            "Epoch 209/250\n",
            "4/4 [==============================] - 0s 25ms/step - loss: 0.0239 - mae: 0.1229 - val_loss: 0.0744 - val_mae: 0.2083\n",
            "Epoch 210/250\n",
            "4/4 [==============================] - 0s 30ms/step - loss: 0.0237 - mae: 0.1224 - val_loss: 0.0733 - val_mae: 0.2068\n",
            "Epoch 211/250\n",
            "4/4 [==============================] - 0s 24ms/step - loss: 0.0235 - mae: 0.1219 - val_loss: 0.0722 - val_mae: 0.2053\n",
            "Epoch 212/250\n",
            "4/4 [==============================] - 0s 29ms/step - loss: 0.0233 - mae: 0.1214 - val_loss: 0.0711 - val_mae: 0.2038\n",
            "Epoch 213/250\n",
            "4/4 [==============================] - 0s 24ms/step - loss: 0.0231 - mae: 0.1210 - val_loss: 0.0700 - val_mae: 0.2023\n",
            "Epoch 214/250\n",
            "4/4 [==============================] - 0s 24ms/step - loss: 0.0228 - mae: 0.1205 - val_loss: 0.0690 - val_mae: 0.2008\n",
            "Epoch 215/250\n",
            "4/4 [==============================] - 0s 26ms/step - loss: 0.0226 - mae: 0.1200 - val_loss: 0.0679 - val_mae: 0.1993\n",
            "Epoch 216/250\n",
            "4/4 [==============================] - 0s 24ms/step - loss: 0.0224 - mae: 0.1195 - val_loss: 0.0669 - val_mae: 0.1977\n",
            "Epoch 217/250\n",
            "4/4 [==============================] - 0s 26ms/step - loss: 0.0222 - mae: 0.1190 - val_loss: 0.0660 - val_mae: 0.1962\n",
            "Epoch 218/250\n",
            "4/4 [==============================] - 0s 33ms/step - loss: 0.0220 - mae: 0.1185 - val_loss: 0.0650 - val_mae: 0.1946\n",
            "Epoch 219/250\n",
            "4/4 [==============================] - 0s 23ms/step - loss: 0.0218 - mae: 0.1181 - val_loss: 0.0641 - val_mae: 0.1931\n",
            "Epoch 220/250\n",
            "4/4 [==============================] - 0s 25ms/step - loss: 0.0217 - mae: 0.1176 - val_loss: 0.0631 - val_mae: 0.1915\n",
            "Epoch 221/250\n",
            "4/4 [==============================] - 0s 24ms/step - loss: 0.0215 - mae: 0.1171 - val_loss: 0.0623 - val_mae: 0.1899\n",
            "Epoch 222/250\n",
            "4/4 [==============================] - 0s 25ms/step - loss: 0.0213 - mae: 0.1167 - val_loss: 0.0614 - val_mae: 0.1883\n",
            "Epoch 223/250\n",
            "4/4 [==============================] - 0s 24ms/step - loss: 0.0211 - mae: 0.1162 - val_loss: 0.0605 - val_mae: 0.1867\n",
            "Epoch 224/250\n",
            "4/4 [==============================] - 0s 24ms/step - loss: 0.0209 - mae: 0.1158 - val_loss: 0.0597 - val_mae: 0.1851\n",
            "Epoch 225/250\n",
            "4/4 [==============================] - 0s 25ms/step - loss: 0.0207 - mae: 0.1153 - val_loss: 0.0589 - val_mae: 0.1835\n",
            "Epoch 226/250\n",
            "4/4 [==============================] - 0s 27ms/step - loss: 0.0205 - mae: 0.1149 - val_loss: 0.0581 - val_mae: 0.1819\n",
            "Epoch 227/250\n",
            "4/4 [==============================] - 0s 23ms/step - loss: 0.0204 - mae: 0.1144 - val_loss: 0.0574 - val_mae: 0.1803\n",
            "Epoch 228/250\n",
            "4/4 [==============================] - 0s 39ms/step - loss: 0.0202 - mae: 0.1140 - val_loss: 0.0566 - val_mae: 0.1787\n",
            "Epoch 229/250\n",
            "4/4 [==============================] - 0s 38ms/step - loss: 0.0200 - mae: 0.1135 - val_loss: 0.0559 - val_mae: 0.1770\n",
            "Epoch 230/250\n",
            "4/4 [==============================] - 0s 40ms/step - loss: 0.0198 - mae: 0.1131 - val_loss: 0.0552 - val_mae: 0.1754\n",
            "Epoch 231/250\n",
            "4/4 [==============================] - 0s 42ms/step - loss: 0.0197 - mae: 0.1126 - val_loss: 0.0546 - val_mae: 0.1738\n",
            "Epoch 232/250\n",
            "4/4 [==============================] - 0s 38ms/step - loss: 0.0195 - mae: 0.1122 - val_loss: 0.0539 - val_mae: 0.1721\n",
            "Epoch 233/250\n",
            "4/4 [==============================] - 0s 37ms/step - loss: 0.0193 - mae: 0.1117 - val_loss: 0.0533 - val_mae: 0.1705\n",
            "Epoch 234/250\n",
            "4/4 [==============================] - 0s 42ms/step - loss: 0.0192 - mae: 0.1113 - val_loss: 0.0527 - val_mae: 0.1688\n",
            "Epoch 235/250\n",
            "4/4 [==============================] - 0s 40ms/step - loss: 0.0190 - mae: 0.1109 - val_loss: 0.0521 - val_mae: 0.1672\n",
            "Epoch 236/250\n",
            "4/4 [==============================] - 0s 37ms/step - loss: 0.0189 - mae: 0.1104 - val_loss: 0.0515 - val_mae: 0.1662\n",
            "Epoch 237/250\n",
            "4/4 [==============================] - 0s 27ms/step - loss: 0.0187 - mae: 0.1100 - val_loss: 0.0510 - val_mae: 0.1651\n",
            "Epoch 238/250\n",
            "4/4 [==============================] - 0s 24ms/step - loss: 0.0186 - mae: 0.1095 - val_loss: 0.0505 - val_mae: 0.1641\n",
            "Epoch 239/250\n",
            "4/4 [==============================] - 0s 27ms/step - loss: 0.0184 - mae: 0.1091 - val_loss: 0.0499 - val_mae: 0.1630\n",
            "Epoch 240/250\n",
            "4/4 [==============================] - 0s 26ms/step - loss: 0.0183 - mae: 0.1087 - val_loss: 0.0495 - val_mae: 0.1619\n",
            "Epoch 241/250\n",
            "4/4 [==============================] - 0s 24ms/step - loss: 0.0181 - mae: 0.1082 - val_loss: 0.0490 - val_mae: 0.1611\n",
            "Epoch 242/250\n",
            "4/4 [==============================] - 0s 27ms/step - loss: 0.0180 - mae: 0.1078 - val_loss: 0.0485 - val_mae: 0.1611\n",
            "Epoch 243/250\n",
            "4/4 [==============================] - 0s 28ms/step - loss: 0.0178 - mae: 0.1074 - val_loss: 0.0481 - val_mae: 0.1613\n",
            "Epoch 244/250\n",
            "4/4 [==============================] - 0s 25ms/step - loss: 0.0177 - mae: 0.1070 - val_loss: 0.0477 - val_mae: 0.1615\n",
            "Epoch 245/250\n",
            "4/4 [==============================] - 0s 25ms/step - loss: 0.0176 - mae: 0.1066 - val_loss: 0.0473 - val_mae: 0.1617\n",
            "Epoch 246/250\n",
            "4/4 [==============================] - 0s 26ms/step - loss: 0.0174 - mae: 0.1062 - val_loss: 0.0469 - val_mae: 0.1619\n",
            "Epoch 247/250\n",
            "4/4 [==============================] - 0s 29ms/step - loss: 0.0173 - mae: 0.1057 - val_loss: 0.0466 - val_mae: 0.1622\n"
          ]
        }
      ]
    },
    {
      "cell_type": "code",
      "source": [
        "history = model.fit(dataset_train, epochs=50, batch_size=1, validation_data=dataset_val, callbacks=[callback])"
      ],
      "metadata": {
        "colab": {
          "base_uri": "https://localhost:8080/"
        },
        "id": "AB0oTOumHpZw",
        "outputId": "71f35786-089e-49d7-f43b-33c10f39831a"
      },
      "execution_count": null,
      "outputs": [
        {
          "output_type": "stream",
          "name": "stdout",
          "text": [
            "Epoch 1/50\n",
            "4/4 [==============================] - 0s 25ms/step - loss: 0.0172 - mae: 0.1053 - val_loss: 0.0462 - val_mae: 0.1625\n",
            "Epoch 2/50\n",
            "4/4 [==============================] - 0s 24ms/step - loss: 0.0170 - mae: 0.1049 - val_loss: 0.0459 - val_mae: 0.1629\n",
            "Epoch 3/50\n",
            "4/4 [==============================] - 0s 23ms/step - loss: 0.0169 - mae: 0.1045 - val_loss: 0.0456 - val_mae: 0.1632\n",
            "Epoch 4/50\n",
            "4/4 [==============================] - 0s 24ms/step - loss: 0.0168 - mae: 0.1041 - val_loss: 0.0453 - val_mae: 0.1635\n",
            "Epoch 5/50\n",
            "4/4 [==============================] - 0s 23ms/step - loss: 0.0167 - mae: 0.1037 - val_loss: 0.0450 - val_mae: 0.1638\n",
            "Epoch 6/50\n",
            "4/4 [==============================] - 0s 26ms/step - loss: 0.0165 - mae: 0.1033 - val_loss: 0.0447 - val_mae: 0.1640\n"
          ]
        }
      ]
    },
    {
      "cell_type": "code",
      "source": [
        "pred = model.predict(dataset_train).flatten()\n",
        "predVal = model.predict(dataset_val).flatten()"
      ],
      "metadata": {
        "colab": {
          "base_uri": "https://localhost:8080/"
        },
        "id": "efEbRKyzFw80",
        "outputId": "3f47737e-9415-49d9-f5cf-163c239af62e"
      },
      "execution_count": null,
      "outputs": [
        {
          "output_type": "stream",
          "name": "stdout",
          "text": [
            "4/4 [==============================] - 1s 4ms/step\n",
            "1/1 [==============================] - 0s 44ms/step\n"
          ]
        }
      ]
    },
    {
      "cell_type": "code",
      "source": [
        "predVal"
      ],
      "metadata": {
        "colab": {
          "base_uri": "https://localhost:8080/"
        },
        "id": "Q4Q7NBu6oHw8",
        "outputId": "08992eba-71b1-4a95-9175-0e7715caa015"
      },
      "execution_count": null,
      "outputs": [
        {
          "output_type": "execute_result",
          "data": {
            "text/plain": [
              "array([0.9510316 , 1.1534872 , 1.4188854 , 1.8286284 , 2.3141162 ,\n",
              "       2.023235  , 1.6566507 , 1.0749737 , 0.6668656 , 0.58073854,\n",
              "       0.70248705, 0.9619611 , 1.170683  , 1.3808471 , 1.7448453 ,\n",
              "       2.2155209 , 2.681178  ], dtype=float32)"
            ]
          },
          "metadata": {},
          "execution_count": 65
        }
      ]
    },
    {
      "cell_type": "code",
      "source": [
        "start = 10\n",
        "step = 100\n",
        "plt.figure(figsize=(10,5))\n",
        "plt.grid('on')\n",
        "plt.plot(predVal[start:start+step], label='Прогноз')\n",
        "plt.plot(yVal.flatten()[start:start+step], label = 'Базовый ряд')\n",
        "plt.xlabel('Время')\n",
        "plt.ylabel('Значение')\n",
        "plt.legend()\n",
        "plt.show()"
      ],
      "metadata": {
        "colab": {
          "base_uri": "https://localhost:8080/",
          "height": 465
        },
        "id": "SDUBFdMdFx20",
        "outputId": "b5dd6135-d4ed-455e-f9fa-4d3e5a234678"
      },
      "execution_count": null,
      "outputs": [
        {
          "output_type": "display_data",
          "data": {
            "text/plain": [
              "<Figure size 1000x500 with 1 Axes>"
            ],
            "image/png": "[encoded data removed]"
          },
          "metadata": {}
        }
      ]
    },
    {
      "cell_type": "markdown",
      "source": [
        "Проверим лаговые корреляции:"
      ],
      "metadata": {
        "id": "fnfYNsq-Hgew"
      }
    },
    {
      "cell_type": "code",
      "source": [
        "def correlate(a, b):\n",
        "\tma = a.mean()\n",
        "\tmb = b.mean()\n",
        "\tmab = (a*b).mean()\n",
        "\tsa = a.std()\n",
        "\tsb = b.std()\n",
        "\tval = 0\n",
        "\tif ((sa > 0) & (sb > 0)):\n",
        "\t\tval = (mab - ma*mb)/(sa*sb)\n",
        "\treturn val"
      ],
      "metadata": {
        "id": "KsfKY71UIbH7"
      },
      "execution_count": null,
      "outputs": []
    },
    {
      "cell_type": "code",
      "source": [
        "len(predVal[:]), len(yVal[5:])"
      ],
      "metadata": {
        "colab": {
          "base_uri": "https://localhost:8080/"
        },
        "id": "fICsZGsuL2vW",
        "outputId": "6740457a-2731-4dc9-f8db-75d7b4f9cb87"
      },
      "execution_count": null,
      "outputs": [
        {
          "output_type": "execute_result",
          "data": {
            "text/plain": [
              "(17, 17)"
            ]
          },
          "metadata": {},
          "execution_count": 68
        }
      ]
    },
    {
      "cell_type": "code",
      "source": [
        "corr = []\n",
        "start = 5 # Начальная точка для проверки корреляций рядов\n",
        "step = 150 # Число точек для проверки корреляций рядов\n",
        "h = 0\n",
        "yLen = yVal.shape[0]\n",
        "yValF = yVal[start:] # Ряд истинных значений\n",
        "yPredVal = predVal[:] # Ряд предсказаний\n",
        "# Смотрим лаговые корреляции yValF[:-i], yPredVal[i:] для лагов от 0 до 5\n",
        "for i in range(5):\n",
        "\tcorr.append(correlate(yValF[:-1-i], yPredVal[i:-1]))\n",
        "\n",
        "plt.plot(corr, label = 'Корреляция')\n",
        "plt.xlabel('Лаговое расстояние между рядами')\n",
        "plt.ylabel('Значение корреляции')\n",
        "plt.legend()\n",
        "plt.show()"
      ],
      "metadata": {
        "colab": {
          "base_uri": "https://localhost:8080/",
          "height": 449
        },
        "id": "bT6s3v9eHh4S",
        "outputId": "8386aa1b-afb4-4507-8958-225ef74b1461"
      },
      "execution_count": null,
      "outputs": [
        {
          "output_type": "display_data",
          "data": {
            "text/plain": [
              "<Figure size 640x480 with 1 Axes>"
            ],
            "image/png": "[encoded data removed]"
          },
          "metadata": {}
        }
      ]
    },
    {
      "cell_type": "markdown",
      "metadata": {
        "id": "OcJKO5sKEMeA"
      },
      "source": [
        "## Урок 5. Рекуррентные нейронные сети\n",
        "## Практическое задание\n",
        "\n",
        "<ol>\n",
        "    <li>Попробуйте изменить параметры нейронной сети, работающей с датасетом imdb, либо нейронной сети, работающей с airline-passengers (она прилагается вместе с датасетом к уроку в виде отдельного скрипта), так, чтобы улучшить ее точность. Приложите анализ.</li>\n",
        "    <li>Попробуйте изменить параметры нейронной сети, генерирующей текст, таким образом, чтобы добиться генерации как можно более осмысленного текста. Пришлите лучший получившийся у вас текст и опишите то, что вы предприняли, чтобы его получить. Можно использовать текст другого прозведения.</li>\n",
        "    <li>* Попробуйте на numpy реализовать нейронную сеть архитектуры. LSTM</li>\n",
        "    <li>* Предложите свои варианты решения проблемы исчезающего градиента в RNN.</li>\n",
        "</ol>"
      ]
    },
    {
      "cell_type": "code",
      "execution_count": null,
      "metadata": {
        "id": "vyPcVErxgwAu",
        "outputId": "2b81ffbf-f65d-4d3c-fd28-1dd1937710df",
        "colab": {
          "base_uri": "https://localhost:8080/"
        }
      },
      "outputs": [
        {
          "output_type": "stream",
          "name": "stderr",
          "text": [
            "WARNING:tensorflow:Layer lstm_8 will not use cuDNN kernels since it doesn't meet the criteria. It will use a generic GPU kernel as fallback when running on GPU.\n"
          ]
        },
        {
          "output_type": "stream",
          "name": "stdout",
          "text": [
            "Построение модели...\n",
            "Загрузка данных...\n",
            "Downloading data from https://storage.googleapis.com/tensorflow/tf-keras-datasets/imdb.npz\n",
            "17464789/17464789 [==============================] - 1s 0us/step\n",
            "25000 тренировочные последовательности\n",
            "25000 тестовые последовательности\n",
            "Pad последовательности (примеров в x единицу времени)\n",
            "x_train shape: (25000, 100)\n",
            "x_test shape: (25000, 100)\n",
            "Процесс обучения...\n",
            "Epoch 1/10\n",
            "98/98 [==============================] - 53s 472ms/step - loss: 0.5782 - accuracy: 0.6822 - val_loss: 0.3713 - val_accuracy: 0.8408\n",
            "Epoch 2/10\n",
            "98/98 [==============================] - 41s 414ms/step - loss: 0.3276 - accuracy: 0.8694 - val_loss: 0.3437 - val_accuracy: 0.8521\n",
            "Epoch 3/10\n",
            "98/98 [==============================] - 38s 389ms/step - loss: 0.2639 - accuracy: 0.9031 - val_loss: 0.3467 - val_accuracy: 0.8490\n",
            "Epoch 4/10\n",
            "98/98 [==============================] - 40s 409ms/step - loss: 0.2138 - accuracy: 0.9224 - val_loss: 0.3912 - val_accuracy: 0.8431\n",
            "Epoch 5/10\n",
            "98/98 [==============================] - 35s 360ms/step - loss: 0.1754 - accuracy: 0.9380 - val_loss: 0.4235 - val_accuracy: 0.8420\n",
            "Epoch 6/10\n",
            "98/98 [==============================] - 40s 409ms/step - loss: 0.1445 - accuracy: 0.9490 - val_loss: 0.4689 - val_accuracy: 0.8315\n",
            "Epoch 7/10\n",
            "98/98 [==============================] - 37s 378ms/step - loss: 0.1188 - accuracy: 0.9576 - val_loss: 0.5696 - val_accuracy: 0.8342\n",
            "Epoch 8/10\n",
            "98/98 [==============================] - 37s 378ms/step - loss: 0.0953 - accuracy: 0.9672 - val_loss: 0.6074 - val_accuracy: 0.8307\n",
            "Epoch 9/10\n",
            "98/98 [==============================] - 39s 402ms/step - loss: 0.0893 - accuracy: 0.9680 - val_loss: 0.8554 - val_accuracy: 0.8258\n",
            "Epoch 10/10\n",
            "98/98 [==============================] - 36s 373ms/step - loss: 0.0755 - accuracy: 0.9740 - val_loss: 0.8153 - val_accuracy: 0.8283\n",
            "98/98 [==============================] - 3s 30ms/step - loss: 0.8153 - accuracy: 0.8283\n",
            "Результат при тестировании: 0.8153363466262817\n",
            "Тестовая точность: 0.8283200263977051\n"
          ]
        }
      ],
      "source": [
        "from __future__ import print_function\n",
        "\n",
        "from keras.preprocessing import sequence\n",
        "from keras.models import Sequential\n",
        "from keras.layers import Dense, Embedding\n",
        "from keras.layers import LSTM\n",
        "from keras.datasets import imdb\n",
        "from keras.utils import pad_sequences\n",
        "\n",
        "max_features = 10000\n",
        "\n",
        "# обрезание текстов после данного количества слов (среди top max_features наиболее используемые слова)\n",
        "maxlen = 100\n",
        "batch_size = 256 #128 # увеличьте значение для ускорения обучения\n",
        "def train_nn():\n",
        "  print('Построение модели...')\n",
        "  #model = Sequential()\n",
        "  #model.add(Embedding(max_features, 128))\n",
        "  #model.add(LSTM(128, dropout=0.4, recurrent_dropout=0.4))\n",
        "  #model.add(Dense(32, activation='relu'))\n",
        "  #model.add(Dense(1, activation='sigmoid'))\n",
        "\n",
        "  model = Sequential()\n",
        "  model.add(Embedding(max_features, 128))\n",
        "  model.add(LSTM(128, dropout=0.4, recurrent_dropout=0.4))\n",
        "  model.add(Dense(32, activation='relu'))\n",
        "  model.add(Dropout(0.4))\n",
        "  model.add(Dense(32, activation='LeakyReLU'))\n",
        "  model.add(Dropout(0.4))\n",
        "  model.add(Dense(16, activation='elu'))\n",
        "  model.add(Dropout(0.2))\n",
        "  model.add(Dense(1, activation='sigmoid'))\n",
        "\n",
        "\n",
        "  print('Загрузка данных...')\n",
        " #стоит попробовать использовать другие оптимайзер и другие конфигурации оптимайзеров\n",
        "  model.compile(loss='binary_crossentropy',\n",
        "                optimizer='Adam', # при использовании этого оптимайзера модель показывает наилучшие результаты.\n",
        "                metrics=['accuracy'])\n",
        "  (x_train, y_train), (x_test, y_test) = imdb.load_data(num_words=max_features)\n",
        "  print(len(x_train), 'тренировочные последовательности')\n",
        "  print(len(x_test), 'тестовые последовательности')\n",
        "\n",
        "  print('Pad последовательности (примеров в x единицу времени)')\n",
        "  x_train = pad_sequences(x_train, maxlen=maxlen)\n",
        "  x_test = pad_sequences(x_test, maxlen=maxlen)\n",
        "  print('x_train shape:', x_train.shape)\n",
        "  print('x_test shape:', x_test.shape)\n",
        "\n",
        "  print('Процесс обучения...')\n",
        "  model.fit(x_train, y_train,\n",
        "            batch_size=batch_size,\n",
        "            epochs=10, # увеличьте при необходимости\n",
        "            validation_data=(x_test, y_test))\n",
        "  score, acc = model.evaluate(x_test, y_test,\n",
        "                              batch_size=batch_size)\n",
        "  print('Результат при тестировании:', score)\n",
        "  print('Тестовая точность:', acc)\n",
        "\n",
        "\n",
        "\n",
        "train_nn()\n",
        "  #"
      ]
    },
    {
      "cell_type": "markdown",
      "source": [
        "Слои дропаут повышают качество модели."
      ],
      "metadata": {
        "id": "exQaG4a8u0qf"
      }
    },
    {
      "cell_type": "code",
      "source": [],
      "metadata": {
        "id": "fwQV-0riuyqq"
      },
      "execution_count": null,
      "outputs": []
    },
    {
      "cell_type": "code",
      "source": [
        "batch_size = 128\n",
        "maxlen = 128\n",
        "from keras.layers import Dropout, ConvLSTM1D"
      ],
      "metadata": {
        "id": "vIGXm9PGDZ3n"
      },
      "execution_count": null,
      "outputs": []
    },
    {
      "cell_type": "code",
      "source": [
        "batch_size = 256\n",
        "epochs = 20\n",
        "\n",
        "model = Sequential()\n",
        "model.add(Embedding(max_features, 128))\n",
        "model.add(LSTM(128, dropout=0.4, recurrent_dropout=0.4))\n",
        "model.add(Dense(32, activation='relu'))\n",
        "model.add(Dropout(0.4))\n",
        "model.add(Dense(32, activation='LeakyReLU'))\n",
        "model.add(Dropout(0.4))\n",
        "model.add(Dense(16, activation='elu'))\n",
        "model.add(Dropout(0.2))\n",
        "model.add(Dense(1, activation='sigmoid'))\n",
        "\n",
        "# Use a different optimizer\n",
        "model.compile(loss='binary_crossentropy',\n",
        "              optimizer='RMSprop',\n",
        "              metrics=['accuracy'])\n",
        "(x_train, y_train), (x_test, y_test) = imdb.load_data(num_words=max_features)\n",
        "\n",
        "# Train the model\n",
        "model.fit(x_train, y_train,\n",
        "            batch_size=batch_size,\n",
        "            epochs=epochs,\n",
        "            validation_data=(x_test, y_test))\n"
      ],
      "metadata": {
        "id": "GPeBDkufab_a",
        "colab": {
          "base_uri": "https://localhost:8080/",
          "height": 408
        },
        "outputId": "69c58d42-a465-43e2-c9a7-b5074d68dce0"
      },
      "execution_count": null,
      "outputs": [
        {
          "output_type": "stream",
          "name": "stderr",
          "text": [
            "WARNING:tensorflow:Layer lstm_11 will not use cuDNN kernels since it doesn't meet the criteria. It will use a generic GPU kernel as fallback when running on GPU.\n"
          ]
        },
        {
          "output_type": "error",
          "ename": "ValueError",
          "evalue": "Failed to convert a NumPy array to a Tensor (Unsupported object type list).",
          "traceback": [
            "\u001b[0;31m---------------------------------------------------------------------------\u001b[0m",
            "\u001b[0;31mValueError\u001b[0m                                Traceback (most recent call last)",
            "\u001b[0;32m<ipython-input-84-529feab7ed57>\u001b[0m in \u001b[0;36m<cell line: 22>\u001b[0;34m()\u001b[0m\n\u001b[1;32m     20\u001b[0m \u001b[0;34m\u001b[0m\u001b[0m\n\u001b[1;32m     21\u001b[0m \u001b[0;31m# Train the model\u001b[0m\u001b[0;34m\u001b[0m\u001b[0;34m\u001b[0m\u001b[0m\n\u001b[0;32m---> 22\u001b[0;31m model.fit(x_train, y_train,\n\u001b[0m\u001b[1;32m     23\u001b[0m             \u001b[0mbatch_size\u001b[0m\u001b[0;34m=\u001b[0m\u001b[0mbatch_size\u001b[0m\u001b[0;34m,\u001b[0m\u001b[0;34m\u001b[0m\u001b[0;34m\u001b[0m\u001b[0m\n\u001b[1;32m     24\u001b[0m             \u001b[0mepochs\u001b[0m\u001b[0;34m=\u001b[0m\u001b[0mepochs\u001b[0m\u001b[0;34m,\u001b[0m\u001b[0;34m\u001b[0m\u001b[0;34m\u001b[0m\u001b[0m\n",
            "\u001b[0;32m/usr/local/lib/python3.10/dist-packages/keras/src/utils/traceback_utils.py\u001b[0m in \u001b[0;36merror_handler\u001b[0;34m(*args, **kwargs)\u001b[0m\n\u001b[1;32m     68\u001b[0m             \u001b[0;31m# To get the full stack trace, call:\u001b[0m\u001b[0;34m\u001b[0m\u001b[0;34m\u001b[0m\u001b[0m\n\u001b[1;32m     69\u001b[0m             \u001b[0;31m# `tf.debugging.disable_traceback_filtering()`\u001b[0m\u001b[0;34m\u001b[0m\u001b[0;34m\u001b[0m\u001b[0m\n\u001b[0;32m---> 70\u001b[0;31m             \u001b[0;32mraise\u001b[0m \u001b[0me\u001b[0m\u001b[0;34m.\u001b[0m\u001b[0mwith_traceback\u001b[0m\u001b[0;34m(\u001b[0m\u001b[0mfiltered_tb\u001b[0m\u001b[0;34m)\u001b[0m \u001b[0;32mfrom\u001b[0m \u001b[0;32mNone\u001b[0m\u001b[0;34m\u001b[0m\u001b[0;34m\u001b[0m\u001b[0m\n\u001b[0m\u001b[1;32m     71\u001b[0m         \u001b[0;32mfinally\u001b[0m\u001b[0;34m:\u001b[0m\u001b[0;34m\u001b[0m\u001b[0;34m\u001b[0m\u001b[0m\n\u001b[1;32m     72\u001b[0m             \u001b[0;32mdel\u001b[0m \u001b[0mfiltered_tb\u001b[0m\u001b[0;34m\u001b[0m\u001b[0;34m\u001b[0m\u001b[0m\n",
            "\u001b[0;32m/usr/local/lib/python3.10/dist-packages/tensorflow/python/framework/constant_op.py\u001b[0m in \u001b[0;36mconvert_to_eager_tensor\u001b[0;34m(value, ctx, dtype)\u001b[0m\n\u001b[1;32m    101\u001b[0m       \u001b[0mdtype\u001b[0m \u001b[0;34m=\u001b[0m \u001b[0mdtypes\u001b[0m\u001b[0;34m.\u001b[0m\u001b[0mas_dtype\u001b[0m\u001b[0;34m(\u001b[0m\u001b[0mdtype\u001b[0m\u001b[0;34m)\u001b[0m\u001b[0;34m.\u001b[0m\u001b[0mas_datatype_enum\u001b[0m\u001b[0;34m\u001b[0m\u001b[0;34m\u001b[0m\u001b[0m\n\u001b[1;32m    102\u001b[0m   \u001b[0mctx\u001b[0m\u001b[0;34m.\u001b[0m\u001b[0mensure_initialized\u001b[0m\u001b[0;34m(\u001b[0m\u001b[0;34m)\u001b[0m\u001b[0;34m\u001b[0m\u001b[0;34m\u001b[0m\u001b[0m\n\u001b[0;32m--> 103\u001b[0;31m   \u001b[0;32mreturn\u001b[0m \u001b[0mops\u001b[0m\u001b[0;34m.\u001b[0m\u001b[0mEagerTensor\u001b[0m\u001b[0;34m(\u001b[0m\u001b[0mvalue\u001b[0m\u001b[0;34m,\u001b[0m \u001b[0mctx\u001b[0m\u001b[0;34m.\u001b[0m\u001b[0mdevice_name\u001b[0m\u001b[0;34m,\u001b[0m \u001b[0mdtype\u001b[0m\u001b[0;34m)\u001b[0m\u001b[0;34m\u001b[0m\u001b[0;34m\u001b[0m\u001b[0m\n\u001b[0m\u001b[1;32m    104\u001b[0m \u001b[0;34m\u001b[0m\u001b[0m\n\u001b[1;32m    105\u001b[0m \u001b[0;34m\u001b[0m\u001b[0m\n",
            "\u001b[0;31mValueError\u001b[0m: Failed to convert a NumPy array to a Tensor (Unsupported object type list)."
          ]
        }
      ]
    },
    {
      "cell_type": "code",
      "source": [
        "from keras.backend import dropout\n",
        "def train_nn_1():\n",
        "  print('Загрузка данных...')\n",
        "  (x_train, y_train), (x_test, y_test) = imdb.load_data(num_words=max_features)\n",
        "  print(len(x_train), 'тренировочные последовательности')\n",
        "  print(len(x_test), 'тестовые последовательности')\n",
        "\n",
        "  print('Pad последовательности (примеров в x единицу времени)')\n",
        "  x_train = pad_sequences(x_train, maxlen=maxlen)\n",
        "  x_test = pad_sequences(x_test, maxlen=maxlen)\n",
        "  print('x_train shape:', x_train.shape)\n",
        "  print('x_test shape:', x_test.shape)\n",
        "\n",
        "  print('Построение модели...')\n",
        "  model = Sequential()\n",
        "  model.add(Embedding(max_features, 128))\n",
        "  model.add(LSTM(128, dropout=0.4, recurrent_dropout=0.4))\n",
        "  model.add(Dense(32, activation='relu'))\n",
        "  model.add(Dropout(0.4))\n",
        "  model.add(Dense(32, activation='LeakyReLU'))            # New line\n",
        "  model.add(Dropout(0.4))\n",
        "  model.add(Dense(16, activation='elu'))\n",
        "  model.add(Dropout(0.2))                                  # New line\n",
        "  model.add(Dense(1, activation='sigmoid'))\n",
        "\n",
        "  # стоит попробовать использовать другие оптимайзер и другие конфигурации оптимайзеров\n",
        "  model.compile(loss='binary_crossentropy',\n",
        "                optimizer='RMSprop', # при использовании этого оптимайзера модель показывает наилучшие результаты.\n",
        "                metrics=['accuracy'])\n",
        "\n",
        "  print('Процесс обучения...')\n",
        "  model.fit(x_train, y_train,\n",
        "            batch_size=batch_size,\n",
        "            epochs=10, # увеличьте при необходимости\n",
        "            validation_data=(x_test, y_test))\n",
        "  score, acc = model.evaluate(x_test, y_test,\n",
        "                              batch_size=batch_size)\n",
        "  print('Результат при тестировании:', score)\n",
        "  print('Тестовая точность:', acc)\n",
        "train_nn_1()"
      ],
      "metadata": {
        "colab": {
          "base_uri": "https://localhost:8080/"
        },
        "id": "XWHzc_8DCpe9",
        "outputId": "bfbbc5e6-8939-4907-acd9-d034e1078016"
      },
      "execution_count": null,
      "outputs": [
        {
          "output_type": "stream",
          "name": "stdout",
          "text": [
            "Загрузка данных...\n",
            "25000 тренировочные последовательности\n",
            "25000 тестовые последовательности\n",
            "Pad последовательности (примеров в x единицу времени)\n"
          ]
        },
        {
          "output_type": "stream",
          "name": "stderr",
          "text": [
            "WARNING:tensorflow:Layer lstm_10 will not use cuDNN kernels since it doesn't meet the criteria. It will use a generic GPU kernel as fallback when running on GPU.\n"
          ]
        },
        {
          "output_type": "stream",
          "name": "stdout",
          "text": [
            "x_train shape: (25000, 128)\n",
            "x_test shape: (25000, 128)\n",
            "Построение модели...\n",
            "Процесс обучения...\n",
            "Epoch 1/10\n",
            "98/98 [==============================] - 59s 557ms/step - loss: 0.6845 - accuracy: 0.5523 - val_loss: 0.6127 - val_accuracy: 0.7154\n",
            "Epoch 2/10\n",
            "98/98 [==============================] - 49s 502ms/step - loss: 0.5007 - accuracy: 0.7755 - val_loss: 0.4104 - val_accuracy: 0.8234\n",
            "Epoch 3/10\n",
            "98/98 [==============================] - 47s 473ms/step - loss: 0.3981 - accuracy: 0.8389 - val_loss: 0.4247 - val_accuracy: 0.8053\n",
            "Epoch 4/10\n",
            "98/98 [==============================] - 48s 489ms/step - loss: 0.3414 - accuracy: 0.8658 - val_loss: 0.3247 - val_accuracy: 0.8604\n",
            "Epoch 5/10\n",
            "98/98 [==============================] - 47s 483ms/step - loss: 0.3144 - accuracy: 0.8788 - val_loss: 0.3205 - val_accuracy: 0.8635\n",
            "Epoch 6/10\n",
            "98/98 [==============================] - 48s 492ms/step - loss: 0.2885 - accuracy: 0.8916 - val_loss: 0.3350 - val_accuracy: 0.8640\n",
            "Epoch 7/10\n",
            "98/98 [==============================] - 47s 476ms/step - loss: 0.2719 - accuracy: 0.8989 - val_loss: 0.4707 - val_accuracy: 0.8203\n",
            "Epoch 8/10\n",
            "98/98 [==============================] - 45s 457ms/step - loss: 0.2529 - accuracy: 0.9059 - val_loss: 0.3402 - val_accuracy: 0.8637\n",
            "Epoch 9/10\n",
            "98/98 [==============================] - 47s 476ms/step - loss: 0.2371 - accuracy: 0.9118 - val_loss: 0.3418 - val_accuracy: 0.8553\n",
            "Epoch 10/10\n",
            "98/98 [==============================] - 46s 472ms/step - loss: 0.2170 - accuracy: 0.9216 - val_loss: 0.3527 - val_accuracy: 0.8574\n",
            "98/98 [==============================] - 5s 50ms/step - loss: 0.3527 - accuracy: 0.8574\n",
            "Результат при тестировании: 0.3526669144630432\n",
            "Тестовая точность: 0.8573600053787231\n"
          ]
        }
      ]
    },
    {
      "cell_type": "code",
      "source": [
        "from keras.datasets import imdb"
      ],
      "metadata": {
        "id": "GCKm0rcQ8sYX"
      },
      "execution_count": null,
      "outputs": []
    },
    {
      "cell_type": "code",
      "source": [
        "(x_train, y_train), (x_test, y_test) = imdb.load_data(num_words=max_features)"
      ],
      "metadata": {
        "id": "wjtwMIdcEMqp"
      },
      "execution_count": null,
      "outputs": []
    },
    {
      "cell_type": "code",
      "source": [
        "x_train = pad_sequences(x_train, maxlen=maxlen)\n",
        "x_test = pad_sequences(x_test, maxlen=maxlen)"
      ],
      "metadata": {
        "id": "eI_PbcshnQhH"
      },
      "execution_count": null,
      "outputs": []
    },
    {
      "cell_type": "code",
      "source": [
        "X_train = x_train.reshape((x_train.shape[0], 1, 128, 1))\n",
        "X_test = x_test.reshape((x_test.shape[0], 1, 128, 1))\n"
      ],
      "metadata": {
        "id": "RaiyolPUpNnh"
      },
      "execution_count": null,
      "outputs": []
    },
    {
      "cell_type": "code",
      "source": [
        "def train_nn_2(X_train, y_train,X_test, y_test):\n",
        "  # print('Загрузка данных...')\n",
        "  # (x_train, y_train), (x_test, y_test) = imdb.load_data(num_words=max_features)\n",
        "  # print(len(x_train), 'тренировочные последовательности')\n",
        "  # print(len(x_test), 'тестовые последовательности')\n",
        "\n",
        "  # print('Pad последовательности (примеров в x единицу времени)')\n",
        "  # x_train = pad_sequences(x_train, maxlen=maxlen)\n",
        "  # x_test = pad_sequences(x_test, maxlen=maxlen)\n",
        "  # print('x_train shape:', x_train.shape)\n",
        "  # print('x_test shape:', x_test.shape)\n",
        "\n",
        "  print('Построение модели...')\n",
        "  model = Sequential()\n",
        "  #model.add(Embedding(max_features, 128))\n",
        "  model.add(ConvLSTM1D(128,kernel_size=32, dropout=0.4, recurrent_dropout=0.4))\n",
        "  model.add(Dense(32, activation='relu'))\n",
        "  model.add(Dropout(0.4))\n",
        "  model.add(Dense(32, activation='LeakyReLU'))            # New line\n",
        "  model.add(Dropout(0.4))\n",
        "  model.add(Dense(16, activation='elu'))\n",
        "  model.add(Dropout(0.2))                                  # New line\n",
        "  model.add(Dense(1, activation='sigmoid'))\n",
        "\n",
        "  # стоит попробовать использовать другие оптимайзер и другие конфигурации оптимайзеров\n",
        "  model.compile(loss='binary_crossentropy',\n",
        "                optimizer='Adam', # при использовании этого оптимайзера модель показывает наилучшие результаты.\n",
        "                metrics=['accuracy'])\n",
        "\n",
        "  print('Процесс обучения...')\n",
        "  model.fit(x_train, y_train,\n",
        "            batch_size=batch_size,\n",
        "            epochs=10, # увеличьте при необходимости\n",
        "            validation_data=(x_test, y_test))\n",
        "  score, acc = model.evaluate(x_test, y_test,\n",
        "                              batch_size=batch_size)\n",
        "  print('Результат при тестировании:', score)\n",
        "  print('Тестовая точность:', acc)\n"
      ],
      "metadata": {
        "id": "fqH7wDDbqd6a"
      },
      "execution_count": null,
      "outputs": []
    },
    {
      "cell_type": "code",
      "source": [
        "train_nn_1(X_train, y_train,X_test, y_test)"
      ],
      "metadata": {
        "colab": {
          "base_uri": "https://localhost:8080/",
          "height": 176
        },
        "id": "mVk1wvfnrYQC",
        "outputId": "d3944188-58d3-433f-c209-adacc1b36da9"
      },
      "execution_count": null,
      "outputs": [
        {
          "output_type": "error",
          "ename": "TypeError",
          "evalue": "train_nn_1() takes 0 positional arguments but 4 were given",
          "traceback": [
            "\u001b[0;31m---------------------------------------------------------------------------\u001b[0m",
            "\u001b[0;31mTypeError\u001b[0m                                 Traceback (most recent call last)",
            "\u001b[0;32m<ipython-input-82-0cb358c24cba>\u001b[0m in \u001b[0;36m<cell line: 1>\u001b[0;34m()\u001b[0m\n\u001b[0;32m----> 1\u001b[0;31m \u001b[0mtrain_nn_1\u001b[0m\u001b[0;34m(\u001b[0m\u001b[0mX_train\u001b[0m\u001b[0;34m,\u001b[0m \u001b[0my_train\u001b[0m\u001b[0;34m,\u001b[0m\u001b[0mX_test\u001b[0m\u001b[0;34m,\u001b[0m \u001b[0my_test\u001b[0m\u001b[0;34m)\u001b[0m\u001b[0;34m\u001b[0m\u001b[0;34m\u001b[0m\u001b[0m\n\u001b[0m",
            "\u001b[0;31mTypeError\u001b[0m: train_nn_1() takes 0 positional arguments but 4 were given"
          ]
        }
      ]
    },
    {
      "cell_type": "code",
      "source": [],
      "metadata": {
        "id": "CwkhewmMsO-_"
      },
      "execution_count": null,
      "outputs": []
    }
  ],
  "metadata": {
    "colab": {
      "provenance": [],
      "gpuType": "T4"
    },
    "kernelspec": {
      "display_name": "Python 3",
      "name": "python3"
    },
    "language_info": {
      "codemirror_mode": {
        "name": "ipython",
        "version": 3
      },
      "file_extension": ".py",
      "mimetype": "text/x-python",
      "name": "python",
      "nbconvert_exporter": "python",
      "pygments_lexer": "ipython3",
      "version": "3.7.7"
    },
    "accelerator": "GPU"
  },
  "nbformat": 4,
  "nbformat_minor": 0
}