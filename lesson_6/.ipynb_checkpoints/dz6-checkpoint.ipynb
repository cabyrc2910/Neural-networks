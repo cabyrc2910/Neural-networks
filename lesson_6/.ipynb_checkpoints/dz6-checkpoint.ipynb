{
 "cells": [
  {
   "cell_type": "code",
   "execution_count": 1,
   "metadata": {
    "id": "TdJdbFRGcQW3"
   },
   "outputs": [],
   "source": [
    "from PIL import Image\n",
    "import numpy as np\n",
    "import matplotlib.pyplot as plt\n",
    "import os\n",
    "import tensorflow as tf\n",
    "from keras.models import Model\n",
    "from keras.layers import Input, Conv2D, MaxPooling2D, Dropout, concatenate, Conv2DTranspose\n",
    "from keras.optimizers import Adam\n",
    "from keras.utils import to_categorical\n"
   ]
  },
  {
   "cell_type": "code",
   "execution_count": 2,
   "metadata": {
    "id": "yk_1vhc3cT0v"
   },
   "outputs": [],
   "source": [
    "# Загрузка и предобработка данных\n",
    "def download_data(path):\n",
    "    data = []\n",
    "    for path_image in sorted(os.listdir(path=path)):\n",
    "        image = Image.open(path + path_image) # Открываем изображение.\n",
    "        data.append(np.array(image)) # Загружаем пиксели.\n",
    "    return data\n",
    "\n",
    "def resize(input_image, input_mask):\n",
    "    input_image = tf.image.resize(input_image, (128, 128), method=\"nearest\")\n",
    "    input_mask = tf.image.resize(input_mask, (128, 128), method=\"nearest\")\n",
    "    return input_image, input_mask"
   ]
  },
  {
   "cell_type": "code",
   "execution_count": 3,
   "metadata": {
    "id": "vf2LxGrkcX1e"
   },
   "outputs": [],
   "source": [
    "X_train = download_data(r\"train/images/\")\n",
    "Y_train = download_data(r\"train/masks/\")\n",
    "X_test = download_data(r\"test/images/\")\n",
    "Y_test = download_data(r\"test/masks/\")\n"
   ]
  },
  {
   "cell_type": "code",
   "execution_count": 4,
   "metadata": {
    "id": "YGdx8qwwcXvv"
   },
   "outputs": [],
   "source": [
    "X_train, Y_train = resize(X_train, Y_train)\n",
    "X_test, Y_test = resize(X_test, Y_test)"
   ]
  },
  {
   "cell_type": "code",
   "execution_count": 5,
   "metadata": {
    "id": "DmyipS50cg9u"
   },
   "outputs": [],
   "source": [
    "# Определение палитры цветов\n",
    "palette = {\n",
    "    (60, 16, 152): 0,    # Building\n",
    "    (132, 41, 246): 1,   # Land\n",
    "    (110, 193, 228): 2,  # Road\n",
    "    (254, 221, 58): 3,   # Vegetation\n",
    "    (226, 169, 41): 4,   # Water\n",
    "    (155, 155, 155): 5   # Unlabeled\n",
    "}"
   ]
  },
  {
   "cell_type": "code",
   "execution_count": 6,
   "metadata": {
    "id": "W8enk3fWcjQm"
   },
   "outputs": [],
   "source": [
    "# Инвертированная палитра\n",
    "invert_palette = {v: k for k, v in palette.items()}\n",
    "\n",
    "def convert_from_color(arr_3d, palette=invert_palette):\n",
    "    \"\"\" RGB-color encoding to grayscale labels \"\"\"\n",
    "    arr_2d = np.zeros((arr_3d.shape[0], arr_3d.shape[1]), dtype=np.int8)\n",
    "    for c, i in palette.items():\n",
    "        m = np.all(arr_3d == np.array(c).reshape(1, 1, 3), axis=2)\n",
    "        arr_2d[m] = i\n",
    "\n",
    "    arr_2d = arr_2d.tolist()\n",
    "    for i in range(len(arr_2d)):\n",
    "        for j in range(len(arr_2d[0])):\n",
    "            label = [0, 0, 0, 0, 0, 0]\n",
    "            label[arr_2d[i][j]] = 1\n",
    "            arr_2d[i][j] = label\n",
    "    arr_2d = np.array(arr_2d)\n",
    "\n",
    "    return arr_2d"
   ]
  },
  {
   "cell_type": "code",
   "execution_count": 7,
   "metadata": {
    "id": "Z68IJOAkcnUe"
   },
   "outputs": [],
   "source": [
    "# Преобразование меток данных в one-hot encoded формат с использованием палитры цветов\n",
    "Y_train_pred = []\n",
    "for i in range(len(Y_train)):\n",
    "    Y_train_pred.append(convert_from_color(Y_train[i][:, :, :3], palette))\n",
    "Y_train_pred = np.array(Y_train_pred)\n",
    "\n",
    "Y_test_pred = []\n",
    "for i in range(len(Y_test)):\n",
    "    Y_test_pred.append(convert_from_color(Y_test[i][:, :, :3], palette))\n",
    "Y_test_pred = np.array(Y_test_pred)"
   ]
  },
  {
   "cell_type": "code",
   "execution_count": 8,
   "metadata": {
    "id": "Fvq65zWIcp-O"
   },
   "outputs": [],
   "source": [
    "# Определение U-Net модели\n",
    "def conv_block(inputs, filters, kernel_size=(3, 3), activation='relu', padding='same'):\n",
    "    conv = Conv2D(filters, kernel_size, activation=activation, padding=padding)(inputs)\n",
    "    conv = Conv2D(filters, kernel_size, activation=activation, padding=padding)(conv)\n",
    "    return conv"
   ]
  },
  {
   "cell_type": "code",
   "execution_count": 9,
   "metadata": {
    "id": "Q5i0fKJDctVe"
   },
   "outputs": [],
   "source": [
    "def build_unet_model(input_shape, num_classes):\n",
    "    inputs = Input(input_shape)\n",
    "\n",
    "    # Encoder\n",
    "    conv1 = conv_block(inputs, 64)\n",
    "    pool1 = MaxPooling2D(pool_size=(2, 2))(conv1)\n",
    "\n",
    "    conv2 = conv_block(pool1, 128)\n",
    "    pool2 = MaxPooling2D(pool_size=(2, 2))(conv2)\n",
    "\n",
    "    conv3 = conv_block(pool2, 256)\n",
    "    pool3 = MaxPooling2D(pool_size=(2, 2))(conv3)\n",
    "\n",
    "    conv4 = conv_block(pool3, 512)\n",
    "    pool4 = MaxPooling2D(pool_size=(2, 2))(conv4)\n",
    "\n",
    "    conv5 = conv_block(pool4, 1024)\n",
    "\n",
    "    # Decoder\n",
    "    up6 = Conv2DTranspose(512, (2, 2), strides=(2, 2), padding='same')(conv5)\n",
    "    up6 = concatenate([up6, conv4], axis=3)\n",
    "    conv6 = conv_block(up6, 512)\n",
    "\n",
    "    up7 = Conv2DTranspose(256, (2, 2), strides=(2, 2), padding='same')(conv6)\n",
    "    up7 = concatenate([up7, conv3], axis=3)\n",
    "    conv7 = conv_block(up7, 256)\n",
    "\n",
    "    up8 = Conv2DTranspose(128, (2, 2), strides=(2, 2), padding='same')(conv7)\n",
    "    up8 = concatenate([up8, conv2], axis=3)\n",
    "    conv8 = conv_block(up8, 128)\n",
    "\n",
    "    up9 = Conv2DTranspose(64, (2, 2), strides=(2, 2), padding='same')(conv8)\n",
    "    up9 = concatenate([up9, conv1], axis=3)\n",
    "    conv9 = conv_block(up9, 64)\n",
    "\n",
    "    outputs = Conv2D(num_classes, (1, 1), activation='softmax')(conv9)\n",
    "\n",
    "    model = Model(inputs=[inputs], outputs=[outputs])\n",
    "    return model"
   ]
  },
  {
   "cell_type": "code",
   "execution_count": 10,
   "metadata": {
    "id": "LdeN5gABcwO2"
   },
   "outputs": [],
   "source": [
    "# Определение архитектуры модели и компиляция\n",
    "input_shape = (128, 128, 3)\n",
    "num_classes = 6  # Предполагается 6 классов для сегментации\n",
    "\n",
    "unet_model = build_unet_model(input_shape, num_classes)\n",
    "unet_model.compile(optimizer=Adam(), loss='categorical_crossentropy', metrics=['accuracy'])"
   ]
  },
  {
   "cell_type": "code",
   "execution_count": 11,
   "metadata": {
    "colab": {
     "base_uri": "https://localhost:8080/"
    },
    "id": "1ILixCRvc0Be",
    "outputId": "94711d96-5462-4e24-c66d-91fe49a753a6"
   },
   "outputs": [
    {
     "name": "stdout",
     "output_type": "stream",
     "text": [
      "Epoch 1/5\n",
      "1/1 [==============================] - 3s 3s/step - loss: 1.7864 - accuracy: 0.1067 - val_loss: 1.6098 - val_accuracy: 0.5855\n",
      "Epoch 2/5\n",
      "1/1 [==============================] - 2s 2s/step - loss: 1.6016 - accuracy: 0.6007 - val_loss: 1.3069 - val_accuracy: 0.5855\n",
      "Epoch 3/5\n",
      "1/1 [==============================] - 2s 2s/step - loss: 1.2757 - accuracy: 0.6007 - val_loss: 6.4925 - val_accuracy: 0.5855\n",
      "Epoch 4/5\n",
      "1/1 [==============================] - 2s 2s/step - loss: 6.5434 - accuracy: 0.6007 - val_loss: 1.1649 - val_accuracy: 0.5855\n",
      "Epoch 5/5\n",
      "1/1 [==============================] - 2s 2s/step - loss: 1.1328 - accuracy: 0.6007 - val_loss: 1.3111 - val_accuracy: 0.5855\n"
     ]
    }
   ],
   "source": [
    "# Обучение модели\n",
    "history = unet_model.fit(np.array(X_train)/255, Y_train_pred, epochs=5, validation_data=(np.array(X_test)/255, Y_test_pred))"
   ]
  },
  {
   "cell_type": "code",
   "execution_count": null,
   "metadata": {
    "id": "vLdJi29gdp1e"
   },
   "outputs": [],
   "source": [
    "out = unet_model.predict(X_test_pred, batch_size=1)\n",
    "\n",
    "I = 0 # номер картинки после обработки нейронной сетью\n",
    "plt.imshow(np.array(X_test)[I])\n",
    "plt.show()\n",
    "plt.imshow(np.array(Y_test)[I])\n",
    "plt.show()\n",
    "plt.imshow(convert_to_color(np.argmax(out[I], axis=-1)))\n",
    "plt.show()"
   ]
  },
  {
   "cell_type": "code",
   "execution_count": 13,
   "metadata": {
    "colab": {
     "base_uri": "https://localhost:8080/"
    },
    "id": "4cTSzKgFo-ob",
    "outputId": "2c6710c3-534f-46ef-d95e-eb2c87475a0e"
   },
   "outputs": [
    {
     "name": "stdout",
     "output_type": "stream",
     "text": [
      "Epoch 1/10\n"
     ]
    },
    {
     "name": "stderr",
     "output_type": "stream",
     "text": [
      "C:\\Users\\Иван\\AppData\\Roaming\\Python\\Python39\\site-packages\\keras\\optimizers\\legacy\\gradient_descent.py:114: UserWarning: The `lr` argument is deprecated, use `learning_rate` instead.\n",
      "  super().__init__(name, **kwargs)\n"
     ]
    },
    {
     "name": "stdout",
     "output_type": "stream",
     "text": [
      "1/1 [==============================] - 3s 3s/step - loss: 1.7698 - accuracy: 0.3477 - val_loss: 1.7521 - val_accuracy: 0.5790\n",
      "Epoch 2/10\n",
      "1/1 [==============================] - 2s 2s/step - loss: 1.7531 - accuracy: 0.5930 - val_loss: 1.7236 - val_accuracy: 0.5854\n",
      "Epoch 3/10\n",
      "1/1 [==============================] - 2s 2s/step - loss: 1.7220 - accuracy: 0.6007 - val_loss: 1.6844 - val_accuracy: 0.5855\n",
      "Epoch 4/10\n",
      "1/1 [==============================] - 2s 2s/step - loss: 1.6794 - accuracy: 0.6007 - val_loss: 1.6307 - val_accuracy: 0.5855\n",
      "Epoch 5/10\n",
      "1/1 [==============================] - 2s 2s/step - loss: 1.6218 - accuracy: 0.6007 - val_loss: 1.5552 - val_accuracy: 0.5855\n",
      "Epoch 6/10\n",
      "1/1 [==============================] - 2s 2s/step - loss: 1.5422 - accuracy: 0.6007 - val_loss: 1.4519 - val_accuracy: 0.5855\n",
      "Epoch 7/10\n",
      "1/1 [==============================] - 2s 2s/step - loss: 1.4348 - accuracy: 0.6007 - val_loss: 1.3197 - val_accuracy: 0.5855\n",
      "Epoch 8/10\n",
      "1/1 [==============================] - 2s 2s/step - loss: 1.2998 - accuracy: 0.6007 - val_loss: 1.1830 - val_accuracy: 0.5855\n",
      "Epoch 9/10\n",
      "1/1 [==============================] - 2s 2s/step - loss: 1.1644 - accuracy: 0.6007 - val_loss: 1.1227 - val_accuracy: 0.5855\n",
      "Epoch 10/10\n",
      "1/1 [==============================] - 2s 2s/step - loss: 1.1148 - accuracy: 0.6007 - val_loss: 1.1846 - val_accuracy: 0.5855\n"
     ]
    }
   ],
   "source": [
    "from keras.optimizers import SGD\n",
    "\n",
    "# Определение архитектуры модели и компиляция\n",
    "input_shape = (128, 128, 3)\n",
    "num_classes = 6  # Предполагается 6 классов для сегментации\n",
    "\n",
    "unet_model = build_unet_model(input_shape, num_classes)\n",
    "\n",
    "# Использование оптимизатора SGD с параметрами по умолчанию\n",
    "optimizer = SGD(lr=0.01, momentum=0.9)  # Установка скорости обучения и параметра момента\n",
    "\n",
    "unet_model.compile(optimizer=optimizer, loss='categorical_crossentropy', metrics=['accuracy'])\n",
    "\n",
    "# Обучение модели\n",
    "history = unet_model.fit(np.array(X_train)/255, Y_train_pred, epochs=10, validation_data=(np.array(X_test)/255, Y_test_pred))"
   ]
  },
  {
   "cell_type": "code",
   "execution_count": 14,
   "metadata": {
    "colab": {
     "base_uri": "https://localhost:8080/"
    },
    "id": "X11Dh9Xuqx1c",
    "outputId": "895cf846-4214-439d-86fb-74b094f195ff"
   },
   "outputs": [
    {
     "name": "stdout",
     "output_type": "stream",
     "text": [
      "Epoch 1/10\n"
     ]
    },
    {
     "name": "stderr",
     "output_type": "stream",
     "text": [
      "C:\\Users\\Иван\\AppData\\Roaming\\Python\\Python39\\site-packages\\keras\\optimizers\\legacy\\adagrad.py:84: UserWarning: The `lr` argument is deprecated, use `learning_rate` instead.\n",
      "  super().__init__(name, **kwargs)\n"
     ]
    },
    {
     "name": "stdout",
     "output_type": "stream",
     "text": [
      "1/1 [==============================] - 3s 3s/step - loss: 1.7941 - accuracy: 0.1048 - val_loss: 1.7263 - val_accuracy: 0.5898\n",
      "Epoch 2/10\n",
      "1/1 [==============================] - 2s 2s/step - loss: 1.7302 - accuracy: 0.5984 - val_loss: 1.6566 - val_accuracy: 0.5854\n",
      "Epoch 3/10\n",
      "1/1 [==============================] - 2s 2s/step - loss: 1.6608 - accuracy: 0.6009 - val_loss: 1.5831 - val_accuracy: 0.5855\n",
      "Epoch 4/10\n",
      "1/1 [==============================] - 2s 2s/step - loss: 1.5885 - accuracy: 0.6007 - val_loss: 1.4894 - val_accuracy: 0.5855\n",
      "Epoch 5/10\n",
      "1/1 [==============================] - 2s 2s/step - loss: 1.4971 - accuracy: 0.6007 - val_loss: 1.3770 - val_accuracy: 0.5855\n",
      "Epoch 6/10\n",
      "1/1 [==============================] - 2s 2s/step - loss: 1.3883 - accuracy: 0.6007 - val_loss: 1.2591 - val_accuracy: 0.5855\n",
      "Epoch 7/10\n",
      "1/1 [==============================] - 2s 2s/step - loss: 1.2758 - accuracy: 0.6007 - val_loss: 1.1732 - val_accuracy: 0.5855\n",
      "Epoch 8/10\n",
      "1/1 [==============================] - 2s 2s/step - loss: 1.1963 - accuracy: 0.6007 - val_loss: 1.1346 - val_accuracy: 0.5855\n",
      "Epoch 9/10\n",
      "1/1 [==============================] - 2s 2s/step - loss: 1.1608 - accuracy: 0.6007 - val_loss: 1.1196 - val_accuracy: 0.5855\n",
      "Epoch 10/10\n",
      "1/1 [==============================] - 2s 2s/step - loss: 1.1439 - accuracy: 0.6007 - val_loss: 1.1105 - val_accuracy: 0.5855\n"
     ]
    }
   ],
   "source": [
    "from keras.optimizers import Adagrad\n",
    "\n",
    "# Определение архитектуры модели и компиляция\n",
    "input_shape = (128, 128, 3)\n",
    "num_classes = 6  # Предполагается 6 классов для сегментации\n",
    "\n",
    "unet_model = build_unet_model(input_shape, num_classes)\n",
    "\n",
    "# Использование оптимизатора Adagrad с параметром скорости обучения lr=0.01\n",
    "optimizer = Adagrad(lr=0.01)\n",
    "\n",
    "unet_model.compile(optimizer=optimizer, loss='categorical_crossentropy', metrics=['accuracy'])\n",
    "\n",
    "# Обучение модели\n",
    "history = unet_model.fit(np.array(X_train)/255, Y_train_pred, epochs=10, validation_data=(np.array(X_test)/255, Y_test_pred))\n"
   ]
  },
  {
   "cell_type": "markdown",
   "metadata": {
    "id": "C22a_f1osnul"
   },
   "source": [
    "# Вывод\n",
    "\n",
    "На ималых данных удалось добиться только val_accuracy: 0.5855. При изменении оптимизаторов нет существенных изменеий."
   ]
  }
 ],
 "metadata": {
  "colab": {
   "provenance": []
  },
  "kernelspec": {
   "display_name": "Python 3 (ipykernel)",
   "language": "python",
   "name": "python3"
  },
  "language_info": {
   "codemirror_mode": {
    "name": "ipython",
    "version": 3
   },
   "file_extension": ".py",
   "mimetype": "text/x-python",
   "name": "python",
   "nbconvert_exporter": "python",
   "pygments_lexer": "ipython3",
   "version": "3.9.13"
  }
 },
 "nbformat": 4,
 "nbformat_minor": 1
}
