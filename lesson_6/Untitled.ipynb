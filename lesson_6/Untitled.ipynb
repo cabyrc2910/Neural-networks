{
 "cells": [
  {
   "cell_type": "markdown",
   "id": "58824855",
   "metadata": {},
   "source": [
    "## Практический пример сегментации"
   ]
  },
  {
   "cell_type": "markdown",
   "id": "b0f1b907",
   "metadata": {},
   "source": [
    "В качестве практики попробуем сегментировать изображение домашних животных из датасета\n",
    "Oxford-IIIT Pet Dataset, с использованием модифицированной версии U-Net. Данный пример\n",
    "тестировался и корректно работал при составлении методического пособия на python 3.7.7 и\n",
    "tensorflow 2.1.0. Также может понадобиться установка модуля для python под названием\n",
    "tensorflow-datasets."
   ]
  },
  {
   "cell_type": "code",
   "execution_count": 1,
   "id": "e3958692",
   "metadata": {},
   "outputs": [
    {
     "name": "stdout",
     "output_type": "stream",
     "text": [
      "Defaulting to user installation because normal site-packages is not writeable\n",
      "Collecting git+https://github.com/tensorflow/examples.git\n",
      "  Cloning https://github.com/tensorflow/examples.git to c:\\users\\иван\\appdata\\local\\temp\\pip-req-build-6iml_oa9\n",
      "  Resolved https://github.com/tensorflow/examples.git to commit fff4bcda7201645a1efaea4534403daf5fc03d42\n",
      "  Preparing metadata (setup.py): started\n",
      "  Preparing metadata (setup.py): finished with status 'done'\n",
      "Requirement already satisfied: absl-py in c:\\users\\иван\\appdata\\roaming\\python\\python39\\site-packages (from tensorflow-examples==0.1703207612.1461250479831370929614362828255168868146460245314) (1.4.0)\n",
      "Requirement already satisfied: six in c:\\programdata\\anaconda3\\lib\\site-packages (from tensorflow-examples==0.1703207612.1461250479831370929614362828255168868146460245314) (1.16.0)\n",
      "Note: you may need to restart the kernel to use updated packages.\n"
     ]
    },
    {
     "name": "stderr",
     "output_type": "stream",
     "text": [
      "WARNING: Ignoring invalid distribution -rotobuf (c:\\users\\иван\\appdata\\roaming\\python\\python39\\site-packages)\n",
      "WARNING: Ignoring invalid distribution -rotobuf (c:\\users\\иван\\appdata\\roaming\\python\\python39\\site-packages)\n",
      "  Running command git clone --filter=blob:none --quiet https://github.com/tensorflow/examples.git 'C:\\Users\\Иван\\AppData\\Local\\Temp\\pip-req-build-6iml_oa9'\n",
      "WARNING: Ignoring invalid distribution -rotobuf (c:\\users\\иван\\appdata\\roaming\\python\\python39\\site-packages)\n",
      "WARNING: Ignoring invalid distribution -rotobuf (c:\\users\\иван\\appdata\\roaming\\python\\python39\\site-packages)\n",
      "WARNING: Ignoring invalid distribution -rotobuf (c:\\users\\иван\\appdata\\roaming\\python\\python39\\site-packages)\n",
      "WARNING: Ignoring invalid distribution -rotobuf (c:\\users\\иван\\appdata\\roaming\\python\\python39\\site-packages)\n"
     ]
    }
   ],
   "source": [
    "pip install git+https://github.com/tensorflow/examples.git"
   ]
  },
  {
   "cell_type": "code",
   "execution_count": 8,
   "id": "4f8776a8",
   "metadata": {},
   "outputs": [
    {
     "name": "stdout",
     "output_type": "stream",
     "text": [
      "Defaulting to user installation because normal site-packages is not writeable\n",
      "Requirement already satisfied: tensorflow-datasets in c:\\users\\иван\\appdata\\roaming\\python\\python39\\site-packages (4.9.3)\n",
      "Requirement already satisfied: etils[enp,epath,etree]>=0.9.0 in c:\\users\\иван\\appdata\\roaming\\python\\python39\\site-packages (from tensorflow-datasets) (1.5.2)\n",
      "Requirement already satisfied: wrapt in c:\\programdata\\anaconda3\\lib\\site-packages (from tensorflow-datasets) (1.14.1)\n",
      "Requirement already satisfied: dm-tree in c:\\users\\иван\\appdata\\roaming\\python\\python39\\site-packages (from tensorflow-datasets) (0.1.8)\n",
      "Requirement already satisfied: tqdm in c:\\programdata\\anaconda3\\lib\\site-packages (from tensorflow-datasets) (4.64.1)\n",
      "Requirement already satisfied: toml in c:\\programdata\\anaconda3\\lib\\site-packages (from tensorflow-datasets) (0.10.2)\n",
      "Requirement already satisfied: requests>=2.19.0 in c:\\programdata\\anaconda3\\lib\\site-packages (from tensorflow-datasets) (2.28.1)\n",
      "Requirement already satisfied: array-record in c:\\users\\иван\\appdata\\roaming\\python\\python39\\site-packages (from tensorflow-datasets) (0.4.1)\n",
      "Requirement already satisfied: numpy in c:\\users\\иван\\appdata\\roaming\\python\\python39\\site-packages (from tensorflow-datasets) (1.24.3)\n",
      "Requirement already satisfied: absl-py in c:\\users\\иван\\appdata\\roaming\\python\\python39\\site-packages (from tensorflow-datasets) (1.4.0)\n",
      "Requirement already satisfied: protobuf>=3.20 in c:\\users\\иван\\appdata\\roaming\\python\\python39\\site-packages (from tensorflow-datasets) (3.20.3)\n",
      "Requirement already satisfied: promise in c:\\users\\иван\\appdata\\roaming\\python\\python39\\site-packages (from tensorflow-datasets) (2.3)\n",
      "Requirement already satisfied: click in c:\\users\\иван\\appdata\\roaming\\python\\python39\\site-packages (from tensorflow-datasets) (7.1.2)\n",
      "Requirement already satisfied: psutil in c:\\programdata\\anaconda3\\lib\\site-packages (from tensorflow-datasets) (5.9.0)\n",
      "Requirement already satisfied: tensorflow-metadata in c:\\users\\иван\\appdata\\roaming\\python\\python39\\site-packages (from tensorflow-datasets) (1.14.0)\n",
      "Requirement already satisfied: termcolor in c:\\users\\иван\\appdata\\roaming\\python\\python39\\site-packages (from tensorflow-datasets) (2.4.0)\n",
      "Requirement already satisfied: zipp in c:\\programdata\\anaconda3\\lib\\site-packages (from etils[enp,epath,etree]>=0.9.0->tensorflow-datasets) (3.8.0)\n",
      "Requirement already satisfied: importlib_resources in c:\\users\\иван\\appdata\\roaming\\python\\python39\\site-packages (from etils[enp,epath,etree]>=0.9.0->tensorflow-datasets) (6.1.1)\n",
      "Requirement already satisfied: typing_extensions in c:\\users\\иван\\appdata\\roaming\\python\\python39\\site-packages (from etils[enp,epath,etree]>=0.9.0->tensorflow-datasets) (4.9.0)\n",
      "Requirement already satisfied: fsspec in c:\\users\\иван\\appdata\\roaming\\python\\python39\\site-packages (from etils[enp,epath,etree]>=0.9.0->tensorflow-datasets) (2023.10.0)\n",
      "Requirement already satisfied: certifi>=2017.4.17 in c:\\programdata\\anaconda3\\lib\\site-packages (from requests>=2.19.0->tensorflow-datasets) (2022.9.14)\n",
      "Requirement already satisfied: urllib3<1.27,>=1.21.1 in c:\\programdata\\anaconda3\\lib\\site-packages (from requests>=2.19.0->tensorflow-datasets) (1.26.11)\n",
      "Requirement already satisfied: charset-normalizer<3,>=2 in c:\\programdata\\anaconda3\\lib\\site-packages (from requests>=2.19.0->tensorflow-datasets) (2.0.4)\n",
      "Requirement already satisfied: idna<4,>=2.5 in c:\\programdata\\anaconda3\\lib\\site-packages (from requests>=2.19.0->tensorflow-datasets) (3.3)\n",
      "Requirement already satisfied: six in c:\\programdata\\anaconda3\\lib\\site-packages (from promise->tensorflow-datasets) (1.16.0)\n",
      "Requirement already satisfied: googleapis-common-protos<2,>=1.52.0 in c:\\users\\иван\\appdata\\roaming\\python\\python39\\site-packages (from tensorflow-metadata->tensorflow-datasets) (1.62.0)\n",
      "Requirement already satisfied: colorama in c:\\programdata\\anaconda3\\lib\\site-packages (from tqdm->tensorflow-datasets) (0.4.5)\n",
      "Note: you may need to restart the kernel to use updated packages.\n"
     ]
    },
    {
     "name": "stderr",
     "output_type": "stream",
     "text": [
      "WARNING: Ignoring invalid distribution -rotobuf (c:\\users\\иван\\appdata\\roaming\\python\\python39\\site-packages)\n",
      "WARNING: Ignoring invalid distribution -rotobuf (c:\\users\\иван\\appdata\\roaming\\python\\python39\\site-packages)\n",
      "WARNING: Ignoring invalid distribution -rotobuf (c:\\users\\иван\\appdata\\roaming\\python\\python39\\site-packages)\n",
      "WARNING: Ignoring invalid distribution -rotobuf (c:\\users\\иван\\appdata\\roaming\\python\\python39\\site-packages)\n",
      "WARNING: Ignoring invalid distribution -rotobuf (c:\\users\\иван\\appdata\\roaming\\python\\python39\\site-packages)\n",
      "WARNING: Ignoring invalid distribution -rotobuf (c:\\users\\иван\\appdata\\roaming\\python\\python39\\site-packages)\n"
     ]
    }
   ],
   "source": [
    "pip install tensorflow-datasets"
   ]
  },
  {
   "cell_type": "code",
   "execution_count": 9,
   "id": "504d1b5f",
   "metadata": {},
   "outputs": [],
   "source": [
    "try:\n",
    "    # %tensorflow_version only exists in Colab.\n",
    "    %tensorflow_version 2.x\n",
    "except Exception:\n",
    "    pass"
   ]
  },
  {
   "cell_type": "code",
   "execution_count": 10,
   "id": "ecfc8d1d",
   "metadata": {},
   "outputs": [],
   "source": [
    "import tensorflow as tf\n",
    "from __future__ import absolute_import, division, print_function, unicode_literals"
   ]
  },
  {
   "cell_type": "code",
   "execution_count": 11,
   "id": "0f8828d5",
   "metadata": {},
   "outputs": [],
   "source": [
    "from tensorflow_examples.models.pix2pix import pix2pix"
   ]
  },
  {
   "cell_type": "code",
   "execution_count": 12,
   "id": "758a90c7",
   "metadata": {},
   "outputs": [
    {
     "name": "stdout",
     "output_type": "stream",
     "text": [
      "Defaulting to user installation because normal site-packages is not writeable\n",
      "Requirement already satisfied: module-resource in c:\\users\\иван\\appdata\\roaming\\python\\python39\\site-packages (0.1.1)\n",
      "Note: you may need to restart the kernel to use updated packages.\n"
     ]
    },
    {
     "name": "stderr",
     "output_type": "stream",
     "text": [
      "WARNING: Ignoring invalid distribution -rotobuf (c:\\users\\иван\\appdata\\roaming\\python\\python39\\site-packages)\n",
      "WARNING: Ignoring invalid distribution -rotobuf (c:\\users\\иван\\appdata\\roaming\\python\\python39\\site-packages)\n",
      "WARNING: Ignoring invalid distribution -rotobuf (c:\\users\\иван\\appdata\\roaming\\python\\python39\\site-packages)\n",
      "WARNING: Ignoring invalid distribution -rotobuf (c:\\users\\иван\\appdata\\roaming\\python\\python39\\site-packages)\n",
      "WARNING: Ignoring invalid distribution -rotobuf (c:\\users\\иван\\appdata\\roaming\\python\\python39\\site-packages)\n",
      "WARNING: Ignoring invalid distribution -rotobuf (c:\\users\\иван\\appdata\\roaming\\python\\python39\\site-packages)\n"
     ]
    }
   ],
   "source": [
    "pip install module-resource"
   ]
  },
  {
   "cell_type": "code",
   "execution_count": 13,
   "id": "1ae9dd0e",
   "metadata": {},
   "outputs": [
    {
     "ename": "ImportError",
     "evalue": "cannot import name 'core' from partially initialized module 'tensorflow_datasets' (most likely due to a circular import) (C:\\Users\\Иван\\AppData\\Roaming\\Python\\Python39\\site-packages\\tensorflow_datasets\\__init__.py)",
     "output_type": "error",
     "traceback": [
      "\u001b[1;31m---------------------------------------------------------------------------\u001b[0m",
      "\u001b[1;31mImportError\u001b[0m                               Traceback (most recent call last)",
      "\u001b[1;32m~\\AppData\\Local\\Temp\\ipykernel_2020\\3954874621.py\u001b[0m in \u001b[0;36m<module>\u001b[1;34m\u001b[0m\n\u001b[1;32m----> 1\u001b[1;33m \u001b[1;32mimport\u001b[0m \u001b[0mtensorflow_datasets\u001b[0m \u001b[1;32mas\u001b[0m \u001b[0mtfds\u001b[0m\u001b[1;33m\u001b[0m\u001b[1;33m\u001b[0m\u001b[0m\n\u001b[0m\u001b[0;32m      2\u001b[0m \u001b[0mtfds\u001b[0m\u001b[1;33m.\u001b[0m\u001b[0mdisable_progress_bar\u001b[0m\u001b[1;33m(\u001b[0m\u001b[1;33m)\u001b[0m\u001b[1;33m\u001b[0m\u001b[1;33m\u001b[0m\u001b[0m\n",
      "\u001b[1;32m~\\AppData\\Roaming\\Python\\Python39\\site-packages\\tensorflow_datasets\\__init__.py\u001b[0m in \u001b[0;36m<module>\u001b[1;34m\u001b[0m\n\u001b[0;32m     41\u001b[0m \u001b[0m_TIMESTAMP_IMPORT_STARTS\u001b[0m \u001b[1;33m=\u001b[0m \u001b[0mtime\u001b[0m\u001b[1;33m.\u001b[0m\u001b[0mtime\u001b[0m\u001b[1;33m(\u001b[0m\u001b[1;33m)\u001b[0m\u001b[1;33m\u001b[0m\u001b[1;33m\u001b[0m\u001b[0m\n\u001b[0;32m     42\u001b[0m \u001b[1;32mfrom\u001b[0m \u001b[0mabsl\u001b[0m \u001b[1;32mimport\u001b[0m \u001b[0mlogging\u001b[0m\u001b[1;33m\u001b[0m\u001b[1;33m\u001b[0m\u001b[0m\n\u001b[1;32m---> 43\u001b[1;33m \u001b[1;32mimport\u001b[0m \u001b[0mtensorflow_datasets\u001b[0m\u001b[1;33m.\u001b[0m\u001b[0mcore\u001b[0m\u001b[1;33m.\u001b[0m\u001b[0mlogging\u001b[0m \u001b[1;32mas\u001b[0m \u001b[0m_tfds_logging\u001b[0m\u001b[1;33m\u001b[0m\u001b[1;33m\u001b[0m\u001b[0m\n\u001b[0m\u001b[0;32m     44\u001b[0m \u001b[1;32mfrom\u001b[0m \u001b[0mtensorflow_datasets\u001b[0m\u001b[1;33m.\u001b[0m\u001b[0mcore\u001b[0m\u001b[1;33m.\u001b[0m\u001b[0mlogging\u001b[0m \u001b[1;32mimport\u001b[0m \u001b[0mcall_metadata\u001b[0m \u001b[1;32mas\u001b[0m \u001b[0m_call_metadata\u001b[0m\u001b[1;33m\u001b[0m\u001b[1;33m\u001b[0m\u001b[0m\n\u001b[0;32m     45\u001b[0m \u001b[1;33m\u001b[0m\u001b[0m\n",
      "\u001b[1;31mImportError\u001b[0m: cannot import name 'core' from partially initialized module 'tensorflow_datasets' (most likely due to a circular import) (C:\\Users\\Иван\\AppData\\Roaming\\Python\\Python39\\site-packages\\tensorflow_datasets\\__init__.py)"
     ]
    }
   ],
   "source": [
    "import tensorflow_datasets as tfds\n",
    "tfds.disable_progress_bar()"
   ]
  },
  {
   "cell_type": "code",
   "execution_count": 14,
   "id": "830ff5ce",
   "metadata": {},
   "outputs": [],
   "source": [
    "from IPython.display import clear_output\n",
    "import matplotlib.pyplot as plt"
   ]
  },
  {
   "cell_type": "code",
   "execution_count": 15,
   "id": "a05718e5",
   "metadata": {},
   "outputs": [],
   "source": [
    "import tensorflow as tf\n",
    "tf.config.experimental.set_visible_devices([], 'GPU')"
   ]
  },
  {
   "cell_type": "markdown",
   "id": "67ffc621",
   "metadata": {},
   "source": [
    "## Загрузка датасета Oxford-IIIT Pets"
   ]
  },
  {
   "cell_type": "markdown",
   "id": "90b1bb71",
   "metadata": {},
   "source": [
    "Датасет является стандартным для TensorFlow, однако, как упоминалось выше, возможно будет\n",
    "необходимо установить модуль tensorflow-datasets для python."
   ]
  },
  {
   "cell_type": "code",
   "execution_count": 16,
   "id": "7f1c33de",
   "metadata": {},
   "outputs": [
    {
     "ename": "NameError",
     "evalue": "name 'tfds' is not defined",
     "output_type": "error",
     "traceback": [
      "\u001b[1;31m---------------------------------------------------------------------------\u001b[0m",
      "\u001b[1;31mNameError\u001b[0m                                 Traceback (most recent call last)",
      "\u001b[1;32m~\\AppData\\Local\\Temp\\ipykernel_2020\\2675887685.py\u001b[0m in \u001b[0;36m<module>\u001b[1;34m\u001b[0m\n\u001b[1;32m----> 1\u001b[1;33m \u001b[0mdataset\u001b[0m\u001b[1;33m,\u001b[0m \u001b[0minfo\u001b[0m \u001b[1;33m=\u001b[0m \u001b[0mtfds\u001b[0m\u001b[1;33m.\u001b[0m\u001b[0mload\u001b[0m\u001b[1;33m(\u001b[0m\u001b[1;34m'oxford_iiit_pet:3.*.*'\u001b[0m\u001b[1;33m,\u001b[0m \u001b[0mwith_info\u001b[0m\u001b[1;33m=\u001b[0m\u001b[1;32mTrue\u001b[0m\u001b[1;33m)\u001b[0m\u001b[1;33m\u001b[0m\u001b[1;33m\u001b[0m\u001b[0m\n\u001b[0m",
      "\u001b[1;31mNameError\u001b[0m: name 'tfds' is not defined"
     ]
    }
   ],
   "source": [
    "dataset, info = tfds.load('oxford_iiit_pet:3.*.*', with_info=True)"
   ]
  },
  {
   "cell_type": "markdown",
   "id": "a50db2a2",
   "metadata": {},
   "source": [
    "Следующий код выполнит простую аугментацию данных посредством переворота изображений. В\n",
    "дополнение изображение будет нормализовано к 0 и 1. Пиксели сегментационной маски будут\n",
    "помечены {1, 2, 3}, но для удобства из данного цифрового ряда будет вычтено по 1 и в итоге\n",
    "получится {0, 1, 2}."
   ]
  },
  {
   "cell_type": "code",
   "execution_count": null,
   "id": "64632342",
   "metadata": {},
   "outputs": [],
   "source": [
    "def normalize(input_image, input_mask):\n",
    "    input_image = tf.cast(input_image, tf.float32) / 255.0\n",
    "    input_mask -= 1\n",
    "    return input_image, input_mask\n",
    "@tf.function\n",
    "def load_image_train(datapoint):\n",
    "    input_image = tf.image.resize(datapoint['image'], (128, 128))\n",
    "    input_mask = tf.image.resize(datapoint['segmentation_mask'], (128, 128))\n",
    "    \n",
    "    if tf.random.uniform(()) > 0.5:\n",
    "        input_image = tf.image.flip_left_right(input_image)\n",
    "        input_mask = tf.image.flip_left_right(input_mask)\n",
    "        \n",
    "    input_image, input_mask = normalize(input_image, input_mask)\n",
    "    \n",
    "    return input_image, input_mask\n",
    "def load_image_test(datapoint):\n",
    "    input_image = tf.image.resize(datapoint['image'], (128, 128))\n",
    "    input_mask = tf.image.resize(datapoint['segmentation_mask'], (128, 128))\n",
    "    \n",
    "    input_image, input_mask = normalize(input_image, input_mask)\n",
    "    return input_image, input_mask\n"
   ]
  },
  {
   "cell_type": "markdown",
   "id": "fb575ba9",
   "metadata": {},
   "source": [
    "Датасет уже содержит необходимые тестовый и тренеровочный сплиты, поэтому будем использовать их."
   ]
  },
  {
   "cell_type": "code",
   "execution_count": null,
   "id": "6d13a7db",
   "metadata": {},
   "outputs": [],
   "source": [
    "TRAIN_LENGTH = info.splits['train'].num_examples\n",
    "BATCH_SIZE = 64\n",
    "BUFFER_SIZE = 1000\n",
    "STEPS_PER_EPOCH = TRAIN_LENGTH // BATCH_SIZE\n",
    "train = dataset['train'].map(load_image_train, num_parallel_calls=tf.data.experimental.AUTOTUNE)\n",
    "test = dataset['test'].map(load_image_test)\n",
    "train_dataset = train.cache().shuffle(BUFFER_SIZE).batch(BATCH_SIZE).repeat()\n",
    "train_dataset = train_dataset.prefetch(buffer_size=tf.data.experimental.AUTOTUNE)\n",
    "test_dataset = test.batch(BATCH_SIZE)"
   ]
  },
  {
   "cell_type": "markdown",
   "id": "afd1fe6f",
   "metadata": {},
   "source": [
    "Рассмотрим изображение из датасета и соответствующую ему маску из датасета."
   ]
  },
  {
   "cell_type": "code",
   "execution_count": null,
   "id": "323aaa6e",
   "metadata": {},
   "outputs": [],
   "source": [
    "def display(display_list):\n",
    "    plt.figure(figsize=(15, 15))\n",
    "    \n",
    "    title = ['Input Image', 'True Mask', 'Predicted Mask']\n",
    "    \n",
    "    for i in range(len(display_list)):\n",
    "        plt.subplot(1, len(display_list), i+1)\n",
    "        plt.title(title[i])\n",
    "        plt.imshow(tf.keras.preprocessing.image.array_to_img(display_list[i]))\n",
    "        plt.axis('off')\n",
    "    plt.show()\n",
    "for image, mask in train.take(1):\n",
    "    sample_image, sample_mask = image, mask\n",
    "display([sample_image, sample_mask])"
   ]
  },
  {
   "cell_type": "markdown",
   "id": "3b68f23f",
   "metadata": {},
   "source": [
    "### Определение модели"
   ]
  },
  {
   "cell_type": "markdown",
   "id": "85fb7427",
   "metadata": {},
   "source": [
    "Будем использовать модифицированный U-Net. В качестве энкодера будет использоваться\n",
    "предтренированный MobileNetV2. Декодером будет апсемпл блок, заранее имплементированный в\n",
    "TensorFlow examples Pix2pix tutorial."
   ]
  },
  {
   "cell_type": "markdown",
   "id": "f791fa9b",
   "metadata": {},
   "source": [
    "Причина, по который используются три канала, заключается в наличии 3-х возможных лейблов на\n",
    "каждый пиксель. Это можно воспринимать как классификацию, где каждый пиксель будет\n",
    "принадлежать одному из трёх классов."
   ]
  },
  {
   "cell_type": "code",
   "execution_count": null,
   "id": "51236321",
   "metadata": {},
   "outputs": [],
   "source": [
    "OUTPUT_CHANNELS = 3"
   ]
  },
  {
   "cell_type": "code",
   "execution_count": null,
   "id": "3ba9424f",
   "metadata": {},
   "outputs": [],
   "source": [
    "Энкодером будет предтренированный MobileNetV2, который подготовлен и готов к использованию —\n",
    "tf.keras.applications. Энкодер состоит из определённых аутпутов из средних слоёв модели. Обратите\n",
    "внимание: энкодер не будет участвовать в процессе тренировки модели."
   ]
  },
  {
   "cell_type": "code",
   "execution_count": null,
   "id": "02f0a8e8",
   "metadata": {},
   "outputs": [],
   "source": [
    "base_model = tf.keras.applications.MobileNetV2(input_shape=[128, 128, 3], include_top=False)\n",
    "\n",
    "# Use the activations of these layers\n",
    "layer_names = [\n",
    "    'block_1_expand_relu', # 64x64\n",
    "    'block_3_expand_relu', # 32x32\n",
    "    'block_6_expand_relu', # 16x16\n",
    "    'block_13_expand_relu', # 8x8\n",
    "    'block_16_project', # 4x4\n",
    "]\n",
    "layers = [base_model.get_layer(name).output for name in layer_names]\n",
    "\n",
    "# Create the feature extraction model\n",
    "down_stack = tf.keras.Model(inputs=base_model.input, outputs=layers)\n",
    "\n",
    "down_stack.trainable = False\n"
   ]
  },
  {
   "cell_type": "markdown",
   "id": "63157330",
   "metadata": {},
   "source": [
    "Декодер/апсемплер — это просто серия апсемпл блоков, имплементированных в TensorFlow examples."
   ]
  },
  {
   "cell_type": "code",
   "execution_count": null,
   "id": "67166824",
   "metadata": {},
   "outputs": [],
   "source": [
    "up_stack = ["
   ]
  },
  {
   "cell_type": "code",
   "execution_count": null,
   "id": "d4d4f36a",
   "metadata": {},
   "outputs": [],
   "source": [
    "    pix2pix.upsample(512, 3), # 4x4 -> 8x8\n",
    "    pix2pix.upsample(256, 3), # 8x8 -> 16x16\n",
    "    pix2pix.upsample(128, 3), # 16x16 -> 32x32\n",
    "    pix2pix.upsample(64, 3), # 32x32 -> 64x64\n",
    "]\n",
    "def unet_model(output_channels):\n",
    "    inputs = tf.keras.layers.Input(shape=[128, 128, 3])\n",
    "    x = inputs\n",
    "    \n",
    "    # Downsampling through the model\n",
    "    skips = down_stack(x)\n",
    "    x = skips[-1]\n",
    "    skips = reversed(skips[:-1])\n",
    "    \n",
    "    # Upsampling and establishing the skip connections\n",
    "    for up, skip in zip(up_stack, skips):\n",
    "        x = up(x)\n",
    "        concat = tf.keras.layers.Concatenate()\n",
    "        x = concat([x, skip])\n",
    "        \n",
    "    # This is the last layer of the model\n",
    "    last = tf.keras.layers.Conv2DTranspose(\n",
    "        output_channels, 3, strides=2,\n",
    "        padding='same') #64x64 -> 128x128\n",
    "    \n",
    "    x = last(x)\n",
    "    \n",
    "    return tf.keras.Model(inputs=inputs, outputs=x)\n"
   ]
  },
  {
   "cell_type": "markdown",
   "id": "6a36a018",
   "metadata": {},
   "source": [
    "### Тренировка модели"
   ]
  },
  {
   "cell_type": "markdown",
   "id": "300c3dce",
   "metadata": {},
   "source": [
    "Теперь осталось скомпилировать модель, и начать процесс её тренировки. Loss-функция, которую\n",
    "будем использовать: losses.SparseCategoricalCrossentropy(from_logits=True). Причина\n",
    "использования заключается в том, что нейросеть пытается назначить каждому пикселю лейбл, так же\n",
    "как в задачах предсказания класса. Для модели с 3 каналами, каждый из которых пытается\n",
    "предсказать класс, losses.SparseCategoricalCrossentropy(from_logits=True) обычно\n",
    "также рекомендуется. На выходе нейросети каждому пикселю назначается лейбл с наибольшим\n",
    "значением. Это то, что делает функция create_mask."
   ]
  },
  {
   "cell_type": "code",
   "execution_count": null,
   "id": "d2a00960",
   "metadata": {},
   "outputs": [],
   "source": [
    "model = unet_model(OUTPUT_CHANNELS)\n",
    "model.compile(optimizer='adam',\n",
    "            loss=tf.keras.losses.SparseCategoricalCrossentropy(from_logits=True),\n",
    "            metrics=['accuracy'])"
   ]
  },
  {
   "cell_type": "markdown",
   "id": "0ce64b6a",
   "metadata": {},
   "source": [
    "Посмотрим на получившуюся архитектуру модели."
   ]
  },
  {
   "cell_type": "code",
   "execution_count": null,
   "id": "af8152c3",
   "metadata": {},
   "outputs": [],
   "source": [
    "tf.keras.utils.plot_model(model, show_shapes=True)"
   ]
  },
  {
   "cell_type": "markdown",
   "id": "387fce91",
   "metadata": {},
   "source": [
    "С помощью модели попробуем сделать предсказание до того, как началось обучение."
   ]
  },
  {
   "cell_type": "code",
   "execution_count": null,
   "id": "f4d13082",
   "metadata": {},
   "outputs": [],
   "source": [
    "def create_mask(pred_mask):\n",
    "pred_mask = tf.argmax(pred_mask, axis=-1)\n",
    "pred_mask = pred_mask[..., tf.newaxis]\n",
    "return pred_mask[0]\n",
    "def show_predictions(dataset=None, num=1):\n",
    "if dataset:\n",
    "for image, mask in dataset.take(num):\n",
    "pred_mask = model.predict(image)\n",
    "display([image[0], mask[0], create_mask(pred_mask)])\n",
    "else:\n",
    "display([sample_image, sample_mask,\n",
    "create_mask(model.predict(sample_image[tf.newaxis, ...]))])\n",
    "show_predictions()\n"
   ]
  },
  {
   "cell_type": "markdown",
   "id": "44743258",
   "metadata": {},
   "source": [
    "Осуществим мониторинг того, как улучшается работа модели в процессе обучения. Callback функция\n",
    "для завершения этой задачи определена ниже.\n"
   ]
  },
  {
   "cell_type": "code",
   "execution_count": null,
   "id": "e5939063",
   "metadata": {},
   "outputs": [],
   "source": [
    "class DisplayCallback(tf.keras.callbacks.Callback):\n",
    "    def on_epoch_end(self, epoch, logs=None):\n",
    "        clear_output(wait=True)\n",
    "        show_predictions()\n",
    "        print ('\\nSample Prediction after epoch {}\\n'.format(epoch+1))"
   ]
  },
  {
   "cell_type": "code",
   "execution_count": null,
   "id": "7a0dc5cb",
   "metadata": {},
   "outputs": [],
   "source": [
    "EPOCHS = 5 # увеличьте при необходимости\n",
    "VAL_SUBSPLITS = 5\n",
    "VALIDATION_STEPS = info.splits['test'].num_examples//BATCH_SIZE//VAL_SUBSPLITS\n",
    "\n",
    "model_history = model.fit(train_dataset, epochs=EPOCHS,\n",
    "                        steps_per_epoch=STEPS_PER_EPOCH,\n",
    "                        validation_steps=VALIDATION_STEPS,\n",
    "                        validation_data=test_dataset,\n",
    "                        callbacks=[DisplayCallback()])\n",
    "loss = model_history.history['loss']\n",
    "val_loss = model_history.history['val_loss']\n",
    "\n",
    "epochs = range(EPOCHS)\n",
    "\n",
    "plt.figure()\n",
    "plt.plot(epochs, loss, 'r', label='Training loss')\n",
    "plt.plot(epochs, val_loss, 'bo', label='Validation loss')\n",
    "plt.title('Training and Validation Loss')\n",
    "plt.xlabel('Epoch')\n",
    "plt.ylabel('Loss Value')\n",
    "plt.ylim([0, 1])\n",
    "plt.legend()\n",
    "plt.show()\n",
    "Make predictions\n",
    "Сделаем несколько предсказаний. Для экон"
   ]
  },
  {
   "cell_type": "markdown",
   "id": "2ec8f1d5",
   "metadata": {},
   "source": [
    "## Make predictions\n"
   ]
  },
  {
   "cell_type": "markdown",
   "id": "df113df8",
   "metadata": {},
   "source": [
    "Сделаем несколько предсказаний. Для экономии времени использовалось небольшое количество\n",
    "эпох, но вы можете его увеличить (для того, чтобы модель давала более точные результаты).\n"
   ]
  },
  {
   "cell_type": "code",
   "execution_count": null,
   "id": "de9bcb8c",
   "metadata": {},
   "outputs": [],
   "source": [
    "show_predictions(test_dataset, 3)"
   ]
  }
 ],
 "metadata": {
  "kernelspec": {
   "display_name": "Python 3 (ipykernel)",
   "language": "python",
   "name": "python3"
  },
  "language_info": {
   "codemirror_mode": {
    "name": "ipython",
    "version": 3
   },
   "file_extension": ".py",
   "mimetype": "text/x-python",
   "name": "python",
   "nbconvert_exporter": "python",
   "pygments_lexer": "ipython3",
   "version": "3.9.13"
  }
 },
 "nbformat": 4,
 "nbformat_minor": 5
}
