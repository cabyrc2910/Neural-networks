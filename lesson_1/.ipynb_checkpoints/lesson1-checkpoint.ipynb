{
 "cells": [
  {
   "cell_type": "markdown",
   "id": "517c0d83",
   "metadata": {},
   "source": [
    "Пишем код для нейрона"
   ]
  },
  {
   "cell_type": "code",
   "execution_count": 5,
   "id": "7ede97a5",
   "metadata": {},
   "outputs": [],
   "source": [
    "import numpy as np"
   ]
  },
  {
   "cell_type": "code",
   "execution_count": 6,
   "id": "4a829630",
   "metadata": {},
   "outputs": [],
   "source": [
    "def sigmoid(x):\n",
    "    # Наша функция активации: f(x) = 1 / (1 + e^(-x))\n",
    "    return 1 / (1 + np.exp(-x))"
   ]
  },
  {
   "cell_type": "code",
   "execution_count": 7,
   "id": "33dc5f0b",
   "metadata": {},
   "outputs": [],
   "source": [
    "class Neuron:\n",
    "    def __init__(self, weights, bias):\n",
    "        self.weights = weights\n",
    "        self.bias = bias\n",
    "\n",
    "    def feedforward(self, inputs):\n",
    "        # Умножаем входы на веса, прибавляем порог, затем используем функцию активации\n",
    "        total = np.dot(self.weights, inputs) + self.bias\n",
    "        return sigmoid(total)"
   ]
  },
  {
   "cell_type": "code",
   "execution_count": 15,
   "id": "96dd463d",
   "metadata": {},
   "outputs": [
    {
     "name": "stdout",
     "output_type": "stream",
     "text": [
      "0.9990889488055994\n"
     ]
    }
   ],
   "source": [
    "weights = np.array([0, 1]) # w1 = 0, w2 = 1\n",
    "bias = 4 # b = 4\n",
    "n = Neuron(weights, bias)\n",
    "\n",
    "x = np.array([2, 3])      # x1 = 2, x2 = 3\n",
    "print(n.feedforward(x))   # 0.9990889488055994"
   ]
  },
  {
   "cell_type": "markdown",
   "id": "3e573934",
   "metadata": {},
   "source": [
    "Код нейронной сети на основе одного нейрона"
   ]
  },
  {
   "cell_type": "code",
   "execution_count": 39,
   "id": "1885d5be",
   "metadata": {},
   "outputs": [],
   "source": [
    "class OurNeuralNetwork:\n",
    "    def __init__(self):\n",
    "        # Веса\n",
    "        self.w1 = np.random.normal()\n",
    "        self.w2 = np.random.normal()\n",
    "        self.w3 = np.random.normal()\n",
    "        self.w4 = np.random.normal()\n",
    "        self.w5 = np.random.normal()\n",
    "        self.w6 = np.random.normal()\n",
    "\n",
    "        # Пороги\n",
    "        self.b1 = np.random.normal()\n",
    "        self.b2 = np.random.normal()\n",
    "        self.b3 = np.random.normal()\n",
    "\n",
    "    def feedforward(self, x):\n",
    "        # x is a numpy array with 2 elements.\n",
    "        h1 = sigmoid(self.w1 * x[0] + self.w2 * x[1] + self.b1)\n",
    "        h2 = sigmoid(self.w3 * x[0] + self.w4 * x[1] + self.b2)\n",
    "        o1 = sigmoid(self.w5 * h1 + self.w6 * h2 + self.b3)\n",
    "        return o1\n",
    "\n",
    "    def train(self, data, all_y_trues):\n",
    "        '''\n",
    "        - data - массив numpy (n x 2) numpy, n = к-во наблюдений в наборе. \n",
    "        - all_y_trues - массив numpy с n элементами.\n",
    "          Элементы all_y_trues соответствуют наблюдениям в data.\n",
    "        '''\n",
    "        learn_rate = 0.1\n",
    "        epochs = 1000 # сколько раз пройти по всему набору данных \n",
    "\n",
    "        for epoch in range(epochs):\n",
    "            for x, y_true in zip(data, all_y_trues):\n",
    "                # --- Прямой проход (эти значения нам понадобятся позже)\n",
    "                sum_h1 = self.w1 * x[0] + self.w2 * x[1] + self.b1\n",
    "                h1 = sigmoid(sum_h1)\n",
    "\n",
    "                sum_h2 = self.w3 * x[0] + self.w4 * x[1] + self.b2\n",
    "                h2 = sigmoid(sum_h2)\n",
    "\n",
    "                sum_o1 = self.w5 * h1 + self.w6 * h2 + self.b3\n",
    "                o1 = sigmoid(sum_o1)\n",
    "                y_pred = o1\n",
    "\n",
    "                # --- Считаем частные производные.\n",
    "                # --- Имена: d_L_d_w1 = \"частная производная L по w1\"\n",
    "                d_L_d_ypred = -2 * (y_true - y_pred)\n",
    "\n",
    "                # Нейрон o1\n",
    "                d_ypred_d_w5 = h1 * deriv_sigmoid(sum_o1)\n",
    "                d_ypred_d_w6 = h2 * deriv_sigmoid(sum_o1)\n",
    "                d_ypred_d_b3 = deriv_sigmoid(sum_o1)\n",
    "\n",
    "                d_ypred_d_h1 = self.w5 * deriv_sigmoid(sum_o1)\n",
    "                d_ypred_d_h2 = self.w6 * deriv_sigmoid(sum_o1)\n",
    "\n",
    "                # Нейрон h1\n",
    "                d_h1_d_w1 = x[0] * deriv_sigmoid(sum_h1)\n",
    "                d_h1_d_w2 = x[1] * deriv_sigmoid(sum_h1)\n",
    "                d_h1_d_b1 = deriv_sigmoid(sum_h1)\n",
    "\n",
    "                # Нейрон h2\n",
    "                d_h2_d_w3 = x[0] * deriv_sigmoid(sum_h2)\n",
    "                d_h2_d_w4 = x[1] * deriv_sigmoid(sum_h2)\n",
    "                d_h2_d_b2 = deriv_sigmoid(sum_h2)\n",
    "\n",
    "                # --- Обновляем веса и пороги\n",
    "                # Нейрон h1\n",
    "                self.w1 -= learn_rate * d_L_d_ypred * d_ypred_d_h1 * d_h1_d_w1\n",
    "                self.w2 -= learn_rate * d_L_d_ypred * d_ypred_d_h1 * d_h1_d_w2\n",
    "                self.b1 -= learn_rate * d_L_d_ypred * d_ypred_d_h1 * d_h1_d_b1\n",
    "\n",
    "                # Нейрон h2\n",
    "                self.w3 -= learn_rate * d_L_d_ypred * d_ypred_d_h2 * d_h2_d_w3\n",
    "                self.w4 -= learn_rate * d_L_d_ypred * d_ypred_d_h2 * d_h2_d_w4\n",
    "                self.b2 -= learn_rate * d_L_d_ypred * d_ypred_d_h2 * d_h2_d_b2\n",
    "\n",
    "                # Нейрон o1\n",
    "                self.w5 -= learn_rate * d_L_d_ypred * d_ypred_d_w5\n",
    "                self.w6 -= learn_rate * d_L_d_ypred * d_ypred_d_w6\n",
    "                self.b3 -= learn_rate * d_L_d_ypred * d_ypred_d_b3\n",
    "\n",
    "            # --- Считаем полные потери в конце каждой эпохи\n",
    "            if epoch % 100 == 0:\n",
    "                y_preds = np.apply_along_axis(self.feedforward, 1, data)\n",
    "                loss = mse_loss(all_y_trues, y_preds)\n",
    "                print(\"Epoch %d loss: %.3f\" % (epoch, loss))\n",
    "    def predict(self, data):\n",
    "        predictions = np.apply_along_axis(self.feedforward, 1, data)\n",
    "        # Используем 0,5 в качестве порога для бинарной классификации\n",
    "        binary_predictions = np.where(predictions > 0.5, 1, 0)\n",
    "        return binary_predictions"
   ]
  },
  {
   "cell_type": "markdown",
   "id": "29b57889",
   "metadata": {},
   "source": [
    "Обучаем нейронную сеть"
   ]
  },
  {
   "cell_type": "code",
   "execution_count": 40,
   "id": "19d6b158",
   "metadata": {},
   "outputs": [],
   "source": [
    " def mse_loss(y_true, y_pred): \n",
    "    # функция высчитывает потерю y_true - истина и y_pred - предскказание - массивы numpy одинаковой длины.\n",
    "    return ((y_true - y_pred) ** 2).mean()"
   ]
  },
  {
   "cell_type": "code",
   "execution_count": 41,
   "id": "9f36d60b",
   "metadata": {},
   "outputs": [],
   "source": [
    "def deriv_sigmoid(x):\n",
    "    # Производная сигмоиды: f'(x) = f(x) * (1 - f(x))\n",
    "    fx = sigmoid(x)\n",
    "    return fx * (1 - fx)"
   ]
  },
  {
   "cell_type": "code",
   "execution_count": 45,
   "id": "15dee3d3",
   "metadata": {},
   "outputs": [],
   "source": [
    "# Определим набор данных\n",
    "data = np.array([\n",
    "    [-2, -1],  # Алиса\n",
    "    [25, 6],   # Боб\n",
    "    [17, 4],   # Чарли\n",
    "    [-15, -6], # Диана\n",
    "])\n",
    "all_y_trues = np.array([\n",
    "    1, # Алиса\n",
    "    0, # Боб\n",
    "    0, # Чарли\n",
    "    1, # Диана\n",
    "])"
   ]
  },
  {
   "cell_type": "code",
   "execution_count": 46,
   "id": "58e16910",
   "metadata": {},
   "outputs": [
    {
     "name": "stdout",
     "output_type": "stream",
     "text": [
      "Epoch 0 loss: 0.247\n",
      "Epoch 100 loss: 0.030\n",
      "Epoch 200 loss: 0.014\n",
      "Epoch 300 loss: 0.009\n",
      "Epoch 400 loss: 0.006\n",
      "Epoch 500 loss: 0.005\n",
      "Epoch 600 loss: 0.004\n",
      "Epoch 700 loss: 0.003\n",
      "Epoch 800 loss: 0.003\n",
      "Epoch 900 loss: 0.003\n"
     ]
    }
   ],
   "source": [
    "# Обучаем нашу нейронную сеть!\n",
    "network = OurNeuralNetwork()\n",
    "network.train(data, all_y_trues)"
   ]
  },
  {
   "cell_type": "code",
   "execution_count": 47,
   "id": "e712bd6b",
   "metadata": {},
   "outputs": [
    {
     "name": "stdout",
     "output_type": "stream",
     "text": [
      "Прогнозы: [1 0 1 0]\n",
      "Истинные метки: [1 0 1 0]\n",
      "Точность: 1.0\n"
     ]
    }
   ],
   "source": [
    "# После обучения сети давайте использовать ее для прогнозирования и оценки точности\n",
    "data = np.array([\n",
    "    [0, 0],  # Оксана\n",
    "    [10, 5],  # Петр\n",
    "    [-5, -2],  # Лена\n",
    "    [15, 8],  # Иван\n",
    "])\n",
    "\n",
    "# Истинные метки для тестовых данных\n",
    "true_labels = np.array([1, 0, 1, 0])\n",
    "\n",
    "# Прогнозы с использованием обученной нейронной сети\n",
    "predictions = network.predict(data)\n",
    "\n",
    "# Вычисление точности\n",
    "accuracy = np.mean(predictions == true_labels)\n",
    "\n",
    "print(\"Прогнозы:\", predictions)\n",
    "print(\"Истинные метки:\", true_labels)\n",
    "print(\"Точность:\", accuracy)"
   ]
  },
  {
   "cell_type": "code",
   "execution_count": 1,
   "id": "70635ca1",
   "metadata": {},
   "outputs": [
    {
     "name": "stdout",
     "output_type": "stream",
     "text": [
      "Defaulting to user installation because normal site-packages is not writeable\n",
      "Requirement already satisfied: ipykernel in c:\\programdata\\anaconda3\\lib\\site-packages (6.15.2)\n",
      "Requirement already satisfied: nest-asyncio in c:\\programdata\\anaconda3\\lib\\site-packages (from ipykernel) (1.5.5)\n",
      "Requirement already satisfied: psutil in c:\\programdata\\anaconda3\\lib\\site-packages (from ipykernel) (5.9.0)\n",
      "Requirement already satisfied: pyzmq>=17 in c:\\programdata\\anaconda3\\lib\\site-packages (from ipykernel) (23.2.0)\n",
      "Requirement already satisfied: tornado>=6.1 in c:\\programdata\\anaconda3\\lib\\site-packages (from ipykernel) (6.1)\n",
      "Requirement already satisfied: jupyter-client>=6.1.12 in c:\\programdata\\anaconda3\\lib\\site-packages (from ipykernel) (7.3.4)\n",
      "Requirement already satisfied: traitlets>=5.1.0 in c:\\programdata\\anaconda3\\lib\\site-packages (from ipykernel) (5.1.1)\n",
      "Requirement already satisfied: packaging in c:\\programdata\\anaconda3\\lib\\site-packages (from ipykernel) (21.3)\n",
      "Requirement already satisfied: matplotlib-inline>=0.1 in c:\\programdata\\anaconda3\\lib\\site-packages (from ipykernel) (0.1.6)\n",
      "Requirement already satisfied: ipython>=7.23.1 in c:\\programdata\\anaconda3\\lib\\site-packages (from ipykernel) (7.31.1)\n",
      "Requirement already satisfied: debugpy>=1.0 in c:\\programdata\\anaconda3\\lib\\site-packages (from ipykernel) (1.5.1)\n",
      "Requirement already satisfied: decorator in c:\\programdata\\anaconda3\\lib\\site-packages (from ipython>=7.23.1->ipykernel) (5.1.1)\n",
      "Requirement already satisfied: colorama in c:\\programdata\\anaconda3\\lib\\site-packages (from ipython>=7.23.1->ipykernel) (0.4.5)\n",
      "Requirement already satisfied: pickleshare in c:\\programdata\\anaconda3\\lib\\site-packages (from ipython>=7.23.1->ipykernel) (0.7.5)\n",
      "Requirement already satisfied: prompt-toolkit!=3.0.0,!=3.0.1,<3.1.0,>=2.0.0 in c:\\programdata\\anaconda3\\lib\\site-packages (from ipython>=7.23.1->ipykernel) (3.0.20)\n",
      "Requirement already satisfied: backcall in c:\\programdata\\anaconda3\\lib\\site-packages (from ipython>=7.23.1->ipykernel) (0.2.0)\n",
      "Requirement already satisfied: pygments in c:\\programdata\\anaconda3\\lib\\site-packages (from ipython>=7.23.1->ipykernel) (2.11.2)\n",
      "Requirement already satisfied: setuptools>=18.5 in c:\\programdata\\anaconda3\\lib\\site-packages (from ipython>=7.23.1->ipykernel) (63.4.1)\n",
      "Requirement already satisfied: jedi>=0.16 in c:\\programdata\\anaconda3\\lib\\site-packages (from ipython>=7.23.1->ipykernel) (0.18.1)\n",
      "Requirement already satisfied: entrypoints in c:\\programdata\\anaconda3\\lib\\site-packages (from jupyter-client>=6.1.12->ipykernel) (0.4)\n",
      "Requirement already satisfied: jupyter-core>=4.9.2 in c:\\programdata\\anaconda3\\lib\\site-packages (from jupyter-client>=6.1.12->ipykernel) (4.11.1)\n",
      "Requirement already satisfied: python-dateutil>=2.8.2 in c:\\programdata\\anaconda3\\lib\\site-packages (from jupyter-client>=6.1.12->ipykernel) (2.8.2)\n",
      "Requirement already satisfied: pyparsing!=3.0.5,>=2.0.2 in c:\\programdata\\anaconda3\\lib\\site-packages (from packaging->ipykernel) (3.0.9)\n",
      "Requirement already satisfied: parso<0.9.0,>=0.8.0 in c:\\programdata\\anaconda3\\lib\\site-packages (from jedi>=0.16->ipython>=7.23.1->ipykernel) (0.8.3)\n",
      "Requirement already satisfied: pywin32>=1.0 in c:\\users\\иван\\appdata\\roaming\\python\\python39\\site-packages (from jupyter-core>=4.9.2->jupyter-client>=6.1.12->ipykernel) (306)\n",
      "Requirement already satisfied: wcwidth in c:\\programdata\\anaconda3\\lib\\site-packages (from prompt-toolkit!=3.0.0,!=3.0.1,<3.1.0,>=2.0.0->ipython>=7.23.1->ipykernel) (0.2.5)\n",
      "Requirement already satisfied: six>=1.5 in c:\\programdata\\anaconda3\\lib\\site-packages (from python-dateutil>=2.8.2->jupyter-client>=6.1.12->ipykernel) (1.16.0)\n",
      "Note: you may need to restart the kernel to use updated packages.\n"
     ]
    }
   ],
   "source": [
    "pip install ipykernel"
   ]
  },
  {
   "cell_type": "code",
   "execution_count": 2,
   "id": "24fd8c06",
   "metadata": {},
   "outputs": [
    {
     "name": "stdout",
     "output_type": "stream",
     "text": [
      "Defaulting to user installation because normal site-packages is not writeable\n",
      "Requirement already satisfied: keras in c:\\users\\иван\\appdata\\roaming\\python\\python39\\site-packages (2.12.0)\n",
      "Note: you may need to restart the kernel to use updated packages.\n"
     ]
    }
   ],
   "source": [
    "pip install keras"
   ]
  },
  {
   "cell_type": "code",
   "execution_count": null,
   "id": "ecee5e9d",
   "metadata": {},
   "outputs": [],
   "source": []
  },
  {
   "cell_type": "code",
   "execution_count": null,
   "id": "250251d4",
   "metadata": {},
   "outputs": [],
   "source": []
  }
 ],
 "metadata": {
  "kernelspec": {
   "display_name": "Python 3 (ipykernel)",
   "language": "python",
   "name": "python3"
  },
  "language_info": {
   "codemirror_mode": {
    "name": "ipython",
    "version": 3
   },
   "file_extension": ".py",
   "mimetype": "text/x-python",
   "name": "python",
   "nbconvert_exporter": "python",
   "pygments_lexer": "ipython3",
   "version": "3.9.13"
  }
 },
 "nbformat": 4,
 "nbformat_minor": 5
}
