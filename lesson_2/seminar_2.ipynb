{
 "cells": [
  {
   "cell_type": "markdown",
   "metadata": {
    "id": "R3ybewMsw9oH"
   },
   "source": [
    "\n",
    "\n",
    "1. Обучить, нейронную сеть на Keras на датасете MNIST."
   ]
  },
  {
   "cell_type": "code",
   "execution_count": 1,
   "metadata": {
    "colab": {
     "background_save": true,
     "base_uri": "https://localhost:8080/"
    },
    "id": "Mrn7WhDjppOF",
    "outputId": "6f8df9d9-b1f5-497c-fba4-5a10f9b7a8b4"
   },
   "outputs": [
    {
     "name": "stdout",
     "output_type": "stream",
     "text": [
      "Defaulting to user installation because normal site-packages is not writeable\n",
      "Requirement already satisfied: scikeras[tensorflow] in c:\\users\\иван\\appdata\\roaming\\python\\python39\\site-packages (0.12.0)\n",
      "Requirement already satisfied: tensorflow-io-gcs-filesystem<0.32,>=0.23.1 in c:\\users\\иван\\appdata\\roaming\\python\\python39\\site-packages (from scikeras[tensorflow]) (0.31.0)\n",
      "Requirement already satisfied: scikit-learn>=1.0.0 in c:\\programdata\\anaconda3\\lib\\site-packages (from scikeras[tensorflow]) (1.0.2)\n",
      "Requirement already satisfied: packaging>=0.21 in c:\\programdata\\anaconda3\\lib\\site-packages (from scikeras[tensorflow]) (21.3)\n",
      "Requirement already satisfied: tensorflow<2.13.0,>=2.12.0 in c:\\users\\иван\\appdata\\roaming\\python\\python39\\site-packages (from scikeras[tensorflow]) (2.12.1)\n",
      "Requirement already satisfied: pyparsing!=3.0.5,>=2.0.2 in c:\\programdata\\anaconda3\\lib\\site-packages (from packaging>=0.21->scikeras[tensorflow]) (3.0.9)\n",
      "Requirement already satisfied: numpy>=1.14.6 in c:\\users\\иван\\appdata\\roaming\\python\\python39\\site-packages (from scikit-learn>=1.0.0->scikeras[tensorflow]) (1.24.3)\n",
      "Requirement already satisfied: scipy>=1.1.0 in c:\\programdata\\anaconda3\\lib\\site-packages (from scikit-learn>=1.0.0->scikeras[tensorflow]) (1.9.1)\n",
      "Requirement already satisfied: threadpoolctl>=2.0.0 in c:\\programdata\\anaconda3\\lib\\site-packages (from scikit-learn>=1.0.0->scikeras[tensorflow]) (2.2.0)\n",
      "Requirement already satisfied: joblib>=0.11 in c:\\programdata\\anaconda3\\lib\\site-packages (from scikit-learn>=1.0.0->scikeras[tensorflow]) (1.1.0)\n",
      "Requirement already satisfied: tensorflow-intel==2.12.1 in c:\\users\\иван\\appdata\\roaming\\python\\python39\\site-packages (from tensorflow<2.13.0,>=2.12.0->scikeras[tensorflow]) (2.12.1)\n",
      "Requirement already satisfied: libclang>=13.0.0 in c:\\users\\иван\\appdata\\roaming\\python\\python39\\site-packages (from tensorflow-intel==2.12.1->tensorflow<2.13.0,>=2.12.0->scikeras[tensorflow]) (16.0.6)\n",
      "Requirement already satisfied: typing-extensions<4.6.0,>=3.6.6 in c:\\programdata\\anaconda3\\lib\\site-packages (from tensorflow-intel==2.12.1->tensorflow<2.13.0,>=2.12.0->scikeras[tensorflow]) (4.3.0)\n",
      "Requirement already satisfied: absl-py>=1.0.0 in c:\\users\\иван\\appdata\\roaming\\python\\python39\\site-packages (from tensorflow-intel==2.12.1->tensorflow<2.13.0,>=2.12.0->scikeras[tensorflow]) (2.1.0)\n",
      "Requirement already satisfied: jax>=0.3.15 in c:\\users\\иван\\appdata\\roaming\\python\\python39\\site-packages (from tensorflow-intel==2.12.1->tensorflow<2.13.0,>=2.12.0->scikeras[tensorflow]) (0.4.24)\n",
      "Requirement already satisfied: termcolor>=1.1.0 in c:\\users\\иван\\appdata\\roaming\\python\\python39\\site-packages (from tensorflow-intel==2.12.1->tensorflow<2.13.0,>=2.12.0->scikeras[tensorflow]) (2.4.0)\n",
      "Requirement already satisfied: gast<=0.4.0,>=0.2.1 in c:\\users\\иван\\appdata\\roaming\\python\\python39\\site-packages (from tensorflow-intel==2.12.1->tensorflow<2.13.0,>=2.12.0->scikeras[tensorflow]) (0.4.0)\n",
      "Requirement already satisfied: wrapt<1.15,>=1.11.0 in c:\\programdata\\anaconda3\\lib\\site-packages (from tensorflow-intel==2.12.1->tensorflow<2.13.0,>=2.12.0->scikeras[tensorflow]) (1.14.1)\n",
      "Requirement already satisfied: setuptools in c:\\programdata\\anaconda3\\lib\\site-packages (from tensorflow-intel==2.12.1->tensorflow<2.13.0,>=2.12.0->scikeras[tensorflow]) (63.4.1)\n",
      "Requirement already satisfied: tensorflow-estimator<2.13,>=2.12.0 in c:\\users\\иван\\appdata\\roaming\\python\\python39\\site-packages (from tensorflow-intel==2.12.1->tensorflow<2.13.0,>=2.12.0->scikeras[tensorflow]) (2.12.0)\n",
      "Requirement already satisfied: tensorboard<2.13,>=2.12 in c:\\users\\иван\\appdata\\roaming\\python\\python39\\site-packages (from tensorflow-intel==2.12.1->tensorflow<2.13.0,>=2.12.0->scikeras[tensorflow]) (2.12.3)\n",
      "Requirement already satisfied: h5py>=2.9.0 in c:\\programdata\\anaconda3\\lib\\site-packages (from tensorflow-intel==2.12.1->tensorflow<2.13.0,>=2.12.0->scikeras[tensorflow]) (3.7.0)\n",
      "Requirement already satisfied: protobuf!=4.21.0,!=4.21.1,!=4.21.2,!=4.21.3,!=4.21.4,!=4.21.5,<5.0.0dev,>=3.20.3 in c:\\users\\иван\\appdata\\roaming\\python\\python39\\site-packages (from tensorflow-intel==2.12.1->tensorflow<2.13.0,>=2.12.0->scikeras[tensorflow]) (4.23.4)\n",
      "Requirement already satisfied: grpcio<2.0,>=1.24.3 in c:\\users\\иван\\appdata\\roaming\\python\\python39\\site-packages (from tensorflow-intel==2.12.1->tensorflow<2.13.0,>=2.12.0->scikeras[tensorflow]) (1.60.0)\n",
      "Requirement already satisfied: astunparse>=1.6.0 in c:\\users\\иван\\appdata\\roaming\\python\\python39\\site-packages (from tensorflow-intel==2.12.1->tensorflow<2.13.0,>=2.12.0->scikeras[tensorflow]) (1.6.3)\n",
      "Requirement already satisfied: six>=1.12.0 in c:\\programdata\\anaconda3\\lib\\site-packages (from tensorflow-intel==2.12.1->tensorflow<2.13.0,>=2.12.0->scikeras[tensorflow]) (1.16.0)\n",
      "Requirement already satisfied: google-pasta>=0.1.1 in c:\\users\\иван\\appdata\\roaming\\python\\python39\\site-packages (from tensorflow-intel==2.12.1->tensorflow<2.13.0,>=2.12.0->scikeras[tensorflow]) (0.2.0)\n",
      "Requirement already satisfied: flatbuffers>=2.0 in c:\\users\\иван\\appdata\\roaming\\python\\python39\\site-packages (from tensorflow-intel==2.12.1->tensorflow<2.13.0,>=2.12.0->scikeras[tensorflow]) (23.5.26)\n",
      "Requirement already satisfied: opt-einsum>=2.3.2 in c:\\users\\иван\\appdata\\roaming\\python\\python39\\site-packages (from tensorflow-intel==2.12.1->tensorflow<2.13.0,>=2.12.0->scikeras[tensorflow]) (3.3.0)\n",
      "Requirement already satisfied: keras<2.13,>=2.12.0 in c:\\users\\иван\\appdata\\roaming\\python\\python39\\site-packages (from tensorflow-intel==2.12.1->tensorflow<2.13.0,>=2.12.0->scikeras[tensorflow]) (2.12.0)\n",
      "Requirement already satisfied: wheel<1.0,>=0.23.0 in c:\\programdata\\anaconda3\\lib\\site-packages (from astunparse>=1.6.0->tensorflow-intel==2.12.1->tensorflow<2.13.0,>=2.12.0->scikeras[tensorflow]) (0.37.1)\n",
      "Requirement already satisfied: ml-dtypes>=0.2.0 in c:\\users\\иван\\appdata\\roaming\\python\\python39\\site-packages (from jax>=0.3.15->tensorflow-intel==2.12.1->tensorflow<2.13.0,>=2.12.0->scikeras[tensorflow]) (0.3.2)\n",
      "Requirement already satisfied: importlib-metadata>=4.6 in c:\\programdata\\anaconda3\\lib\\site-packages (from jax>=0.3.15->tensorflow-intel==2.12.1->tensorflow<2.13.0,>=2.12.0->scikeras[tensorflow]) (4.11.3)\n",
      "Requirement already satisfied: google-auth-oauthlib<1.1,>=0.5 in c:\\users\\иван\\appdata\\roaming\\python\\python39\\site-packages (from tensorboard<2.13,>=2.12->tensorflow-intel==2.12.1->tensorflow<2.13.0,>=2.12.0->scikeras[tensorflow]) (1.0.0)\n",
      "Requirement already satisfied: tensorboard-data-server<0.8.0,>=0.7.0 in c:\\users\\иван\\appdata\\roaming\\python\\python39\\site-packages (from tensorboard<2.13,>=2.12->tensorflow-intel==2.12.1->tensorflow<2.13.0,>=2.12.0->scikeras[tensorflow]) (0.7.2)\n",
      "Requirement already satisfied: requests<3,>=2.21.0 in c:\\programdata\\anaconda3\\lib\\site-packages (from tensorboard<2.13,>=2.12->tensorflow-intel==2.12.1->tensorflow<2.13.0,>=2.12.0->scikeras[tensorflow]) (2.28.1)\n",
      "Requirement already satisfied: google-auth<3,>=1.6.3 in c:\\users\\иван\\appdata\\roaming\\python\\python39\\site-packages (from tensorboard<2.13,>=2.12->tensorflow-intel==2.12.1->tensorflow<2.13.0,>=2.12.0->scikeras[tensorflow]) (2.27.0)\n",
      "Requirement already satisfied: markdown>=2.6.8 in c:\\programdata\\anaconda3\\lib\\site-packages (from tensorboard<2.13,>=2.12->tensorflow-intel==2.12.1->tensorflow<2.13.0,>=2.12.0->scikeras[tensorflow]) (3.3.4)\n",
      "Requirement already satisfied: werkzeug>=1.0.1 in c:\\programdata\\anaconda3\\lib\\site-packages (from tensorboard<2.13,>=2.12->tensorflow-intel==2.12.1->tensorflow<2.13.0,>=2.12.0->scikeras[tensorflow]) (2.0.3)\n",
      "Requirement already satisfied: pyasn1-modules>=0.2.1 in c:\\programdata\\anaconda3\\lib\\site-packages (from google-auth<3,>=1.6.3->tensorboard<2.13,>=2.12->tensorflow-intel==2.12.1->tensorflow<2.13.0,>=2.12.0->scikeras[tensorflow]) (0.2.8)\n",
      "Requirement already satisfied: cachetools<6.0,>=2.0.0 in c:\\users\\иван\\appdata\\roaming\\python\\python39\\site-packages (from google-auth<3,>=1.6.3->tensorboard<2.13,>=2.12->tensorflow-intel==2.12.1->tensorflow<2.13.0,>=2.12.0->scikeras[tensorflow]) (5.3.2)\n",
      "Requirement already satisfied: rsa<5,>=3.1.4 in c:\\users\\иван\\appdata\\roaming\\python\\python39\\site-packages (from google-auth<3,>=1.6.3->tensorboard<2.13,>=2.12->tensorflow-intel==2.12.1->tensorflow<2.13.0,>=2.12.0->scikeras[tensorflow]) (4.9)\n",
      "Requirement already satisfied: requests-oauthlib>=0.7.0 in c:\\users\\иван\\appdata\\roaming\\python\\python39\\site-packages (from google-auth-oauthlib<1.1,>=0.5->tensorboard<2.13,>=2.12->tensorflow-intel==2.12.1->tensorflow<2.13.0,>=2.12.0->scikeras[tensorflow]) (1.3.1)\n",
      "Requirement already satisfied: zipp>=0.5 in c:\\programdata\\anaconda3\\lib\\site-packages (from importlib-metadata>=4.6->jax>=0.3.15->tensorflow-intel==2.12.1->tensorflow<2.13.0,>=2.12.0->scikeras[tensorflow]) (3.8.0)\n",
      "Requirement already satisfied: charset-normalizer<3,>=2 in c:\\programdata\\anaconda3\\lib\\site-packages (from requests<3,>=2.21.0->tensorboard<2.13,>=2.12->tensorflow-intel==2.12.1->tensorflow<2.13.0,>=2.12.0->scikeras[tensorflow]) (2.0.4)\n",
      "Requirement already satisfied: urllib3<1.27,>=1.21.1 in c:\\programdata\\anaconda3\\lib\\site-packages (from requests<3,>=2.21.0->tensorboard<2.13,>=2.12->tensorflow-intel==2.12.1->tensorflow<2.13.0,>=2.12.0->scikeras[tensorflow]) (1.26.11)\n",
      "Requirement already satisfied: idna<4,>=2.5 in c:\\programdata\\anaconda3\\lib\\site-packages (from requests<3,>=2.21.0->tensorboard<2.13,>=2.12->tensorflow-intel==2.12.1->tensorflow<2.13.0,>=2.12.0->scikeras[tensorflow]) (3.3)\n",
      "Requirement already satisfied: certifi>=2017.4.17 in c:\\programdata\\anaconda3\\lib\\site-packages (from requests<3,>=2.21.0->tensorboard<2.13,>=2.12->tensorflow-intel==2.12.1->tensorflow<2.13.0,>=2.12.0->scikeras[tensorflow]) (2022.9.14)\n",
      "Requirement already satisfied: pyasn1<0.5.0,>=0.4.6 in c:\\programdata\\anaconda3\\lib\\site-packages (from pyasn1-modules>=0.2.1->google-auth<3,>=1.6.3->tensorboard<2.13,>=2.12->tensorflow-intel==2.12.1->tensorflow<2.13.0,>=2.12.0->scikeras[tensorflow]) (0.4.8)\n",
      "Requirement already satisfied: oauthlib>=3.0.0 in c:\\users\\иван\\appdata\\roaming\\python\\python39\\site-packages (from requests-oauthlib>=0.7.0->google-auth-oauthlib<1.1,>=0.5->tensorboard<2.13,>=2.12->tensorflow-intel==2.12.1->tensorflow<2.13.0,>=2.12.0->scikeras[tensorflow]) (3.2.2)\n"
     ]
    }
   ],
   "source": [
    "!pip install scikeras[tensorflow]"
   ]
  },
  {
   "cell_type": "code",
   "execution_count": 2,
   "metadata": {
    "colab": {
     "background_save": true,
     "base_uri": "https://localhost:8080/"
    },
    "id": "ULBgiDvquZKv",
    "outputId": "7b36b550-a3f2-4dee-959d-df22a19ec1b1"
   },
   "outputs": [
    {
     "name": "stdout",
     "output_type": "stream",
     "text": [
      "Defaulting to user installation because normal site-packages is not writeable\n",
      "Requirement already satisfied: mnist in c:\\users\\иван\\appdata\\roaming\\python\\python39\\site-packages (0.2.2)\n",
      "Requirement already satisfied: numpy in c:\\users\\иван\\appdata\\roaming\\python\\python39\\site-packages (from mnist) (1.24.3)\n"
     ]
    }
   ],
   "source": [
    "!pip install mnist"
   ]
  },
  {
   "cell_type": "code",
   "execution_count": 3,
   "metadata": {
    "id": "BdtNDP-W6TJi"
   },
   "outputs": [],
   "source": [
    "import numpy as np\n",
    "import pandas as pd\n",
    "import mnist\n",
    "import keras\n",
    "from keras.datasets import fashion_mnist\n",
    "from keras.models import Sequential\n",
    "from keras.layers import Dense, Flatten\n",
    "from keras.utils import to_categorical\n",
    "#from scikeras.wrappers import KerasClassifier\n",
    "from sklearn.model_selection import GridSearchCV"
   ]
  },
  {
   "cell_type": "code",
   "execution_count": 4,
   "metadata": {
    "id": "pf6Pmdodye4q"
   },
   "outputs": [],
   "source": [
    "from scikeras.wrappers import KerasClassifier"
   ]
  },
  {
   "cell_type": "markdown",
   "metadata": {
    "id": "7mUHxbyoIDyA"
   },
   "source": [
    "### Building model for digit recognition"
   ]
  },
  {
   "cell_type": "code",
   "execution_count": 5,
   "metadata": {
    "id": "AGaj-oayW29B"
   },
   "outputs": [],
   "source": [
    "#import images\n",
    "train_images = mnist.train_images()\n",
    "train_labels = mnist.train_labels()\n",
    "test_images = mnist.test_images()\n",
    "test_labels = mnist.test_labels()\n",
    "\n",
    "# Normalize the images.\n",
    "train_images = (train_images / 255)\n",
    "test_images = (test_images / 255)\n",
    "\n",
    "# Flatten the images.\n",
    "train_images = train_images.reshape((-1, 784))\n",
    "test_images = test_images.reshape((-1, 784))"
   ]
  },
  {
   "cell_type": "code",
   "execution_count": 6,
   "metadata": {
    "colab": {
     "base_uri": "https://localhost:8080/",
     "height": 552
    },
    "id": "Zg4q7nst6lva",
    "outputId": "8f2cba08-2d0f-4fa1-8d60-4f4014cdf27d"
   },
   "outputs": [
    {
     "data": {
      "text/plain": [
       "array([[0., 0., 0., ..., 0., 0., 0.],\n",
       "       [1., 0., 0., ..., 0., 0., 0.],\n",
       "       [0., 0., 0., ..., 0., 0., 0.],\n",
       "       ...,\n",
       "       [0., 0., 0., ..., 0., 0., 0.],\n",
       "       [0., 0., 0., ..., 0., 0., 0.],\n",
       "       [0., 0., 0., ..., 0., 1., 0.]], dtype=float32)"
      ]
     },
     "execution_count": 6,
     "metadata": {},
     "output_type": "execute_result"
    },
    {
     "data": {
      "image/png": "[encoded data removed]",
      "text/plain": [
       "<Figure size 640x480 with 1 Axes>"
      ]
     },
     "metadata": {},
     "output_type": "display_data"
    }
   ],
   "source": [
    "import matplotlib.pyplot as plt\n",
    "plt.imshow(mnist.train_images()[0]/255)\n",
    "mnist.train_images()[0]/255\n",
    "to_categorical(train_labels)\n",
    "#train_labels"
   ]
  },
  {
   "cell_type": "code",
   "execution_count": 7,
   "metadata": {
    "id": "z_EEVFIRcupN"
   },
   "outputs": [],
   "source": [
    "input_shape = (28, 28, 1)"
   ]
  },
  {
   "cell_type": "code",
   "execution_count": 8,
   "metadata": {
    "id": "Pwu_yhsLcxPq"
   },
   "outputs": [],
   "source": [
    "model_1 = keras.Sequential([\n",
    "\n",
    "    keras.Input(shape=input_shape),\n",
    "    Flatten(),\n",
    "    Dense(50),\n",
    "    Dense(1)\n",
    "    ] )"
   ]
  },
  {
   "cell_type": "code",
   "execution_count": 9,
   "metadata": {
    "id": "QYeAmKeKeCuD"
   },
   "outputs": [],
   "source": [
    "model_1.compile(optimizer='adam',\n",
    "             loss='categorical_crossentropy',\n",
    "             metrics=['accuracy'])"
   ]
  },
  {
   "cell_type": "code",
   "execution_count": 10,
   "metadata": {
    "colab": {
     "base_uri": "https://localhost:8080/"
    },
    "id": "h2z59k90iFdD",
    "outputId": "0defb0f5-7078-47bf-c88e-04ba99c07e63"
   },
   "outputs": [],
   "source": [
    "(x_train, y_train), (x_test, y_test) = keras.datasets.mnist.load_data()"
   ]
  },
  {
   "cell_type": "code",
   "execution_count": 11,
   "metadata": {
    "colab": {
     "base_uri": "https://localhost:8080/"
    },
    "id": "-zdX7myjhCU6",
    "outputId": "b1dab8dd-a3d7-4b11-b73d-288cd27a1b66"
   },
   "outputs": [
    {
     "name": "stdout",
     "output_type": "stream",
     "text": [
      "Epoch 1/5\n"
     ]
    },
    {
     "name": "stderr",
     "output_type": "stream",
     "text": [
      "C:\\Users\\Иван\\AppData\\Roaming\\Python\\Python39\\site-packages\\tensorflow\\python\\util\\dispatch.py:1176: SyntaxWarning: In loss categorical_crossentropy, expected y_pred.shape to be (batch_size, num_classes) with num_classes > 1. Received: y_pred.shape=(32, 1). Consider using 'binary_crossentropy' if you only have 2 classes.\n",
      "  return dispatch_target(*args, **kwargs)\n"
     ]
    },
    {
     "name": "stdout",
     "output_type": "stream",
     "text": [
      "1875/1875 [==============================] - 2s 822us/step - loss: 5.3095e-07 - accuracy: 0.0833\n",
      "Epoch 2/5\n",
      "1875/1875 [==============================] - 2s 834us/step - loss: 5.3095e-07 - accuracy: 0.0833\n",
      "Epoch 3/5\n",
      "1875/1875 [==============================] - 2s 846us/step - loss: 5.3095e-07 - accuracy: 0.0833\n",
      "Epoch 4/5\n",
      "1875/1875 [==============================] - 2s 811us/step - loss: 5.3095e-07 - accuracy: 0.0833\n",
      "Epoch 5/5\n",
      "1875/1875 [==============================] - 2s 863us/step - loss: 5.3095e-07 - accuracy: 0.0833\n",
      "Wall time: 8.24 s\n"
     ]
    }
   ],
   "source": [
    "%%time\n",
    "\n",
    "history = model_1.fit(x_train, y_train, batch_size=32, epochs=5)"
   ]
  },
  {
   "cell_type": "code",
   "execution_count": 12,
   "metadata": {
    "id": "suqW3jfOjcqg"
   },
   "outputs": [],
   "source": [
    "x_train = x_train / 255\n",
    "x_test = x_test / 255"
   ]
  },
  {
   "cell_type": "code",
   "execution_count": 13,
   "metadata": {
    "id": "cPfcJTy6k1by"
   },
   "outputs": [],
   "source": [
    "y_train_cat = keras.utils.to_categorical(y_train, 10)\n",
    "y_test_cat = keras.utils.to_categorical(y_test, 10)"
   ]
  },
  {
   "cell_type": "code",
   "execution_count": 14,
   "metadata": {
    "id": "p9Jhmk5SjnAF"
   },
   "outputs": [],
   "source": [
    "model_2 = keras.Sequential([\n",
    "\n",
    "    keras.Input(shape=input_shape),\n",
    "    Flatten(),\n",
    "    Dense(90, activation = 'relu'),\n",
    "    Dense(10, activation = 'softmax')\n",
    "    ] )"
   ]
  },
  {
   "cell_type": "code",
   "execution_count": 15,
   "metadata": {
    "id": "Md6Uo7mUjsOZ"
   },
   "outputs": [],
   "source": [
    "model_2.compile(optimizer='adam',\n",
    "             loss='categorical_crossentropy',\n",
    "             metrics=['accuracy'])"
   ]
  },
  {
   "cell_type": "code",
   "execution_count": 16,
   "metadata": {
    "colab": {
     "base_uri": "https://localhost:8080/"
    },
    "id": "Yx0YHJ6xjwqg",
    "outputId": "45ad272f-464e-4a05-cbba-e44c8cfaadbf"
   },
   "outputs": [
    {
     "name": "stdout",
     "output_type": "stream",
     "text": [
      "Epoch 1/5\n",
      "1875/1875 [==============================] - 2s 930us/step - loss: 0.2883 - accuracy: 0.9174\n",
      "Epoch 2/5\n",
      "1875/1875 [==============================] - 2s 878us/step - loss: 0.1345 - accuracy: 0.9601\n",
      "Epoch 3/5\n",
      "1875/1875 [==============================] - 2s 881us/step - loss: 0.0931 - accuracy: 0.9718\n",
      "Epoch 4/5\n",
      "1875/1875 [==============================] - 2s 879us/step - loss: 0.0703 - accuracy: 0.9787\n",
      "Epoch 5/5\n",
      "1875/1875 [==============================] - 2s 949us/step - loss: 0.0561 - accuracy: 0.9833\n",
      "Wall time: 8.87 s\n"
     ]
    }
   ],
   "source": [
    "%%time\n",
    "\n",
    "history = model_2.fit(x_train, y_train_cat, batch_size=32, epochs=5)"
   ]
  },
  {
   "cell_type": "code",
   "execution_count": 17,
   "metadata": {
    "colab": {
     "base_uri": "https://localhost:8080/",
     "height": 472
    },
    "id": "jDJppettvbY9",
    "outputId": "4d170239-d05e-486f-a935-1f92f9ee020b"
   },
   "outputs": [
    {
     "data": {
      "image/png": "[encoded data removed]",
      "text/plain": [
       "<Figure size 640x480 with 1 Axes>"
      ]
     },
     "metadata": {},
     "output_type": "display_data"
    }
   ],
   "source": [
    "plt.plot(history.history['accuracy'])\n",
    "plt.title('Точность модели')\n",
    "plt.ylabel('точность')\n",
    "plt.xlabel('количество эпох')\n",
    "plt.show()"
   ]
  },
  {
   "cell_type": "code",
   "execution_count": 18,
   "metadata": {
    "colab": {
     "base_uri": "https://localhost:8080/",
     "height": 472
    },
    "id": "m5yR5Fk9vrn_",
    "outputId": "f67792e9-3324-4d57-9f7e-0ba2bab10b06"
   },
   "outputs": [
    {
     "data": {
      "image/png": "[encoded data removed]",
      "text/plain": [
       "<Figure size 640x480 with 1 Axes>"
      ]
     },
     "metadata": {},
     "output_type": "display_data"
    }
   ],
   "source": [
    "plt.plot(history.history['loss'])\n",
    "plt.title('Потери модели')\n",
    "plt.ylabel('Потери')\n",
    "plt.xlabel('количество эпох')\n",
    "plt.show()"
   ]
  },
  {
   "cell_type": "code",
   "execution_count": 19,
   "metadata": {
    "colab": {
     "base_uri": "https://localhost:8080/"
    },
    "id": "ac-jdgFDv1P5",
    "outputId": "12618e5e-31d2-49a2-c930-bfd1fd902472"
   },
   "outputs": [
    {
     "name": "stdout",
     "output_type": "stream",
     "text": [
      "313/313 [==============================] - 0s 666us/step - loss: 0.0825 - accuracy: 0.9752\n"
     ]
    },
    {
     "data": {
      "text/plain": [
       "[0.08249950408935547, 0.9751999974250793]"
      ]
     },
     "execution_count": 19,
     "metadata": {},
     "output_type": "execute_result"
    }
   ],
   "source": [
    "model_2.evaluate(x_test, y_test_cat)"
   ]
  },
  {
   "cell_type": "code",
   "execution_count": 20,
   "metadata": {
    "colab": {
     "base_uri": "https://localhost:8080/"
    },
    "id": "cVWER4a0wPFW",
    "outputId": "2aae985e-313c-417d-ec7f-3c66d71068db"
   },
   "outputs": [
    {
     "name": "stdout",
     "output_type": "stream",
     "text": [
      "Epoch 1/5\n",
      "1875/1875 [==============================] - 2s 1ms/step - loss: 0.0446 - accuracy: 0.9865 - val_loss: 0.0842 - val_accuracy: 0.9748\n",
      "Epoch 2/5\n",
      "1875/1875 [==============================] - 2s 1ms/step - loss: 0.0366 - accuracy: 0.9887 - val_loss: 0.0857 - val_accuracy: 0.9743\n",
      "Epoch 3/5\n",
      "1875/1875 [==============================] - 2s 1ms/step - loss: 0.0305 - accuracy: 0.9904 - val_loss: 0.0913 - val_accuracy: 0.9745\n",
      "Epoch 4/5\n",
      "1875/1875 [==============================] - 2s 1ms/step - loss: 0.0252 - accuracy: 0.9923 - val_loss: 0.0853 - val_accuracy: 0.9759\n",
      "Epoch 5/5\n",
      "1875/1875 [==============================] - 2s 1ms/step - loss: 0.0215 - accuracy: 0.9933 - val_loss: 0.0835 - val_accuracy: 0.9759\n",
      "Wall time: 9.91 s\n"
     ]
    }
   ],
   "source": [
    "%%time\n",
    "\n",
    "history = model_2.fit(x_train, y_train_cat, batch_size=32, epochs=5, validation_data =(x_test, y_test_cat) )"
   ]
  },
  {
   "cell_type": "code",
   "execution_count": 21,
   "metadata": {
    "colab": {
     "base_uri": "https://localhost:8080/",
     "height": 472
    },
    "id": "E_G9rNJ9wbJ8",
    "outputId": "31e1f260-1237-451b-e71e-eb773501d2cb"
   },
   "outputs": [
    {
     "data": {
      "image/png": "[encoded data removed]",
      "text/plain": [
       "<Figure size 640x480 with 1 Axes>"
      ]
     },
     "metadata": {},
     "output_type": "display_data"
    }
   ],
   "source": [
    "plt.plot(history.history['accuracy'])\n",
    "plt.plot(history.history['val_accuracy'])\n",
    "plt.title('Точность модели')\n",
    "plt.ylabel('точность')\n",
    "plt.xlabel('количество эпох')\n",
    "plt.legend(['train', 'test'], loc='upper left')\n",
    "plt.show()"
   ]
  },
  {
   "cell_type": "code",
   "execution_count": 22,
   "metadata": {
    "colab": {
     "base_uri": "https://localhost:8080/",
     "height": 245
    },
    "id": "LTT06XMpwg7k",
    "outputId": "eb71e626-63e0-42fe-a88a-f15dad3947b2"
   },
   "outputs": [
    {
     "data": {
      "image/png": "[encoded data removed]",
      "text/plain": [
       "<Figure size 640x480 with 1 Axes>"
      ]
     },
     "metadata": {},
     "output_type": "display_data"
    }
   ],
   "source": [
    "plt.plot(history.history['loss'])\n",
    "plt.plot(history.history['val_loss'])\n",
    "plt.title('Потери модели')\n",
    "plt.ylabel('Потери')\n",
    "plt.xlabel('количество эпох')\n",
    "plt.legend(['train', 'test'], loc='upper left')\n",
    "plt.show()"
   ]
  },
  {
   "cell_type": "code",
   "execution_count": 23,
   "metadata": {
    "colab": {
     "base_uri": "https://localhost:8080/",
     "height": 245
    },
    "id": "NV4rUD5OwpD1",
    "outputId": "2c4384f1-3394-4e06-d965-c1479e0149cb"
   },
   "outputs": [
    {
     "data": {
      "image/png": "[encoded data removed]",
      "text/plain": [
       "<Figure size 640x480 with 1 Axes>"
      ]
     },
     "metadata": {},
     "output_type": "display_data"
    },
    {
     "name": "stdout",
     "output_type": "stream",
     "text": [
      "1/1 [==============================] - 0s 52ms/step\n",
      "1: 2\n"
     ]
    }
   ],
   "source": [
    "n_rec=35\n",
    "plt.imshow(x_test[n_rec].reshape(28, 28), cmap=plt.cm.binary)\n",
    "plt.show()\n",
    "x = x_test[n_rec]\n",
    "x = np.expand_dims(x, axis=0)\n",
    "\n",
    "prediction = model_2.predict(x)\n",
    "prediction = np.argmax(prediction[0])\n",
    "print(\"1:\", prediction)"
   ]
  },
  {
   "cell_type": "code",
   "execution_count": 24,
   "metadata": {
    "id": "TyAghDELZOVL"
   },
   "outputs": [],
   "source": [
    "# Build the model.\n",
    "def create_model(optimizer='adam'):\n",
    "    model = Sequential([\n",
    "      Dense(64, input_shape=(784,), activation='relu'),\n",
    "      Dense(32, activation='relu'),\n",
    "      Dense(10, activation='softmax')\n",
    "    ])\n",
    "\n",
    "    # Compile the model.\n",
    "    model.compile(\n",
    "      optimizer=optimizer,\n",
    "      loss='categorical_crossentropy',\n",
    "      metrics=['accuracy'],\n",
    "    )\n",
    "    return model"
   ]
  },
  {
   "cell_type": "code",
   "execution_count": 25,
   "metadata": {
    "colab": {
     "base_uri": "https://localhost:8080/"
    },
    "id": "FQOY8_8mb_ZI",
    "outputId": "241d1558-b77c-425e-b823-60d0d7c2a4b7"
   },
   "outputs": [
    {
     "name": "stdout",
     "output_type": "stream",
     "text": [
      "Epoch 1/5\n",
      "1875/1875 [==============================] - 2s 927us/step - loss: 0.2928 - accuracy: 0.9167\n",
      "Epoch 2/5\n",
      "1875/1875 [==============================] - 2s 865us/step - loss: 0.1341 - accuracy: 0.9596\n",
      "Epoch 3/5\n",
      "1875/1875 [==============================] - 2s 898us/step - loss: 0.0994 - accuracy: 0.9691\n",
      "Epoch 4/5\n",
      "1875/1875 [==============================] - 2s 897us/step - loss: 0.0780 - accuracy: 0.9751\n",
      "Epoch 5/5\n",
      "1875/1875 [==============================] - 2s 859us/step - loss: 0.0649 - accuracy: 0.9800\n",
      "313/313 [==============================] - 0s 684us/step - loss: 0.0890 - accuracy: 0.9714\n",
      "**************\n",
      "Loss - 0.09, Metrics - 0.971\n"
     ]
    }
   ],
   "source": [
    "model = create_model()\n",
    "\n",
    "# Train the model.\n",
    "model.fit(train_images, to_categorical(train_labels), epochs=5, batch_size=32)\n",
    "\n",
    "# Evaluate the model.\n",
    "loss,metrics = model.evaluate(test_images, to_categorical(test_labels))\n",
    "print('**************')\n",
    "print(f'Loss - {np.round(loss,2)}, Metrics - {np.round(metrics,3)}')"
   ]
  },
  {
   "cell_type": "code",
   "execution_count": 26,
   "metadata": {
    "colab": {
     "base_uri": "https://localhost:8080/"
    },
    "id": "o4mMjqT1IMoI",
    "outputId": "c69dedf6-311d-4597-d270-9440a022acad"
   },
   "outputs": [
    {
     "name": "stdout",
     "output_type": "stream",
     "text": [
      "1/1 [==============================] - 0s 23ms/step\n",
      "Predictions: [7 2 1 0 4 1 4 9 5 9]\n",
      "True labels: [7 2 1 0 4 1 4 9 5 9]\n"
     ]
    }
   ],
   "source": [
    "# Predict on the first 10 test images.\n",
    "predictions = model.predict(test_images[:10])\n",
    "\n",
    "# Print our model's predictions.\n",
    "print(f'Predictions: {np.argmax(predictions, axis=1)}')\n",
    "\n",
    "# Check our predictions against the ground truths.\n",
    "print(f'True labels: {test_labels[:10]}')"
   ]
  },
  {
   "cell_type": "markdown",
   "metadata": {
    "id": "3c1FUM5PIBvC"
   },
   "source": [
    "### Picking params via GridSearchCV"
   ]
  },
  {
   "cell_type": "code",
   "execution_count": 27,
   "metadata": {
    "id": "nrtdUsU6XxAz"
   },
   "outputs": [],
   "source": [
    "batch_size = [ 500, 1000]\n",
    "epochs = [5, 10]\n",
    "optimizer = ['SGD', 'RMSprop', 'Adam']"
   ]
  },
  {
   "cell_type": "code",
   "execution_count": 28,
   "metadata": {
    "colab": {
     "base_uri": "https://localhost:8080/"
    },
    "id": "7C8rPHbu3rXr",
    "outputId": "02730888-2fa0-430b-fc8d-b1d01d104ae7",
    "scrolled": true
   },
   "outputs": [
    {
     "name": "stdout",
     "output_type": "stream",
     "text": [
      "Epoch 1/5\n",
      "80/80 [==============================] - 1s 2ms/step - loss: 0.9064 - accuracy: 0.7500\n",
      "Epoch 2/5\n",
      "80/80 [==============================] - 0s 2ms/step - loss: 0.3148 - accuracy: 0.9105\n",
      "Epoch 3/5\n",
      "80/80 [==============================] - 0s 2ms/step - loss: 0.2471 - accuracy: 0.9293\n",
      "Epoch 4/5\n",
      "80/80 [==============================] - 0s 2ms/step - loss: 0.2088 - accuracy: 0.9395\n",
      "Epoch 5/5\n",
      "80/80 [==============================] - 0s 2ms/step - loss: 0.1817 - accuracy: 0.9488\n",
      "40/40 [==============================] - 0s 901us/step\n",
      "Epoch 1/5\n",
      "80/80 [==============================] - 1s 2ms/step - loss: 0.9769 - accuracy: 0.7139\n",
      "Epoch 2/5\n",
      "80/80 [==============================] - 0s 2ms/step - loss: 0.3005 - accuracy: 0.9155\n",
      "Epoch 3/5\n",
      "80/80 [==============================] - 0s 2ms/step - loss: 0.2277 - accuracy: 0.9364\n",
      "Epoch 4/5\n",
      "80/80 [==============================] - 0s 2ms/step - loss: 0.1888 - accuracy: 0.9462\n",
      "Epoch 5/5\n",
      "80/80 [==============================] - 0s 2ms/step - loss: 0.1649 - accuracy: 0.9532\n",
      "40/40 [==============================] - 0s 1ms/step\n",
      "Epoch 1/5\n",
      "80/80 [==============================] - 1s 2ms/step - loss: 0.9712 - accuracy: 0.7211\n",
      "Epoch 2/5\n",
      "80/80 [==============================] - 0s 2ms/step - loss: 0.3132 - accuracy: 0.9125\n",
      "Epoch 3/5\n",
      "80/80 [==============================] - 0s 2ms/step - loss: 0.2416 - accuracy: 0.9330\n",
      "Epoch 4/5\n",
      "80/80 [==============================] - 0s 2ms/step - loss: 0.2024 - accuracy: 0.9435\n",
      "Epoch 5/5\n",
      "80/80 [==============================] - 0s 2ms/step - loss: 0.1754 - accuracy: 0.9508\n",
      "40/40 [==============================] - 0s 1ms/step\n",
      "Epoch 1/5\n",
      "80/80 [==============================] - 1s 3ms/step - loss: 1.0036 - accuracy: 0.7093\n",
      "Epoch 2/5\n",
      "80/80 [==============================] - 0s 2ms/step - loss: 0.3247 - accuracy: 0.9093\n",
      "Epoch 3/5\n",
      "80/80 [==============================] - 0s 2ms/step - loss: 0.2513 - accuracy: 0.9301\n",
      "Epoch 4/5\n",
      "80/80 [==============================] - 0s 2ms/step - loss: 0.2117 - accuracy: 0.9406\n",
      "Epoch 5/5\n",
      "80/80 [==============================] - 0s 2ms/step - loss: 0.1842 - accuracy: 0.9480\n",
      "40/40 [==============================] - 0s 881us/step\n",
      "Epoch 1/5\n",
      "80/80 [==============================] - 1s 2ms/step - loss: 0.9305 - accuracy: 0.7583\n",
      "Epoch 2/5\n",
      "80/80 [==============================] - 0s 2ms/step - loss: 0.3008 - accuracy: 0.9164\n",
      "Epoch 3/5\n",
      "80/80 [==============================] - 0s 2ms/step - loss: 0.2353 - accuracy: 0.9342\n",
      "Epoch 4/5\n",
      "80/80 [==============================] - 0s 2ms/step - loss: 0.2022 - accuracy: 0.9427\n",
      "Epoch 5/5\n",
      "80/80 [==============================] - 0s 3ms/step - loss: 0.1764 - accuracy: 0.9505\n",
      "40/40 [==============================] - 0s 768us/step\n",
      "Epoch 1/5\n",
      "80/80 [==============================] - 1s 2ms/step - loss: 0.9355 - accuracy: 0.7472\n",
      "Epoch 2/5\n",
      "80/80 [==============================] - 0s 2ms/step - loss: 0.3016 - accuracy: 0.9155\n",
      "Epoch 3/5\n",
      "80/80 [==============================] - 0s 2ms/step - loss: 0.2346 - accuracy: 0.9337\n",
      "Epoch 4/5\n",
      "80/80 [==============================] - 0s 2ms/step - loss: 0.1974 - accuracy: 0.9429\n",
      "Epoch 5/5\n",
      "80/80 [==============================] - 0s 2ms/step - loss: 0.1696 - accuracy: 0.9512\n",
      "40/40 [==============================] - 0s 887us/step\n",
      "Epoch 1/5\n",
      "80/80 [==============================] - 1s 3ms/step - loss: 0.9038 - accuracy: 0.7546\n",
      "Epoch 2/5\n",
      "80/80 [==============================] - 0s 3ms/step - loss: 0.3027 - accuracy: 0.9135\n",
      "Epoch 3/5\n",
      "80/80 [==============================] - 0s 2ms/step - loss: 0.2364 - accuracy: 0.9317\n",
      "Epoch 4/5\n",
      "80/80 [==============================] - 0s 3ms/step - loss: 0.1982 - accuracy: 0.9435\n",
      "Epoch 5/5\n",
      "80/80 [==============================] - 0s 3ms/step - loss: 0.1731 - accuracy: 0.9510\n",
      "40/40 [==============================] - 0s 1ms/step\n",
      "Epoch 1/5\n",
      "80/80 [==============================] - 1s 3ms/step - loss: 0.8871 - accuracy: 0.7509\n",
      "Epoch 2/5\n",
      "80/80 [==============================] - 0s 3ms/step - loss: 0.3068 - accuracy: 0.9143\n",
      "Epoch 3/5\n",
      "80/80 [==============================] - 0s 2ms/step - loss: 0.2379 - accuracy: 0.9330\n",
      "Epoch 4/5\n",
      "80/80 [==============================] - 0s 2ms/step - loss: 0.1971 - accuracy: 0.9444\n",
      "Epoch 5/5\n",
      "80/80 [==============================] - 0s 2ms/step - loss: 0.1709 - accuracy: 0.9518\n",
      "40/40 [==============================] - 0s 886us/step\n",
      "Epoch 1/5\n",
      "80/80 [==============================] - 1s 2ms/step - loss: 0.9118 - accuracy: 0.7440\n",
      "Epoch 2/5\n",
      "80/80 [==============================] - 0s 2ms/step - loss: 0.3065 - accuracy: 0.9132\n",
      "Epoch 3/5\n",
      "80/80 [==============================] - 0s 2ms/step - loss: 0.2405 - accuracy: 0.9318\n",
      "Epoch 4/5\n",
      "80/80 [==============================] - 0s 2ms/step - loss: 0.2030 - accuracy: 0.9424\n",
      "Epoch 5/5\n",
      "80/80 [==============================] - 0s 2ms/step - loss: 0.1791 - accuracy: 0.9487\n",
      "40/40 [==============================] - 0s 1ms/step\n",
      "Epoch 1/10\n",
      "80/80 [==============================] - 1s 2ms/step - loss: 0.9209 - accuracy: 0.7469\n",
      "Epoch 2/10\n",
      "80/80 [==============================] - 0s 2ms/step - loss: 0.3114 - accuracy: 0.9109\n",
      "Epoch 3/10\n",
      "80/80 [==============================] - 0s 2ms/step - loss: 0.2470 - accuracy: 0.9294\n",
      "Epoch 4/10\n",
      "80/80 [==============================] - 0s 2ms/step - loss: 0.2120 - accuracy: 0.9401\n",
      "Epoch 5/10\n",
      "80/80 [==============================] - 0s 3ms/step - loss: 0.1851 - accuracy: 0.9470\n",
      "Epoch 6/10\n",
      "80/80 [==============================] - 0s 2ms/step - loss: 0.1628 - accuracy: 0.9532\n",
      "Epoch 7/10\n",
      "80/80 [==============================] - 0s 2ms/step - loss: 0.1454 - accuracy: 0.9582\n",
      "Epoch 8/10\n",
      "80/80 [==============================] - 0s 2ms/step - loss: 0.1330 - accuracy: 0.9622\n",
      "Epoch 9/10\n",
      "80/80 [==============================] - 0s 2ms/step - loss: 0.1197 - accuracy: 0.9655\n",
      "Epoch 10/10\n",
      "80/80 [==============================] - 0s 2ms/step - loss: 0.1097 - accuracy: 0.9687\n",
      "40/40 [==============================] - 0s 884us/step\n",
      "Epoch 1/10\n",
      "80/80 [==============================] - 1s 2ms/step - loss: 1.0045 - accuracy: 0.7232\n",
      "Epoch 2/10\n",
      "80/80 [==============================] - 0s 2ms/step - loss: 0.3142 - accuracy: 0.9129\n",
      "Epoch 3/10\n",
      "80/80 [==============================] - 0s 2ms/step - loss: 0.2473 - accuracy: 0.9304\n",
      "Epoch 4/10\n",
      "80/80 [==============================] - 0s 2ms/step - loss: 0.2137 - accuracy: 0.9388\n",
      "Epoch 5/10\n",
      "80/80 [==============================] - 0s 2ms/step - loss: 0.1891 - accuracy: 0.9468\n",
      "Epoch 6/10\n",
      "80/80 [==============================] - 0s 2ms/step - loss: 0.1676 - accuracy: 0.9532\n",
      "Epoch 7/10\n",
      "80/80 [==============================] - 0s 2ms/step - loss: 0.1524 - accuracy: 0.9575\n",
      "Epoch 8/10\n",
      "80/80 [==============================] - 0s 2ms/step - loss: 0.1401 - accuracy: 0.9605\n",
      "Epoch 9/10\n",
      "80/80 [==============================] - 0s 2ms/step - loss: 0.1274 - accuracy: 0.9642\n",
      "Epoch 10/10\n",
      "80/80 [==============================] - 0s 2ms/step - loss: 0.1194 - accuracy: 0.9659\n",
      "40/40 [==============================] - 0s 1ms/step\n",
      "Epoch 1/10\n",
      "80/80 [==============================] - 1s 2ms/step - loss: 0.9045 - accuracy: 0.7545\n",
      "Epoch 2/10\n",
      "80/80 [==============================] - 0s 3ms/step - loss: 0.3230 - accuracy: 0.9105\n",
      "Epoch 3/10\n",
      "80/80 [==============================] - 0s 3ms/step - loss: 0.2486 - accuracy: 0.9305\n",
      "Epoch 4/10\n",
      "80/80 [==============================] - 0s 2ms/step - loss: 0.2085 - accuracy: 0.9414\n",
      "Epoch 5/10\n",
      "80/80 [==============================] - 0s 2ms/step - loss: 0.1803 - accuracy: 0.9489\n",
      "Epoch 6/10\n",
      "80/80 [==============================] - 0s 2ms/step - loss: 0.1617 - accuracy: 0.9547\n",
      "Epoch 7/10\n",
      "80/80 [==============================] - 0s 2ms/step - loss: 0.1428 - accuracy: 0.9585\n",
      "Epoch 8/10\n",
      "80/80 [==============================] - 0s 2ms/step - loss: 0.1296 - accuracy: 0.9624\n",
      "Epoch 9/10\n",
      "80/80 [==============================] - 0s 2ms/step - loss: 0.1183 - accuracy: 0.9655\n",
      "Epoch 10/10\n",
      "80/80 [==============================] - 0s 2ms/step - loss: 0.1083 - accuracy: 0.9682\n",
      "40/40 [==============================] - 0s 687us/step\n",
      "Epoch 1/10\n",
      "80/80 [==============================] - 1s 2ms/step - loss: 0.8999 - accuracy: 0.7580\n",
      "Epoch 2/10\n",
      "80/80 [==============================] - 0s 2ms/step - loss: 0.3223 - accuracy: 0.9078\n",
      "Epoch 3/10\n"
     ]
    },
    {
     "name": "stdout",
     "output_type": "stream",
     "text": [
      "80/80 [==============================] - 0s 2ms/step - loss: 0.2558 - accuracy: 0.9262\n",
      "Epoch 4/10\n",
      "80/80 [==============================] - 0s 2ms/step - loss: 0.2166 - accuracy: 0.9367\n",
      "Epoch 5/10\n",
      "80/80 [==============================] - 0s 2ms/step - loss: 0.1892 - accuracy: 0.9449\n",
      "Epoch 6/10\n",
      "80/80 [==============================] - 0s 2ms/step - loss: 0.1677 - accuracy: 0.9513\n",
      "Epoch 7/10\n",
      "80/80 [==============================] - 0s 2ms/step - loss: 0.1504 - accuracy: 0.9567\n",
      "Epoch 8/10\n",
      "80/80 [==============================] - 0s 2ms/step - loss: 0.1358 - accuracy: 0.9610\n",
      "Epoch 9/10\n",
      "80/80 [==============================] - 0s 2ms/step - loss: 0.1249 - accuracy: 0.9644\n",
      "Epoch 10/10\n",
      "80/80 [==============================] - 0s 2ms/step - loss: 0.1151 - accuracy: 0.9668\n",
      "40/40 [==============================] - 0s 918us/step\n",
      "Epoch 1/10\n",
      "80/80 [==============================] - 1s 2ms/step - loss: 0.8899 - accuracy: 0.7580\n",
      "Epoch 2/10\n",
      "80/80 [==============================] - 0s 2ms/step - loss: 0.3060 - accuracy: 0.9148\n",
      "Epoch 3/10\n",
      "80/80 [==============================] - 0s 2ms/step - loss: 0.2376 - accuracy: 0.9340\n",
      "Epoch 4/10\n",
      "80/80 [==============================] - 0s 2ms/step - loss: 0.1988 - accuracy: 0.9442\n",
      "Epoch 5/10\n",
      "80/80 [==============================] - 0s 2ms/step - loss: 0.1725 - accuracy: 0.9512\n",
      "Epoch 6/10\n",
      "80/80 [==============================] - 0s 2ms/step - loss: 0.1519 - accuracy: 0.9566\n",
      "Epoch 7/10\n",
      "80/80 [==============================] - 0s 2ms/step - loss: 0.1363 - accuracy: 0.9611\n",
      "Epoch 8/10\n",
      "80/80 [==============================] - 0s 2ms/step - loss: 0.1226 - accuracy: 0.9649\n",
      "Epoch 9/10\n",
      "80/80 [==============================] - 0s 2ms/step - loss: 0.1117 - accuracy: 0.9682\n",
      "Epoch 10/10\n",
      "80/80 [==============================] - 0s 2ms/step - loss: 0.1022 - accuracy: 0.9715\n",
      "40/40 [==============================] - 0s 1ms/step\n",
      "Epoch 1/10\n",
      "80/80 [==============================] - 1s 3ms/step - loss: 0.9584 - accuracy: 0.7431\n",
      "Epoch 2/10\n",
      "80/80 [==============================] - 0s 2ms/step - loss: 0.3139 - accuracy: 0.9139\n",
      "Epoch 3/10\n",
      "80/80 [==============================] - 0s 2ms/step - loss: 0.2445 - accuracy: 0.9310\n",
      "Epoch 4/10\n",
      "80/80 [==============================] - 0s 2ms/step - loss: 0.2039 - accuracy: 0.9419\n",
      "Epoch 5/10\n",
      "80/80 [==============================] - 0s 2ms/step - loss: 0.1769 - accuracy: 0.9499\n",
      "Epoch 6/10\n",
      "80/80 [==============================] - 0s 2ms/step - loss: 0.1554 - accuracy: 0.9551\n",
      "Epoch 7/10\n",
      "80/80 [==============================] - 0s 2ms/step - loss: 0.1397 - accuracy: 0.9596\n",
      "Epoch 8/10\n",
      "80/80 [==============================] - 0s 2ms/step - loss: 0.1253 - accuracy: 0.9650\n",
      "Epoch 9/10\n",
      "80/80 [==============================] - 0s 2ms/step - loss: 0.1146 - accuracy: 0.9674\n",
      "Epoch 10/10\n",
      "80/80 [==============================] - 0s 2ms/step - loss: 0.1062 - accuracy: 0.9699\n",
      "40/40 [==============================] - 0s 1ms/step\n",
      "Epoch 1/10\n",
      "80/80 [==============================] - 1s 2ms/step - loss: 0.9312 - accuracy: 0.7587\n",
      "Epoch 2/10\n",
      "80/80 [==============================] - 0s 2ms/step - loss: 0.3078 - accuracy: 0.9123\n",
      "Epoch 3/10\n",
      "80/80 [==============================] - 0s 2ms/step - loss: 0.2400 - accuracy: 0.9314\n",
      "Epoch 4/10\n",
      "80/80 [==============================] - 0s 2ms/step - loss: 0.2027 - accuracy: 0.9418\n",
      "Epoch 5/10\n",
      "80/80 [==============================] - 0s 2ms/step - loss: 0.1795 - accuracy: 0.9487\n",
      "Epoch 6/10\n",
      "80/80 [==============================] - 0s 2ms/step - loss: 0.1605 - accuracy: 0.9540\n",
      "Epoch 7/10\n",
      "80/80 [==============================] - 0s 2ms/step - loss: 0.1468 - accuracy: 0.9568\n",
      "Epoch 8/10\n",
      "80/80 [==============================] - 0s 2ms/step - loss: 0.1357 - accuracy: 0.9603\n",
      "Epoch 9/10\n",
      "80/80 [==============================] - 0s 2ms/step - loss: 0.1222 - accuracy: 0.9650\n",
      "Epoch 10/10\n",
      "80/80 [==============================] - 0s 2ms/step - loss: 0.1132 - accuracy: 0.9674\n",
      "40/40 [==============================] - 0s 1ms/step\n",
      "Epoch 1/10\n",
      "80/80 [==============================] - 1s 2ms/step - loss: 0.9639 - accuracy: 0.7324\n",
      "Epoch 2/10\n",
      "80/80 [==============================] - 0s 2ms/step - loss: 0.3098 - accuracy: 0.9121\n",
      "Epoch 3/10\n",
      "80/80 [==============================] - 0s 2ms/step - loss: 0.2427 - accuracy: 0.9304\n",
      "Epoch 4/10\n",
      "80/80 [==============================] - 0s 2ms/step - loss: 0.2067 - accuracy: 0.9408\n",
      "Epoch 5/10\n",
      "80/80 [==============================] - 0s 2ms/step - loss: 0.1824 - accuracy: 0.9477\n",
      "Epoch 6/10\n",
      "80/80 [==============================] - 0s 2ms/step - loss: 0.1622 - accuracy: 0.9536\n",
      "Epoch 7/10\n",
      "80/80 [==============================] - 0s 2ms/step - loss: 0.1446 - accuracy: 0.9584\n",
      "Epoch 8/10\n",
      "80/80 [==============================] - 0s 2ms/step - loss: 0.1305 - accuracy: 0.9625\n",
      "Epoch 9/10\n",
      "80/80 [==============================] - 0s 2ms/step - loss: 0.1174 - accuracy: 0.9664\n",
      "Epoch 10/10\n",
      "80/80 [==============================] - 0s 2ms/step - loss: 0.1056 - accuracy: 0.9694\n",
      "40/40 [==============================] - 0s 1ms/step\n",
      "Epoch 1/10\n",
      "80/80 [==============================] - 1s 2ms/step - loss: 0.8991 - accuracy: 0.7524\n",
      "Epoch 2/10\n",
      "80/80 [==============================] - 0s 2ms/step - loss: 0.2990 - accuracy: 0.9151\n",
      "Epoch 3/10\n",
      "80/80 [==============================] - 0s 2ms/step - loss: 0.2335 - accuracy: 0.9337\n",
      "Epoch 4/10\n",
      "80/80 [==============================] - 0s 2ms/step - loss: 0.1947 - accuracy: 0.9452\n",
      "Epoch 5/10\n",
      "80/80 [==============================] - 0s 2ms/step - loss: 0.1669 - accuracy: 0.9533\n",
      "Epoch 6/10\n",
      "80/80 [==============================] - 0s 2ms/step - loss: 0.1460 - accuracy: 0.9590\n",
      "Epoch 7/10\n",
      "80/80 [==============================] - 0s 2ms/step - loss: 0.1294 - accuracy: 0.9634\n",
      "Epoch 8/10\n",
      "80/80 [==============================] - 0s 2ms/step - loss: 0.1171 - accuracy: 0.9672\n",
      "Epoch 9/10\n",
      "80/80 [==============================] - 0s 2ms/step - loss: 0.1060 - accuracy: 0.9698\n",
      "Epoch 10/10\n",
      "80/80 [==============================] - 0s 2ms/step - loss: 0.0952 - accuracy: 0.9733\n",
      "40/40 [==============================] - 0s 928us/step\n",
      "Epoch 1/5\n",
      "40/40 [==============================] - 1s 4ms/step - loss: 1.3210 - accuracy: 0.6188\n",
      "Epoch 2/5\n",
      "40/40 [==============================] - 0s 4ms/step - loss: 0.4446 - accuracy: 0.8779\n",
      "Epoch 3/5\n",
      "40/40 [==============================] - 0s 4ms/step - loss: 0.3123 - accuracy: 0.9130\n",
      "Epoch 4/5\n",
      "40/40 [==============================] - 0s 4ms/step - loss: 0.2589 - accuracy: 0.9276\n",
      "Epoch 5/5\n",
      "40/40 [==============================] - 0s 4ms/step - loss: 0.2262 - accuracy: 0.9363\n",
      "20/20 [==============================] - 0s 2ms/step\n",
      "Epoch 1/5\n",
      "40/40 [==============================] - 0s 4ms/step - loss: 1.2640 - accuracy: 0.6690\n",
      "Epoch 2/5\n",
      "40/40 [==============================] - 0s 4ms/step - loss: 0.4055 - accuracy: 0.8886\n",
      "Epoch 3/5\n",
      "40/40 [==============================] - 0s 4ms/step - loss: 0.3100 - accuracy: 0.9132\n",
      "Epoch 4/5\n",
      "40/40 [==============================] - 0s 3ms/step - loss: 0.2657 - accuracy: 0.9251\n",
      "Epoch 5/5\n",
      "40/40 [==============================] - 0s 4ms/step - loss: 0.2360 - accuracy: 0.9337\n",
      "20/20 [==============================] - 0s 1ms/step\n",
      "Epoch 1/5\n",
      "40/40 [==============================] - 1s 4ms/step - loss: 1.4834 - accuracy: 0.5864\n",
      "Epoch 2/5\n",
      "40/40 [==============================] - 0s 4ms/step - loss: 0.4783 - accuracy: 0.8740\n",
      "Epoch 3/5\n",
      "40/40 [==============================] - 0s 4ms/step - loss: 0.3264 - accuracy: 0.9092\n",
      "Epoch 4/5\n",
      "40/40 [==============================] - 0s 3ms/step - loss: 0.2715 - accuracy: 0.9257\n",
      "Epoch 5/5\n",
      "40/40 [==============================] - 0s 4ms/step - loss: 0.2374 - accuracy: 0.9348\n",
      "20/20 [==============================] - 0s 2ms/step\n",
      "Epoch 1/5\n",
      "40/40 [==============================] - 1s 3ms/step - loss: 1.3435 - accuracy: 0.6041\n",
      "Epoch 2/5\n",
      "40/40 [==============================] - 0s 4ms/step - loss: 0.4422 - accuracy: 0.8802\n",
      "Epoch 3/5\n",
      "40/40 [==============================] - 0s 4ms/step - loss: 0.3081 - accuracy: 0.9130\n",
      "Epoch 4/5\n",
      "40/40 [==============================] - 0s 3ms/step - loss: 0.2584 - accuracy: 0.9262\n",
      "Epoch 5/5\n",
      "40/40 [==============================] - 0s 3ms/step - loss: 0.2272 - accuracy: 0.9359\n",
      "20/20 [==============================] - 0s 2ms/step\n",
      "Epoch 1/5\n"
     ]
    },
    {
     "name": "stdout",
     "output_type": "stream",
     "text": [
      "40/40 [==============================] - 1s 4ms/step - loss: 1.3770 - accuracy: 0.6218\n",
      "Epoch 2/5\n",
      "40/40 [==============================] - 0s 4ms/step - loss: 0.4406 - accuracy: 0.8799\n",
      "Epoch 3/5\n",
      "40/40 [==============================] - 0s 4ms/step - loss: 0.3072 - accuracy: 0.9127\n",
      "Epoch 4/5\n",
      "40/40 [==============================] - 0s 4ms/step - loss: 0.2574 - accuracy: 0.9280\n",
      "Epoch 5/5\n",
      "40/40 [==============================] - 0s 4ms/step - loss: 0.2270 - accuracy: 0.9358\n",
      "20/20 [==============================] - 0s 2ms/step\n",
      "Epoch 1/5\n",
      "40/40 [==============================] - 1s 4ms/step - loss: 1.4118 - accuracy: 0.6090\n",
      "Epoch 2/5\n",
      "40/40 [==============================] - 0s 3ms/step - loss: 0.4815 - accuracy: 0.8705\n",
      "Epoch 3/5\n",
      "40/40 [==============================] - 0s 4ms/step - loss: 0.3311 - accuracy: 0.9075\n",
      "Epoch 4/5\n",
      "40/40 [==============================] - 0s 3ms/step - loss: 0.2717 - accuracy: 0.9227\n",
      "Epoch 5/5\n",
      "40/40 [==============================] - 0s 3ms/step - loss: 0.2347 - accuracy: 0.9326\n",
      "20/20 [==============================] - 0s 2ms/step\n",
      "Epoch 1/5\n",
      "40/40 [==============================] - 1s 4ms/step - loss: 1.3915 - accuracy: 0.5926\n",
      "Epoch 2/5\n",
      "40/40 [==============================] - 0s 4ms/step - loss: 0.4498 - accuracy: 0.8747\n",
      "Epoch 3/5\n",
      "40/40 [==============================] - 0s 4ms/step - loss: 0.3123 - accuracy: 0.9100\n",
      "Epoch 4/5\n",
      "40/40 [==============================] - 0s 4ms/step - loss: 0.2608 - accuracy: 0.9250\n",
      "Epoch 5/5\n",
      "40/40 [==============================] - 0s 3ms/step - loss: 0.2290 - accuracy: 0.9342\n",
      "20/20 [==============================] - 0s 2ms/step\n",
      "Epoch 1/5\n",
      "40/40 [==============================] - 1s 3ms/step - loss: 1.3004 - accuracy: 0.6557\n",
      "Epoch 2/5\n",
      "40/40 [==============================] - 0s 4ms/step - loss: 0.4272 - accuracy: 0.8824\n",
      "Epoch 3/5\n",
      "40/40 [==============================] - 0s 3ms/step - loss: 0.3114 - accuracy: 0.9126\n",
      "Epoch 4/5\n",
      "40/40 [==============================] - 0s 3ms/step - loss: 0.2620 - accuracy: 0.9259\n",
      "Epoch 5/5\n",
      "40/40 [==============================] - 0s 3ms/step - loss: 0.2302 - accuracy: 0.9352\n",
      "20/20 [==============================] - 0s 2ms/step\n",
      "Epoch 1/5\n",
      "40/40 [==============================] - 1s 4ms/step - loss: 1.3973 - accuracy: 0.6176\n",
      "Epoch 2/5\n",
      "40/40 [==============================] - 0s 4ms/step - loss: 0.4359 - accuracy: 0.8831\n",
      "Epoch 3/5\n",
      "40/40 [==============================] - 0s 4ms/step - loss: 0.3099 - accuracy: 0.9139\n",
      "Epoch 4/5\n",
      "40/40 [==============================] - 0s 4ms/step - loss: 0.2613 - accuracy: 0.9267\n",
      "Epoch 5/5\n",
      "40/40 [==============================] - 0s 4ms/step - loss: 0.2301 - accuracy: 0.9347\n",
      "20/20 [==============================] - 0s 3ms/step\n",
      "Epoch 1/10\n",
      "40/40 [==============================] - 1s 4ms/step - loss: 1.3488 - accuracy: 0.6432\n",
      "Epoch 2/10\n",
      "40/40 [==============================] - 0s 4ms/step - loss: 0.4399 - accuracy: 0.8771\n",
      "Epoch 3/10\n",
      "40/40 [==============================] - 0s 4ms/step - loss: 0.3121 - accuracy: 0.9116\n",
      "Epoch 4/10\n",
      "40/40 [==============================] - 0s 3ms/step - loss: 0.2614 - accuracy: 0.9261\n",
      "Epoch 5/10\n",
      "40/40 [==============================] - 0s 3ms/step - loss: 0.2301 - accuracy: 0.9340\n",
      "Epoch 6/10\n",
      "40/40 [==============================] - 0s 4ms/step - loss: 0.2073 - accuracy: 0.9399\n",
      "Epoch 7/10\n",
      "40/40 [==============================] - 0s 4ms/step - loss: 0.1916 - accuracy: 0.9452\n",
      "Epoch 8/10\n",
      "40/40 [==============================] - 0s 4ms/step - loss: 0.1780 - accuracy: 0.9494\n",
      "Epoch 9/10\n",
      "40/40 [==============================] - 0s 3ms/step - loss: 0.1671 - accuracy: 0.9525\n",
      "Epoch 10/10\n",
      "40/40 [==============================] - 0s 4ms/step - loss: 0.1577 - accuracy: 0.9543\n",
      "20/20 [==============================] - 0s 2ms/step\n",
      "Epoch 1/10\n",
      "40/40 [==============================] - 0s 4ms/step - loss: 1.3021 - accuracy: 0.6557\n",
      "Epoch 2/10\n",
      "40/40 [==============================] - 0s 4ms/step - loss: 0.4213 - accuracy: 0.8844\n",
      "Epoch 3/10\n",
      "40/40 [==============================] - 0s 4ms/step - loss: 0.3022 - accuracy: 0.9140\n",
      "Epoch 4/10\n",
      "40/40 [==============================] - 0s 4ms/step - loss: 0.2539 - accuracy: 0.9292\n",
      "Epoch 5/10\n",
      "40/40 [==============================] - 0s 4ms/step - loss: 0.2217 - accuracy: 0.9383\n",
      "Epoch 6/10\n",
      "40/40 [==============================] - 0s 4ms/step - loss: 0.1962 - accuracy: 0.9464\n",
      "Epoch 7/10\n",
      "40/40 [==============================] - 0s 4ms/step - loss: 0.1772 - accuracy: 0.9510\n",
      "Epoch 8/10\n",
      "40/40 [==============================] - 0s 4ms/step - loss: 0.1619 - accuracy: 0.9546\n",
      "Epoch 9/10\n",
      "40/40 [==============================] - 0s 4ms/step - loss: 0.1480 - accuracy: 0.9582\n",
      "Epoch 10/10\n",
      "40/40 [==============================] - 0s 4ms/step - loss: 0.1370 - accuracy: 0.9607\n",
      "20/20 [==============================] - 0s 1ms/step\n",
      "Epoch 1/10\n",
      "40/40 [==============================] - 1s 4ms/step - loss: 1.3510 - accuracy: 0.6091\n",
      "Epoch 2/10\n",
      "40/40 [==============================] - 0s 4ms/step - loss: 0.4529 - accuracy: 0.8819\n",
      "Epoch 3/10\n",
      "40/40 [==============================] - 0s 4ms/step - loss: 0.3180 - accuracy: 0.9123\n",
      "Epoch 4/10\n",
      "40/40 [==============================] - 0s 4ms/step - loss: 0.2677 - accuracy: 0.9242\n",
      "Epoch 5/10\n",
      "40/40 [==============================] - 0s 4ms/step - loss: 0.2359 - accuracy: 0.9327\n",
      "Epoch 6/10\n",
      "40/40 [==============================] - 0s 4ms/step - loss: 0.2117 - accuracy: 0.9391\n",
      "Epoch 7/10\n",
      "40/40 [==============================] - 0s 4ms/step - loss: 0.1906 - accuracy: 0.9445\n",
      "Epoch 8/10\n",
      "40/40 [==============================] - 0s 4ms/step - loss: 0.1748 - accuracy: 0.9492\n",
      "Epoch 9/10\n",
      "40/40 [==============================] - 0s 4ms/step - loss: 0.1602 - accuracy: 0.9533\n",
      "Epoch 10/10\n",
      "40/40 [==============================] - 0s 4ms/step - loss: 0.1484 - accuracy: 0.9571\n",
      "20/20 [==============================] - 0s 2ms/step\n",
      "Epoch 1/10\n",
      "40/40 [==============================] - 1s 4ms/step - loss: 1.2641 - accuracy: 0.6518\n",
      "Epoch 2/10\n",
      "40/40 [==============================] - 0s 4ms/step - loss: 0.4534 - accuracy: 0.8770\n",
      "Epoch 3/10\n",
      "40/40 [==============================] - 0s 4ms/step - loss: 0.3199 - accuracy: 0.9127\n",
      "Epoch 4/10\n",
      "40/40 [==============================] - 0s 4ms/step - loss: 0.2650 - accuracy: 0.9268\n",
      "Epoch 5/10\n",
      "40/40 [==============================] - 0s 4ms/step - loss: 0.2323 - accuracy: 0.9358\n",
      "Epoch 6/10\n",
      "40/40 [==============================] - 0s 4ms/step - loss: 0.2093 - accuracy: 0.9412\n",
      "Epoch 7/10\n",
      "40/40 [==============================] - 0s 4ms/step - loss: 0.1906 - accuracy: 0.9468\n",
      "Epoch 8/10\n",
      "40/40 [==============================] - 0s 4ms/step - loss: 0.1759 - accuracy: 0.9509\n",
      "Epoch 9/10\n",
      "40/40 [==============================] - 0s 4ms/step - loss: 0.1625 - accuracy: 0.9543\n",
      "Epoch 10/10\n",
      "40/40 [==============================] - 0s 4ms/step - loss: 0.1518 - accuracy: 0.9575\n",
      "20/20 [==============================] - 0s 2ms/step\n",
      "Epoch 1/10\n",
      "40/40 [==============================] - 1s 4ms/step - loss: 1.2392 - accuracy: 0.6671\n",
      "Epoch 2/10\n",
      "40/40 [==============================] - 0s 4ms/step - loss: 0.4157 - accuracy: 0.8870\n",
      "Epoch 3/10\n",
      "40/40 [==============================] - 0s 4ms/step - loss: 0.3078 - accuracy: 0.9147\n",
      "Epoch 4/10\n",
      "40/40 [==============================] - 0s 4ms/step - loss: 0.2618 - accuracy: 0.9269\n",
      "Epoch 5/10\n",
      "40/40 [==============================] - 0s 4ms/step - loss: 0.2329 - accuracy: 0.9352\n",
      "Epoch 6/10\n",
      "40/40 [==============================] - 0s 4ms/step - loss: 0.2082 - accuracy: 0.9417\n",
      "Epoch 7/10\n",
      "40/40 [==============================] - 0s 4ms/step - loss: 0.1893 - accuracy: 0.9467\n",
      "Epoch 8/10\n",
      "40/40 [==============================] - 0s 4ms/step - loss: 0.1741 - accuracy: 0.9510\n",
      "Epoch 9/10\n",
      "40/40 [==============================] - 0s 4ms/step - loss: 0.1608 - accuracy: 0.9555\n",
      "Epoch 10/10\n",
      "40/40 [==============================] - 0s 4ms/step - loss: 0.1499 - accuracy: 0.9586\n",
      "20/20 [==============================] - 0s 1ms/step\n",
      "Epoch 1/10\n",
      "40/40 [==============================] - 1s 4ms/step - loss: 1.3668 - accuracy: 0.6192\n",
      "Epoch 2/10\n",
      "40/40 [==============================] - 0s 4ms/step - loss: 0.4658 - accuracy: 0.8737\n",
      "Epoch 3/10\n",
      "40/40 [==============================] - 0s 3ms/step - loss: 0.3329 - accuracy: 0.9072\n",
      "Epoch 4/10\n"
     ]
    },
    {
     "name": "stdout",
     "output_type": "stream",
     "text": [
      "40/40 [==============================] - 0s 4ms/step - loss: 0.2801 - accuracy: 0.9214\n",
      "Epoch 5/10\n",
      "40/40 [==============================] - 0s 4ms/step - loss: 0.2487 - accuracy: 0.9293\n",
      "Epoch 6/10\n",
      "40/40 [==============================] - 0s 4ms/step - loss: 0.2236 - accuracy: 0.9367\n",
      "Epoch 7/10\n",
      "40/40 [==============================] - 0s 4ms/step - loss: 0.2035 - accuracy: 0.9414\n",
      "Epoch 8/10\n",
      "40/40 [==============================] - 0s 4ms/step - loss: 0.1862 - accuracy: 0.9461\n",
      "Epoch 9/10\n",
      "40/40 [==============================] - 0s 4ms/step - loss: 0.1694 - accuracy: 0.9506\n",
      "Epoch 10/10\n",
      "40/40 [==============================] - 0s 4ms/step - loss: 0.1556 - accuracy: 0.9549\n",
      "20/20 [==============================] - 0s 1ms/step\n",
      "Epoch 1/10\n",
      "40/40 [==============================] - 1s 4ms/step - loss: 1.3702 - accuracy: 0.6162\n",
      "Epoch 2/10\n",
      "40/40 [==============================] - 0s 4ms/step - loss: 0.4634 - accuracy: 0.8747\n",
      "Epoch 3/10\n",
      "40/40 [==============================] - 0s 4ms/step - loss: 0.3188 - accuracy: 0.9115\n",
      "Epoch 4/10\n",
      "40/40 [==============================] - 0s 4ms/step - loss: 0.2642 - accuracy: 0.9266\n",
      "Epoch 5/10\n",
      "40/40 [==============================] - 0s 4ms/step - loss: 0.2314 - accuracy: 0.9345\n",
      "Epoch 6/10\n",
      "40/40 [==============================] - 0s 4ms/step - loss: 0.2072 - accuracy: 0.9414\n",
      "Epoch 7/10\n",
      "40/40 [==============================] - 0s 4ms/step - loss: 0.1900 - accuracy: 0.9463\n",
      "Epoch 8/10\n",
      "40/40 [==============================] - 0s 4ms/step - loss: 0.1745 - accuracy: 0.9497\n",
      "Epoch 9/10\n",
      "40/40 [==============================] - 0s 4ms/step - loss: 0.1613 - accuracy: 0.9548\n",
      "Epoch 10/10\n",
      "40/40 [==============================] - 0s 4ms/step - loss: 0.1506 - accuracy: 0.9574\n",
      "20/20 [==============================] - 0s 2ms/step\n",
      "Epoch 1/10\n",
      "40/40 [==============================] - 1s 4ms/step - loss: 1.2453 - accuracy: 0.6772\n",
      "Epoch 2/10\n",
      "40/40 [==============================] - 0s 4ms/step - loss: 0.4339 - accuracy: 0.8840\n",
      "Epoch 3/10\n",
      "40/40 [==============================] - 0s 4ms/step - loss: 0.3098 - accuracy: 0.9140\n",
      "Epoch 4/10\n",
      "40/40 [==============================] - 0s 4ms/step - loss: 0.2605 - accuracy: 0.9281\n",
      "Epoch 5/10\n",
      "40/40 [==============================] - 0s 4ms/step - loss: 0.2287 - accuracy: 0.9363\n",
      "Epoch 6/10\n",
      "40/40 [==============================] - 0s 4ms/step - loss: 0.2067 - accuracy: 0.9430\n",
      "Epoch 7/10\n",
      "40/40 [==============================] - 0s 4ms/step - loss: 0.1893 - accuracy: 0.9481\n",
      "Epoch 8/10\n",
      "40/40 [==============================] - 0s 4ms/step - loss: 0.1738 - accuracy: 0.9523\n",
      "Epoch 9/10\n",
      "40/40 [==============================] - 0s 4ms/step - loss: 0.1611 - accuracy: 0.9553\n",
      "Epoch 10/10\n",
      "40/40 [==============================] - 0s 4ms/step - loss: 0.1508 - accuracy: 0.9580\n",
      "20/20 [==============================] - 0s 2ms/step\n",
      "Epoch 1/10\n",
      "40/40 [==============================] - 1s 4ms/step - loss: 1.2571 - accuracy: 0.6609\n",
      "Epoch 2/10\n",
      "40/40 [==============================] - 0s 4ms/step - loss: 0.4188 - accuracy: 0.8856\n",
      "Epoch 3/10\n",
      "40/40 [==============================] - 0s 3ms/step - loss: 0.3086 - accuracy: 0.9144\n",
      "Epoch 4/10\n",
      "40/40 [==============================] - 0s 4ms/step - loss: 0.2648 - accuracy: 0.9274\n",
      "Epoch 5/10\n",
      "40/40 [==============================] - 0s 4ms/step - loss: 0.2333 - accuracy: 0.9360\n",
      "Epoch 6/10\n",
      "40/40 [==============================] - 0s 3ms/step - loss: 0.2107 - accuracy: 0.9409\n",
      "Epoch 7/10\n",
      "40/40 [==============================] - 0s 4ms/step - loss: 0.1920 - accuracy: 0.9462\n",
      "Epoch 8/10\n",
      "40/40 [==============================] - 0s 4ms/step - loss: 0.1756 - accuracy: 0.9510\n",
      "Epoch 9/10\n",
      "40/40 [==============================] - 0s 4ms/step - loss: 0.1624 - accuracy: 0.9536\n",
      "Epoch 10/10\n",
      "40/40 [==============================] - 0s 4ms/step - loss: 0.1501 - accuracy: 0.9576\n",
      "20/20 [==============================] - 0s 2ms/step\n",
      "0.9581333333333334 {'batch_size': 500, 'epochs': 10, 'optimizer': 'Adam'}\n"
     ]
    }
   ],
   "source": [
    "model = KerasClassifier(create_model)\n",
    "params= dict(batch_size=batch_size, epochs=epochs, optimizer=optimizer)\n",
    "grid = GridSearchCV(model, params, refit=False, cv=3, scoring='accuracy')\n",
    "\n",
    "grid_result = grid.fit(train_images, to_categorical(train_labels))\n",
    "print(grid_result.best_score_, grid_result.best_params_)"
   ]
  },
  {
   "cell_type": "code",
   "execution_count": 29,
   "metadata": {
    "colab": {
     "base_uri": "https://localhost:8080/"
    },
    "id": "3C4hTkQLVW47",
    "outputId": "f4fd9dc1-0002-43bb-eb4e-65d7c9812d76"
   },
   "outputs": [
    {
     "name": "stdout",
     "output_type": "stream",
     "text": [
      "0.9581333333333334 {'batch_size': 500, 'epochs': 10, 'optimizer': 'Adam'}\n"
     ]
    }
   ],
   "source": [
    "print(grid_result.best_score_, grid_result.best_params_)"
   ]
  },
  {
   "cell_type": "code",
   "execution_count": 30,
   "metadata": {
    "id": "ifbRq739Ryq1"
   },
   "outputs": [],
   "source": [
    "df = pd.DataFrame(grid_result.cv_results_)"
   ]
  },
  {
   "cell_type": "code",
   "execution_count": 31,
   "metadata": {
    "colab": {
     "base_uri": "https://localhost:8080/",
     "height": 363
    },
    "id": "0DzPNSt8V7i5",
    "outputId": "b208b62c-a12d-4fa3-f954-b1a7eb58f413"
   },
   "outputs": [
    {
     "data": {
      "text/html": [
       "<div>\n",
       "<style scoped>\n",
       "    .dataframe tbody tr th:only-of-type {\n",
       "        vertical-align: middle;\n",
       "    }\n",
       "\n",
       "    .dataframe tbody tr th {\n",
       "        vertical-align: top;\n",
       "    }\n",
       "\n",
       "    .dataframe thead th {\n",
       "        text-align: right;\n",
       "    }\n",
       "</style>\n",
       "<table border=\"1\" class=\"dataframe\">\n",
       "  <thead>\n",
       "    <tr style=\"text-align: right;\">\n",
       "      <th></th>\n",
       "      <th>param_batch_size</th>\n",
       "      <th>param_epochs</th>\n",
       "      <th>param_optimizer</th>\n",
       "      <th>mean_test_score</th>\n",
       "    </tr>\n",
       "  </thead>\n",
       "  <tbody>\n",
       "    <tr>\n",
       "      <th>5</th>\n",
       "      <td>500</td>\n",
       "      <td>10</td>\n",
       "      <td>Adam</td>\n",
       "      <td>0.958133</td>\n",
       "    </tr>\n",
       "    <tr>\n",
       "      <th>4</th>\n",
       "      <td>500</td>\n",
       "      <td>10</td>\n",
       "      <td>RMSprop</td>\n",
       "      <td>0.957533</td>\n",
       "    </tr>\n",
       "    <tr>\n",
       "      <th>3</th>\n",
       "      <td>500</td>\n",
       "      <td>10</td>\n",
       "      <td>SGD</td>\n",
       "      <td>0.956267</td>\n",
       "    </tr>\n",
       "    <tr>\n",
       "      <th>11</th>\n",
       "      <td>1000</td>\n",
       "      <td>10</td>\n",
       "      <td>Adam</td>\n",
       "      <td>0.949650</td>\n",
       "    </tr>\n",
       "    <tr>\n",
       "      <th>9</th>\n",
       "      <td>1000</td>\n",
       "      <td>10</td>\n",
       "      <td>SGD</td>\n",
       "      <td>0.949133</td>\n",
       "    </tr>\n",
       "    <tr>\n",
       "      <th>10</th>\n",
       "      <td>1000</td>\n",
       "      <td>10</td>\n",
       "      <td>RMSprop</td>\n",
       "      <td>0.948333</td>\n",
       "    </tr>\n",
       "    <tr>\n",
       "      <th>0</th>\n",
       "      <td>500</td>\n",
       "      <td>5</td>\n",
       "      <td>SGD</td>\n",
       "      <td>0.946100</td>\n",
       "    </tr>\n",
       "    <tr>\n",
       "      <th>1</th>\n",
       "      <td>500</td>\n",
       "      <td>5</td>\n",
       "      <td>RMSprop</td>\n",
       "      <td>0.945567</td>\n",
       "    </tr>\n",
       "    <tr>\n",
       "      <th>2</th>\n",
       "      <td>500</td>\n",
       "      <td>5</td>\n",
       "      <td>Adam</td>\n",
       "      <td>0.944367</td>\n",
       "    </tr>\n",
       "    <tr>\n",
       "      <th>6</th>\n",
       "      <td>1000</td>\n",
       "      <td>5</td>\n",
       "      <td>SGD</td>\n",
       "      <td>0.932850</td>\n",
       "    </tr>\n",
       "  </tbody>\n",
       "</table>\n",
       "</div>"
      ],
      "text/plain": [
       "   param_batch_size param_epochs param_optimizer  mean_test_score\n",
       "5               500           10            Adam         0.958133\n",
       "4               500           10         RMSprop         0.957533\n",
       "3               500           10             SGD         0.956267\n",
       "11             1000           10            Adam         0.949650\n",
       "9              1000           10             SGD         0.949133\n",
       "10             1000           10         RMSprop         0.948333\n",
       "0               500            5             SGD         0.946100\n",
       "1               500            5         RMSprop         0.945567\n",
       "2               500            5            Adam         0.944367\n",
       "6              1000            5             SGD         0.932850"
      ]
     },
     "execution_count": 31,
     "metadata": {},
     "output_type": "execute_result"
    }
   ],
   "source": [
    "df.sort_values(['mean_test_score'],ascending=False)[['param_batch_size','param_epochs','param_optimizer','mean_test_score']].head(10)"
   ]
  },
  {
   "cell_type": "markdown",
   "metadata": {
    "id": "4wrbUL7ZrgRQ"
   },
   "source": [
    "ДОМАШНЕЕ ЗАДАНИЕ\n"
   ]
  },
  {
   "cell_type": "code",
   "execution_count": 32,
   "metadata": {
    "id": "4p4EVICPrxMx"
   },
   "outputs": [],
   "source": [
    "# меняю оптимизатор, добавляю слой с увеличенным числом нейронов"
   ]
  },
  {
   "cell_type": "code",
   "execution_count": 33,
   "metadata": {
    "id": "7FMdBaCqrxvw"
   },
   "outputs": [],
   "source": [
    "\n",
    "def my_model(optimizer='RMSprop'):\n",
    "    model = Sequential([\n",
    "      Dense(128, input_shape=(784,), activation='relu'),\n",
    "      Dense(64, activation='relu'),\n",
    "      Dense(10, activation='softmax')\n",
    "    ])\n",
    "\n",
    "    # Compile the model.\n",
    "    model.compile(\n",
    "      optimizer=optimizer,\n",
    "      loss='categorical_crossentropy',\n",
    "      metrics=['accuracy'],\n",
    "    )\n",
    "    return model"
   ]
  },
  {
   "cell_type": "code",
   "execution_count": 34,
   "metadata": {
    "colab": {
     "base_uri": "https://localhost:8080/",
     "height": 180
    },
    "id": "X_FGXcW4r_bn",
    "outputId": "d0d5425b-8c13-4a62-aacb-d93fced99fb8"
   },
   "outputs": [
    {
     "ename": "AttributeError",
     "evalue": "'KerasClassifier' object has no attribute 'summary'",
     "output_type": "error",
     "traceback": [
      "\u001b[1;31m---------------------------------------------------------------------------\u001b[0m",
      "\u001b[1;31mAttributeError\u001b[0m                            Traceback (most recent call last)",
      "\u001b[1;32m~\\AppData\\Local\\Temp\\ipykernel_1772\\3590939978.py\u001b[0m in \u001b[0;36m<module>\u001b[1;34m\u001b[0m\n\u001b[1;32m----> 1\u001b[1;33m \u001b[0mprint\u001b[0m\u001b[1;33m(\u001b[0m\u001b[0mmodel\u001b[0m\u001b[1;33m.\u001b[0m\u001b[0msummary\u001b[0m\u001b[1;33m(\u001b[0m\u001b[1;33m)\u001b[0m\u001b[1;33m)\u001b[0m\u001b[1;33m\u001b[0m\u001b[1;33m\u001b[0m\u001b[0m\n\u001b[0m",
      "\u001b[1;31mAttributeError\u001b[0m: 'KerasClassifier' object has no attribute 'summary'"
     ]
    }
   ],
   "source": [
    "print(model.summary())"
   ]
  },
  {
   "cell_type": "code",
   "execution_count": null,
   "metadata": {
    "id": "sZP_XxBW3xnE"
   },
   "outputs": [],
   "source": [
    "to_categorical(test_labels)"
   ]
  },
  {
   "cell_type": "code",
   "execution_count": null,
   "metadata": {
    "id": "yNvvg9f_sAGv"
   },
   "outputs": [],
   "source": [
    "model = my_model()\n",
    "\n",
    "# Train the model.\n",
    "model.fit(train_images, to_categorical(train_labels), epochs=5, batch_size=32)\n",
    "\n",
    "# Evaluate the model.\n",
    "loss,metrics = model.evaluate(test_images, to_categorical(test_labels))\n",
    "print('**************')\n",
    "print(f'Loss - {np.round(loss,2)}, Metrics - {np.round(metrics,3)}')"
   ]
  },
  {
   "cell_type": "markdown",
   "metadata": {
    "id": "PvwzlTdEEIUY"
   },
   "source": [
    "# добавляю валидационную выборку, меняю параметры"
   ]
  },
  {
   "cell_type": "code",
   "execution_count": null,
   "metadata": {
    "id": "-iqSKKLpD92n"
   },
   "outputs": [],
   "source": [
    "model_2 = my_model()\n",
    "\n",
    "# Train the model.\n",
    "model.fit(train_images, to_categorical(train_labels), epochs=3, batch_size=64, validation_split=0.3)\n",
    "\n",
    "# Evaluate the model.\n",
    "loss,metrics = model.evaluate(test_images, to_categorical(test_labels))\n",
    "print('**************')\n",
    "print(f'Loss - {np.round(loss,2)}, Metrics - {np.round(metrics,3)}')"
   ]
  },
  {
   "cell_type": "code",
   "execution_count": null,
   "metadata": {
    "id": "d6-LwKj0FEBO"
   },
   "outputs": [],
   "source": []
  },
  {
   "cell_type": "code",
   "execution_count": null,
   "metadata": {
    "id": "ZE_3ezhyFE_j"
   },
   "outputs": [],
   "source": [
    "model_3 = my_model()\n",
    "\n",
    "# Train the model.\n",
    "model.fit(train_images, to_categorical(train_labels), epochs=7, batch_size=128, validation_split=0.2)\n",
    "\n",
    "# Evaluate the model.\n",
    "loss,metrics = model.evaluate(test_images, to_categorical(test_labels))\n",
    "print('**************')\n",
    "print(f'Loss - {np.round(loss,2)}, Metrics - {np.round(metrics,3)}')"
   ]
  },
  {
   "cell_type": "code",
   "execution_count": null,
   "metadata": {
    "id": "TIGcLJ8gsS8K"
   },
   "outputs": [],
   "source": [
    "# Predict on the first 10 test images.\n",
    "predictions = model.predict(test_images[:20])\n",
    "\n",
    "# Print our model's predictions.\n",
    "print(f'Predictions: {np.argmax(predictions, axis=1)}')\n",
    "\n",
    "# Check our predictions against the ground truths.\n",
    "print(f'True labels: {test_labels[:20]}')"
   ]
  },
  {
   "cell_type": "code",
   "execution_count": null,
   "metadata": {
    "id": "OFWSJM1NDXZo"
   },
   "outputs": [],
   "source": []
  },
  {
   "cell_type": "code",
   "execution_count": null,
   "metadata": {
    "id": "od1ewmcMDbWA"
   },
   "outputs": [],
   "source": [
    "batch_size = [70, 80, 90]\n",
    "epochs = [18, 25]\n",
    "optimizer = ['RMSprop', 'Adam']"
   ]
  },
  {
   "cell_type": "code",
   "execution_count": null,
   "metadata": {
    "id": "OC4CZrmVDcs_"
   },
   "outputs": [],
   "source": []
  },
  {
   "cell_type": "code",
   "execution_count": null,
   "metadata": {
    "id": "TQl9xR6KDgnq"
   },
   "outputs": [],
   "source": [
    "model = KerasClassifier(my_model)\n",
    "params= dict(batch_size=batch_size, epochs=epochs, optimizer=optimizer)\n",
    "grid = GridSearchCV(model, params, refit=False, cv=3, scoring='accuracy')\n",
    "\n",
    "grid_result = grid.fit(train_images, to_categorical(train_labels))\n",
    "print(grid_result.best_score_, grid_result.best_params_)"
   ]
  },
  {
   "cell_type": "code",
   "execution_count": null,
   "metadata": {
    "id": "X0SgdOIFJSRH"
   },
   "outputs": [],
   "source": []
  },
  {
   "cell_type": "code",
   "execution_count": null,
   "metadata": {
    "id": "vY7bhe-cJTJy"
   },
   "outputs": [],
   "source": [
    "print(grid_result.best_score_, grid_result.best_params_)"
   ]
  },
  {
   "cell_type": "code",
   "execution_count": null,
   "metadata": {
    "id": "NJ8qDuFLJdxZ"
   },
   "outputs": [],
   "source": [
    "df = pd.DataFrame(grid_result.cv_results_)"
   ]
  },
  {
   "cell_type": "code",
   "execution_count": null,
   "metadata": {
    "id": "w4Mn0o-_Jl4d"
   },
   "outputs": [],
   "source": [
    "df.sort_values(['mean_test_score'],ascending=False)[['param_batch_size','param_epochs','param_optimizer','mean_test_score']].head(10)"
   ]
  },
  {
   "cell_type": "markdown",
   "metadata": {
    "id": "slal29tMKhpf"
   },
   "source": [
    "# Вывод:\n",
    "1 Введение дополнительного скрытого слоя улучшает показатель метрики.   \n",
    "2 Умеренное увеличение количества эпох улучшает показатель метрики.   \n",
    "3 Умеренное увеличение batch_size ускоряет обучение.      \n",
    "4 Наличие валидационной выборки препятствует переобучению.\n",
    "\n",
    "\n",
    "\n"
   ]
  },
  {
   "cell_type": "code",
   "execution_count": null,
   "metadata": {
    "id": "xd59o3f31Dr2"
   },
   "outputs": [],
   "source": [
    "from google.colab import drive\n",
    "drive.mount('/content/drive')"
   ]
  }
 ],
 "metadata": {
  "accelerator": "GPU",
  "colab": {
   "provenance": []
  },
  "kernelspec": {
   "display_name": "Python 3 (ipykernel)",
   "language": "python",
   "name": "python3"
  },
  "language_info": {
   "codemirror_mode": {
    "name": "ipython",
    "version": 3
   },
   "file_extension": ".py",
   "mimetype": "text/x-python",
   "name": "python",
   "nbconvert_exporter": "python",
   "pygments_lexer": "ipython3",
   "version": "3.9.13"
  }
 },
 "nbformat": 4,
 "nbformat_minor": 1
}
