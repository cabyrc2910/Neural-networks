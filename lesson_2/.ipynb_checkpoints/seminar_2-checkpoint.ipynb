{
 "cells": [
  {
   "cell_type": "markdown",
   "metadata": {
    "id": "R3ybewMsw9oH"
   },
   "source": [
    "\n",
    "\n",
    "1. Обучить, нейронную сеть на Keras на датасете MNIST."
   ]
  },
  {
   "cell_type": "code",
   "execution_count": null,
   "metadata": {
    "colab": {
     "background_save": true,
     "base_uri": "https://localhost:8080/"
    },
    "id": "Mrn7WhDjppOF",
    "outputId": "6f8df9d9-b1f5-497c-fba4-5a10f9b7a8b4"
   },
   "outputs": [
    {
     "name": "stdout",
     "output_type": "stream",
     "text": [
      "Collecting scikeras[tensorflow]\n",
      "  Downloading scikeras-0.12.0-py3-none-any.whl (27 kB)\n",
      "Requirement already satisfied: packaging>=0.21 in /usr/local/lib/python3.10/dist-packages (from scikeras[tensorflow]) (23.2)\n",
      "Requirement already satisfied: scikit-learn>=1.0.0 in /usr/local/lib/python3.10/dist-packages (from scikeras[tensorflow]) (1.2.2)\n",
      "Collecting tensorflow<2.13.0,>=2.12.0 (from scikeras[tensorflow])\n",
      "  Downloading tensorflow-2.12.1-cp310-cp310-manylinux_2_17_x86_64.manylinux2014_x86_64.whl (585.9 MB)\n",
      "\u001b[2K     \u001b[90m━━━━━━━━━━━━━━━━━━━━━━━━━━━━━━━━━━━━━━━━\u001b[0m \u001b[32m585.9/585.9 MB\u001b[0m \u001b[31m1.9 MB/s\u001b[0m eta \u001b[36m0:00:00\u001b[0m\n",
      "\u001b[?25hRequirement already satisfied: numpy>=1.17.3 in /usr/local/lib/python3.10/dist-packages (from scikit-learn>=1.0.0->scikeras[tensorflow]) (1.23.5)\n",
      "Requirement already satisfied: scipy>=1.3.2 in /usr/local/lib/python3.10/dist-packages (from scikit-learn>=1.0.0->scikeras[tensorflow]) (1.11.4)\n",
      "Requirement already satisfied: joblib>=1.1.1 in /usr/local/lib/python3.10/dist-packages (from scikit-learn>=1.0.0->scikeras[tensorflow]) (1.3.2)\n",
      "Requirement already satisfied: threadpoolctl>=2.0.0 in /usr/local/lib/python3.10/dist-packages (from scikit-learn>=1.0.0->scikeras[tensorflow]) (3.2.0)\n",
      "Requirement already satisfied: absl-py>=1.0.0 in /usr/local/lib/python3.10/dist-packages (from tensorflow<2.13.0,>=2.12.0->scikeras[tensorflow]) (1.4.0)\n",
      "Requirement already satisfied: astunparse>=1.6.0 in /usr/local/lib/python3.10/dist-packages (from tensorflow<2.13.0,>=2.12.0->scikeras[tensorflow]) (1.6.3)\n",
      "Requirement already satisfied: flatbuffers>=2.0 in /usr/local/lib/python3.10/dist-packages (from tensorflow<2.13.0,>=2.12.0->scikeras[tensorflow]) (23.5.26)\n",
      "Collecting gast<=0.4.0,>=0.2.1 (from tensorflow<2.13.0,>=2.12.0->scikeras[tensorflow])\n",
      "  Downloading gast-0.4.0-py3-none-any.whl (9.8 kB)\n",
      "Requirement already satisfied: google-pasta>=0.1.1 in /usr/local/lib/python3.10/dist-packages (from tensorflow<2.13.0,>=2.12.0->scikeras[tensorflow]) (0.2.0)\n",
      "Requirement already satisfied: grpcio<2.0,>=1.24.3 in /usr/local/lib/python3.10/dist-packages (from tensorflow<2.13.0,>=2.12.0->scikeras[tensorflow]) (1.60.1)\n",
      "Requirement already satisfied: h5py>=2.9.0 in /usr/local/lib/python3.10/dist-packages (from tensorflow<2.13.0,>=2.12.0->scikeras[tensorflow]) (3.9.0)\n",
      "Requirement already satisfied: jax>=0.3.15 in /usr/local/lib/python3.10/dist-packages (from tensorflow<2.13.0,>=2.12.0->scikeras[tensorflow]) (0.4.23)\n",
      "Collecting keras<2.13,>=2.12.0 (from tensorflow<2.13.0,>=2.12.0->scikeras[tensorflow])\n",
      "  Downloading keras-2.12.0-py2.py3-none-any.whl (1.7 MB)\n",
      "\u001b[2K     \u001b[90m━━━━━━━━━━━━━━━━━━━━━━━━━━━━━━━━━━━━━━━━\u001b[0m \u001b[32m1.7/1.7 MB\u001b[0m \u001b[31m38.7 MB/s\u001b[0m eta \u001b[36m0:00:00\u001b[0m\n",
      "\u001b[?25hRequirement already satisfied: libclang>=13.0.0 in /usr/local/lib/python3.10/dist-packages (from tensorflow<2.13.0,>=2.12.0->scikeras[tensorflow]) (16.0.6)\n",
      "Requirement already satisfied: opt-einsum>=2.3.2 in /usr/local/lib/python3.10/dist-packages (from tensorflow<2.13.0,>=2.12.0->scikeras[tensorflow]) (3.3.0)\n",
      "Requirement already satisfied: protobuf!=4.21.0,!=4.21.1,!=4.21.2,!=4.21.3,!=4.21.4,!=4.21.5,<5.0.0dev,>=3.20.3 in /usr/local/lib/python3.10/dist-packages (from tensorflow<2.13.0,>=2.12.0->scikeras[tensorflow]) (3.20.3)\n",
      "Requirement already satisfied: setuptools in /usr/local/lib/python3.10/dist-packages (from tensorflow<2.13.0,>=2.12.0->scikeras[tensorflow]) (67.7.2)\n",
      "Requirement already satisfied: six>=1.12.0 in /usr/local/lib/python3.10/dist-packages (from tensorflow<2.13.0,>=2.12.0->scikeras[tensorflow]) (1.16.0)\n",
      "Collecting tensorboard<2.13,>=2.12 (from tensorflow<2.13.0,>=2.12.0->scikeras[tensorflow])\n",
      "  Downloading tensorboard-2.12.3-py3-none-any.whl (5.6 MB)\n",
      "\u001b[2K     \u001b[90m━━━━━━━━━━━━━━━━━━━━━━━━━━━━━━━━━━━━━━━━\u001b[0m \u001b[32m5.6/5.6 MB\u001b[0m \u001b[31m56.5 MB/s\u001b[0m eta \u001b[36m0:00:00\u001b[0m\n",
      "\u001b[?25hCollecting tensorflow-estimator<2.13,>=2.12.0 (from tensorflow<2.13.0,>=2.12.0->scikeras[tensorflow])\n",
      "  Downloading tensorflow_estimator-2.12.0-py2.py3-none-any.whl (440 kB)\n",
      "\u001b[2K     \u001b[90m━━━━━━━━━━━━━━━━━━━━━━━━━━━━━━━━━━━━━━━━\u001b[0m \u001b[32m440.7/440.7 kB\u001b[0m \u001b[31m33.5 MB/s\u001b[0m eta \u001b[36m0:00:00\u001b[0m\n",
      "\u001b[?25hRequirement already satisfied: termcolor>=1.1.0 in /usr/local/lib/python3.10/dist-packages (from tensorflow<2.13.0,>=2.12.0->scikeras[tensorflow]) (2.4.0)\n",
      "Collecting typing-extensions<4.6.0,>=3.6.6 (from tensorflow<2.13.0,>=2.12.0->scikeras[tensorflow])\n",
      "  Downloading typing_extensions-4.5.0-py3-none-any.whl (27 kB)\n",
      "Requirement already satisfied: wrapt<1.15,>=1.11.0 in /usr/local/lib/python3.10/dist-packages (from tensorflow<2.13.0,>=2.12.0->scikeras[tensorflow]) (1.14.1)\n",
      "Requirement already satisfied: tensorflow-io-gcs-filesystem>=0.23.1 in /usr/local/lib/python3.10/dist-packages (from tensorflow<2.13.0,>=2.12.0->scikeras[tensorflow]) (0.36.0)\n",
      "Requirement already satisfied: wheel<1.0,>=0.23.0 in /usr/local/lib/python3.10/dist-packages (from astunparse>=1.6.0->tensorflow<2.13.0,>=2.12.0->scikeras[tensorflow]) (0.42.0)\n",
      "Requirement already satisfied: ml-dtypes>=0.2.0 in /usr/local/lib/python3.10/dist-packages (from jax>=0.3.15->tensorflow<2.13.0,>=2.12.0->scikeras[tensorflow]) (0.2.0)\n",
      "Requirement already satisfied: google-auth<3,>=1.6.3 in /usr/local/lib/python3.10/dist-packages (from tensorboard<2.13,>=2.12->tensorflow<2.13.0,>=2.12.0->scikeras[tensorflow]) (2.17.3)\n",
      "Collecting google-auth-oauthlib<1.1,>=0.5 (from tensorboard<2.13,>=2.12->tensorflow<2.13.0,>=2.12.0->scikeras[tensorflow])\n",
      "  Downloading google_auth_oauthlib-1.0.0-py2.py3-none-any.whl (18 kB)\n",
      "Requirement already satisfied: markdown>=2.6.8 in /usr/local/lib/python3.10/dist-packages (from tensorboard<2.13,>=2.12->tensorflow<2.13.0,>=2.12.0->scikeras[tensorflow]) (3.5.2)\n",
      "Requirement already satisfied: requests<3,>=2.21.0 in /usr/local/lib/python3.10/dist-packages (from tensorboard<2.13,>=2.12->tensorflow<2.13.0,>=2.12.0->scikeras[tensorflow]) (2.31.0)\n",
      "Requirement already satisfied: tensorboard-data-server<0.8.0,>=0.7.0 in /usr/local/lib/python3.10/dist-packages (from tensorboard<2.13,>=2.12->tensorflow<2.13.0,>=2.12.0->scikeras[tensorflow]) (0.7.2)\n",
      "Requirement already satisfied: werkzeug>=1.0.1 in /usr/local/lib/python3.10/dist-packages (from tensorboard<2.13,>=2.12->tensorflow<2.13.0,>=2.12.0->scikeras[tensorflow]) (3.0.1)\n",
      "Requirement already satisfied: cachetools<6.0,>=2.0.0 in /usr/local/lib/python3.10/dist-packages (from google-auth<3,>=1.6.3->tensorboard<2.13,>=2.12->tensorflow<2.13.0,>=2.12.0->scikeras[tensorflow]) (5.3.2)\n",
      "Requirement already satisfied: pyasn1-modules>=0.2.1 in /usr/local/lib/python3.10/dist-packages (from google-auth<3,>=1.6.3->tensorboard<2.13,>=2.12->tensorflow<2.13.0,>=2.12.0->scikeras[tensorflow]) (0.3.0)\n",
      "Requirement already satisfied: rsa<5,>=3.1.4 in /usr/local/lib/python3.10/dist-packages (from google-auth<3,>=1.6.3->tensorboard<2.13,>=2.12->tensorflow<2.13.0,>=2.12.0->scikeras[tensorflow]) (4.9)\n",
      "Requirement already satisfied: requests-oauthlib>=0.7.0 in /usr/local/lib/python3.10/dist-packages (from google-auth-oauthlib<1.1,>=0.5->tensorboard<2.13,>=2.12->tensorflow<2.13.0,>=2.12.0->scikeras[tensorflow]) (1.3.1)\n",
      "Requirement already satisfied: charset-normalizer<4,>=2 in /usr/local/lib/python3.10/dist-packages (from requests<3,>=2.21.0->tensorboard<2.13,>=2.12->tensorflow<2.13.0,>=2.12.0->scikeras[tensorflow]) (3.3.2)\n",
      "Requirement already satisfied: idna<4,>=2.5 in /usr/local/lib/python3.10/dist-packages (from requests<3,>=2.21.0->tensorboard<2.13,>=2.12->tensorflow<2.13.0,>=2.12.0->scikeras[tensorflow]) (3.6)\n",
      "Requirement already satisfied: urllib3<3,>=1.21.1 in /usr/local/lib/python3.10/dist-packages (from requests<3,>=2.21.0->tensorboard<2.13,>=2.12->tensorflow<2.13.0,>=2.12.0->scikeras[tensorflow]) (2.0.7)\n",
      "Requirement already satisfied: certifi>=2017.4.17 in /usr/local/lib/python3.10/dist-packages (from requests<3,>=2.21.0->tensorboard<2.13,>=2.12->tensorflow<2.13.0,>=2.12.0->scikeras[tensorflow]) (2024.2.2)\n",
      "Requirement already satisfied: MarkupSafe>=2.1.1 in /usr/local/lib/python3.10/dist-packages (from werkzeug>=1.0.1->tensorboard<2.13,>=2.12->tensorflow<2.13.0,>=2.12.0->scikeras[tensorflow]) (2.1.5)\n",
      "Requirement already satisfied: pyasn1<0.6.0,>=0.4.6 in /usr/local/lib/python3.10/dist-packages (from pyasn1-modules>=0.2.1->google-auth<3,>=1.6.3->tensorboard<2.13,>=2.12->tensorflow<2.13.0,>=2.12.0->scikeras[tensorflow]) (0.5.1)\n",
      "Requirement already satisfied: oauthlib>=3.0.0 in /usr/local/lib/python3.10/dist-packages (from requests-oauthlib>=0.7.0->google-auth-oauthlib<1.1,>=0.5->tensorboard<2.13,>=2.12->tensorflow<2.13.0,>=2.12.0->scikeras[tensorflow]) (3.2.2)\n",
      "Installing collected packages: typing-extensions, tensorflow-estimator, keras, gast, scikeras, google-auth-oauthlib, tensorboard, tensorflow\n",
      "  Attempting uninstall: typing-extensions\n",
      "    Found existing installation: typing_extensions 4.9.0\n",
      "    Uninstalling typing_extensions-4.9.0:\n",
      "      Successfully uninstalled typing_extensions-4.9.0\n",
      "  Attempting uninstall: tensorflow-estimator\n",
      "    Found existing installation: tensorflow-estimator 2.15.0\n",
      "    Uninstalling tensorflow-estimator-2.15.0:\n",
      "      Successfully uninstalled tensorflow-estimator-2.15.0\n",
      "  Attempting uninstall: keras\n",
      "    Found existing installation: keras 2.15.0\n",
      "    Uninstalling keras-2.15.0:\n",
      "      Successfully uninstalled keras-2.15.0\n",
      "  Attempting uninstall: gast\n",
      "    Found existing installation: gast 0.5.4\n",
      "    Uninstalling gast-0.5.4:\n",
      "      Successfully uninstalled gast-0.5.4\n",
      "  Attempting uninstall: google-auth-oauthlib\n",
      "    Found existing installation: google-auth-oauthlib 1.2.0\n",
      "    Uninstalling google-auth-oauthlib-1.2.0:\n",
      "      Successfully uninstalled google-auth-oauthlib-1.2.0\n",
      "  Attempting uninstall: tensorboard\n",
      "    Found existing installation: tensorboard 2.15.1\n",
      "    Uninstalling tensorboard-2.15.1:\n",
      "      Successfully uninstalled tensorboard-2.15.1\n",
      "  Attempting uninstall: tensorflow\n",
      "    Found existing installation: tensorflow 2.15.0\n",
      "    Uninstalling tensorflow-2.15.0:\n",
      "      Successfully uninstalled tensorflow-2.15.0\n",
      "\u001b[31mERROR: pip's dependency resolver does not currently take into account all the packages that are installed. This behaviour is the source of the following dependency conflicts.\n",
      "sqlalchemy 2.0.25 requires typing-extensions>=4.6.0, but you have typing-extensions 4.5.0 which is incompatible.\n",
      "pydantic 2.6.1 requires typing-extensions>=4.6.1, but you have typing-extensions 4.5.0 which is incompatible.\n",
      "pydantic-core 2.16.2 requires typing-extensions!=4.7.0,>=4.6.0, but you have typing-extensions 4.5.0 which is incompatible.\u001b[0m\u001b[31m\n",
      "\u001b[0mSuccessfully installed gast-0.4.0 google-auth-oauthlib-1.0.0 keras-2.12.0 scikeras-0.12.0 tensorboard-2.12.3 tensorflow-2.12.1 tensorflow-estimator-2.12.0 typing-extensions-4.5.0\n"
     ]
    }
   ],
   "source": [
    "!pip install scikeras[tensorflow]"
   ]
  },
  {
   "cell_type": "code",
   "execution_count": null,
   "metadata": {
    "colab": {
     "background_save": true,
     "base_uri": "https://localhost:8080/"
    },
    "id": "ULBgiDvquZKv",
    "outputId": "7b36b550-a3f2-4dee-959d-df22a19ec1b1"
   },
   "outputs": [
    {
     "name": "stdout",
     "output_type": "stream",
     "text": [
      "Collecting mnist\n",
      "  Downloading mnist-0.2.2-py2.py3-none-any.whl (3.5 kB)\n",
      "Requirement already satisfied: numpy in /usr/local/lib/python3.10/dist-packages (from mnist) (1.23.5)\n",
      "Installing collected packages: mnist\n",
      "Successfully installed mnist-0.2.2\n"
     ]
    }
   ],
   "source": [
    "!pip install mnist"
   ]
  },
  {
   "cell_type": "code",
   "execution_count": null,
   "metadata": {
    "id": "BdtNDP-W6TJi"
   },
   "outputs": [],
   "source": [
    "import numpy as np\n",
    "import pandas as pd\n",
    "import mnist\n",
    "import keras\n",
    "from keras.datasets import fashion_mnist\n",
    "from keras.models import Sequential\n",
    "from keras.layers import Dense, Flatten\n",
    "from keras.utils import to_categorical\n",
    "#from scikeras.wrappers import KerasClassifier\n",
    "from sklearn.model_selection import GridSearchCV"
   ]
  },
  {
   "cell_type": "code",
   "execution_count": null,
   "metadata": {
    "id": "pf6Pmdodye4q"
   },
   "outputs": [],
   "source": [
    "from scikeras.wrappers import KerasClassifier"
   ]
  },
  {
   "cell_type": "markdown",
   "metadata": {
    "id": "7mUHxbyoIDyA"
   },
   "source": [
    "### Building model for digit recognition"
   ]
  },
  {
   "cell_type": "code",
   "execution_count": null,
   "metadata": {
    "id": "AGaj-oayW29B"
   },
   "outputs": [],
   "source": [
    "#import images\n",
    "train_images = mnist.train_images()\n",
    "train_labels = mnist.train_labels()\n",
    "test_images = mnist.test_images()\n",
    "test_labels = mnist.test_labels()\n",
    "\n",
    "# Normalize the images.\n",
    "train_images = (train_images / 255)\n",
    "test_images = (test_images / 255)\n",
    "\n",
    "# Flatten the images.\n",
    "train_images = train_images.reshape((-1, 784))\n",
    "test_images = test_images.reshape((-1, 784))"
   ]
  },
  {
   "cell_type": "code",
   "execution_count": null,
   "metadata": {
    "colab": {
     "base_uri": "https://localhost:8080/",
     "height": 552
    },
    "id": "Zg4q7nst6lva",
    "outputId": "8f2cba08-2d0f-4fa1-8d60-4f4014cdf27d"
   },
   "outputs": [
    {
     "data": {
      "text/plain": [
       "array([[0., 0., 0., ..., 0., 0., 0.],\n",
       "       [1., 0., 0., ..., 0., 0., 0.],\n",
       "       [0., 0., 0., ..., 0., 0., 0.],\n",
       "       ...,\n",
       "       [0., 0., 0., ..., 0., 0., 0.],\n",
       "       [0., 0., 0., ..., 0., 0., 0.],\n",
       "       [0., 0., 0., ..., 0., 1., 0.]], dtype=float32)"
      ]
     },
     "execution_count": 6,
     "metadata": {},
     "output_type": "execute_result"
    },
    {
     "data": {
      "image/png": "[encoded data removed]",
      "text/plain": [
       "<Figure size 640x480 with 1 Axes>"
      ]
     },
     "metadata": {},
     "output_type": "display_data"
    }
   ],
   "source": [
    "import matplotlib.pyplot as plt\n",
    "plt.imshow(mnist.train_images()[0]/255)\n",
    "mnist.train_images()[0]/255\n",
    "to_categorical(train_labels)\n",
    "#train_labels"
   ]
  },
  {
   "cell_type": "code",
   "execution_count": null,
   "metadata": {
    "id": "z_EEVFIRcupN"
   },
   "outputs": [],
   "source": [
    "input_shape = (28, 28, 1)"
   ]
  },
  {
   "cell_type": "code",
   "execution_count": null,
   "metadata": {
    "id": "Pwu_yhsLcxPq"
   },
   "outputs": [],
   "source": [
    "model_1 = keras.Sequential([\n",
    "\n",
    "    keras.Input(shape=input_shape),\n",
    "    Flatten(),\n",
    "    Dense(50),\n",
    "    Dense(1)\n",
    "    ] )"
   ]
  },
  {
   "cell_type": "code",
   "execution_count": null,
   "metadata": {
    "id": "QYeAmKeKeCuD"
   },
   "outputs": [],
   "source": [
    "model_1.compile(optimizer='adam',\n",
    "             loss='categorical_crossentropy',\n",
    "             metrics=['accuracy'])"
   ]
  },
  {
   "cell_type": "code",
   "execution_count": null,
   "metadata": {
    "colab": {
     "base_uri": "https://localhost:8080/"
    },
    "id": "h2z59k90iFdD",
    "outputId": "0defb0f5-7078-47bf-c88e-04ba99c07e63"
   },
   "outputs": [
    {
     "name": "stdout",
     "output_type": "stream",
     "text": [
      "Downloading data from https://storage.googleapis.com/tensorflow/tf-keras-datasets/mnist.npz\n",
      "11490434/11490434 [==============================] - 0s 0us/step\n"
     ]
    }
   ],
   "source": [
    "(x_train, y_train), (x_test, y_test) = keras.datasets.mnist.load_data()"
   ]
  },
  {
   "cell_type": "code",
   "execution_count": null,
   "metadata": {
    "colab": {
     "base_uri": "https://localhost:8080/"
    },
    "id": "-zdX7myjhCU6",
    "outputId": "b1dab8dd-a3d7-4b11-b73d-288cd27a1b66"
   },
   "outputs": [
    {
     "name": "stdout",
     "output_type": "stream",
     "text": [
      "Epoch 1/5\n"
     ]
    },
    {
     "name": "stderr",
     "output_type": "stream",
     "text": [
      "/usr/local/lib/python3.10/dist-packages/tensorflow/python/util/dispatch.py:1176: SyntaxWarning: In loss categorical_crossentropy, expected y_pred.shape to be (batch_size, num_classes) with num_classes > 1. Received: y_pred.shape=(32, 1). Consider using 'binary_crossentropy' if you only have 2 classes.\n",
      "  return dispatch_target(*args, **kwargs)\n"
     ]
    },
    {
     "name": "stdout",
     "output_type": "stream",
     "text": [
      "1875/1875 [==============================] - 7s 3ms/step - loss: 5.3095e-07 - accuracy: 0.0958\n",
      "Epoch 2/5\n",
      "1875/1875 [==============================] - 6s 3ms/step - loss: 5.3095e-07 - accuracy: 0.0958\n",
      "Epoch 3/5\n",
      "1875/1875 [==============================] - 6s 3ms/step - loss: 5.3095e-07 - accuracy: 0.0958\n",
      "Epoch 4/5\n",
      "1875/1875 [==============================] - 7s 4ms/step - loss: 5.3095e-07 - accuracy: 0.0958\n",
      "Epoch 5/5\n",
      "1875/1875 [==============================] - 5s 3ms/step - loss: 5.3095e-07 - accuracy: 0.0958\n",
      "CPU times: user 23.8 s, sys: 1.01 s, total: 24.8 s\n",
      "Wall time: 31.8 s\n"
     ]
    }
   ],
   "source": [
    "%%time\n",
    "\n",
    "history = model_1.fit(x_train, y_train, batch_size=32, epochs=5)"
   ]
  },
  {
   "cell_type": "code",
   "execution_count": null,
   "metadata": {
    "id": "suqW3jfOjcqg"
   },
   "outputs": [],
   "source": [
    "x_train = x_train / 255\n",
    "x_test = x_test / 255"
   ]
  },
  {
   "cell_type": "code",
   "execution_count": null,
   "metadata": {
    "id": "cPfcJTy6k1by"
   },
   "outputs": [],
   "source": [
    "y_train_cat = keras.utils.to_categorical(y_train, 10)\n",
    "y_test_cat = keras.utils.to_categorical(y_test, 10)"
   ]
  },
  {
   "cell_type": "code",
   "execution_count": null,
   "metadata": {
    "id": "p9Jhmk5SjnAF"
   },
   "outputs": [],
   "source": [
    "model_2 = keras.Sequential([\n",
    "\n",
    "    keras.Input(shape=input_shape),\n",
    "    Flatten(),\n",
    "    Dense(90, activation = 'relu'),\n",
    "    Dense(10, activation = 'softmax')\n",
    "    ] )"
   ]
  },
  {
   "cell_type": "code",
   "execution_count": null,
   "metadata": {
    "id": "Md6Uo7mUjsOZ"
   },
   "outputs": [],
   "source": [
    "model_2.compile(optimizer='adam',\n",
    "             loss='categorical_crossentropy',\n",
    "             metrics=['accuracy'])"
   ]
  },
  {
   "cell_type": "code",
   "execution_count": null,
   "metadata": {
    "colab": {
     "base_uri": "https://localhost:8080/"
    },
    "id": "Yx0YHJ6xjwqg",
    "outputId": "45ad272f-464e-4a05-cbba-e44c8cfaadbf"
   },
   "outputs": [
    {
     "name": "stdout",
     "output_type": "stream",
     "text": [
      "Epoch 1/5\n",
      "1875/1875 [==============================] - 5s 2ms/step - loss: 0.2764 - accuracy: 0.9218\n",
      "Epoch 2/5\n",
      "1875/1875 [==============================] - 6s 3ms/step - loss: 0.1282 - accuracy: 0.9620\n",
      "Epoch 3/5\n",
      "1875/1875 [==============================] - 4s 2ms/step - loss: 0.0885 - accuracy: 0.9730\n",
      "Epoch 4/5\n",
      "1875/1875 [==============================] - 5s 3ms/step - loss: 0.0684 - accuracy: 0.9794\n",
      "Epoch 5/5\n",
      "1875/1875 [==============================] - 4s 2ms/step - loss: 0.0539 - accuracy: 0.9835\n",
      "CPU times: user 27 s, sys: 1.96 s, total: 29 s\n",
      "Wall time: 25 s\n"
     ]
    }
   ],
   "source": [
    "%%time\n",
    "\n",
    "history = model_2.fit(x_train, y_train_cat, batch_size=32, epochs=5)"
   ]
  },
  {
   "cell_type": "code",
   "execution_count": null,
   "metadata": {
    "colab": {
     "base_uri": "https://localhost:8080/",
     "height": 472
    },
    "id": "jDJppettvbY9",
    "outputId": "4d170239-d05e-486f-a935-1f92f9ee020b"
   },
   "outputs": [
    {
     "data": {
      "image/png": "[encoded data removed]",
      "text/plain": [
       "<Figure size 640x480 with 1 Axes>"
      ]
     },
     "metadata": {},
     "output_type": "display_data"
    }
   ],
   "source": [
    "plt.plot(history.history['accuracy'])\n",
    "plt.title('Точность модели')\n",
    "plt.ylabel('точность')\n",
    "plt.xlabel('количество эпох')\n",
    "plt.show()"
   ]
  },
  {
   "cell_type": "code",
   "execution_count": null,
   "metadata": {
    "colab": {
     "base_uri": "https://localhost:8080/",
     "height": 472
    },
    "id": "m5yR5Fk9vrn_",
    "outputId": "f67792e9-3324-4d57-9f7e-0ba2bab10b06"
   },
   "outputs": [
    {
     "data": {
      "image/png": "[encoded data removed]",
      "text/plain": [
       "<Figure size 640x480 with 1 Axes>"
      ]
     },
     "metadata": {},
     "output_type": "display_data"
    }
   ],
   "source": [
    "plt.plot(history.history['loss'])\n",
    "plt.title('Потери модели')\n",
    "plt.ylabel('Потери')\n",
    "plt.xlabel('количество эпох')\n",
    "plt.show()"
   ]
  },
  {
   "cell_type": "code",
   "execution_count": null,
   "metadata": {
    "colab": {
     "base_uri": "https://localhost:8080/"
    },
    "id": "ac-jdgFDv1P5",
    "outputId": "12618e5e-31d2-49a2-c930-bfd1fd902472"
   },
   "outputs": [
    {
     "name": "stdout",
     "output_type": "stream",
     "text": [
      "313/313 [==============================] - 1s 2ms/step - loss: 0.0787 - accuracy: 0.9768\n"
     ]
    },
    {
     "data": {
      "text/plain": [
       "[0.07865545898675919, 0.9768000245094299]"
      ]
     },
     "execution_count": 19,
     "metadata": {},
     "output_type": "execute_result"
    }
   ],
   "source": [
    "model_2.evaluate(x_test, y_test_cat)"
   ]
  },
  {
   "cell_type": "code",
   "execution_count": null,
   "metadata": {
    "colab": {
     "base_uri": "https://localhost:8080/"
    },
    "id": "cVWER4a0wPFW",
    "outputId": "2aae985e-313c-417d-ec7f-3c66d71068db"
   },
   "outputs": [
    {
     "name": "stdout",
     "output_type": "stream",
     "text": [
      "Epoch 1/5\n",
      "1875/1875 [==============================] - 7s 4ms/step - loss: 0.0454 - accuracy: 0.9861 - val_loss: 0.0746 - val_accuracy: 0.9757\n",
      "Epoch 2/5\n",
      "1875/1875 [==============================] - 9s 5ms/step - loss: 0.0359 - accuracy: 0.9893 - val_loss: 0.0839 - val_accuracy: 0.9733\n",
      "Epoch 3/5\n",
      "1875/1875 [==============================] - 7s 4ms/step - loss: 0.0311 - accuracy: 0.9905 - val_loss: 0.0774 - val_accuracy: 0.9766\n",
      "Epoch 4/5\n",
      "1875/1875 [==============================] - 5s 2ms/step - loss: 0.0241 - accuracy: 0.9924 - val_loss: 0.0794 - val_accuracy: 0.9774\n",
      "Epoch 5/5\n",
      "1875/1875 [==============================] - 5s 3ms/step - loss: 0.0211 - accuracy: 0.9936 - val_loss: 0.0782 - val_accuracy: 0.9798\n",
      "CPU times: user 30.3 s, sys: 2.16 s, total: 32.5 s\n",
      "Wall time: 41.2 s\n"
     ]
    }
   ],
   "source": [
    "%%time\n",
    "\n",
    "history = model_2.fit(x_train, y_train_cat, batch_size=32, epochs=5, validation_data =(x_test, y_test_cat) )"
   ]
  },
  {
   "cell_type": "code",
   "execution_count": null,
   "metadata": {
    "colab": {
     "base_uri": "https://localhost:8080/",
     "height": 472
    },
    "id": "E_G9rNJ9wbJ8",
    "outputId": "31e1f260-1237-451b-e71e-eb773501d2cb"
   },
   "outputs": [
    {
     "data": {
      "image/png": "[encoded data removed]",
      "text/plain": [
       "<Figure size 640x480 with 1 Axes>"
      ]
     },
     "metadata": {},
     "output_type": "display_data"
    }
   ],
   "source": [
    "plt.plot(history.history['accuracy'])\n",
    "plt.plot(history.history['val_accuracy'])\n",
    "plt.title('Точность модели')\n",
    "plt.ylabel('точность')\n",
    "plt.xlabel('количество эпох')\n",
    "plt.legend(['train', 'test'], loc='upper left')\n",
    "plt.show()"
   ]
  },
  {
   "cell_type": "code",
   "execution_count": null,
   "metadata": {
    "colab": {
     "base_uri": "https://localhost:8080/",
     "height": 245
    },
    "id": "LTT06XMpwg7k",
    "outputId": "eb71e626-63e0-42fe-a88a-f15dad3947b2"
   },
   "outputs": [
    {
     "ename": "NameError",
     "evalue": "name 'plt' is not defined",
     "output_type": "error",
     "traceback": [
      "\u001b[0;31m---------------------------------------------------------------------------\u001b[0m",
      "\u001b[0;31mNameError\u001b[0m                                 Traceback (most recent call last)",
      "\u001b[0;32m<ipython-input-3-58a19e4d845c>\u001b[0m in \u001b[0;36m<cell line: 1>\u001b[0;34m()\u001b[0m\n\u001b[0;32m----> 1\u001b[0;31m \u001b[0mplt\u001b[0m\u001b[0;34m.\u001b[0m\u001b[0mplot\u001b[0m\u001b[0;34m(\u001b[0m\u001b[0mhistory\u001b[0m\u001b[0;34m.\u001b[0m\u001b[0mhistory\u001b[0m\u001b[0;34m[\u001b[0m\u001b[0;34m'loss'\u001b[0m\u001b[0;34m]\u001b[0m\u001b[0;34m)\u001b[0m\u001b[0;34m\u001b[0m\u001b[0;34m\u001b[0m\u001b[0m\n\u001b[0m\u001b[1;32m      2\u001b[0m \u001b[0mplt\u001b[0m\u001b[0;34m.\u001b[0m\u001b[0mplot\u001b[0m\u001b[0;34m(\u001b[0m\u001b[0mhistory\u001b[0m\u001b[0;34m.\u001b[0m\u001b[0mhistory\u001b[0m\u001b[0;34m[\u001b[0m\u001b[0;34m'val_loss'\u001b[0m\u001b[0;34m]\u001b[0m\u001b[0;34m)\u001b[0m\u001b[0;34m\u001b[0m\u001b[0;34m\u001b[0m\u001b[0m\n\u001b[1;32m      3\u001b[0m \u001b[0mplt\u001b[0m\u001b[0;34m.\u001b[0m\u001b[0mtitle\u001b[0m\u001b[0;34m(\u001b[0m\u001b[0;34m'Потери модели'\u001b[0m\u001b[0;34m)\u001b[0m\u001b[0;34m\u001b[0m\u001b[0;34m\u001b[0m\u001b[0m\n\u001b[1;32m      4\u001b[0m \u001b[0mplt\u001b[0m\u001b[0;34m.\u001b[0m\u001b[0mylabel\u001b[0m\u001b[0;34m(\u001b[0m\u001b[0;34m'Потери'\u001b[0m\u001b[0;34m)\u001b[0m\u001b[0;34m\u001b[0m\u001b[0;34m\u001b[0m\u001b[0m\n\u001b[1;32m      5\u001b[0m \u001b[0mplt\u001b[0m\u001b[0;34m.\u001b[0m\u001b[0mxlabel\u001b[0m\u001b[0;34m(\u001b[0m\u001b[0;34m'количество эпох'\u001b[0m\u001b[0;34m)\u001b[0m\u001b[0;34m\u001b[0m\u001b[0;34m\u001b[0m\u001b[0m\n",
      "\u001b[0;31mNameError\u001b[0m: name 'plt' is not defined"
     ]
    }
   ],
   "source": [
    "plt.plot(history.history['loss'])\n",
    "plt.plot(history.history['val_loss'])\n",
    "plt.title('Потери модели')\n",
    "plt.ylabel('Потери')\n",
    "plt.xlabel('количество эпох')\n",
    "plt.legend(['train', 'test'], loc='upper left')\n",
    "plt.show()"
   ]
  },
  {
   "cell_type": "code",
   "execution_count": null,
   "metadata": {
    "colab": {
     "base_uri": "https://localhost:8080/",
     "height": 245
    },
    "id": "NV4rUD5OwpD1",
    "outputId": "2c4384f1-3394-4e06-d965-c1479e0149cb"
   },
   "outputs": [
    {
     "ename": "NameError",
     "evalue": "name 'plt' is not defined",
     "output_type": "error",
     "traceback": [
      "\u001b[0;31m---------------------------------------------------------------------------\u001b[0m",
      "\u001b[0;31mNameError\u001b[0m                                 Traceback (most recent call last)",
      "\u001b[0;32m<ipython-input-2-1a4c9e02a423>\u001b[0m in \u001b[0;36m<cell line: 2>\u001b[0;34m()\u001b[0m\n\u001b[1;32m      1\u001b[0m \u001b[0mn_rec\u001b[0m\u001b[0;34m=\u001b[0m\u001b[0;36m35\u001b[0m\u001b[0;34m\u001b[0m\u001b[0;34m\u001b[0m\u001b[0m\n\u001b[0;32m----> 2\u001b[0;31m \u001b[0mplt\u001b[0m\u001b[0;34m.\u001b[0m\u001b[0mimshow\u001b[0m\u001b[0;34m(\u001b[0m\u001b[0mx_test\u001b[0m\u001b[0;34m[\u001b[0m\u001b[0mn_rec\u001b[0m\u001b[0;34m]\u001b[0m\u001b[0;34m.\u001b[0m\u001b[0mreshape\u001b[0m\u001b[0;34m(\u001b[0m\u001b[0;36m28\u001b[0m\u001b[0;34m,\u001b[0m \u001b[0;36m28\u001b[0m\u001b[0;34m)\u001b[0m\u001b[0;34m,\u001b[0m \u001b[0mcmap\u001b[0m\u001b[0;34m=\u001b[0m\u001b[0mplt\u001b[0m\u001b[0;34m.\u001b[0m\u001b[0mcm\u001b[0m\u001b[0;34m.\u001b[0m\u001b[0mbinary\u001b[0m\u001b[0;34m)\u001b[0m\u001b[0;34m\u001b[0m\u001b[0;34m\u001b[0m\u001b[0m\n\u001b[0m\u001b[1;32m      3\u001b[0m \u001b[0mplt\u001b[0m\u001b[0;34m.\u001b[0m\u001b[0mshow\u001b[0m\u001b[0;34m(\u001b[0m\u001b[0;34m)\u001b[0m\u001b[0;34m\u001b[0m\u001b[0;34m\u001b[0m\u001b[0m\n\u001b[1;32m      4\u001b[0m \u001b[0mx\u001b[0m \u001b[0;34m=\u001b[0m \u001b[0mx_test\u001b[0m\u001b[0;34m[\u001b[0m\u001b[0mn_rec\u001b[0m\u001b[0;34m]\u001b[0m\u001b[0;34m\u001b[0m\u001b[0;34m\u001b[0m\u001b[0m\n\u001b[1;32m      5\u001b[0m \u001b[0mx\u001b[0m \u001b[0;34m=\u001b[0m \u001b[0mnp\u001b[0m\u001b[0;34m.\u001b[0m\u001b[0mexpand_dims\u001b[0m\u001b[0;34m(\u001b[0m\u001b[0mx\u001b[0m\u001b[0;34m,\u001b[0m \u001b[0maxis\u001b[0m\u001b[0;34m=\u001b[0m\u001b[0;36m0\u001b[0m\u001b[0;34m)\u001b[0m\u001b[0;34m\u001b[0m\u001b[0;34m\u001b[0m\u001b[0m\n",
      "\u001b[0;31mNameError\u001b[0m: name 'plt' is not defined"
     ]
    }
   ],
   "source": [
    "n_rec=35\n",
    "plt.imshow(x_test[n_rec].reshape(28, 28), cmap=plt.cm.binary)\n",
    "plt.show()\n",
    "x = x_test[n_rec]\n",
    "x = np.expand_dims(x, axis=0)\n",
    "\n",
    "prediction = model_2.predict(x)\n",
    "prediction = np.argmax(prediction[0])\n",
    "print(\"1:\", prediction)"
   ]
  },
  {
   "cell_type": "code",
   "execution_count": null,
   "metadata": {
    "id": "TyAghDELZOVL"
   },
   "outputs": [],
   "source": [
    "# Build the model.\n",
    "def create_model(optimizer='adam'):\n",
    "    model = Sequential([\n",
    "      Dense(64, input_shape=(784,), activation='relu'),\n",
    "      Dense(32, activation='relu'),\n",
    "      Dense(10, activation='softmax')\n",
    "    ])\n",
    "\n",
    "    # Compile the model.\n",
    "    model.compile(\n",
    "      optimizer=optimizer,\n",
    "      loss='categorical_crossentropy',\n",
    "      metrics=['accuracy'],\n",
    "    )\n",
    "    return model"
   ]
  },
  {
   "cell_type": "code",
   "execution_count": null,
   "metadata": {
    "colab": {
     "base_uri": "https://localhost:8080/"
    },
    "id": "FQOY8_8mb_ZI",
    "outputId": "241d1558-b77c-425e-b823-60d0d7c2a4b7"
   },
   "outputs": [
    {
     "name": "stdout",
     "output_type": "stream",
     "text": [
      "Epoch 1/5\n",
      "1875/1875 [==============================] - 5s 2ms/step - loss: 0.2938 - accuracy: 0.9147\n",
      "Epoch 2/5\n",
      "1875/1875 [==============================] - 4s 2ms/step - loss: 0.1332 - accuracy: 0.9597\n",
      "Epoch 3/5\n",
      "1875/1875 [==============================] - 5s 3ms/step - loss: 0.0976 - accuracy: 0.9706\n",
      "Epoch 4/5\n",
      "1875/1875 [==============================] - 4s 2ms/step - loss: 0.0755 - accuracy: 0.9765\n",
      "Epoch 5/5\n",
      "1875/1875 [==============================] - 4s 2ms/step - loss: 0.0615 - accuracy: 0.9810\n",
      "313/313 [==============================] - 1s 1ms/step - loss: 0.0854 - accuracy: 0.9738\n",
      "**************\n",
      "Loss - 0.09, Metrics - 0.974\n"
     ]
    }
   ],
   "source": [
    "model = create_model()\n",
    "\n",
    "# Train the model.\n",
    "model.fit(train_images, to_categorical(train_labels), epochs=5, batch_size=32)\n",
    "\n",
    "# Evaluate the model.\n",
    "loss,metrics = model.evaluate(test_images, to_categorical(test_labels))\n",
    "print('**************')\n",
    "print(f'Loss - {np.round(loss,2)}, Metrics - {np.round(metrics,3)}')"
   ]
  },
  {
   "cell_type": "code",
   "execution_count": null,
   "metadata": {
    "colab": {
     "base_uri": "https://localhost:8080/"
    },
    "id": "o4mMjqT1IMoI",
    "outputId": "c69dedf6-311d-4597-d270-9440a022acad"
   },
   "outputs": [
    {
     "name": "stdout",
     "output_type": "stream",
     "text": [
      "1/1 [==============================] - 0s 49ms/step\n",
      "Predictions: [7 2 1 0 4 1 4 9 6 9]\n",
      "True labels: [7 2 1 0 4 1 4 9 5 9]\n"
     ]
    }
   ],
   "source": [
    "# Predict on the first 10 test images.\n",
    "predictions = model.predict(test_images[:10])\n",
    "\n",
    "# Print our model's predictions.\n",
    "print(f'Predictions: {np.argmax(predictions, axis=1)}')\n",
    "\n",
    "# Check our predictions against the ground truths.\n",
    "print(f'True labels: {test_labels[:10]}')"
   ]
  },
  {
   "cell_type": "markdown",
   "metadata": {
    "id": "3c1FUM5PIBvC"
   },
   "source": [
    "### Picking params via GridSearchCV"
   ]
  },
  {
   "cell_type": "code",
   "execution_count": null,
   "metadata": {
    "id": "nrtdUsU6XxAz"
   },
   "outputs": [],
   "source": [
    "batch_size = [ 500, 1000]\n",
    "epochs = [5, 10]\n",
    "optimizer = ['SGD', 'RMSprop', 'Adam']"
   ]
  },
  {
   "cell_type": "code",
   "execution_count": null,
   "metadata": {
    "colab": {
     "base_uri": "https://localhost:8080/"
    },
    "id": "7C8rPHbu3rXr",
    "outputId": "02730888-2fa0-430b-fc8d-b1d01d104ae7"
   },
   "outputs": [
    {
     "name": "stdout",
     "output_type": "stream",
     "text": [
      "Epoch 1/5\n",
      "80/80 [==============================] - 1s 7ms/step - loss: 0.9045 - accuracy: 0.7544\n",
      "Epoch 2/5\n",
      "80/80 [==============================] - 1s 7ms/step - loss: 0.3048 - accuracy: 0.9137\n",
      "Epoch 3/5\n",
      "80/80 [==============================] - 0s 5ms/step - loss: 0.2377 - accuracy: 0.9337\n",
      "Epoch 4/5\n",
      "80/80 [==============================] - 0s 5ms/step - loss: 0.2041 - accuracy: 0.9419\n",
      "Epoch 5/5\n",
      "80/80 [==============================] - 1s 8ms/step - loss: 0.1771 - accuracy: 0.9500\n",
      "40/40 [==============================] - 0s 5ms/step\n",
      "Epoch 1/5\n",
      "80/80 [==============================] - 1s 5ms/step - loss: 0.9341 - accuracy: 0.7363\n",
      "Epoch 2/5\n",
      "80/80 [==============================] - 0s 5ms/step - loss: 0.3035 - accuracy: 0.9130\n",
      "Epoch 3/5\n",
      "80/80 [==============================] - 0s 4ms/step - loss: 0.2314 - accuracy: 0.9331\n",
      "Epoch 4/5\n",
      "80/80 [==============================] - 0s 5ms/step - loss: 0.1909 - accuracy: 0.9453\n",
      "Epoch 5/5\n",
      "80/80 [==============================] - 0s 4ms/step - loss: 0.1666 - accuracy: 0.9523\n",
      "40/40 [==============================] - 0s 3ms/step\n",
      "Epoch 1/5\n",
      "80/80 [==============================] - 1s 5ms/step - loss: 0.9324 - accuracy: 0.7421\n",
      "Epoch 2/5\n",
      "80/80 [==============================] - 0s 5ms/step - loss: 0.3066 - accuracy: 0.9150\n",
      "Epoch 3/5\n",
      "80/80 [==============================] - 0s 5ms/step - loss: 0.2352 - accuracy: 0.9342\n",
      "Epoch 4/5\n",
      "80/80 [==============================] - 0s 5ms/step - loss: 0.1959 - accuracy: 0.9444\n",
      "Epoch 5/5\n",
      "80/80 [==============================] - 0s 5ms/step - loss: 0.1697 - accuracy: 0.9516\n",
      "40/40 [==============================] - 0s 4ms/step\n",
      "Epoch 1/5\n",
      "80/80 [==============================] - 1s 6ms/step - loss: 0.8928 - accuracy: 0.7538\n",
      "Epoch 2/5\n",
      "80/80 [==============================] - 0s 5ms/step - loss: 0.3124 - accuracy: 0.9123\n",
      "Epoch 3/5\n",
      "80/80 [==============================] - 0s 5ms/step - loss: 0.2463 - accuracy: 0.9300\n",
      "Epoch 4/5\n",
      "80/80 [==============================] - 0s 5ms/step - loss: 0.2095 - accuracy: 0.9412\n",
      "Epoch 5/5\n",
      "80/80 [==============================] - 0s 5ms/step - loss: 0.1842 - accuracy: 0.9474\n",
      "40/40 [==============================] - 0s 2ms/step\n",
      "Epoch 1/5\n",
      "80/80 [==============================] - 1s 5ms/step - loss: 0.9222 - accuracy: 0.7442\n",
      "Epoch 2/5\n",
      "80/80 [==============================] - 0s 5ms/step - loss: 0.3071 - accuracy: 0.9146\n",
      "Epoch 3/5\n",
      "80/80 [==============================] - 0s 5ms/step - loss: 0.2419 - accuracy: 0.9302\n",
      "Epoch 4/5\n",
      "80/80 [==============================] - 0s 5ms/step - loss: 0.2061 - accuracy: 0.9408\n",
      "Epoch 5/5\n",
      "80/80 [==============================] - 0s 5ms/step - loss: 0.1802 - accuracy: 0.9487\n",
      "40/40 [==============================] - 0s 3ms/step\n",
      "Epoch 1/5\n",
      "80/80 [==============================] - 1s 4ms/step - loss: 0.8953 - accuracy: 0.7534\n",
      "Epoch 2/5\n",
      "80/80 [==============================] - 0s 5ms/step - loss: 0.3161 - accuracy: 0.9122\n",
      "Epoch 3/5\n",
      "80/80 [==============================] - 0s 5ms/step - loss: 0.2476 - accuracy: 0.9294\n",
      "Epoch 4/5\n",
      "80/80 [==============================] - 0s 5ms/step - loss: 0.2073 - accuracy: 0.9408\n",
      "Epoch 5/5\n",
      "80/80 [==============================] - 0s 5ms/step - loss: 0.1778 - accuracy: 0.9491\n",
      "40/40 [==============================] - 0s 2ms/step\n",
      "Epoch 1/5\n",
      "80/80 [==============================] - 1s 8ms/step - loss: 0.9672 - accuracy: 0.7332\n",
      "Epoch 2/5\n",
      "80/80 [==============================] - 1s 7ms/step - loss: 0.3268 - accuracy: 0.9062\n",
      "Epoch 3/5\n",
      "80/80 [==============================] - 0s 5ms/step - loss: 0.2542 - accuracy: 0.9278\n",
      "Epoch 4/5\n",
      "80/80 [==============================] - 0s 4ms/step - loss: 0.2161 - accuracy: 0.9382\n",
      "Epoch 5/5\n",
      "80/80 [==============================] - 0s 5ms/step - loss: 0.1887 - accuracy: 0.9461\n",
      "40/40 [==============================] - 0s 2ms/step\n",
      "Epoch 1/5\n",
      "80/80 [==============================] - 1s 5ms/step - loss: 0.8619 - accuracy: 0.7683\n",
      "Epoch 2/5\n",
      "80/80 [==============================] - 0s 5ms/step - loss: 0.2932 - accuracy: 0.9178\n",
      "Epoch 3/5\n",
      "80/80 [==============================] - 0s 5ms/step - loss: 0.2304 - accuracy: 0.9344\n",
      "Epoch 4/5\n",
      "80/80 [==============================] - 0s 5ms/step - loss: 0.1938 - accuracy: 0.9448\n",
      "Epoch 5/5\n",
      "80/80 [==============================] - 0s 5ms/step - loss: 0.1707 - accuracy: 0.9506\n",
      "40/40 [==============================] - 0s 2ms/step\n",
      "Epoch 1/5\n",
      "80/80 [==============================] - 1s 5ms/step - loss: 0.9933 - accuracy: 0.7175\n",
      "Epoch 2/5\n",
      "80/80 [==============================] - 0s 5ms/step - loss: 0.3144 - accuracy: 0.9128\n",
      "Epoch 3/5\n",
      "80/80 [==============================] - 0s 4ms/step - loss: 0.2421 - accuracy: 0.9313\n",
      "Epoch 4/5\n",
      "80/80 [==============================] - 0s 5ms/step - loss: 0.2024 - accuracy: 0.9419\n",
      "Epoch 5/5\n",
      "80/80 [==============================] - 0s 4ms/step - loss: 0.1753 - accuracy: 0.9505\n",
      "40/40 [==============================] - 0s 2ms/step\n",
      "Epoch 1/10\n",
      "80/80 [==============================] - 1s 7ms/step - loss: 0.8712 - accuracy: 0.7603\n",
      "Epoch 2/10\n",
      "80/80 [==============================] - 1s 7ms/step - loss: 0.2996 - accuracy: 0.9166\n",
      "Epoch 3/10\n",
      "80/80 [==============================] - 1s 7ms/step - loss: 0.2341 - accuracy: 0.9344\n",
      "Epoch 4/10\n",
      "80/80 [==============================] - 1s 7ms/step - loss: 0.1995 - accuracy: 0.9428\n",
      "Epoch 5/10\n",
      "80/80 [==============================] - 0s 5ms/step - loss: 0.1729 - accuracy: 0.9504\n",
      "Epoch 6/10\n",
      "80/80 [==============================] - 0s 5ms/step - loss: 0.1541 - accuracy: 0.9556\n",
      "Epoch 7/10\n",
      "80/80 [==============================] - 0s 4ms/step - loss: 0.1399 - accuracy: 0.9602\n",
      "Epoch 8/10\n",
      "80/80 [==============================] - 0s 5ms/step - loss: 0.1268 - accuracy: 0.9639\n",
      "Epoch 9/10\n",
      "80/80 [==============================] - 0s 4ms/step - loss: 0.1164 - accuracy: 0.9664\n",
      "Epoch 10/10\n",
      "80/80 [==============================] - 0s 4ms/step - loss: 0.1065 - accuracy: 0.9699\n",
      "40/40 [==============================] - 0s 3ms/step\n",
      "Epoch 1/10\n",
      "80/80 [==============================] - 1s 4ms/step - loss: 0.9559 - accuracy: 0.7328\n",
      "Epoch 2/10\n",
      "80/80 [==============================] - 0s 5ms/step - loss: 0.3105 - accuracy: 0.9133\n",
      "Epoch 3/10\n",
      "80/80 [==============================] - 0s 5ms/step - loss: 0.2428 - accuracy: 0.9313\n",
      "Epoch 4/10\n",
      "80/80 [==============================] - 0s 4ms/step - loss: 0.2067 - accuracy: 0.9424\n",
      "Epoch 5/10\n",
      "80/80 [==============================] - 0s 5ms/step - loss: 0.1816 - accuracy: 0.9495\n",
      "Epoch 6/10\n",
      "80/80 [==============================] - 0s 5ms/step - loss: 0.1624 - accuracy: 0.9551\n",
      "Epoch 7/10\n",
      "80/80 [==============================] - 0s 4ms/step - loss: 0.1466 - accuracy: 0.9593\n",
      "Epoch 8/10\n",
      "80/80 [==============================] - 0s 4ms/step - loss: 0.1317 - accuracy: 0.9635\n",
      "Epoch 9/10\n",
      "80/80 [==============================] - 0s 5ms/step - loss: 0.1211 - accuracy: 0.9666\n",
      "Epoch 10/10\n",
      "80/80 [==============================] - 0s 5ms/step - loss: 0.1107 - accuracy: 0.9690\n",
      "40/40 [==============================] - 0s 2ms/step\n",
      "Epoch 1/10\n",
      "80/80 [==============================] - 2s 7ms/step - loss: 0.9314 - accuracy: 0.7384\n",
      "Epoch 2/10\n",
      "80/80 [==============================] - 1s 7ms/step - loss: 0.3127 - accuracy: 0.9126\n",
      "Epoch 3/10\n",
      "80/80 [==============================] - 1s 8ms/step - loss: 0.2394 - accuracy: 0.9316\n",
      "Epoch 4/10\n",
      "80/80 [==============================] - 1s 6ms/step - loss: 0.2002 - accuracy: 0.9422\n",
      "Epoch 5/10\n",
      "80/80 [==============================] - 0s 5ms/step - loss: 0.1742 - accuracy: 0.9498\n",
      "Epoch 6/10\n",
      "80/80 [==============================] - 0s 5ms/step - loss: 0.1549 - accuracy: 0.9553\n",
      "Epoch 7/10\n",
      "80/80 [==============================] - 0s 5ms/step - loss: 0.1391 - accuracy: 0.9592\n",
      "Epoch 8/10\n",
      "80/80 [==============================] - 0s 5ms/step - loss: 0.1267 - accuracy: 0.9630\n",
      "Epoch 9/10\n",
      "80/80 [==============================] - 0s 5ms/step - loss: 0.1159 - accuracy: 0.9661\n",
      "Epoch 10/10\n",
      "80/80 [==============================] - 0s 5ms/step - loss: 0.1047 - accuracy: 0.9696\n",
      "40/40 [==============================] - 0s 3ms/step\n",
      "Epoch 1/10\n",
      "80/80 [==============================] - 1s 5ms/step - loss: 0.8673 - accuracy: 0.7657\n",
      "Epoch 2/10\n",
      "80/80 [==============================] - 0s 5ms/step - loss: 0.3027 - accuracy: 0.9145\n",
      "Epoch 3/10\n",
      "80/80 [==============================] - 0s 5ms/step - loss: 0.2368 - accuracy: 0.9317\n",
      "Epoch 4/10\n",
      "80/80 [==============================] - 0s 4ms/step - loss: 0.1987 - accuracy: 0.9434\n",
      "Epoch 5/10\n",
      "80/80 [==============================] - 0s 4ms/step - loss: 0.1728 - accuracy: 0.9507\n",
      "Epoch 6/10\n",
      "80/80 [==============================] - 0s 5ms/step - loss: 0.1523 - accuracy: 0.9570\n",
      "Epoch 7/10\n",
      "80/80 [==============================] - 0s 5ms/step - loss: 0.1375 - accuracy: 0.9604\n",
      "Epoch 8/10\n",
      "80/80 [==============================] - 0s 5ms/step - loss: 0.1230 - accuracy: 0.9647\n",
      "Epoch 9/10\n",
      "80/80 [==============================] - 0s 5ms/step - loss: 0.1118 - accuracy: 0.9678\n",
      "Epoch 10/10\n",
      "80/80 [==============================] - 0s 4ms/step - loss: 0.1008 - accuracy: 0.9709\n",
      "40/40 [==============================] - 0s 2ms/step\n",
      "Epoch 1/10\n",
      "80/80 [==============================] - 1s 7ms/step - loss: 0.9115 - accuracy: 0.7539\n",
      "Epoch 2/10\n",
      "80/80 [==============================] - 1s 8ms/step - loss: 0.3182 - accuracy: 0.9103\n",
      "Epoch 3/10\n",
      "80/80 [==============================] - 1s 7ms/step - loss: 0.2533 - accuracy: 0.9285\n",
      "Epoch 4/10\n",
      "80/80 [==============================] - 0s 5ms/step - loss: 0.2101 - accuracy: 0.9405\n",
      "Epoch 5/10\n",
      "80/80 [==============================] - 0s 5ms/step - loss: 0.1816 - accuracy: 0.9481\n",
      "Epoch 6/10\n",
      "80/80 [==============================] - 0s 5ms/step - loss: 0.1592 - accuracy: 0.9555\n",
      "Epoch 7/10\n",
      "80/80 [==============================] - 0s 4ms/step - loss: 0.1432 - accuracy: 0.9594\n",
      "Epoch 8/10\n",
      "80/80 [==============================] - 0s 5ms/step - loss: 0.1288 - accuracy: 0.9632\n",
      "Epoch 9/10\n",
      "80/80 [==============================] - 0s 5ms/step - loss: 0.1191 - accuracy: 0.9665\n",
      "Epoch 10/10\n",
      "80/80 [==============================] - 0s 5ms/step - loss: 0.1082 - accuracy: 0.9690\n",
      "40/40 [==============================] - 0s 2ms/step\n",
      "Epoch 1/10\n",
      "80/80 [==============================] - 1s 4ms/step - loss: 0.8787 - accuracy: 0.7609\n",
      "Epoch 2/10\n",
      "80/80 [==============================] - 0s 5ms/step - loss: 0.3049 - accuracy: 0.9148\n",
      "Epoch 3/10\n",
      "80/80 [==============================] - 0s 5ms/step - loss: 0.2356 - accuracy: 0.9329\n",
      "Epoch 4/10\n",
      "80/80 [==============================] - 0s 5ms/step - loss: 0.1995 - accuracy: 0.9436\n",
      "Epoch 5/10\n",
      "80/80 [==============================] - 0s 5ms/step - loss: 0.1721 - accuracy: 0.9510\n",
      "Epoch 6/10\n",
      "80/80 [==============================] - 0s 5ms/step - loss: 0.1529 - accuracy: 0.9566\n",
      "Epoch 7/10\n",
      "80/80 [==============================] - 0s 5ms/step - loss: 0.1354 - accuracy: 0.9614\n",
      "Epoch 8/10\n",
      "80/80 [==============================] - 0s 5ms/step - loss: 0.1226 - accuracy: 0.9651\n",
      "Epoch 9/10\n",
      "80/80 [==============================] - 0s 5ms/step - loss: 0.1107 - accuracy: 0.9687\n",
      "Epoch 10/10\n",
      "80/80 [==============================] - 0s 5ms/step - loss: 0.1020 - accuracy: 0.9711\n",
      "40/40 [==============================] - 0s 2ms/step\n",
      "Epoch 1/10\n",
      "80/80 [==============================] - 1s 8ms/step - loss: 1.0350 - accuracy: 0.7021\n",
      "Epoch 2/10\n",
      "80/80 [==============================] - 1s 7ms/step - loss: 0.3211 - accuracy: 0.9091\n",
      "Epoch 3/10\n",
      "80/80 [==============================] - 1s 8ms/step - loss: 0.2451 - accuracy: 0.9308\n",
      "Epoch 4/10\n",
      "80/80 [==============================] - 1s 7ms/step - loss: 0.2028 - accuracy: 0.9422\n",
      "Epoch 5/10\n",
      "80/80 [==============================] - 1s 7ms/step - loss: 0.1761 - accuracy: 0.9494\n",
      "Epoch 6/10\n",
      "80/80 [==============================] - 0s 5ms/step - loss: 0.1586 - accuracy: 0.9545\n",
      "Epoch 7/10\n",
      "80/80 [==============================] - 0s 5ms/step - loss: 0.1407 - accuracy: 0.9600\n",
      "Epoch 8/10\n",
      "80/80 [==============================] - 0s 5ms/step - loss: 0.1296 - accuracy: 0.9625\n",
      "Epoch 9/10\n",
      "80/80 [==============================] - 0s 5ms/step - loss: 0.1172 - accuracy: 0.9666\n",
      "Epoch 10/10\n",
      "80/80 [==============================] - 0s 5ms/step - loss: 0.1101 - accuracy: 0.9681\n",
      "40/40 [==============================] - 0s 2ms/step\n",
      "Epoch 1/10\n",
      "80/80 [==============================] - 1s 5ms/step - loss: 0.9205 - accuracy: 0.7388\n",
      "Epoch 2/10\n",
      "80/80 [==============================] - 0s 5ms/step - loss: 0.3012 - accuracy: 0.9154\n",
      "Epoch 3/10\n",
      "80/80 [==============================] - 0s 5ms/step - loss: 0.2328 - accuracy: 0.9341\n",
      "Epoch 4/10\n",
      "80/80 [==============================] - 0s 5ms/step - loss: 0.1965 - accuracy: 0.9442\n",
      "Epoch 5/10\n",
      "80/80 [==============================] - 0s 5ms/step - loss: 0.1722 - accuracy: 0.9509\n",
      "Epoch 6/10\n",
      "80/80 [==============================] - 0s 4ms/step - loss: 0.1528 - accuracy: 0.9565\n",
      "Epoch 7/10\n",
      "80/80 [==============================] - 0s 5ms/step - loss: 0.1374 - accuracy: 0.9613\n",
      "Epoch 8/10\n",
      "80/80 [==============================] - 0s 4ms/step - loss: 0.1246 - accuracy: 0.9649\n",
      "Epoch 9/10\n",
      "80/80 [==============================] - 0s 5ms/step - loss: 0.1144 - accuracy: 0.9674\n",
      "Epoch 10/10\n",
      "80/80 [==============================] - 0s 5ms/step - loss: 0.1054 - accuracy: 0.9697\n",
      "40/40 [==============================] - 0s 2ms/step\n",
      "Epoch 1/10\n",
      "80/80 [==============================] - 1s 5ms/step - loss: 0.9141 - accuracy: 0.7625\n",
      "Epoch 2/10\n",
      "80/80 [==============================] - 0s 5ms/step - loss: 0.3108 - accuracy: 0.9135\n",
      "Epoch 3/10\n",
      "80/80 [==============================] - 0s 5ms/step - loss: 0.2414 - accuracy: 0.9310\n",
      "Epoch 4/10\n",
      "80/80 [==============================] - 0s 5ms/step - loss: 0.2025 - accuracy: 0.9425\n",
      "Epoch 5/10\n",
      "80/80 [==============================] - 1s 7ms/step - loss: 0.1754 - accuracy: 0.9497\n",
      "Epoch 6/10\n",
      "80/80 [==============================] - 1s 7ms/step - loss: 0.1540 - accuracy: 0.9554\n",
      "Epoch 7/10\n",
      "80/80 [==============================] - 1s 7ms/step - loss: 0.1380 - accuracy: 0.9610\n",
      "Epoch 8/10\n",
      "80/80 [==============================] - 1s 8ms/step - loss: 0.1253 - accuracy: 0.9643\n",
      "Epoch 9/10\n",
      "80/80 [==============================] - 1s 9ms/step - loss: 0.1137 - accuracy: 0.9683\n",
      "Epoch 10/10\n",
      "80/80 [==============================] - 0s 6ms/step - loss: 0.1034 - accuracy: 0.9704\n",
      "40/40 [==============================] - 0s 3ms/step\n",
      "Epoch 1/5\n",
      "40/40 [==============================] - 1s 8ms/step - loss: 1.3730 - accuracy: 0.5942\n",
      "Epoch 2/5\n",
      "40/40 [==============================] - 0s 8ms/step - loss: 0.4614 - accuracy: 0.8748\n",
      "Epoch 3/5\n",
      "40/40 [==============================] - 0s 8ms/step - loss: 0.3213 - accuracy: 0.9094\n",
      "Epoch 4/5\n",
      "40/40 [==============================] - 0s 8ms/step - loss: 0.2675 - accuracy: 0.9234\n",
      "Epoch 5/5\n",
      "40/40 [==============================] - 0s 8ms/step - loss: 0.2335 - accuracy: 0.9331\n",
      "20/20 [==============================] - 0s 4ms/step\n",
      "Epoch 1/5\n",
      "40/40 [==============================] - 1s 8ms/step - loss: 1.3411 - accuracy: 0.6362\n",
      "Epoch 2/5\n",
      "40/40 [==============================] - 0s 8ms/step - loss: 0.4334 - accuracy: 0.8825\n",
      "Epoch 3/5\n",
      "40/40 [==============================] - 0s 8ms/step - loss: 0.3117 - accuracy: 0.9124\n",
      "Epoch 4/5\n",
      "40/40 [==============================] - 0s 8ms/step - loss: 0.2632 - accuracy: 0.9253\n",
      "Epoch 5/5\n",
      "40/40 [==============================] - 0s 8ms/step - loss: 0.2324 - accuracy: 0.9345\n",
      "20/20 [==============================] - 0s 4ms/step\n",
      "Epoch 1/5\n",
      "40/40 [==============================] - 1s 8ms/step - loss: 1.3268 - accuracy: 0.6574\n",
      "Epoch 2/5\n",
      "40/40 [==============================] - 0s 8ms/step - loss: 0.4511 - accuracy: 0.8786\n",
      "Epoch 3/5\n",
      "40/40 [==============================] - 0s 8ms/step - loss: 0.3277 - accuracy: 0.9098\n",
      "Epoch 4/5\n",
      "40/40 [==============================] - 0s 8ms/step - loss: 0.2742 - accuracy: 0.9241\n",
      "Epoch 5/5\n",
      "40/40 [==============================] - 0s 8ms/step - loss: 0.2387 - accuracy: 0.9320\n",
      "20/20 [==============================] - 0s 5ms/step\n",
      "Epoch 1/5\n",
      "40/40 [==============================] - 1s 8ms/step - loss: 1.3501 - accuracy: 0.5942\n",
      "Epoch 2/5\n",
      "40/40 [==============================] - 0s 8ms/step - loss: 0.4333 - accuracy: 0.8802\n",
      "Epoch 3/5\n",
      "40/40 [==============================] - 0s 8ms/step - loss: 0.3056 - accuracy: 0.9136\n",
      "Epoch 4/5\n",
      "40/40 [==============================] - 0s 8ms/step - loss: 0.2563 - accuracy: 0.9277\n",
      "Epoch 5/5\n",
      "40/40 [==============================] - 0s 7ms/step - loss: 0.2254 - accuracy: 0.9368\n",
      "20/20 [==============================] - 0s 4ms/step\n",
      "Epoch 1/5\n",
      "40/40 [==============================] - 1s 8ms/step - loss: 1.4494 - accuracy: 0.5836\n",
      "Epoch 2/5\n",
      "40/40 [==============================] - 0s 7ms/step - loss: 0.4522 - accuracy: 0.8785\n",
      "Epoch 3/5\n",
      "40/40 [==============================] - 0s 8ms/step - loss: 0.3025 - accuracy: 0.9155\n",
      "Epoch 4/5\n",
      "40/40 [==============================] - 0s 8ms/step - loss: 0.2505 - accuracy: 0.9300\n",
      "Epoch 5/5\n",
      "40/40 [==============================] - 0s 8ms/step - loss: 0.2176 - accuracy: 0.9388\n",
      "20/20 [==============================] - 0s 4ms/step\n",
      "Epoch 1/5\n",
      "40/40 [==============================] - 1s 8ms/step - loss: 1.3647 - accuracy: 0.6093\n",
      "Epoch 2/5\n",
      "40/40 [==============================] - 0s 8ms/step - loss: 0.4840 - accuracy: 0.8715\n",
      "Epoch 3/5\n",
      "40/40 [==============================] - 0s 8ms/step - loss: 0.3313 - accuracy: 0.9088\n",
      "Epoch 4/5\n",
      "40/40 [==============================] - 0s 8ms/step - loss: 0.2738 - accuracy: 0.9249\n",
      "Epoch 5/5\n",
      "40/40 [==============================] - 0s 8ms/step - loss: 0.2377 - accuracy: 0.9341\n",
      "20/20 [==============================] - 0s 4ms/step\n",
      "Epoch 1/5\n",
      "40/40 [==============================] - 1s 13ms/step - loss: 1.3360 - accuracy: 0.6571\n",
      "Epoch 2/5\n",
      "40/40 [==============================] - 1s 13ms/step - loss: 0.4354 - accuracy: 0.8792\n",
      "Epoch 3/5\n",
      "40/40 [==============================] - 0s 12ms/step - loss: 0.3113 - accuracy: 0.9114\n",
      "Epoch 4/5\n",
      "40/40 [==============================] - 0s 11ms/step - loss: 0.2602 - accuracy: 0.9257\n",
      "Epoch 5/5\n",
      "40/40 [==============================] - 0s 8ms/step - loss: 0.2277 - accuracy: 0.9346\n",
      "20/20 [==============================] - 0s 4ms/step\n",
      "Epoch 1/5\n",
      "40/40 [==============================] - 1s 8ms/step - loss: 1.3498 - accuracy: 0.6186\n",
      "Epoch 2/5\n",
      "40/40 [==============================] - 0s 8ms/step - loss: 0.4212 - accuracy: 0.8836\n",
      "Epoch 3/5\n",
      "40/40 [==============================] - 0s 8ms/step - loss: 0.3066 - accuracy: 0.9132\n",
      "Epoch 4/5\n",
      "40/40 [==============================] - 0s 8ms/step - loss: 0.2605 - accuracy: 0.9265\n",
      "Epoch 5/5\n",
      "40/40 [==============================] - 0s 8ms/step - loss: 0.2297 - accuracy: 0.9357\n",
      "20/20 [==============================] - 0s 4ms/step\n",
      "Epoch 1/5\n",
      "40/40 [==============================] - 2s 8ms/step - loss: 1.2496 - accuracy: 0.6552\n",
      "Epoch 2/5\n",
      "40/40 [==============================] - 0s 9ms/step - loss: 0.4188 - accuracy: 0.8883\n",
      "Epoch 3/5\n",
      "40/40 [==============================] - 0s 9ms/step - loss: 0.3113 - accuracy: 0.9134\n",
      "Epoch 4/5\n",
      "40/40 [==============================] - 0s 8ms/step - loss: 0.2660 - accuracy: 0.9261\n",
      "Epoch 5/5\n",
      "40/40 [==============================] - 0s 8ms/step - loss: 0.2355 - accuracy: 0.9343\n",
      "20/20 [==============================] - 0s 4ms/step\n",
      "Epoch 1/10\n",
      "40/40 [==============================] - 1s 12ms/step - loss: 1.2997 - accuracy: 0.6582\n",
      "Epoch 2/10\n",
      "40/40 [==============================] - 0s 12ms/step - loss: 0.4212 - accuracy: 0.8868\n",
      "Epoch 3/10\n",
      "40/40 [==============================] - 0s 12ms/step - loss: 0.3054 - accuracy: 0.9147\n",
      "Epoch 4/10\n",
      "40/40 [==============================] - 1s 13ms/step - loss: 0.2575 - accuracy: 0.9278\n",
      "Epoch 5/10\n",
      "40/40 [==============================] - 0s 12ms/step - loss: 0.2268 - accuracy: 0.9366\n",
      "Epoch 6/10\n",
      "40/40 [==============================] - 0s 7ms/step - loss: 0.2043 - accuracy: 0.9420\n",
      "Epoch 7/10\n",
      "40/40 [==============================] - 0s 8ms/step - loss: 0.1852 - accuracy: 0.9476\n",
      "Epoch 8/10\n",
      "40/40 [==============================] - 0s 7ms/step - loss: 0.1712 - accuracy: 0.9519\n",
      "Epoch 9/10\n",
      "40/40 [==============================] - 0s 8ms/step - loss: 0.1587 - accuracy: 0.9546\n",
      "Epoch 10/10\n",
      "40/40 [==============================] - 0s 8ms/step - loss: 0.1476 - accuracy: 0.9575\n",
      "20/20 [==============================] - 0s 4ms/step\n",
      "Epoch 1/10\n",
      "40/40 [==============================] - 1s 8ms/step - loss: 1.3652 - accuracy: 0.6373\n",
      "Epoch 2/10\n",
      "40/40 [==============================] - 0s 9ms/step - loss: 0.4385 - accuracy: 0.8820\n",
      "Epoch 3/10\n",
      "40/40 [==============================] - 0s 8ms/step - loss: 0.3031 - accuracy: 0.9157\n",
      "Epoch 4/10\n",
      "40/40 [==============================] - 0s 8ms/step - loss: 0.2499 - accuracy: 0.9301\n",
      "Epoch 5/10\n",
      "40/40 [==============================] - 0s 9ms/step - loss: 0.2176 - accuracy: 0.9393\n",
      "Epoch 6/10\n",
      "40/40 [==============================] - 0s 8ms/step - loss: 0.1929 - accuracy: 0.9464\n",
      "Epoch 7/10\n",
      "40/40 [==============================] - 0s 8ms/step - loss: 0.1751 - accuracy: 0.9518\n",
      "Epoch 8/10\n",
      "40/40 [==============================] - 0s 9ms/step - loss: 0.1593 - accuracy: 0.9556\n",
      "Epoch 9/10\n",
      "40/40 [==============================] - 0s 8ms/step - loss: 0.1462 - accuracy: 0.9589\n",
      "Epoch 10/10\n",
      "40/40 [==============================] - 0s 8ms/step - loss: 0.1350 - accuracy: 0.9626\n",
      "20/20 [==============================] - 0s 4ms/step\n",
      "Epoch 1/10\n",
      "40/40 [==============================] - 1s 8ms/step - loss: 1.3655 - accuracy: 0.6172\n",
      "Epoch 2/10\n",
      "40/40 [==============================] - 0s 9ms/step - loss: 0.4492 - accuracy: 0.8801\n",
      "Epoch 3/10\n",
      "40/40 [==============================] - 0s 12ms/step - loss: 0.3171 - accuracy: 0.9119\n",
      "Epoch 4/10\n",
      "40/40 [==============================] - 0s 12ms/step - loss: 0.2701 - accuracy: 0.9248\n",
      "Epoch 5/10\n",
      "40/40 [==============================] - 0s 12ms/step - loss: 0.2374 - accuracy: 0.9326\n",
      "Epoch 6/10\n",
      "40/40 [==============================] - 1s 13ms/step - loss: 0.2149 - accuracy: 0.9392\n",
      "Epoch 7/10\n",
      "40/40 [==============================] - 0s 12ms/step - loss: 0.1943 - accuracy: 0.9453\n",
      "Epoch 8/10\n",
      "40/40 [==============================] - 1s 13ms/step - loss: 0.1778 - accuracy: 0.9494\n",
      "Epoch 9/10\n",
      "40/40 [==============================] - 0s 8ms/step - loss: 0.1637 - accuracy: 0.9531\n",
      "Epoch 10/10\n",
      "40/40 [==============================] - 0s 8ms/step - loss: 0.1519 - accuracy: 0.9565\n",
      "20/20 [==============================] - 0s 4ms/step\n",
      "Epoch 1/10\n",
      "40/40 [==============================] - 1s 9ms/step - loss: 1.3837 - accuracy: 0.5969\n",
      "Epoch 2/10\n",
      "40/40 [==============================] - 0s 8ms/step - loss: 0.4388 - accuracy: 0.8834\n",
      "Epoch 3/10\n",
      "40/40 [==============================] - 0s 9ms/step - loss: 0.3098 - accuracy: 0.9116\n",
      "Epoch 4/10\n",
      "40/40 [==============================] - 0s 9ms/step - loss: 0.2612 - accuracy: 0.9262\n",
      "Epoch 5/10\n",
      "40/40 [==============================] - 0s 8ms/step - loss: 0.2297 - accuracy: 0.9350\n",
      "Epoch 6/10\n",
      "40/40 [==============================] - 0s 9ms/step - loss: 0.2065 - accuracy: 0.9413\n",
      "Epoch 7/10\n",
      "40/40 [==============================] - 0s 9ms/step - loss: 0.1874 - accuracy: 0.9457\n",
      "Epoch 8/10\n",
      "40/40 [==============================] - 0s 8ms/step - loss: 0.1718 - accuracy: 0.9507\n",
      "Epoch 9/10\n",
      "40/40 [==============================] - 0s 8ms/step - loss: 0.1585 - accuracy: 0.9545\n",
      "Epoch 10/10\n",
      "40/40 [==============================] - 0s 8ms/step - loss: 0.1475 - accuracy: 0.9575\n",
      "20/20 [==============================] - 0s 4ms/step\n",
      "Epoch 1/10\n",
      "40/40 [==============================] - 1s 8ms/step - loss: 1.3162 - accuracy: 0.6442\n",
      "Epoch 2/10\n",
      "40/40 [==============================] - 0s 8ms/step - loss: 0.4208 - accuracy: 0.8899\n",
      "Epoch 3/10\n",
      "40/40 [==============================] - 0s 8ms/step - loss: 0.2966 - accuracy: 0.9194\n",
      "Epoch 4/10\n",
      "40/40 [==============================] - 0s 8ms/step - loss: 0.2466 - accuracy: 0.9322\n",
      "Epoch 5/10\n",
      "40/40 [==============================] - 0s 8ms/step - loss: 0.2150 - accuracy: 0.9405\n",
      "Epoch 6/10\n",
      "40/40 [==============================] - 0s 8ms/step - loss: 0.1925 - accuracy: 0.9472\n",
      "Epoch 7/10\n",
      "40/40 [==============================] - 0s 8ms/step - loss: 0.1755 - accuracy: 0.9517\n",
      "Epoch 8/10\n",
      "40/40 [==============================] - 0s 10ms/step - loss: 0.1613 - accuracy: 0.9554\n",
      "Epoch 9/10\n",
      "40/40 [==============================] - 1s 13ms/step - loss: 0.1484 - accuracy: 0.9591\n",
      "Epoch 10/10\n",
      "40/40 [==============================] - 1s 13ms/step - loss: 0.1388 - accuracy: 0.9614\n",
      "20/20 [==============================] - 0s 4ms/step\n",
      "Epoch 1/10\n",
      "40/40 [==============================] - 1s 8ms/step - loss: 1.4222 - accuracy: 0.5894\n",
      "Epoch 2/10\n",
      "40/40 [==============================] - 0s 9ms/step - loss: 0.4749 - accuracy: 0.8734\n",
      "Epoch 3/10\n",
      "40/40 [==============================] - 0s 8ms/step - loss: 0.3196 - accuracy: 0.9115\n",
      "Epoch 4/10\n",
      "40/40 [==============================] - 0s 9ms/step - loss: 0.2627 - accuracy: 0.9257\n",
      "Epoch 5/10\n",
      "40/40 [==============================] - 0s 8ms/step - loss: 0.2291 - accuracy: 0.9355\n",
      "Epoch 6/10\n",
      "40/40 [==============================] - 0s 8ms/step - loss: 0.2062 - accuracy: 0.9416\n",
      "Epoch 7/10\n",
      "40/40 [==============================] - 0s 8ms/step - loss: 0.1861 - accuracy: 0.9469\n",
      "Epoch 8/10\n",
      "40/40 [==============================] - 0s 9ms/step - loss: 0.1716 - accuracy: 0.9515\n",
      "Epoch 9/10\n",
      "40/40 [==============================] - 0s 8ms/step - loss: 0.1593 - accuracy: 0.9551\n",
      "Epoch 10/10\n",
      "40/40 [==============================] - 0s 8ms/step - loss: 0.1474 - accuracy: 0.9580\n",
      "20/20 [==============================] - 0s 5ms/step\n",
      "Epoch 1/10\n",
      "40/40 [==============================] - 1s 8ms/step - loss: 1.4300 - accuracy: 0.5742\n",
      "Epoch 2/10\n",
      "40/40 [==============================] - 0s 9ms/step - loss: 0.4796 - accuracy: 0.8686\n",
      "Epoch 3/10\n",
      "40/40 [==============================] - 0s 9ms/step - loss: 0.3243 - accuracy: 0.9081\n",
      "Epoch 4/10\n",
      "40/40 [==============================] - 0s 8ms/step - loss: 0.2721 - accuracy: 0.9220\n",
      "Epoch 5/10\n",
      "40/40 [==============================] - 0s 8ms/step - loss: 0.2411 - accuracy: 0.9311\n",
      "Epoch 6/10\n",
      "40/40 [==============================] - 0s 8ms/step - loss: 0.2178 - accuracy: 0.9371\n",
      "Epoch 7/10\n",
      "40/40 [==============================] - 0s 8ms/step - loss: 0.1989 - accuracy: 0.9431\n",
      "Epoch 8/10\n",
      "40/40 [==============================] - 0s 8ms/step - loss: 0.1827 - accuracy: 0.9476\n",
      "Epoch 9/10\n",
      "40/40 [==============================] - 0s 9ms/step - loss: 0.1699 - accuracy: 0.9510\n",
      "Epoch 10/10\n",
      "40/40 [==============================] - 0s 9ms/step - loss: 0.1583 - accuracy: 0.9551\n",
      "20/20 [==============================] - 0s 4ms/step\n",
      "Epoch 1/10\n",
      "40/40 [==============================] - 1s 8ms/step - loss: 1.2229 - accuracy: 0.6527\n",
      "Epoch 2/10\n",
      "40/40 [==============================] - 0s 8ms/step - loss: 0.4100 - accuracy: 0.8894\n",
      "Epoch 3/10\n",
      "40/40 [==============================] - 0s 9ms/step - loss: 0.3018 - accuracy: 0.9181\n",
      "Epoch 4/10\n",
      "40/40 [==============================] - 0s 9ms/step - loss: 0.2580 - accuracy: 0.9282\n",
      "Epoch 5/10\n",
      "40/40 [==============================] - 0s 9ms/step - loss: 0.2302 - accuracy: 0.9358\n",
      "Epoch 6/10\n",
      "40/40 [==============================] - 0s 9ms/step - loss: 0.2063 - accuracy: 0.9430\n",
      "Epoch 7/10\n",
      "40/40 [==============================] - 0s 8ms/step - loss: 0.1890 - accuracy: 0.9483\n",
      "Epoch 8/10\n",
      "40/40 [==============================] - 0s 9ms/step - loss: 0.1749 - accuracy: 0.9511\n",
      "Epoch 9/10\n",
      "40/40 [==============================] - 0s 9ms/step - loss: 0.1617 - accuracy: 0.9556\n",
      "Epoch 10/10\n",
      "40/40 [==============================] - 0s 8ms/step - loss: 0.1505 - accuracy: 0.9582\n",
      "20/20 [==============================] - 0s 4ms/step\n",
      "Epoch 1/10\n",
      "40/40 [==============================] - 1s 8ms/step - loss: 1.3905 - accuracy: 0.6102\n",
      "Epoch 2/10\n",
      "40/40 [==============================] - 0s 9ms/step - loss: 0.4803 - accuracy: 0.8689\n",
      "Epoch 3/10\n",
      "40/40 [==============================] - 0s 8ms/step - loss: 0.3272 - accuracy: 0.9094\n",
      "Epoch 4/10\n",
      "40/40 [==============================] - 0s 8ms/step - loss: 0.2733 - accuracy: 0.9234\n",
      "Epoch 5/10\n",
      "40/40 [==============================] - 0s 9ms/step - loss: 0.2392 - accuracy: 0.9323\n",
      "Epoch 6/10\n",
      "40/40 [==============================] - 0s 9ms/step - loss: 0.2128 - accuracy: 0.9399\n",
      "Epoch 7/10\n",
      "40/40 [==============================] - 1s 13ms/step - loss: 0.1941 - accuracy: 0.9449\n",
      "Epoch 8/10\n",
      "40/40 [==============================] - 1s 13ms/step - loss: 0.1781 - accuracy: 0.9494\n",
      "Epoch 9/10\n",
      "40/40 [==============================] - 1s 13ms/step - loss: 0.1641 - accuracy: 0.9535\n",
      "Epoch 10/10\n",
      "40/40 [==============================] - 1s 13ms/step - loss: 0.1538 - accuracy: 0.9560\n",
      "20/20 [==============================] - 0s 4ms/step\n",
      "0.95865 {'batch_size': 500, 'epochs': 10, 'optimizer': 'RMSprop'}\n"
     ]
    }
   ],
   "source": [
    "model = KerasClassifier(create_model)\n",
    "params= dict(batch_size=batch_size, epochs=epochs, optimizer=optimizer)\n",
    "grid = GridSearchCV(model, params, refit=False, cv=3, scoring='accuracy')\n",
    "\n",
    "grid_result = grid.fit(train_images, to_categorical(train_labels))\n",
    "print(grid_result.best_score_, grid_result.best_params_)"
   ]
  },
  {
   "cell_type": "code",
   "execution_count": null,
   "metadata": {
    "colab": {
     "base_uri": "https://localhost:8080/"
    },
    "id": "3C4hTkQLVW47",
    "outputId": "f4fd9dc1-0002-43bb-eb4e-65d7c9812d76"
   },
   "outputs": [
    {
     "name": "stdout",
     "output_type": "stream",
     "text": [
      "0.95865 {'batch_size': 500, 'epochs': 10, 'optimizer': 'RMSprop'}\n"
     ]
    }
   ],
   "source": [
    "print(grid_result.best_score_, grid_result.best_params_)"
   ]
  },
  {
   "cell_type": "code",
   "execution_count": null,
   "metadata": {
    "id": "ifbRq739Ryq1"
   },
   "outputs": [],
   "source": [
    "df = pd.DataFrame(grid_result.cv_results_)"
   ]
  },
  {
   "cell_type": "code",
   "execution_count": null,
   "metadata": {
    "colab": {
     "base_uri": "https://localhost:8080/",
     "height": 363
    },
    "id": "0DzPNSt8V7i5",
    "outputId": "b208b62c-a12d-4fa3-f954-b1a7eb58f413"
   },
   "outputs": [
    {
     "data": {
      "text/html": [
       "\n",
       "  <div id=\"df-1c25517d-8115-4f2b-a2aa-7328fac8e12d\" class=\"colab-df-container\">\n",
       "    <div>\n",
       "<style scoped>\n",
       "    .dataframe tbody tr th:only-of-type {\n",
       "        vertical-align: middle;\n",
       "    }\n",
       "\n",
       "    .dataframe tbody tr th {\n",
       "        vertical-align: top;\n",
       "    }\n",
       "\n",
       "    .dataframe thead th {\n",
       "        text-align: right;\n",
       "    }\n",
       "</style>\n",
       "<table border=\"1\" class=\"dataframe\">\n",
       "  <thead>\n",
       "    <tr style=\"text-align: right;\">\n",
       "      <th></th>\n",
       "      <th>param_batch_size</th>\n",
       "      <th>param_epochs</th>\n",
       "      <th>param_optimizer</th>\n",
       "      <th>mean_test_score</th>\n",
       "    </tr>\n",
       "  </thead>\n",
       "  <tbody>\n",
       "    <tr>\n",
       "      <th>4</th>\n",
       "      <td>500</td>\n",
       "      <td>10</td>\n",
       "      <td>RMSprop</td>\n",
       "      <td>0.958650</td>\n",
       "    </tr>\n",
       "    <tr>\n",
       "      <th>5</th>\n",
       "      <td>500</td>\n",
       "      <td>10</td>\n",
       "      <td>Adam</td>\n",
       "      <td>0.958283</td>\n",
       "    </tr>\n",
       "    <tr>\n",
       "      <th>3</th>\n",
       "      <td>500</td>\n",
       "      <td>10</td>\n",
       "      <td>SGD</td>\n",
       "      <td>0.957117</td>\n",
       "    </tr>\n",
       "    <tr>\n",
       "      <th>9</th>\n",
       "      <td>1000</td>\n",
       "      <td>10</td>\n",
       "      <td>SGD</td>\n",
       "      <td>0.949967</td>\n",
       "    </tr>\n",
       "    <tr>\n",
       "      <th>10</th>\n",
       "      <td>1000</td>\n",
       "      <td>10</td>\n",
       "      <td>RMSprop</td>\n",
       "      <td>0.948900</td>\n",
       "    </tr>\n",
       "    <tr>\n",
       "      <th>11</th>\n",
       "      <td>1000</td>\n",
       "      <td>10</td>\n",
       "      <td>Adam</td>\n",
       "      <td>0.946817</td>\n",
       "    </tr>\n",
       "    <tr>\n",
       "      <th>0</th>\n",
       "      <td>500</td>\n",
       "      <td>5</td>\n",
       "      <td>SGD</td>\n",
       "      <td>0.945183</td>\n",
       "    </tr>\n",
       "    <tr>\n",
       "      <th>2</th>\n",
       "      <td>500</td>\n",
       "      <td>5</td>\n",
       "      <td>Adam</td>\n",
       "      <td>0.944433</td>\n",
       "    </tr>\n",
       "    <tr>\n",
       "      <th>1</th>\n",
       "      <td>500</td>\n",
       "      <td>5</td>\n",
       "      <td>RMSprop</td>\n",
       "      <td>0.943067</td>\n",
       "    </tr>\n",
       "    <tr>\n",
       "      <th>8</th>\n",
       "      <td>1000</td>\n",
       "      <td>5</td>\n",
       "      <td>Adam</td>\n",
       "      <td>0.933900</td>\n",
       "    </tr>\n",
       "  </tbody>\n",
       "</table>\n",
       "</div>\n",
       "    <div class=\"colab-df-buttons\">\n",
       "\n",
       "  <div class=\"colab-df-container\">\n",
       "    <button class=\"colab-df-convert\" onclick=\"convertToInteractive('df-1c25517d-8115-4f2b-a2aa-7328fac8e12d')\"\n",
       "            title=\"Convert this dataframe to an interactive table.\"\n",
       "            style=\"display:none;\">\n",
       "\n",
       "  <svg xmlns=\"http://www.w3.org/2000/svg\" height=\"24px\" viewBox=\"0 -960 960 960\">\n",
       "    <path d=\"M120-120v-720h720v720H120Zm60-500h600v-160H180v160Zm220 220h160v-160H400v160Zm0 220h160v-160H400v160ZM180-400h160v-160H180v160Zm440 0h160v-160H620v160ZM180-180h160v-160H180v160Zm440 0h160v-160H620v160Z\"/>\n",
       "  </svg>\n",
       "    </button>\n",
       "\n",
       "  <style>\n",
       "    .colab-df-container {\n",
       "      display:flex;\n",
       "      gap: 12px;\n",
       "    }\n",
       "\n",
       "    .colab-df-convert {\n",
       "      background-color: #E8F0FE;\n",
       "      border: none;\n",
       "      border-radius: 50%;\n",
       "      cursor: pointer;\n",
       "      display: none;\n",
       "      fill: #1967D2;\n",
       "      height: 32px;\n",
       "      padding: 0 0 0 0;\n",
       "      width: 32px;\n",
       "    }\n",
       "\n",
       "    .colab-df-convert:hover {\n",
       "      background-color: #E2EBFA;\n",
       "      box-shadow: 0px 1px 2px rgba(60, 64, 67, 0.3), 0px 1px 3px 1px rgba(60, 64, 67, 0.15);\n",
       "      fill: #174EA6;\n",
       "    }\n",
       "\n",
       "    .colab-df-buttons div {\n",
       "      margin-bottom: 4px;\n",
       "    }\n",
       "\n",
       "    [theme=dark] .colab-df-convert {\n",
       "      background-color: #3B4455;\n",
       "      fill: #D2E3FC;\n",
       "    }\n",
       "\n",
       "    [theme=dark] .colab-df-convert:hover {\n",
       "      background-color: #434B5C;\n",
       "      box-shadow: 0px 1px 3px 1px rgba(0, 0, 0, 0.15);\n",
       "      filter: drop-shadow(0px 1px 2px rgba(0, 0, 0, 0.3));\n",
       "      fill: #FFFFFF;\n",
       "    }\n",
       "  </style>\n",
       "\n",
       "    <script>\n",
       "      const buttonEl =\n",
       "        document.querySelector('#df-1c25517d-8115-4f2b-a2aa-7328fac8e12d button.colab-df-convert');\n",
       "      buttonEl.style.display =\n",
       "        google.colab.kernel.accessAllowed ? 'block' : 'none';\n",
       "\n",
       "      async function convertToInteractive(key) {\n",
       "        const element = document.querySelector('#df-1c25517d-8115-4f2b-a2aa-7328fac8e12d');\n",
       "        const dataTable =\n",
       "          await google.colab.kernel.invokeFunction('convertToInteractive',\n",
       "                                                    [key], {});\n",
       "        if (!dataTable) return;\n",
       "\n",
       "        const docLinkHtml = 'Like what you see? Visit the ' +\n",
       "          '<a target=\"_blank\" href=https://colab.research.google.com/notebooks/data_table.ipynb>data table notebook</a>'\n",
       "          + ' to learn more about interactive tables.';\n",
       "        element.innerHTML = '';\n",
       "        dataTable['output_type'] = 'display_data';\n",
       "        await google.colab.output.renderOutput(dataTable, element);\n",
       "        const docLink = document.createElement('div');\n",
       "        docLink.innerHTML = docLinkHtml;\n",
       "        element.appendChild(docLink);\n",
       "      }\n",
       "    </script>\n",
       "  </div>\n",
       "\n",
       "\n",
       "<div id=\"df-713174bd-ab6c-49c7-9b13-ab1eeeb2e81a\">\n",
       "  <button class=\"colab-df-quickchart\" onclick=\"quickchart('df-713174bd-ab6c-49c7-9b13-ab1eeeb2e81a')\"\n",
       "            title=\"Suggest charts\"\n",
       "            style=\"display:none;\">\n",
       "\n",
       "<svg xmlns=\"http://www.w3.org/2000/svg\" height=\"24px\"viewBox=\"0 0 24 24\"\n",
       "     width=\"24px\">\n",
       "    <g>\n",
       "        <path d=\"M19 3H5c-1.1 0-2 .9-2 2v14c0 1.1.9 2 2 2h14c1.1 0 2-.9 2-2V5c0-1.1-.9-2-2-2zM9 17H7v-7h2v7zm4 0h-2V7h2v10zm4 0h-2v-4h2v4z\"/>\n",
       "    </g>\n",
       "</svg>\n",
       "  </button>\n",
       "\n",
       "<style>\n",
       "  .colab-df-quickchart {\n",
       "      --bg-color: #E8F0FE;\n",
       "      --fill-color: #1967D2;\n",
       "      --hover-bg-color: #E2EBFA;\n",
       "      --hover-fill-color: #174EA6;\n",
       "      --disabled-fill-color: #AAA;\n",
       "      --disabled-bg-color: #DDD;\n",
       "  }\n",
       "\n",
       "  [theme=dark] .colab-df-quickchart {\n",
       "      --bg-color: #3B4455;\n",
       "      --fill-color: #D2E3FC;\n",
       "      --hover-bg-color: #434B5C;\n",
       "      --hover-fill-color: #FFFFFF;\n",
       "      --disabled-bg-color: #3B4455;\n",
       "      --disabled-fill-color: #666;\n",
       "  }\n",
       "\n",
       "  .colab-df-quickchart {\n",
       "    background-color: var(--bg-color);\n",
       "    border: none;\n",
       "    border-radius: 50%;\n",
       "    cursor: pointer;\n",
       "    display: none;\n",
       "    fill: var(--fill-color);\n",
       "    height: 32px;\n",
       "    padding: 0;\n",
       "    width: 32px;\n",
       "  }\n",
       "\n",
       "  .colab-df-quickchart:hover {\n",
       "    background-color: var(--hover-bg-color);\n",
       "    box-shadow: 0 1px 2px rgba(60, 64, 67, 0.3), 0 1px 3px 1px rgba(60, 64, 67, 0.15);\n",
       "    fill: var(--button-hover-fill-color);\n",
       "  }\n",
       "\n",
       "  .colab-df-quickchart-complete:disabled,\n",
       "  .colab-df-quickchart-complete:disabled:hover {\n",
       "    background-color: var(--disabled-bg-color);\n",
       "    fill: var(--disabled-fill-color);\n",
       "    box-shadow: none;\n",
       "  }\n",
       "\n",
       "  .colab-df-spinner {\n",
       "    border: 2px solid var(--fill-color);\n",
       "    border-color: transparent;\n",
       "    border-bottom-color: var(--fill-color);\n",
       "    animation:\n",
       "      spin 1s steps(1) infinite;\n",
       "  }\n",
       "\n",
       "  @keyframes spin {\n",
       "    0% {\n",
       "      border-color: transparent;\n",
       "      border-bottom-color: var(--fill-color);\n",
       "      border-left-color: var(--fill-color);\n",
       "    }\n",
       "    20% {\n",
       "      border-color: transparent;\n",
       "      border-left-color: var(--fill-color);\n",
       "      border-top-color: var(--fill-color);\n",
       "    }\n",
       "    30% {\n",
       "      border-color: transparent;\n",
       "      border-left-color: var(--fill-color);\n",
       "      border-top-color: var(--fill-color);\n",
       "      border-right-color: var(--fill-color);\n",
       "    }\n",
       "    40% {\n",
       "      border-color: transparent;\n",
       "      border-right-color: var(--fill-color);\n",
       "      border-top-color: var(--fill-color);\n",
       "    }\n",
       "    60% {\n",
       "      border-color: transparent;\n",
       "      border-right-color: var(--fill-color);\n",
       "    }\n",
       "    80% {\n",
       "      border-color: transparent;\n",
       "      border-right-color: var(--fill-color);\n",
       "      border-bottom-color: var(--fill-color);\n",
       "    }\n",
       "    90% {\n",
       "      border-color: transparent;\n",
       "      border-bottom-color: var(--fill-color);\n",
       "    }\n",
       "  }\n",
       "</style>\n",
       "\n",
       "  <script>\n",
       "    async function quickchart(key) {\n",
       "      const quickchartButtonEl =\n",
       "        document.querySelector('#' + key + ' button');\n",
       "      quickchartButtonEl.disabled = true;  // To prevent multiple clicks.\n",
       "      quickchartButtonEl.classList.add('colab-df-spinner');\n",
       "      try {\n",
       "        const charts = await google.colab.kernel.invokeFunction(\n",
       "            'suggestCharts', [key], {});\n",
       "      } catch (error) {\n",
       "        console.error('Error during call to suggestCharts:', error);\n",
       "      }\n",
       "      quickchartButtonEl.classList.remove('colab-df-spinner');\n",
       "      quickchartButtonEl.classList.add('colab-df-quickchart-complete');\n",
       "    }\n",
       "    (() => {\n",
       "      let quickchartButtonEl =\n",
       "        document.querySelector('#df-713174bd-ab6c-49c7-9b13-ab1eeeb2e81a button');\n",
       "      quickchartButtonEl.style.display =\n",
       "        google.colab.kernel.accessAllowed ? 'block' : 'none';\n",
       "    })();\n",
       "  </script>\n",
       "</div>\n",
       "    </div>\n",
       "  </div>\n"
      ],
      "text/plain": [
       "   param_batch_size param_epochs param_optimizer  mean_test_score\n",
       "4               500           10         RMSprop         0.958650\n",
       "5               500           10            Adam         0.958283\n",
       "3               500           10             SGD         0.957117\n",
       "9              1000           10             SGD         0.949967\n",
       "10             1000           10         RMSprop         0.948900\n",
       "11             1000           10            Adam         0.946817\n",
       "0               500            5             SGD         0.945183\n",
       "2               500            5            Adam         0.944433\n",
       "1               500            5         RMSprop         0.943067\n",
       "8              1000            5            Adam         0.933900"
      ]
     },
     "execution_count": 31,
     "metadata": {},
     "output_type": "execute_result"
    }
   ],
   "source": [
    "df.sort_values(['mean_test_score'],ascending=False)[['param_batch_size','param_epochs','param_optimizer','mean_test_score']].head(10)"
   ]
  },
  {
   "cell_type": "markdown",
   "metadata": {
    "id": "4wrbUL7ZrgRQ"
   },
   "source": [
    "ДОМАШНЕЕ ЗАДАНИЕ\n"
   ]
  },
  {
   "cell_type": "code",
   "execution_count": null,
   "metadata": {
    "id": "4p4EVICPrxMx"
   },
   "outputs": [],
   "source": [
    "# меняю оптимизатор, добавляю слой с увеличенным числом нейронов"
   ]
  },
  {
   "cell_type": "code",
   "execution_count": null,
   "metadata": {
    "id": "7FMdBaCqrxvw"
   },
   "outputs": [],
   "source": [
    "\n",
    "def my_model(optimizer='RMSprop'):\n",
    "    model = Sequential([\n",
    "      Dense(128, input_shape=(784,), activation='relu'),\n",
    "      Dense(64, activation='relu'),\n",
    "      Dense(10, activation='softmax')\n",
    "    ])\n",
    "\n",
    "    # Compile the model.\n",
    "    model.compile(\n",
    "      optimizer=optimizer,\n",
    "      loss='categorical_crossentropy',\n",
    "      metrics=['accuracy'],\n",
    "    )\n",
    "    return model"
   ]
  },
  {
   "cell_type": "code",
   "execution_count": null,
   "metadata": {
    "colab": {
     "base_uri": "https://localhost:8080/",
     "height": 180
    },
    "id": "X_FGXcW4r_bn",
    "outputId": "d0d5425b-8c13-4a62-aacb-d93fced99fb8"
   },
   "outputs": [
    {
     "ename": "AttributeError",
     "evalue": "'KerasClassifier' object has no attribute 'summary'",
     "output_type": "error",
     "traceback": [
      "\u001b[0;31m---------------------------------------------------------------------------\u001b[0m",
      "\u001b[0;31mAttributeError\u001b[0m                            Traceback (most recent call last)",
      "\u001b[0;32m<ipython-input-35-3caefa261807>\u001b[0m in \u001b[0;36m<cell line: 1>\u001b[0;34m()\u001b[0m\n\u001b[0;32m----> 1\u001b[0;31m \u001b[0mprint\u001b[0m\u001b[0;34m(\u001b[0m\u001b[0mmodel\u001b[0m\u001b[0;34m.\u001b[0m\u001b[0msummary\u001b[0m\u001b[0;34m(\u001b[0m\u001b[0;34m)\u001b[0m\u001b[0;34m)\u001b[0m\u001b[0;34m\u001b[0m\u001b[0;34m\u001b[0m\u001b[0m\n\u001b[0m",
      "\u001b[0;31mAttributeError\u001b[0m: 'KerasClassifier' object has no attribute 'summary'"
     ]
    }
   ],
   "source": [
    "print(model.summary())"
   ]
  },
  {
   "cell_type": "code",
   "execution_count": null,
   "metadata": {
    "id": "sZP_XxBW3xnE"
   },
   "outputs": [],
   "source": [
    "to_categorical(test_labels)"
   ]
  },
  {
   "cell_type": "code",
   "execution_count": null,
   "metadata": {
    "id": "yNvvg9f_sAGv"
   },
   "outputs": [],
   "source": [
    "model = my_model()\n",
    "\n",
    "# Train the model.\n",
    "model.fit(train_images, to_categorical(train_labels), epochs=5, batch_size=32)\n",
    "\n",
    "# Evaluate the model.\n",
    "loss,metrics = model.evaluate(test_images, to_categorical(test_labels))\n",
    "print('**************')\n",
    "print(f'Loss - {np.round(loss,2)}, Metrics - {np.round(metrics,3)}')"
   ]
  },
  {
   "cell_type": "markdown",
   "metadata": {
    "id": "PvwzlTdEEIUY"
   },
   "source": [
    "# добавляю валидационную выборку, меняю параметры"
   ]
  },
  {
   "cell_type": "code",
   "execution_count": null,
   "metadata": {
    "id": "-iqSKKLpD92n"
   },
   "outputs": [],
   "source": [
    "model_2 = my_model()\n",
    "\n",
    "# Train the model.\n",
    "model.fit(train_images, to_categorical(train_labels), epochs=3, batch_size=64, validation_split=0.3)\n",
    "\n",
    "# Evaluate the model.\n",
    "loss,metrics = model.evaluate(test_images, to_categorical(test_labels))\n",
    "print('**************')\n",
    "print(f'Loss - {np.round(loss,2)}, Metrics - {np.round(metrics,3)}')"
   ]
  },
  {
   "cell_type": "code",
   "execution_count": null,
   "metadata": {
    "id": "d6-LwKj0FEBO"
   },
   "outputs": [],
   "source": []
  },
  {
   "cell_type": "code",
   "execution_count": null,
   "metadata": {
    "id": "ZE_3ezhyFE_j"
   },
   "outputs": [],
   "source": [
    "model_3 = my_model()\n",
    "\n",
    "# Train the model.\n",
    "model.fit(train_images, to_categorical(train_labels), epochs=7, batch_size=128, validation_split=0.2)\n",
    "\n",
    "# Evaluate the model.\n",
    "loss,metrics = model.evaluate(test_images, to_categorical(test_labels))\n",
    "print('**************')\n",
    "print(f'Loss - {np.round(loss,2)}, Metrics - {np.round(metrics,3)}')"
   ]
  },
  {
   "cell_type": "code",
   "execution_count": null,
   "metadata": {
    "id": "TIGcLJ8gsS8K"
   },
   "outputs": [],
   "source": [
    "# Predict on the first 10 test images.\n",
    "predictions = model.predict(test_images[:20])\n",
    "\n",
    "# Print our model's predictions.\n",
    "print(f'Predictions: {np.argmax(predictions, axis=1)}')\n",
    "\n",
    "# Check our predictions against the ground truths.\n",
    "print(f'True labels: {test_labels[:20]}')"
   ]
  },
  {
   "cell_type": "code",
   "execution_count": null,
   "metadata": {
    "id": "OFWSJM1NDXZo"
   },
   "outputs": [],
   "source": []
  },
  {
   "cell_type": "code",
   "execution_count": null,
   "metadata": {
    "id": "od1ewmcMDbWA"
   },
   "outputs": [],
   "source": [
    "batch_size = [70, 80, 90]\n",
    "epochs = [18, 25]\n",
    "optimizer = ['RMSprop', 'Adam']"
   ]
  },
  {
   "cell_type": "code",
   "execution_count": null,
   "metadata": {
    "id": "OC4CZrmVDcs_"
   },
   "outputs": [],
   "source": []
  },
  {
   "cell_type": "code",
   "execution_count": null,
   "metadata": {
    "id": "TQl9xR6KDgnq"
   },
   "outputs": [],
   "source": [
    "model = KerasClassifier(my_model)\n",
    "params= dict(batch_size=batch_size, epochs=epochs, optimizer=optimizer)\n",
    "grid = GridSearchCV(model, params, refit=False, cv=3, scoring='accuracy')\n",
    "\n",
    "grid_result = grid.fit(train_images, to_categorical(train_labels))\n",
    "print(grid_result.best_score_, grid_result.best_params_)"
   ]
  },
  {
   "cell_type": "code",
   "execution_count": null,
   "metadata": {
    "id": "X0SgdOIFJSRH"
   },
   "outputs": [],
   "source": []
  },
  {
   "cell_type": "code",
   "execution_count": null,
   "metadata": {
    "id": "vY7bhe-cJTJy"
   },
   "outputs": [],
   "source": [
    "print(grid_result.best_score_, grid_result.best_params_)"
   ]
  },
  {
   "cell_type": "code",
   "execution_count": null,
   "metadata": {
    "id": "NJ8qDuFLJdxZ"
   },
   "outputs": [],
   "source": [
    "df = pd.DataFrame(grid_result.cv_results_)"
   ]
  },
  {
   "cell_type": "code",
   "execution_count": null,
   "metadata": {
    "id": "w4Mn0o-_Jl4d"
   },
   "outputs": [],
   "source": [
    "df.sort_values(['mean_test_score'],ascending=False)[['param_batch_size','param_epochs','param_optimizer','mean_test_score']].head(10)"
   ]
  },
  {
   "cell_type": "markdown",
   "metadata": {
    "id": "slal29tMKhpf"
   },
   "source": [
    "# Вывод:\n",
    "1 Введение дополнительного скрытого слоя улучшает показатель метрики.   \n",
    "2 Умеренное увеличение количества эпох улучшает показатель метрики.   \n",
    "3 Умеренное увеличение batch_size ускоряет обучение.      \n",
    "4 Наличие валидационной выборки препятствует переобучению.\n",
    "\n",
    "\n",
    "\n"
   ]
  },
  {
   "cell_type": "code",
   "execution_count": null,
   "metadata": {
    "id": "xd59o3f31Dr2"
   },
   "outputs": [],
   "source": [
    "from google.colab import drive\n",
    "drive.mount('/content/drive')"
   ]
  }
 ],
 "metadata": {
  "accelerator": "GPU",
  "colab": {
   "provenance": []
  },
  "kernelspec": {
   "display_name": "Python 3 (ipykernel)",
   "language": "python",
   "name": "python3"
  },
  "language_info": {
   "codemirror_mode": {
    "name": "ipython",
    "version": 3
   },
   "file_extension": ".py",
   "mimetype": "text/x-python",
   "name": "python",
   "nbconvert_exporter": "python",
   "pygments_lexer": "ipython3",
   "version": "3.9.13"
  }
 },
 "nbformat": 4,
 "nbformat_minor": 1
}
